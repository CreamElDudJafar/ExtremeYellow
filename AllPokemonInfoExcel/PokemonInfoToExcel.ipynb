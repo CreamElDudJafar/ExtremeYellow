{
 "cells": [
  {
   "cell_type": "code",
   "execution_count": 3,
   "metadata": {
    "scrolled": true
   },
   "outputs": [
    {
     "data": {
      "text/html": [
       "<style>.container { width:100% !important; }</style>"
      ],
      "text/plain": [
       "<IPython.core.display.HTML object>"
      ]
     },
     "metadata": {},
     "output_type": "display_data"
    }
   ],
   "source": [
    "from IPython.display import display, HTML\n",
    "display(HTML(\"<style>.container { width:100% !important; }</style>\"))"
   ]
  },
  {
   "cell_type": "code",
   "execution_count": 5,
   "metadata": {},
   "outputs": [],
   "source": [
    "import pandas as pd\n",
    "import os\n",
    "\n",
    "from hyphen import Hyphenator\n",
    "hyphe = Hyphenator('en_GB')\n",
    "# hyphe.syllables('Destruction')\n"
   ]
  },
  {
   "cell_type": "code",
   "execution_count": 6,
   "metadata": {},
   "outputs": [],
   "source": [
    "listFossilsGhost_Capital = ['FOSSIL_KABUTOPS', 'FOSSIL_AERODACTYL', 'MON_GHOST',]\n"
   ]
  },
  {
   "cell_type": "code",
   "execution_count": 7,
   "metadata": {},
   "outputs": [],
   "source": [
    "def grabEvosMovesMon(pkmn, inputListOfLines): # edited\n",
    "    index_start = inputListOfLines.index(f'{pkmn}EvosMoves:\\n')\n",
    "    index_temp = index_start\n",
    "    subBlockToPrint = []\n",
    "    while not ((inputListOfLines[index_temp]=='\\tdb 0\\n') and (inputListOfLines[index_temp+1]=='\\n')):\n",
    "        subBlockToPrint.append(inputListOfLines[index_temp])\n",
    "        index_temp+=1\n",
    "        if (index_temp)==len(inputListOfLines)-1:\n",
    "            break\n",
    "    subBlockToPrint.append('\\tdb 0\\n')\n",
    "    subBlockToPrint.append('\\n')\n",
    "    return subBlockToPrint"
   ]
  },
  {
   "cell_type": "code",
   "execution_count": 8,
   "metadata": {},
   "outputs": [],
   "source": [
    "def grabDexEntries(Pkmn, inputListOfLines): # edited\n",
    "    index_start = inputListOfLines.index(f'{Pkmn}DexEntry:\\n')\n",
    "    species = inputListOfLines[index_start+1][len('\\tdb \"'):-len('@\"\\n')]\n",
    "    height_dm = inputListOfLines[index_start+2][len('\\tdb '):-len('\\n')]\n",
    "    weight_hg = inputListOfLines[index_start+3][len('\\tdb '):-len('\\n')]\n",
    "    return species, height_dm, weight_hg"
   ]
  },
  {
   "cell_type": "code",
   "execution_count": 9,
   "metadata": {},
   "outputs": [],
   "source": [
    "def lineifyDexEntries_OneLine(DexEntryWordByWord=['Hello', 'world'], lengthMax=18):\n",
    "    stringTemp = ''\n",
    "    lengthTemp = len(stringTemp)\n",
    "    idxTemp = 0\n",
    "\n",
    "    while True:\n",
    "        if stringTemp=='':\n",
    "            stringTempNext = stringTemp + DexEntryWordByWord[idxTemp]\n",
    "        else:\n",
    "            stringTempNext = stringTemp + ' ' + DexEntryWordByWord[idxTemp]\n",
    "\n",
    "        # more than 18 chars\n",
    "        if len(stringTempNext)>lengthMax:\n",
    "            # check if just adding one space and two symbols is enough to go beyond limits:\n",
    "            # previous string must have ended on a word, so a space is needed,\n",
    "            # also if the word was one-letter long and fit, it would pass the test above,\n",
    "            # so the best-case scenario is that the new word can be split from the first letter\n",
    "            if len(stringTemp)+3>lengthMax:\n",
    "                break\n",
    "            else:\n",
    "                # check if the next word can be split into syllables\n",
    "                syllablesTemp = hyphe.syllables(DexEntryWordByWord[idxTemp])\n",
    "                if len(syllablesTemp)>1:\n",
    "                    # try add one syllable + space + hyphene at the time\n",
    "                    for syllableIdx in range(len(syllablesTemp)):\n",
    "                        syllable = syllablesTemp[syllableIdx]\n",
    "                        # first syllable is different\n",
    "                        if syllableIdx==0:\n",
    "                            stringTempNext = stringTemp + ' ' + syllable + '-'\n",
    "                        else:\n",
    "                            stringTempNext = stringTemp[:-1] + syllable + '-'\n",
    "                        # check if we went beyond the max allowed length\n",
    "                        if len(stringTempNext)>lengthMax:\n",
    "                            break\n",
    "                        else:\n",
    "                            # we succeded in adding a syllable to the line\n",
    "                            stringTemp = stringTempNext\n",
    "                            syllableIdx+=1\n",
    "                    #break\n",
    "                else:\n",
    "                    # it can't be broken into syllables, henceforth (BEEEH) no hope, end of this line\n",
    "                    break\n",
    "        else:\n",
    "            # all good, let's update the cycle\n",
    "            stringTemp = stringTempNext\n",
    "            idxTemp+=1\n",
    "            # let's check if we ran out of words\n",
    "            if idxTemp>=len(DexEntryWordByWord):\n",
    "                wordsLeft = [] # mega ugly but works, a la GF\n",
    "                break\n",
    "\n",
    "        try:\n",
    "            syllableIdx\n",
    "        except:\n",
    "            wordsLeft = DexEntryWordByWord[idxTemp:]\n",
    "        else:\n",
    "            if syllableIdx==0:\n",
    "                wordsLeft = DexEntryWordByWord[idxTemp:]\n",
    "            else:\n",
    "                wordsLeft = syllablesTemp[syllableIdx:] + DexEntryWordByWord[idxTemp+1:]\n",
    "\n",
    "    return stringTemp, wordsLeft\n",
    "\n",
    "def lineifyDexEntries(DexEntry='Hello world', lengthMax=18, numberOfLinesMax=6):\n",
    "    if len(DexEntry)>lengthMax*numberOfLinesMax:\n",
    "        print('You will not be able to fit your Pokedex entry!')\n",
    "        print(f'Your Dex entry is {len(DexEntry)} characters long, but with the current settings')\n",
    "        print(f'you can have max {numberOfLinesMax} lines, each {lengthMax} characters long, for a total of {lengthMax*numberOfLinesMax} characters.')\n",
    "        print('The constraints above can be changed my inputting different \"numberOfLinesMax\" and \"lengthMax\" parameters.')\n",
    "    else:\n",
    "        DexEntryWordByWord = DexEntry.rsplit()\n",
    "        DexEntry_Lineified = []\n",
    "        while len(DexEntryWordByWord)>0:\n",
    "            lineHere, DexEntryWordByWord = lineifyDexEntries_OneLine(DexEntryWordByWord)\n",
    "            DexEntry_Lineified.append(lineHere)\n",
    "        if len(DexEntry_Lineified)>numberOfLinesMax:\n",
    "            print('Sorry, I could not split the Dex entry into the required number of lines.')\n",
    "            print('It may be possible to do so by changing (even against grammar rules) the hyphenation.')\n",
    "            print('Here is the best I could do:')\n",
    "        return DexEntry_Lineified\n",
    "        \n",
    "# TODO: take into account that \"#MON\" counts as 7 characters because it prints as \"POKéMON\""
   ]
  },
  {
   "cell_type": "code",
   "execution_count": 10,
   "metadata": {},
   "outputs": [],
   "source": [
    "def grabDexText(Pkmn, inputListOfLines): # edited\n",
    "    index_start = inputListOfLines.index(f'_{Pkmn}DexEntry::\\n')\n",
    "    addendums = [1, 2, 3, 5, 6, 7]\n",
    "    indexes = [index_start+addhere for addhere in addendums]\n",
    "    dexEntry1Line = ''\n",
    "    for idx in indexes:\n",
    "        ender='' if (inputListOfLines[idx][len('\\ttext \"'):-len('\"\\n')])[-1:]=='-' else ' '\n",
    "        dexEntry1Line += inputListOfLines[idx][len('\\ttext \"'):-len('\"\\n')]+ender\n",
    "    return dexEntry1Line[:-1]"
   ]
  },
  {
   "cell_type": "code",
   "execution_count": 11,
   "metadata": {},
   "outputs": [],
   "source": [
    "def checkAllSameLength(thingstocheck=[]):\n",
    "    referenceLength = len(thingstocheck[0])\n",
    "    for thinghere in thingstocheck:\n",
    "        if len(thinghere)!=referenceLength:\n",
    "            print('referenceLength =', referenceLength)\n",
    "            print('len(thinghere) =', len(thinghere))\n",
    "            return False\n",
    "    return True"
   ]
  },
  {
   "cell_type": "code",
   "execution_count": null,
   "metadata": {},
   "outputs": [],
   "source": []
  },
  {
   "cell_type": "code",
   "execution_count": 12,
   "metadata": {},
   "outputs": [],
   "source": [
    "if False:\n",
    "    listAllOriginalMons = ['Bulbasaur', 'Ivysaur', 'Venusaur', 'Charmander', 'Charmeleon', 'Charizard', 'Squirtle', 'Wartortle', 'Blastoise', 'Caterpie', 'Metapod', 'Butterfree', 'Weedle', 'Kakuna', 'Beedrill', 'Pidgey', 'Pidgeotto', 'Pidgeot', 'Rattata', 'Raticate', 'Spearow', 'Fearow', 'Ekans', 'Arbok', 'Pikachu', 'Raichu', 'Sandshrew', 'Sandslash', 'NidoranF', 'Nidorina', 'Nidoqueen', 'NidoranM', 'Nidorino', 'Nidoking', 'Clefairy', 'Clefable', 'Vulpix', 'Ninetales', 'Jigglypuff', 'Wigglytuff', 'Zubat', 'Golbat', 'Oddish', 'Gloom', 'Vileplume', 'Paras', 'Parasect', 'Venonat', 'Venomoth', 'Diglett', 'Dugtrio', 'Meowth', 'Persian', 'Psyduck', 'Golduck', 'Mankey', 'Primeape', 'Growlithe', 'Arcanine', 'Poliwag', 'Poliwhirl', 'Poliwrath', 'Abra', 'Kadabra', 'Alakazam', 'Machop', 'Machoke', 'Machamp', 'Bellsprout', 'Weepinbell', 'Victreebel', 'Tentacool', 'Tentacruel', 'Geodude', 'Graveler', 'Golem', 'Ponyta', 'Rapidash', 'Slowpoke', 'Slowbro', 'Magnemite', 'Magneton', 'Farfetchd', 'Doduo', 'Dodrio', 'Seel', 'Dewgong', 'Grimer', 'Muk', 'Shellder', 'Cloyster', 'Gastly', 'Haunter', 'Gengar', 'Onix', 'Drowzee', 'Hypno', 'Krabby', 'Kingler', 'Voltorb', 'Electrode', 'Exeggcute', 'Exeggutor', 'Cubone', 'Marowak', 'Hitmonlee', 'Hitmonchan', 'Lickitung', 'Koffing', 'Weezing', 'Rhyhorn', 'Rhydon', 'Chansey', 'Tangela', 'Kangaskhan', 'Horsea', 'Seadra', 'Goldeen', 'Seaking', 'Staryu', 'Starmie', 'MrMime', 'Scyther', 'Jynx', 'Electabuzz', 'Magmar', 'Pinsir', 'Tauros', 'Magikarp', 'Gyarados', 'Lapras', 'Ditto', 'Eevee', 'Vaporeon', 'Jolteon', 'Flareon', 'Porygon', 'Omanyte', 'Omastar', 'Kabuto', 'Kabutops', 'Aerodactyl', 'Snorlax', 'Articuno', 'Zapdos', 'Moltres', 'Dratini', 'Dragonair', 'Dragonite', 'Mewtwo', 'Mew', ]\n",
    "\n",
    "    listFossilsGhost = ['FossilKabutops', 'FossilAerodactyl', 'MonGhost',]\n",
    "    listFossilsGhost_Names = ['MissingNo.', 'MissingNo.', 'MissingNo.']\n",
    "    listFossilsGhost_Names_Capital = ['MISSINGNO.', 'MISSINGNO.', 'MISSINGNO.']\n",
    "\n",
    "    listAllOriginalMons_Capital = [x.upper() for x in listAllOriginalMons]\n",
    "    for i in range(len(listAllOriginalMons_Capital)):\n",
    "        if listAllOriginalMons_Capital[i] == \"FARFETCH'D\":\n",
    "            listAllOriginalMons_Capital[i] = 'FARFETCHD'\n",
    "        if listAllOriginalMons_Capital[i] == \"NIDORANM\":\n",
    "            listAllOriginalMons_Capital[i] = 'NIDORAN_M'\n",
    "        if listAllOriginalMons_Capital[i] == \"NIDORANF\":\n",
    "            listAllOriginalMons_Capital[i] = 'NIDORAN_F'\n",
    "        if listAllOriginalMons_Capital[i] == \"MRMIME\":\n",
    "            listAllOriginalMons_Capital[i] = 'MR_MIME'\n",
    "\n",
    "    def printNCharacters(N, paddingChar=' '):\n",
    "        stringHere = ''\n",
    "        for idx in range(N):\n",
    "            stringHere+=paddingChar\n",
    "        return stringHere"
   ]
  },
  {
   "cell_type": "code",
   "execution_count": null,
   "metadata": {},
   "outputs": [],
   "source": []
  },
  {
   "cell_type": "code",
   "execution_count": 65,
   "metadata": {},
   "outputs": [],
   "source": [
    "# FOSSILS AND GHOST NEED TO BE TREATED DIFFERENTLY\n",
    "# I MAY SIMPLY SMASH THEM AS THE END AND CALL IT A DAY"
   ]
  },
  {
   "cell_type": "markdown",
   "metadata": {},
   "source": [
    "# pokemon_constants"
   ]
  },
  {
   "cell_type": "code",
   "execution_count": 13,
   "metadata": {},
   "outputs": [],
   "source": [
    "inputFile = '/Users/michael/Desktop/Core/Giochi/Pokémon/DisassemblyYellow/ExtremeYellow/constants/pokemon_constants.asm'\n",
    "\n",
    "file_in = open(inputFile, 'r')\n",
    "linesFromFile = []\n",
    "for y in file_in.readlines():\n",
    "#    if y!='\\n':\n",
    "#        print(y)\n",
    "    linesFromFile.append(y)\n",
    "\n",
    "names_Capital_list = []\n",
    "names_Capital_fossiless_list = []\n",
    "\n",
    "for oneline in linesFromFile:\n",
    "    if ('\\tconst ' in oneline) and not ('NO_MON' in oneline):\n",
    "        #print(oneline.rsplit()[1])\n",
    "        namehere = oneline.rsplit()[1]\n",
    "        names_Capital_list.append(namehere)\n",
    "        if not (namehere in listFossilsGhost_Capital):\n",
    "            names_Capital_fossiless_list.append(namehere)"
   ]
  },
  {
   "cell_type": "markdown",
   "metadata": {},
   "source": [
    "# pokedex_constants"
   ]
  },
  {
   "cell_type": "code",
   "execution_count": 14,
   "metadata": {},
   "outputs": [],
   "source": [
    "inputFile = '/Users/michael/Desktop/Core/Giochi/Pokémon/DisassemblyYellow/ExtremeYellow/constants/pokedex_constants.asm'\n",
    "\n",
    "file_in = open(inputFile, 'r')\n",
    "linesFromFile = []\n",
    "for y in file_in.readlines():\n",
    "#    if y!='\\n':\n",
    "#        print(y)\n",
    "    linesFromFile.append(y)\n",
    "\n",
    "for oneline in linesFromFile:\n",
    "    if ('\\tconst DEX_' in oneline):\n",
    "        if not oneline.rsplit()[1][4:] in names_Capital_list:\n",
    "            print('ERROR!!! All mons in dex must have a constant (reverse is not true, fossils and ghost)')"
   ]
  },
  {
   "cell_type": "markdown",
   "metadata": {},
   "source": [
    "# base_stats file"
   ]
  },
  {
   "cell_type": "code",
   "execution_count": 15,
   "metadata": {},
   "outputs": [],
   "source": [
    "inputFile = '/Users/michael/Desktop/Core/Giochi/Pokémon/DisassemblyYellow/ExtremeYellow/data/pokemon/base_stats.asm'\n",
    "\n",
    "file_in = open(inputFile, 'r')\n",
    "linesFromFile = []\n",
    "for y in file_in.readlines():\n",
    "#    if y!='\\n':\n",
    "#        print(y)\n",
    "    linesFromFile.append(y)\n",
    "\n",
    "names_allsmall_list = []\n",
    "\n",
    "for oneline in linesFromFile:\n",
    "    if ('INCLUDE \"data/pokemon/base_stats/' in oneline):\n",
    "        #print(oneline.rsplit()[1][len('\"data/pokemon/base_stats/'):-len('.asm\"')])\n",
    "        names_allsmall_list.append(oneline.rsplit()[1][len('\"data/pokemon/base_stats/'):-len('.asm\"')])"
   ]
  },
  {
   "cell_type": "markdown",
   "metadata": {},
   "source": [
    "# base_stats folder (big part)"
   ]
  },
  {
   "cell_type": "code",
   "execution_count": 16,
   "metadata": {},
   "outputs": [],
   "source": [
    "inputRootPath = '/Users/michael/Desktop/Core/Giochi/Pokémon/DisassemblyYellow/ExtremeYellow/data/pokemon/base_stats/'\n",
    "\n",
    "HPs_list = []\n",
    "ATK_list = []\n",
    "DEF_list = []\n",
    "SPD_list = []\n",
    "SPC_list = []\n",
    "\n",
    "Type1_list = []\n",
    "Type2_list = []\n",
    "CatchRate_list = []\n",
    "BaseExp_list = []\n",
    "\n",
    "names_PartlyCapital_list = []\n",
    "\n",
    "Lvl1Moves_list = []\n",
    "GrowthRate_list = []\n",
    "TMHMMoves_list = []\n",
    "\n",
    "for pkmn in names_allsmall_list:\n",
    "    # open .asm file of that one pokemon, only case in which is 1 file per 1 pokemon\n",
    "    inputFile = f'{inputRootPath}{pkmn}.asm'\n",
    "    file_in = open(inputFile, 'r')\n",
    "    linesFromFile = []\n",
    "    for y in file_in.readlines():\n",
    "        linesFromFile.append(y)\n",
    "\n",
    "    # sanity check\n",
    "    if not linesFromFile[0][len('\\tdb DEX_'):-len(' ; pokedex id\\n')]==names_Capital_fossiless_list[names_allsmall_list.index(pkmn)]:\n",
    "        print('Dex idx does not match the pokemon name!')\n",
    "\n",
    "    # grab base stats\n",
    "    HPs_list.append(linesFromFile[2].rsplit()[1][:-1])\n",
    "    ATK_list.append(linesFromFile[2].rsplit()[2][:-1])\n",
    "    DEF_list.append(linesFromFile[2].rsplit()[3][:-1])\n",
    "    SPD_list.append(linesFromFile[2].rsplit()[4][:-1])\n",
    "    SPC_list.append(linesFromFile[2].rsplit()[5])\n",
    "\n",
    "    # grab types, catch rate, base exp\n",
    "    Type1_list.append(linesFromFile[5].rsplit()[1][:-1])\n",
    "    Type2_list.append(linesFromFile[5].rsplit()[2])\n",
    "    CatchRate_list.append(linesFromFile[6].rsplit()[1])\n",
    "    BaseExp_list.append(linesFromFile[7].rsplit()[1])\n",
    "\n",
    "    # grab Partly Capital name\n",
    "    names_PartlyCapital_list.append(linesFromFile[10].rsplit()[1][:-len('PicFront,')])\n",
    "\n",
    "    # grab level-1 learnset\n",
    "    Lvl1Moves_list.append(linesFromFile[12][len('\\tdb '):-len(' ; level 1 learnset\\n')])\n",
    "\n",
    "    # grab growth rate\n",
    "    GrowthRate_list.append(linesFromFile[13][len('\\tdb '):-len(' ; growth rate\\n')])\n",
    "\n",
    "    # grab tm/hm learnset\n",
    "    TMHMMovesHere = ''\n",
    "    TMHMTitleLineNumber = 15\n",
    "    TMHMEndLineNumber = linesFromFile.index('\\t; end\\n')\n",
    "    if not linesFromFile[TMHMTitleLineNumber+1]=='\\ttmhm\\n': # if it's not that no TM/HM learnable, e.g. Magikarp, Caterpie...\n",
    "        lineNumberhere = TMHMTitleLineNumber+1\n",
    "        while lineNumberhere<TMHMEndLineNumber:\n",
    "            for maybeMove in linesFromFile[lineNumberhere].rsplit():\n",
    "                if (maybeMove!='tmhm') and (maybeMove!='\\\\'): # the first is relevant only in the first line, and the second is not in the last\n",
    "                    if ',' in maybeMove:\n",
    "                        maybeMove += ' '\n",
    "                    TMHMMovesHere += maybeMove\n",
    "            lineNumberhere+=1\n",
    "    TMHMMoves_list.append(TMHMMovesHere)\n",
    "        "
   ]
  },
  {
   "cell_type": "markdown",
   "metadata": {},
   "source": [
    "# evos_moves (another big part)"
   ]
  },
  {
   "cell_type": "code",
   "execution_count": 70,
   "metadata": {},
   "outputs": [],
   "source": [
    "inputFile = '/Users/michael/Desktop/Core/Giochi/Pokémon/DisassemblyYellow/ExtremeYellow/data/pokemon/evos_moves.asm'\n",
    "\n",
    "file_in = open(inputFile, 'r')\n",
    "linesFromFile = []\n",
    "for y in file_in.readlines():\n",
    "#    if y!='\\n':\n",
    "#        print(y)\n",
    "    linesFromFile.append(y)\n",
    "\n",
    "EvoInfo_list = []\n",
    "LevelUpMoves_list = []\n",
    "\n",
    "ignoreLvlUpMovesAlreadyDeleted = True\n",
    "\n",
    "for Pkmn in names_PartlyCapital_list:\n",
    "#    if (Pkmn=='Eevee'): # Mewtwo Ivysaur Eevee Machoke\n",
    "#    if (Pkmn=='Mewtwo') or (Pkmn=='Ivysaur') or (Pkmn=='Eevee') or (Pkmn=='Machoke') or (Pkmn=='Ditto') or (Pkmn=='Caterpie'): # Mewtwo Ivysaur Eevee Machoke\n",
    "    if True:\n",
    "        infoPkmnhere = grabEvosMovesMon(Pkmn, linesFromFile)\n",
    "        \n",
    "        # grab evolution info\n",
    "        EvolutionsProcessesHere = ''\n",
    "        if (infoPkmnhere[1]=='; Evolutions\\n') and (infoPkmnhere[2]=='\\tdb 0\\n'): # mon has no evolutions\n",
    "            _ # do nothing?\n",
    "        else:\n",
    "            lineNumberHere = 2\n",
    "            while infoPkmnhere[lineNumberHere]!='\\tdb 0\\n':\n",
    "                infoEvolutionHere = infoPkmnhere[lineNumberHere][len('\\tdb '):-len('\\n')]\n",
    "                EvolutionsProcessesHere += (infoEvolutionHere + ' - ')\n",
    "                lineNumberHere+=1\n",
    "        if len(EvolutionsProcessesHere)>0:\n",
    "            EvolutionsProcessesHere = EvolutionsProcessesHere[:-3]\n",
    "        EvoInfo_list.append(EvolutionsProcessesHere)\n",
    "            \n",
    "        # grab level-up learnset\n",
    "        LevelUpLearnsetHere = ''\n",
    "        firstLineMoves = infoPkmnhere.index('; Learnset\\n')+1\n",
    "        currentLine = firstLineMoves\n",
    "        lastLineMoves = infoPkmnhere.index('\\n')-2\n",
    "        while currentLine<=lastLineMoves:\n",
    "            infoPkmnhere[currentLine]\n",
    "            if ignoreLvlUpMovesAlreadyDeleted and (infoPkmnhere[currentLine][:len(';\\tdb ')]==';\\tdb '):\n",
    "                if currentLine==lastLineMoves:\n",
    "                    LevelUpLearnsetHere = LevelUpLearnsetHere[:-3]\n",
    "            else:\n",
    "                LevelUpLearnsetHere += infoPkmnhere[currentLine].rsplit()[1][:-1]+' '+infoPkmnhere[currentLine].rsplit()[2]\n",
    "                if currentLine<lastLineMoves:\n",
    "                    LevelUpLearnsetHere += ' - '\n",
    "            currentLine+=1\n",
    "        LevelUpMoves_list.append(LevelUpLearnsetHere)\n",
    "        "
   ]
  },
  {
   "cell_type": "markdown",
   "metadata": {},
   "source": [
    "# cries"
   ]
  },
  {
   "cell_type": "code",
   "execution_count": 71,
   "metadata": {},
   "outputs": [],
   "source": [
    "inputFile = '/Users/michael/Desktop/Core/Giochi/Pokémon/DisassemblyYellow/ExtremeYellow/data/pokemon/cries.asm'\n",
    "\n",
    "file_in = open(inputFile, 'r')\n",
    "linesFromFile = []\n",
    "for y in file_in.readlines():\n",
    "#    if y!='\\n':\n",
    "#        print(y)\n",
    "    linesFromFile.append(y)\n",
    "\n",
    "cries_list = []\n",
    "\n",
    "for oneline in linesFromFile:\n",
    "    if ('mon_cry SFX_CRY_' in oneline) and not ('MissingNo' in oneline):\n",
    "        cries_list.append(oneline.rsplit()[1]+' '+oneline.rsplit()[2]+' '+oneline.rsplit()[3])\n",
    "        "
   ]
  },
  {
   "cell_type": "markdown",
   "metadata": {},
   "source": [
    "# menu_icons"
   ]
  },
  {
   "cell_type": "code",
   "execution_count": 72,
   "metadata": {},
   "outputs": [],
   "source": [
    "inputFile = '/Users/michael/Desktop/Core/Giochi/Pokémon/DisassemblyYellow/ExtremeYellow/data/pokemon/menu_icons.asm'\n",
    "\n",
    "file_in = open(inputFile, 'r')\n",
    "linesFromFile = []\n",
    "for y in file_in.readlines():\n",
    "#    if y!='\\n':\n",
    "#        print(y)\n",
    "    linesFromFile.append(y)\n",
    "\n",
    "menuIcons_list = []\n",
    "\n",
    "for oneline in linesFromFile:\n",
    "    if ('nybble ICON_' in oneline) and not ('MissingNo' in oneline):\n",
    "        menuIcons_list.append(oneline.rsplit()[1])\n",
    "        "
   ]
  },
  {
   "cell_type": "markdown",
   "metadata": {},
   "source": [
    "# palettes"
   ]
  },
  {
   "cell_type": "code",
   "execution_count": 73,
   "metadata": {},
   "outputs": [],
   "source": [
    "inputFile = '/Users/michael/Desktop/Core/Giochi/Pokémon/DisassemblyYellow/ExtremeYellow/data/pokemon/palettes.asm'\n",
    "\n",
    "file_in = open(inputFile, 'r')\n",
    "linesFromFile = []\n",
    "for y in file_in.readlines():\n",
    "#    if y!='\\n':\n",
    "#        print(y)\n",
    "    linesFromFile.append(y)\n",
    "\n",
    "palettes_list = []\n",
    "\n",
    "for oneline in linesFromFile:\n",
    "    if ('db PAL_' in oneline) and not ('MISSINGNO' in oneline):\n",
    "        palettes_list.append(oneline.rsplit()[1])\n",
    "        "
   ]
  },
  {
   "cell_type": "markdown",
   "metadata": {},
   "source": [
    "# dex_entries"
   ]
  },
  {
   "cell_type": "code",
   "execution_count": 74,
   "metadata": {},
   "outputs": [],
   "source": [
    "inputFile = '/Users/michael/Desktop/Core/Giochi/Pokémon/DisassemblyYellow/ExtremeYellow/data/pokemon/dex_entries.asm'\n",
    "\n",
    "file_in = open(inputFile, 'r')\n",
    "linesFromFile = []\n",
    "for y in file_in.readlines():\n",
    "#    if y!='\\n':\n",
    "#        print(y)\n",
    "    linesFromFile.append(y)\n",
    "\n",
    "species_list = []\n",
    "height_dm_list = []\n",
    "weight_hg_list = []\n",
    "\n",
    "for Pkmn in names_PartlyCapital_list:\n",
    "    species, height_dm, weight_hg = grabDexEntries(Pkmn, linesFromFile)\n",
    "    species_list.append(species)\n",
    "    height_dm_list.append(height_dm)\n",
    "    weight_hg_list.append(weight_hg)"
   ]
  },
  {
   "cell_type": "markdown",
   "metadata": {},
   "source": [
    "# dex_text"
   ]
  },
  {
   "cell_type": "code",
   "execution_count": 75,
   "metadata": {},
   "outputs": [],
   "source": [
    "inputFile = '/Users/michael/Desktop/Core/Giochi/Pokémon/DisassemblyYellow/ExtremeYellow/data/pokemon/dex_text.asm'\n",
    "\n",
    "file_in = open(inputFile, 'r')\n",
    "linesFromFile = []\n",
    "for y in file_in.readlines():\n",
    "#    if y!='\\n':\n",
    "#        print(y)\n",
    "    linesFromFile.append(y)\n",
    "\n",
    "dexTexts_list = []\n",
    "\n",
    "for Pkmn in names_PartlyCapital_list:\n",
    "    dexTexts_list.append(grabDexText(Pkmn, linesFromFile))"
   ]
  },
  {
   "cell_type": "markdown",
   "metadata": {},
   "source": [
    "# Export to Excel-like"
   ]
  },
  {
   "cell_type": "code",
   "execution_count": 76,
   "metadata": {
    "scrolled": true
   },
   "outputs": [],
   "source": [
    "if checkAllSameLength([names_Capital_fossiless_list, names_allsmall_list, HPs_list, ATK_list, DEF_list, SPD_list, SPC_list, Type1_list, Type2_list, CatchRate_list, BaseExp_list, names_PartlyCapital_list, Lvl1Moves_list, GrowthRate_list, TMHMMoves_list, EvoInfo_list, LevelUpMoves_list, cries_list, menuIcons_list, palettes_list, species_list, height_dm_list, weight_hg_list, dexTexts_list]):\n",
    "    pokemonData_temp = {\n",
    "                        'Name_Capital':names_Capital_fossiless_list,\n",
    "                        'Name_allsmall':names_allsmall_list,\n",
    "                        'Name_PartlyCapital':names_PartlyCapital_list,\n",
    "                        'HPs':HPs_list,\n",
    "                        'ATK':ATK_list,\n",
    "                        'DEF':DEF_list,\n",
    "                        'SPC':SPC_list,\n",
    "                        'SPD':SPD_list,\n",
    "                        'Type1':Type1_list,\n",
    "                        'Type2':Type2_list,\n",
    "                        'CatchRate':CatchRate_list,\n",
    "                        'BaseExp':BaseExp_list,\n",
    "                        'Lvl1Moves':Lvl1Moves_list,\n",
    "                        'GrowthRate':GrowthRate_list,\n",
    "                        'TMHMMoves':TMHMMoves_list,\n",
    "                        'EvoInfo':EvoInfo_list,\n",
    "                        'LevelUpMoves':LevelUpMoves_list,\n",
    "                        'cries':cries_list,\n",
    "                        'menuIcons':menuIcons_list,\n",
    "                        'palettes':palettes_list,\n",
    "                        'species':species_list,\n",
    "                        'height_dm':height_dm_list,\n",
    "                        'weight_hg':weight_hg_list,\n",
    "                        'dexTexts':dexTexts_list\n",
    "                       }\n",
    "    dfPokemonData = pd.DataFrame(data=pokemonData_temp)\n",
    "\n",
    "    with pd.ExcelWriter('/Users/Michael/Desktop/Core/Programmi_miei/Pokemon/pretStuff/outputPokemonInfoToExcel/testPokemonToExcel.ods') as writer:\n",
    "        dfPokemonData.to_excel(writer)\n",
    "\n",
    "    dfPokemonData.head()"
   ]
  },
  {
   "cell_type": "code",
   "execution_count": null,
   "metadata": {},
   "outputs": [],
   "source": []
  },
  {
   "cell_type": "code",
   "execution_count": null,
   "metadata": {},
   "outputs": [],
   "source": []
  },
  {
   "cell_type": "code",
   "execution_count": null,
   "metadata": {},
   "outputs": [],
   "source": []
  },
  {
   "cell_type": "code",
   "execution_count": null,
   "metadata": {},
   "outputs": [],
   "source": []
  },
  {
   "cell_type": "code",
   "execution_count": null,
   "metadata": {},
   "outputs": [],
   "source": []
  },
  {
   "cell_type": "code",
   "execution_count": null,
   "metadata": {},
   "outputs": [],
   "source": []
  }
 ],
 "metadata": {
  "kernelspec": {
   "display_name": "Python 3",
   "language": "python",
   "name": "python3"
  },
  "language_info": {
   "codemirror_mode": {
    "name": "ipython",
    "version": 3
   },
   "file_extension": ".py",
   "mimetype": "text/x-python",
   "name": "python",
   "nbconvert_exporter": "python",
   "pygments_lexer": "ipython3",
   "version": "3.10.10"
  }
 },
 "nbformat": 4,
 "nbformat_minor": 4
}
