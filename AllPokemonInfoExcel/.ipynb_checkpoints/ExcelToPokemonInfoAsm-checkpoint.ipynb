{
 "cells": [
  {
   "cell_type": "code",
   "execution_count": 2,
   "metadata": {},
   "outputs": [
    {
     "data": {
      "text/html": [
       "<style>.container { width:100% !important; }</style>"
      ],
      "text/plain": [
       "<IPython.core.display.HTML object>"
      ]
     },
     "metadata": {},
     "output_type": "display_data"
    }
   ],
   "source": [
    "from IPython.display import display, HTML\n",
    "display(HTML(\"<style>.container { width:100% !important; }</style>\"))"
   ]
  },
  {
   "cell_type": "code",
   "execution_count": 4,
   "metadata": {},
   "outputs": [],
   "source": [
    "import pandas as pd\n",
    "import os\n",
    "import numpy as np\n",
    "from hyphen import Hyphenator\n",
    "hyphe = Hyphenator('en_GB')\n",
    "import time\n",
    "\n",
    "pd.set_option('display.max_rows', 255)\n",
    "pd.set_option('display.max_columns', 100)"
   ]
  },
  {
   "cell_type": "code",
   "execution_count": 5,
   "metadata": {},
   "outputs": [],
   "source": [
    "listFossilsGhost = ['FossilKabutops', 'FossilAerodactyl', 'MonGhost',]\n",
    "listFossilsGhost_Capital = ['FOSSIL_KABUTOPS', 'FOSSIL_AERODACTYL', 'MON_GHOST',]\n",
    "listFossilsGhost_Names = ['MissingNo.', 'MissingNo.', 'MissingNo.']\n",
    "listFossilsGhost_Names_Capital = ['MISSINGNO.', 'MISSINGNO.', 'MISSINGNO.']\n"
   ]
  },
  {
   "cell_type": "code",
   "execution_count": 6,
   "metadata": {},
   "outputs": [],
   "source": [
    "def printNCharacters(N, paddingChar=' '):\n",
    "    stringHere = ''\n",
    "    for idx in range(N):\n",
    "        stringHere+=paddingChar\n",
    "    return stringHere"
   ]
  },
  {
   "cell_type": "code",
   "execution_count": 7,
   "metadata": {},
   "outputs": [],
   "source": [
    "def printOneInfoForOneMon(columnOfInterest, PokemonOfInterest, capitalizationMon='Name_allsmall'):\n",
    "    return DfPkmnInfoFromExcel[columnOfInterest].tolist()[DfPkmnInfoFromExcel[capitalizationMon].tolist().index(PokemonOfInterest)]\n",
    "\n",
    "def getOneColumn(columnOfInterest):\n",
    "    return DfPkmnInfoFromExcel[columnOfInterest].tolist()"
   ]
  },
  {
   "cell_type": "code",
   "execution_count": 8,
   "metadata": {},
   "outputs": [],
   "source": [
    "def readASMFileReturnLinesAndModifiedPath(asmPath, newSuffix='_fromExcel'):\n",
    "    asmPathNew = asmPath[:-len('.asm')]+newSuffix+'.asm'\n",
    "\n",
    "    try:\n",
    "        file_in = open(asmPath, 'r')\n",
    "    except:\n",
    "        linesFromFile = []\n",
    "    else:\n",
    "        file_in = open(asmPath, 'r')\n",
    "        linesFromFile = []\n",
    "        for y in file_in.readlines():\n",
    "            linesFromFile.append(y)\n",
    "        \n",
    "    return linesFromFile, asmPathNew"
   ]
  },
  {
   "cell_type": "code",
   "execution_count": 9,
   "metadata": {},
   "outputs": [],
   "source": [
    "def lineifyDexEntries_OneLine(DexEntryWordByWord=['Hello', 'world'], lengthMax=18, debug=False):\n",
    "    stringTemp = ''\n",
    "    lengthTemp = len(stringTemp)\n",
    "    idxTemp = 0\n",
    "\n",
    "    keepAddingWords = True\n",
    "    while keepAddingWords:\n",
    "        if stringTemp=='':\n",
    "            stringTempNext = stringTemp + DexEntryWordByWord[idxTemp]\n",
    "        else:\n",
    "            stringTempNext = stringTemp + ' ' + DexEntryWordByWord[idxTemp]\n",
    "\n",
    "        # more than 18 chars\n",
    "        if len(stringTempNext)>lengthMax:\n",
    "            # check if just adding one space and two symbols is enough to go beyond limits:\n",
    "            # previous string must have ended on a word, so a space is needed,\n",
    "            # also if the word was one-letter long and fit, it would pass the test above,\n",
    "            # so the best-case scenario is that the new word can be split from the first letter\n",
    "            if len(stringTemp)+3>lengthMax:\n",
    "                keepAddingWords = False\n",
    "            else:\n",
    "                # check if the next word can be split into syllables\n",
    "                syllablesTemp = hyphe.syllables(DexEntryWordByWord[idxTemp])\n",
    "                while syllablesTemp.count('-')>0:\n",
    "                    syllablesTemp.remove('-')\n",
    "                print('syllablesTemp =', syllablesTemp) if debug else _\n",
    "                if len(syllablesTemp)>1:\n",
    "                    # try add one syllable + space + hyphene at the time\n",
    "                    for syllableIdx in range(len(syllablesTemp)):\n",
    "                        syllable = syllablesTemp[syllableIdx]\n",
    "                        # first syllable is different\n",
    "                        if syllableIdx==0:\n",
    "                            stringTempNext = stringTemp + ' ' + syllable + '-'\n",
    "                        else:\n",
    "                            stringTempNext = stringTemp[:-1] + syllable + '-'\n",
    "                        print('stringTempNext =', stringTempNext) if debug else _\n",
    "                        # check if we went beyond the max allowed length\n",
    "                        if len(stringTempNext)>lengthMax:\n",
    "                            keepAddingWords = False\n",
    "                            break\n",
    "                        else:\n",
    "                            # we succeded in adding a syllable to the line\n",
    "                            stringTemp = stringTempNext\n",
    "                            syllableIdx+=1\n",
    "                    #break\n",
    "                else:\n",
    "                    # it can't be broken into syllables, henceforth (BEEEH) no hope, end of this line\n",
    "                    break # keepAddingWords = False ???\n",
    "        else:\n",
    "            # all good, let's update the cycle\n",
    "            stringTemp = stringTempNext\n",
    "            idxTemp+=1\n",
    "            # let's check if we ran out of words\n",
    "            if idxTemp>=len(DexEntryWordByWord):\n",
    "                wordsLeft = [] # mega ugly but works, a la GF\n",
    "                break\n",
    "\n",
    "        try:\n",
    "            syllableIdx\n",
    "        except:\n",
    "            wordsLeft = DexEntryWordByWord[idxTemp:]\n",
    "        else:\n",
    "            if syllableIdx==0:\n",
    "                wordsLeft = DexEntryWordByWord[idxTemp:]\n",
    "            else:\n",
    "                syllablesTempToBeGlued = syllablesTemp[syllableIdx:]\n",
    "                leftoverWord = ''\n",
    "                for wordPiece in syllablesTempToBeGlued:\n",
    "                    leftoverWord += wordPiece\n",
    "                wordsLeft = [leftoverWord] + DexEntryWordByWord[idxTemp+1:]\n",
    "            print('wordsLeft =', wordsLeft) if debug else _\n",
    "                \n",
    "        print('stringTemp =', stringTemp) if debug else _\n",
    "\n",
    "    return stringTemp, wordsLeft\n",
    "\n",
    "def lineifyDexEntries(DexEntry='Hello world', lengthMax=18, numberOfLinesMax=6, replacePokemonShort=True, debug=False):\n",
    "    DexEntry=DexEntry.replace('#MON', 'PoKeMoN') if replacePokemonShort else _\n",
    "    \n",
    "    if len(DexEntry)>lengthMax*numberOfLinesMax:\n",
    "        print('You will not be able to fit your Pokedex entry!')\n",
    "        print(f'Your Dex entry is {len(DexEntry)} characters long, but with the current settings')\n",
    "        print(f'you can have max {numberOfLinesMax} lines, each {lengthMax} characters long, for a total of {lengthMax*numberOfLinesMax} characters.')\n",
    "        print('The constraints above can be changed my inputting different \"numberOfLinesMax\" and \"lengthMax\" parameters.')\n",
    "    else:\n",
    "        DexEntryWordByWord = DexEntry.rsplit()\n",
    "        DexEntry_Lineified = []\n",
    "        while len(DexEntryWordByWord)>0:\n",
    "            lineHere, DexEntryWordByWord = lineifyDexEntries_OneLine(DexEntryWordByWord, debug=debug)\n",
    "            print('lineHere =', lineHere) if debug else _\n",
    "            print('DexEntryWordByWord =', DexEntryWordByWord) if debug else _\n",
    "            print('-----') if debug else _\n",
    "            lineHere=lineHere.replace('PoKeMoN', '#MON') if replacePokemonShort else _\n",
    "            DexEntry_Lineified.append(lineHere)\n",
    "            \n",
    "        if len(DexEntry_Lineified)>numberOfLinesMax:\n",
    "            print('Sorry, I could not split the Dex entry into the required number of lines.')\n",
    "            print('It may be possible to do so by changing (even against grammar rules) the hyphenation.')\n",
    "            print('Here is the best I could do:')\n",
    "            \n",
    "        return DexEntry_Lineified\n"
   ]
  },
  {
   "cell_type": "code",
   "execution_count": 10,
   "metadata": {},
   "outputs": [],
   "source": [
    "def getFileFolder(filein):\n",
    "    filePath = ''\n",
    "    for pathPiece in filein[:-len('.asm')].rsplit(r'/')[:-1]:\n",
    "        filePath += pathPiece+r'/'\n",
    "    return filePath"
   ]
  },
  {
   "cell_type": "code",
   "execution_count": 11,
   "metadata": {},
   "outputs": [],
   "source": [
    "def tidyOldAndFromExcelFiles(fullNameOfFilesThatNeedsToBe, debug=False):\n",
    "    oldFileToMove = fullNameOfFilesThatNeedsToBe\n",
    "#    oldFileToMove = '/Users/Michael/Desktop/Core/Programmi_miei/Pokemon/pretStuff/outputPokemonInfoToExcel/Bands.asm'\n",
    "    oldFileToMove_newName = oldFileToMove.replace(\".asm\", \"_preExcel.asm\")\n",
    "    print('oldFileToMove =', oldFileToMove) if debug else _\n",
    "    print('oldFileToMove_newName =', oldFileToMove_newName) if debug else _\n",
    "    print('getFileFolder(oldFileToMove) =', getFileFolder(oldFileToMove)) if debug else _\n",
    "    \n",
    "    newFileToRename = oldFileToMove\n",
    "    newFileToRename = newFileToRename.replace(\".asm\", \"_fromExcel.asm\")\n",
    "    newFileToRename_newName = newFileToRename.replace(\"_fromExcel.asm\", \".asm\")\n",
    "    print('newFileToRename =', newFileToRename) if debug else _\n",
    "    print('newFileToRename_newName =', newFileToRename_newName) if debug else _\n",
    "\n",
    "    #os.system('pwd') if debug else _\n",
    "    # move in the right folder\n",
    "    os.chdir(getFileFolder(oldFileToMove))\n",
    "    os.system('pwd') if debug else _\n",
    "\n",
    "    # make the dir for the old stuff\n",
    "    command = 'mkdir preExcel'\n",
    "    print(command) if debug else _\n",
    "    os.system(command)\n",
    "    time.sleep(1) if debug else _\n",
    "\n",
    "    # rename the old files with a suffix (_preExcel)\n",
    "    command = f'mv {oldFileToMove} {oldFileToMove_newName}'\n",
    "    print(command) if debug else _\n",
    "    os.system(command)\n",
    "    time.sleep(1) if debug else _\n",
    "\n",
    "    # move said renamed old files to the dir for old stuff\n",
    "    command = f'mv {oldFileToMove_newName} ./preExcel'\n",
    "    print(command) if debug else _\n",
    "    os.system(command)\n",
    "    time.sleep(1) if debug else _\n",
    "\n",
    "    # rename the new files (_fromExcel, made from the script) by getting rid of their extension\n",
    "    command = f'mv {newFileToRename} {newFileToRename_newName}'\n",
    "    print(command) if debug else _\n",
    "    os.system(command)\n"
   ]
  },
  {
   "cell_type": "markdown",
   "metadata": {},
   "source": [
    "# Read mega file of destiny"
   ]
  },
  {
   "cell_type": "code",
   "execution_count": 367,
   "metadata": {},
   "outputs": [],
   "source": [
    "#DfPkmnInfoFromExcel = pd.read_excel('/Users/Michael/Desktop/Core/Programmi_miei/Pokemon/pretStuff/outputPokemonInfoToExcel/testPokemonToExcel.ods', engine='odf')\n",
    "DfPkmnInfoFromExcel = pd.read_excel('/Users/Michael/Desktop/Core/Giochi/Pokémon/DisassemblyYellow/ExtremeYellow/AllPokemonInfoExcel/PokemonToExcel.ods', sheet_name='Sheet1', engine='odf')"
   ]
  },
  {
   "cell_type": "code",
   "execution_count": 270,
   "metadata": {
    "collapsed": true
   },
   "outputs": [
    {
     "data": {
      "text/html": [
       "<div>\n",
       "<style scoped>\n",
       "    .dataframe tbody tr th:only-of-type {\n",
       "        vertical-align: middle;\n",
       "    }\n",
       "\n",
       "    .dataframe tbody tr th {\n",
       "        vertical-align: top;\n",
       "    }\n",
       "\n",
       "    .dataframe thead th {\n",
       "        text-align: right;\n",
       "    }\n",
       "</style>\n",
       "<table border=\"1\" class=\"dataframe\">\n",
       "  <thead>\n",
       "    <tr style=\"text-align: right;\">\n",
       "      <th></th>\n",
       "      <th>Unnamed: 0</th>\n",
       "      <th>Name_Capital</th>\n",
       "      <th>Name_allsmall</th>\n",
       "      <th>Name_PartlyCapital</th>\n",
       "      <th>HPs</th>\n",
       "      <th>ATK</th>\n",
       "      <th>DEF</th>\n",
       "      <th>SPC</th>\n",
       "      <th>SPD</th>\n",
       "      <th>Type1</th>\n",
       "      <th>Type2</th>\n",
       "      <th>CatchRate</th>\n",
       "      <th>BaseExp</th>\n",
       "      <th>Lvl1Moves</th>\n",
       "      <th>GrowthRate</th>\n",
       "      <th>TMHMMoves</th>\n",
       "      <th>EvoInfo</th>\n",
       "      <th>LevelUpMoves</th>\n",
       "      <th>cries</th>\n",
       "      <th>menuIcons</th>\n",
       "      <th>palettes</th>\n",
       "      <th>species</th>\n",
       "      <th>height_dm</th>\n",
       "      <th>weight_hg</th>\n",
       "      <th>dexTexts</th>\n",
       "      <th>Unnamed: 25</th>\n",
       "      <th>Unnamed: 26</th>\n",
       "      <th>Unnamed: 27</th>\n",
       "      <th>Unnamed: 28</th>\n",
       "      <th>Unnamed: 29</th>\n",
       "      <th>Unnamed: 30</th>\n",
       "      <th>ExtraNotes</th>\n",
       "    </tr>\n",
       "  </thead>\n",
       "  <tbody>\n",
       "    <tr>\n",
       "      <th>0</th>\n",
       "      <td>1</td>\n",
       "      <td>BULBASAUR</td>\n",
       "      <td>bulbasaur</td>\n",
       "      <td>Bulbasaur</td>\n",
       "      <td>45</td>\n",
       "      <td>49</td>\n",
       "      <td>49</td>\n",
       "      <td>65</td>\n",
       "      <td>45</td>\n",
       "      <td>GRASS</td>\n",
       "      <td>POISON</td>\n",
       "      <td>45</td>\n",
       "      <td>64</td>\n",
       "      <td>TACKLE, GROWL, NO_MOVE, NO_MOVE</td>\n",
       "      <td>GROWTH_MEDIUM_SLOW</td>\n",
       "      <td>SWORDS_DANCE, TOXIC, BODY_SLAM, DOUBLE_EDGE, M...</td>\n",
       "      <td>EV_LEVEL, 16, IVYSAUR</td>\n",
       "      <td>7 LEECH_SEED ; 9 VINE_WHIP ; 13 POISONPOWDER ;...</td>\n",
       "      <td>SFX_CRY_0F, $80, $01</td>\n",
       "      <td>ICON_GRASS</td>\n",
       "      <td>PAL_GREENMON</td>\n",
       "      <td>SEED</td>\n",
       "      <td>7</td>\n",
       "      <td>68</td>\n",
       "      <td>It can go for days without eating a single mor...</td>\n",
       "      <td>NaN</td>\n",
       "      <td>NaN</td>\n",
       "      <td>NaN</td>\n",
       "      <td>NaN</td>\n",
       "      <td>NaN</td>\n",
       "      <td>NaN</td>\n",
       "      <td>NaN</td>\n",
       "    </tr>\n",
       "    <tr>\n",
       "      <th>1</th>\n",
       "      <td>2</td>\n",
       "      <td>IVYSAUR</td>\n",
       "      <td>ivysaur</td>\n",
       "      <td>Ivysaur</td>\n",
       "      <td>60</td>\n",
       "      <td>62</td>\n",
       "      <td>63</td>\n",
       "      <td>80</td>\n",
       "      <td>60</td>\n",
       "      <td>GRASS</td>\n",
       "      <td>POISON</td>\n",
       "      <td>45</td>\n",
       "      <td>141</td>\n",
       "      <td>TACKLE, GROWL, LEECH_SEED, NO_MOVE</td>\n",
       "      <td>GROWTH_MEDIUM_SLOW</td>\n",
       "      <td>SWORDS_DANCE, TOXIC, BODY_SLAM, DOUBLE_EDGE, M...</td>\n",
       "      <td>EV_LEVEL, 32, VENUSAUR</td>\n",
       "      <td>7 LEECH_SEED ; 9 VINE_WHIP ; 13 POISONPOWDER ;...</td>\n",
       "      <td>SFX_CRY_0F, $20, $80</td>\n",
       "      <td>ICON_GRASS</td>\n",
       "      <td>PAL_GREENMON</td>\n",
       "      <td>SEED</td>\n",
       "      <td>10</td>\n",
       "      <td>132</td>\n",
       "      <td>The bulb on its back grows by drawing energy. ...</td>\n",
       "      <td>NaN</td>\n",
       "      <td>NaN</td>\n",
       "      <td>NaN</td>\n",
       "      <td>NaN</td>\n",
       "      <td>NaN</td>\n",
       "      <td>NaN</td>\n",
       "      <td>NaN</td>\n",
       "    </tr>\n",
       "    <tr>\n",
       "      <th>2</th>\n",
       "      <td>3</td>\n",
       "      <td>VENUSAUR</td>\n",
       "      <td>venusaur</td>\n",
       "      <td>Venusaur</td>\n",
       "      <td>80</td>\n",
       "      <td>82</td>\n",
       "      <td>83</td>\n",
       "      <td>100</td>\n",
       "      <td>80</td>\n",
       "      <td>GRASS</td>\n",
       "      <td>POISON</td>\n",
       "      <td>45</td>\n",
       "      <td>208</td>\n",
       "      <td>BODY_SLAM, GROWL, LEECH_SEED, VINE_WHIP</td>\n",
       "      <td>GROWTH_MEDIUM_SLOW</td>\n",
       "      <td>SWORDS_DANCE, TOXIC, BODY_SLAM, DOUBLE_EDGE, H...</td>\n",
       "      <td>EV_ITEM, MEGA_STONE_X, 1, MVENUSAUR ; EV_ITEM,...</td>\n",
       "      <td>7 LEECH_SEED ; 9 VINE_WHIP ; 13 POISONPOWDER ;...</td>\n",
       "      <td>SFX_CRY_0F, $00, $C0</td>\n",
       "      <td>ICON_GRASS</td>\n",
       "      <td>PAL_GREENMON</td>\n",
       "      <td>SEED</td>\n",
       "      <td>20</td>\n",
       "      <td>1002</td>\n",
       "      <td>The flower on its back catches the sun's rays....</td>\n",
       "      <td>NaN</td>\n",
       "      <td>NaN</td>\n",
       "      <td>NaN</td>\n",
       "      <td>NaN</td>\n",
       "      <td>NaN</td>\n",
       "      <td>NaN</td>\n",
       "      <td>NaN</td>\n",
       "    </tr>\n",
       "    <tr>\n",
       "      <th>3</th>\n",
       "      <td>4</td>\n",
       "      <td>MVENUSAUR</td>\n",
       "      <td>mvenusaur</td>\n",
       "      <td>MVenusaur</td>\n",
       "      <td>80</td>\n",
       "      <td>100</td>\n",
       "      <td>123</td>\n",
       "      <td>122</td>\n",
       "      <td>80</td>\n",
       "      <td>GRASS</td>\n",
       "      <td>POISON</td>\n",
       "      <td>45</td>\n",
       "      <td>233</td>\n",
       "      <td>TACKLE, GROWL, LEECH_SEED, VINE_WHIP</td>\n",
       "      <td>GROWTH_MEDIUM_SLOW</td>\n",
       "      <td>SWORDS_DANCE, TOXIC, BODY_SLAM, DOUBLE_EDGE, H...</td>\n",
       "      <td>NaN</td>\n",
       "      <td>12 LEECH_SEED ; 14 VINE_WHIP ; 18 POISONPOWDER...</td>\n",
       "      <td>SFX_CRY_0F, $00, $C0</td>\n",
       "      <td>ICON_GRASS</td>\n",
       "      <td>PAL_GREENMON</td>\n",
       "      <td>SEED</td>\n",
       "      <td>24</td>\n",
       "      <td>1555</td>\n",
       "      <td>To support its flower, which is larger due to ...</td>\n",
       "      <td>NaN</td>\n",
       "      <td>NaN</td>\n",
       "      <td>NaN</td>\n",
       "      <td>NaN</td>\n",
       "      <td>NaN</td>\n",
       "      <td>NaN</td>\n",
       "      <td>NaN</td>\n",
       "    </tr>\n",
       "    <tr>\n",
       "      <th>4</th>\n",
       "      <td>5</td>\n",
       "      <td>CHARMANDER</td>\n",
       "      <td>charmander</td>\n",
       "      <td>Charmander</td>\n",
       "      <td>39</td>\n",
       "      <td>52</td>\n",
       "      <td>43</td>\n",
       "      <td>50</td>\n",
       "      <td>65</td>\n",
       "      <td>FIRE</td>\n",
       "      <td>FIRE</td>\n",
       "      <td>45</td>\n",
       "      <td>65</td>\n",
       "      <td>SCRATCH, GROWL, NO_MOVE, NO_MOVE</td>\n",
       "      <td>GROWTH_MEDIUM_SLOW</td>\n",
       "      <td>MEGA_PUNCH, SWORDS_DANCE, DRAGON_CLAW, TOXIC, ...</td>\n",
       "      <td>EV_LEVEL, 16, CHARMELEON</td>\n",
       "      <td>9 EMBER ; 12 DRAGONBREATH ; 15 LEER ; 17 FIRE_...</td>\n",
       "      <td>SFX_CRY_04, $60, $40</td>\n",
       "      <td>ICON_MON</td>\n",
       "      <td>PAL_REDMON</td>\n",
       "      <td>LIZARD</td>\n",
       "      <td>6</td>\n",
       "      <td>86</td>\n",
       "      <td>The flame at the tip of its tail makes a sound...</td>\n",
       "      <td>NaN</td>\n",
       "      <td>NaN</td>\n",
       "      <td>NaN</td>\n",
       "      <td>NaN</td>\n",
       "      <td>NaN</td>\n",
       "      <td>NaN</td>\n",
       "      <td>NaN</td>\n",
       "    </tr>\n",
       "  </tbody>\n",
       "</table>\n",
       "</div>"
      ],
      "text/plain": [
       "   Unnamed: 0 Name_Capital Name_allsmall Name_PartlyCapital  HPs  ATK  DEF  \\\n",
       "0           1    BULBASAUR     bulbasaur          Bulbasaur   45   49   49   \n",
       "1           2      IVYSAUR       ivysaur            Ivysaur   60   62   63   \n",
       "2           3     VENUSAUR      venusaur           Venusaur   80   82   83   \n",
       "3           4    MVENUSAUR     mvenusaur          MVenusaur   80  100  123   \n",
       "4           5   CHARMANDER    charmander         Charmander   39   52   43   \n",
       "\n",
       "   SPC  SPD  Type1   Type2  CatchRate  BaseExp  \\\n",
       "0   65   45  GRASS  POISON         45       64   \n",
       "1   80   60  GRASS  POISON         45      141   \n",
       "2  100   80  GRASS  POISON         45      208   \n",
       "3  122   80  GRASS  POISON         45      233   \n",
       "4   50   65   FIRE    FIRE         45       65   \n",
       "\n",
       "                                 Lvl1Moves          GrowthRate  \\\n",
       "0          TACKLE, GROWL, NO_MOVE, NO_MOVE  GROWTH_MEDIUM_SLOW   \n",
       "1       TACKLE, GROWL, LEECH_SEED, NO_MOVE  GROWTH_MEDIUM_SLOW   \n",
       "2  BODY_SLAM, GROWL, LEECH_SEED, VINE_WHIP  GROWTH_MEDIUM_SLOW   \n",
       "3     TACKLE, GROWL, LEECH_SEED, VINE_WHIP  GROWTH_MEDIUM_SLOW   \n",
       "4         SCRATCH, GROWL, NO_MOVE, NO_MOVE  GROWTH_MEDIUM_SLOW   \n",
       "\n",
       "                                           TMHMMoves  \\\n",
       "0  SWORDS_DANCE, TOXIC, BODY_SLAM, DOUBLE_EDGE, M...   \n",
       "1  SWORDS_DANCE, TOXIC, BODY_SLAM, DOUBLE_EDGE, M...   \n",
       "2  SWORDS_DANCE, TOXIC, BODY_SLAM, DOUBLE_EDGE, H...   \n",
       "3  SWORDS_DANCE, TOXIC, BODY_SLAM, DOUBLE_EDGE, H...   \n",
       "4  MEGA_PUNCH, SWORDS_DANCE, DRAGON_CLAW, TOXIC, ...   \n",
       "\n",
       "                                             EvoInfo  \\\n",
       "0                              EV_LEVEL, 16, IVYSAUR   \n",
       "1                             EV_LEVEL, 32, VENUSAUR   \n",
       "2  EV_ITEM, MEGA_STONE_X, 1, MVENUSAUR ; EV_ITEM,...   \n",
       "3                                                NaN   \n",
       "4                           EV_LEVEL, 16, CHARMELEON   \n",
       "\n",
       "                                        LevelUpMoves                 cries  \\\n",
       "0  7 LEECH_SEED ; 9 VINE_WHIP ; 13 POISONPOWDER ;...  SFX_CRY_0F, $80, $01   \n",
       "1  7 LEECH_SEED ; 9 VINE_WHIP ; 13 POISONPOWDER ;...  SFX_CRY_0F, $20, $80   \n",
       "2  7 LEECH_SEED ; 9 VINE_WHIP ; 13 POISONPOWDER ;...  SFX_CRY_0F, $00, $C0   \n",
       "3  12 LEECH_SEED ; 14 VINE_WHIP ; 18 POISONPOWDER...  SFX_CRY_0F, $00, $C0   \n",
       "4  9 EMBER ; 12 DRAGONBREATH ; 15 LEER ; 17 FIRE_...  SFX_CRY_04, $60, $40   \n",
       "\n",
       "    menuIcons      palettes species  height_dm  weight_hg  \\\n",
       "0  ICON_GRASS  PAL_GREENMON    SEED          7         68   \n",
       "1  ICON_GRASS  PAL_GREENMON    SEED         10        132   \n",
       "2  ICON_GRASS  PAL_GREENMON    SEED         20       1002   \n",
       "3  ICON_GRASS  PAL_GREENMON    SEED         24       1555   \n",
       "4    ICON_MON    PAL_REDMON  LIZARD          6         86   \n",
       "\n",
       "                                            dexTexts  Unnamed: 25  \\\n",
       "0  It can go for days without eating a single mor...          NaN   \n",
       "1  The bulb on its back grows by drawing energy. ...          NaN   \n",
       "2  The flower on its back catches the sun's rays....          NaN   \n",
       "3  To support its flower, which is larger due to ...          NaN   \n",
       "4  The flame at the tip of its tail makes a sound...          NaN   \n",
       "\n",
       "   Unnamed: 26  Unnamed: 27  Unnamed: 28  Unnamed: 29  Unnamed: 30 ExtraNotes  \n",
       "0          NaN          NaN          NaN          NaN          NaN        NaN  \n",
       "1          NaN          NaN          NaN          NaN          NaN        NaN  \n",
       "2          NaN          NaN          NaN          NaN          NaN        NaN  \n",
       "3          NaN          NaN          NaN          NaN          NaN        NaN  \n",
       "4          NaN          NaN          NaN          NaN          NaN        NaN  "
      ]
     },
     "execution_count": 270,
     "metadata": {},
     "output_type": "execute_result"
    }
   ],
   "source": [
    "DfPkmnInfoFromExcel.head()"
   ]
  },
  {
   "cell_type": "code",
   "execution_count": 271,
   "metadata": {},
   "outputs": [],
   "source": [
    "allColumns_list = ['Name_Capital', 'Name_allsmall', 'Name_PartlyCapital', 'HPs', 'ATK', 'DEF', 'SPC', 'SPD', 'Type1', 'Type2', 'CatchRate', 'BaseExp', 'Lvl1Moves', 'GrowthRate', 'TMHMMoves', 'EvoInfo', 'LevelUpMoves', 'cries', 'menuIcons', 'palettes', 'species', 'height_dm', 'weight_hg', 'dexTexts', 'ExtraNotes']"
   ]
  },
  {
   "cell_type": "code",
   "execution_count": 368,
   "metadata": {
    "scrolled": true
   },
   "outputs": [
    {
     "name": "stdout",
     "output_type": "stream",
     "text": [
      "Name_Capital        = MEW\n",
      "Name_allsmall       = mew\n",
      "Name_PartlyCapital  = Mew\n",
      "HPs                 = 100\n",
      "ATK                 = 100\n",
      "DEF                 = 100\n",
      "SPC                 = 100\n",
      "SPD                 = 100\n",
      "Type1               = PSYCHIC_TYPE\n",
      "Type2               = PSYCHIC_TYPE\n",
      "CatchRate           = 45\n",
      "BaseExp             = 64\n",
      "Lvl1Moves           = POUND, NO_MOVE, NO_MOVE, NO_MOVE\n",
      "GrowthRate          = GROWTH_MEDIUM_SLOW\n",
      "TMHMMoves           = MEGA_PUNCH, MEGAHORN, SWORDS_DANCE, COUNTER, DRAGON_CLAW, TOXIC, DARK_PULSE, BODY_SLAM, METEOR_MASH, DOUBLE_EDGE, BUBBLEBEAM, METRONOME, ICE_BEAM, BLIZZARD, HYPER_BEAM, MIRROR_COAT, DRAININGKISS, FLASH_CANNON, SEISMIC_TOSS, FEINT_ATTACK, GIGA_DRAIN, STONE_EDGE, WILL_O_WISP, THUNDERBOLT, THUNDER, EARTHQUAKE, FISSURE, DIG, PSYCHIC_M, MOONBLAST, MIMIC, DOUBLE_TEAM, REFLECT, BIDE, HYDRO_PUMP, SELFDESTRUCT, CLOSE_COMBAT, FIRE_BLAST, SHADOW_SNEAK, OUTRAGE, BRAVE_BIRD, REST, GUNK_SHOT, X_SCISSOR, THUNDER_WAVE, PSYWAVE, EXPLOSION, ROCK_SLIDE, SHADOW_BALL, SUBSTITUTE, CUT, FLY, SURF, STRENGTH, FLASH\n",
      "EvoInfo             = nan\n",
      "LevelUpMoves        = 2 TELEPORT ; 3 SCREECH ; 4 LIGHT_SCREEN ; 5 DEFENSE_CURL ; 6 BARRIER ; 7 HYPNOSIS ; 8 AGILITY ; 9 CHARM ; 10 TRANSFORM ; 11 MUD_SLAP ; 12 ABSORB ; 13 BIND ; 14 TWISTER ; 15 WATER_GUN ; 16 STRING_SHOT ; 17 FOCUS_ENERGY ; 18 PIN_MISSILE ; 19 NIGHT_SHADE ; 20 MEGA_PUNCH ; 21 MUD_SHOT ; 22 MEGA_DRAIN ; 23 CONFUSION ; 24 SUPER_FANG ; 25 ROCK_THROW ; 26 DREAM_EATER ; 27 BULLET_SEED ; 28 LOW_KICK ; 29 DRAGON_RAGE ; 30 METRONOME ; 31 DIG ; 32 GIGA_DRAIN ; 33 SHADOW_CLAW ; 34 AERIAL_ACE ; 35 ROCK_TOMB ; 36 CONFUSE_RAY ; 37 SWIFT ; 38 LEECH_SEED ; 39 BULLET_PUNCH ; 40 PSYCHIC_M ; 41 EARTHQUAKE ; 42 MEDITATE ; 43 MAGICAL_LEAF ; 44 TAKE_DOWN ; 45 ROCK_SLIDE ; 46 CRUNCH ; 47 WATER_PULSE ; 48 LEECH_LIFE ; 49 DRAIN_PUNCH ; 50 AMNESIA ; 51 FISSURE ; 52 SUBMISSION ; 53 HEADBUTT ; 54 MACH_PUNCH ; 55 STONE_EDGE ; 56 HYPER_FANG ; 57 THUNDERPUNCH ; 58 FIRE_PUNCH ; 59 ICE_PUNCH ; 60 DRAGONBREATH ; 61 AIR_CUTTER ; 62 ICICLE_SPEAR ; 63 STEEL_WING ; 64 SCALD ; 65 HEAD_SMASH ; 66 ZEN_HEADBUTT ; 67 SHOCK_WAVE ; 68 FLAMETHROWER ; 69 ROOST ; 70 SLUDGE_WAVE ; 71 FLARE_BLITZ ; 72 HURRICANE ; 73 IRON_TAIL ; 74 PSYCHO_CUT ; 75 FIRE_SPIN ; 76 ENERGY_BALL ; 78 AIR_SLASH ; 79 WATERFALL ; 80 SUPERPOWER ; 81 LEAF_STORM ; 82 PLAY_ROUGH ; 83 INFESTATION ; 84 HEAT_WAVE ; 85 HORN_DRILL ; 86 GUILLOTINE ; 87 EXTREMESPEED ; 88 SOLARBEAM ; 89 ZAP_CANNON ; 90 PAY_DAY ; 91 SOFTBOILED ; 92 BONEMERANG ; 93 CRABHAMMER ; 94 VOLT_TACKLE ; 95 FRENZY_PLANT ; 96 HYDRO_CANNON ; 97 BLAST_BURN ; 98 TRI_ATTACK ; 99 MIRROR_MOVE ; 100 SPLASH\n",
      "cries               = SFX_CRY_1E, $EE, $FF\n",
      "menuIcons           = ICON_MON\n",
      "palettes            = PAL_MEWMON\n",
      "species             = NEW SPECIE\n",
      "height_dm           = 4\n",
      "weight_hg           = 41\n",
      "dexTexts            = When viewed through a micro-scope, this #MON's short, fine, delicate hair can be seen\n",
      "ExtraNotes          = nan\n"
     ]
    }
   ],
   "source": [
    "for info in allColumns_list:\n",
    "    print(f'{info}{printNCharacters(20-len(info))}= {printOneInfoForOneMon(info, \"mew\")}')\n",
    "    "
   ]
  },
  {
   "cell_type": "code",
   "execution_count": 273,
   "metadata": {},
   "outputs": [
    {
     "data": {
      "text/plain": [
       "['63 BARRIER', '66 PSYCHIC_M', '70 RECOVER', '75 MIST', '81 AMNESIA']"
      ]
     },
     "execution_count": 273,
     "metadata": {},
     "output_type": "execute_result"
    }
   ],
   "source": [
    "printOneInfoForOneMon('LevelUpMoves', 'mmewtwox').rsplit(' ; ')"
   ]
  },
  {
   "cell_type": "markdown",
   "metadata": {},
   "source": [
    "# preliminary check: are mons' names <= 10 chars? andare names consistent?"
   ]
  },
  {
   "cell_type": "code",
   "execution_count": 274,
   "metadata": {},
   "outputs": [],
   "source": [
    "nameColumns_list = ['Name_Capital', 'Name_allsmall', 'Name_PartlyCapital', ]"
   ]
  },
  {
   "cell_type": "code",
   "execution_count": 275,
   "metadata": {},
   "outputs": [],
   "source": [
    "DfPkmnInfoFromExcel_Name_Capital = DfPkmnInfoFromExcel['Name_Capital'].tolist()\n",
    "DfPkmnInfoFromExcel_Name_allsmall = DfPkmnInfoFromExcel['Name_allsmall'].tolist()\n",
    "DfPkmnInfoFromExcel_Name_PartlyCapital = DfPkmnInfoFromExcel['Name_PartlyCapital'].tolist()"
   ]
  },
  {
   "cell_type": "code",
   "execution_count": 276,
   "metadata": {},
   "outputs": [
    {
     "name": "stdout",
     "output_type": "stream",
     "text": [
      "Names not equal!\n",
      "NIDORAN_F\n",
      "nidoranf\n",
      "NidoranF\n",
      "Names not equal!\n",
      "NIDORAN_M\n",
      "nidoranm\n",
      "NidoranM\n",
      "Names not equal!\n",
      "MIME_JR\n",
      "mimejr\n",
      "MimeJr\n",
      "Names not equal!\n",
      "MR_MIME\n",
      "mrmime\n",
      "MrMime\n"
     ]
    }
   ],
   "source": [
    "for idx in range(len(DfPkmnInfoFromExcel)):\n",
    "    if not ((DfPkmnInfoFromExcel_Name_Capital[idx]==DfPkmnInfoFromExcel_Name_allsmall[idx].upper()) and (DfPkmnInfoFromExcel_Name_Capital[idx]==DfPkmnInfoFromExcel_Name_PartlyCapital[idx].upper())):\n",
    "        print('Names not equal!')\n",
    "        print(DfPkmnInfoFromExcel_Name_Capital[idx])\n",
    "        print(DfPkmnInfoFromExcel_Name_allsmall[idx])\n",
    "        print(DfPkmnInfoFromExcel_Name_PartlyCapital[idx])\n",
    "    if len(DfPkmnInfoFromExcel_Name_Capital[idx])>10:\n",
    "        print('Len > 10!')\n",
    "    "
   ]
  },
  {
   "cell_type": "code",
   "execution_count": null,
   "metadata": {},
   "outputs": [],
   "source": []
  },
  {
   "cell_type": "markdown",
   "metadata": {},
   "source": [
    "# pokemon_constants (1/13)"
   ]
  },
  {
   "cell_type": "code",
   "execution_count": 277,
   "metadata": {},
   "outputs": [],
   "source": [
    "inputFile = '/Users/michael/Desktop/Core/Giochi/Pokémon/DisassemblyYellow/ExtremeYellow/constants/pokemon_constants.asm'\n",
    "linesFromFile, outputFile = readASMFileReturnLinesAndModifiedPath(inputFile)\n",
    "verbose = False"
   ]
  },
  {
   "cell_type": "code",
   "execution_count": 278,
   "metadata": {},
   "outputs": [],
   "source": [
    "initialLines_firstIdx = 0\n",
    "initialLines_lastIdx = 8\n",
    "\n",
    "if verbose:\n",
    "    for idx in range(initialLines_firstIdx,initialLines_lastIdx+1):\n",
    "        print(repr(linesFromFile[idx]))"
   ]
  },
  {
   "cell_type": "code",
   "execution_count": 279,
   "metadata": {},
   "outputs": [],
   "source": [
    "finalLines_lastIdx = len(linesFromFile)-1\n",
    "finalLines_firstIdx = finalLines_lastIdx-12\n",
    "\n",
    "if verbose:\n",
    "    for idx in range(finalLines_firstIdx,finalLines_lastIdx+1):\n",
    "        print(repr(linesFromFile[idx]))"
   ]
  },
  {
   "cell_type": "code",
   "execution_count": 280,
   "metadata": {},
   "outputs": [],
   "source": [
    "txtToWrite = open(outputFile, \"w\")\n",
    "\n",
    "for idx in range(initialLines_firstIdx,initialLines_lastIdx+1):\n",
    "    txtToWrite.write(linesFromFile[idx])\n",
    "    \n",
    "listMonsHere = getOneColumn('Name_Capital')+listFossilsGhost_Capital\n",
    "for idx in range(len(listMonsHere)):\n",
    "    pkmn = listMonsHere[idx]\n",
    "    oneLine = f'\\tconst {pkmn}{printNCharacters(19-len(pkmn))}; {idx+1}\\n'\n",
    "    txtToWrite.write(oneLine)\n",
    "\n",
    "for idx in range(finalLines_firstIdx,finalLines_lastIdx+1):\n",
    "    txtToWrite.write(linesFromFile[idx])\n",
    "\n",
    "txtToWrite.close()"
   ]
  },
  {
   "cell_type": "code",
   "execution_count": 281,
   "metadata": {},
   "outputs": [
    {
     "name": "stderr",
     "output_type": "stream",
     "text": [
      "mkdir: preExcel: File exists\n"
     ]
    }
   ],
   "source": [
    "tidyOldAndFromExcelFiles(inputFile, debug=False)"
   ]
  },
  {
   "cell_type": "markdown",
   "metadata": {},
   "source": [
    "# pokedex_constants (2/13)"
   ]
  },
  {
   "cell_type": "code",
   "execution_count": 282,
   "metadata": {},
   "outputs": [],
   "source": [
    "inputFile = '/Users/michael/Desktop/Core/Giochi/Pokémon/DisassemblyYellow/ExtremeYellow/constants/pokedex_constants.asm'\n",
    "linesFromFile, outputFile = readASMFileReturnLinesAndModifiedPath(inputFile)\n",
    "verbose = False"
   ]
  },
  {
   "cell_type": "code",
   "execution_count": 283,
   "metadata": {},
   "outputs": [],
   "source": [
    "initialLines_firstIdx = 0\n",
    "initialLines_lastIdx = 5\n",
    "\n",
    "if verbose:\n",
    "    for idx in range(initialLines_firstIdx,initialLines_lastIdx+1):\n",
    "        print(repr(linesFromFile[idx]))"
   ]
  },
  {
   "cell_type": "code",
   "execution_count": 284,
   "metadata": {},
   "outputs": [],
   "source": [
    "finalLines_lastIdx = len(linesFromFile)-1\n",
    "finalLines_firstIdx = finalLines_lastIdx-1\n",
    "\n",
    "if verbose:\n",
    "    for idx in range(finalLines_firstIdx,finalLines_lastIdx+1):\n",
    "        print(repr(linesFromFile[idx]))"
   ]
  },
  {
   "cell_type": "code",
   "execution_count": 285,
   "metadata": {},
   "outputs": [],
   "source": [
    "txtToWrite = open(outputFile, \"w\")\n",
    "\n",
    "for idx in range(initialLines_firstIdx,initialLines_lastIdx+1):\n",
    "    txtToWrite.write(linesFromFile[idx])\n",
    "    \n",
    "listMonsHere = getOneColumn('Name_Capital')\n",
    "for idx in range(len(listMonsHere)):\n",
    "    pkmn = listMonsHere[idx]\n",
    "    oneLine = f'\\tconst DEX_{pkmn}{printNCharacters(11-len(pkmn))}; {idx+1}\\n'\n",
    "    txtToWrite.write(oneLine)\n",
    "\n",
    "for idx in range(finalLines_firstIdx,finalLines_lastIdx+1):\n",
    "    txtToWrite.write(linesFromFile[idx])\n",
    "\n",
    "txtToWrite.close()"
   ]
  },
  {
   "cell_type": "code",
   "execution_count": 286,
   "metadata": {},
   "outputs": [
    {
     "name": "stderr",
     "output_type": "stream",
     "text": [
      "mkdir: preExcel: File exists\n"
     ]
    }
   ],
   "source": [
    "tidyOldAndFromExcelFiles(inputFile, debug=False)"
   ]
  },
  {
   "cell_type": "markdown",
   "metadata": {},
   "source": [
    "# base_stats single files (3/13)"
   ]
  },
  {
   "cell_type": "code",
   "execution_count": 369,
   "metadata": {
    "scrolled": true
   },
   "outputs": [
    {
     "name": "stderr",
     "output_type": "stream",
     "text": [
      "mkdir: preExcel: File exists\n",
      "mkdir: preExcel: File exists\n",
      "mkdir: preExcel: File exists\n",
      "mkdir: preExcel: File exists\n",
      "mkdir: preExcel: File exists\n",
      "mkdir: preExcel: File exists\n",
      "mkdir: preExcel: File exists\n",
      "mkdir: preExcel: File exists\n",
      "mkdir: preExcel: File exists\n",
      "mkdir: preExcel: File exists\n",
      "mkdir: preExcel: File exists\n",
      "mkdir: preExcel: File exists\n",
      "mkdir: preExcel: File exists\n",
      "mkdir: preExcel: File exists\n",
      "mkdir: preExcel: File exists\n",
      "mkdir: preExcel: File exists\n",
      "mkdir: preExcel: File exists\n",
      "mkdir: preExcel: File exists\n",
      "mkdir: preExcel: File exists\n",
      "mkdir: preExcel: File exists\n",
      "mkdir: preExcel: File exists\n",
      "mkdir: preExcel: File exists\n",
      "mkdir: preExcel: File exists\n",
      "mkdir: preExcel: File exists\n",
      "mkdir: preExcel: File exists\n",
      "mkdir: preExcel: File exists\n",
      "mkdir: preExcel: File exists\n",
      "mkdir: preExcel: File exists\n",
      "mkdir: preExcel: File exists\n",
      "mkdir: preExcel: File exists\n",
      "mkdir: preExcel: File exists\n",
      "mkdir: preExcel: File exists\n",
      "mkdir: preExcel: File exists\n",
      "mkdir: preExcel: File exists\n",
      "mkdir: preExcel: File exists\n",
      "mkdir: preExcel: File exists\n",
      "mkdir: preExcel: File exists\n",
      "mkdir: preExcel: File exists\n",
      "mkdir: preExcel: File exists\n",
      "mkdir: preExcel: File exists\n",
      "mkdir: preExcel: File exists\n",
      "mkdir: preExcel: File exists\n",
      "mkdir: preExcel: File exists\n",
      "mkdir: preExcel: File exists\n",
      "mkdir: preExcel: File exists\n",
      "mkdir: preExcel: File exists\n",
      "mkdir: preExcel: File exists\n",
      "mkdir: preExcel: File exists\n",
      "mkdir: preExcel: File exists\n",
      "mkdir: preExcel: File exists\n",
      "mkdir: preExcel: File exists\n",
      "mkdir: preExcel: File exists\n",
      "mkdir: preExcel: File exists\n",
      "mkdir: preExcel: File exists\n",
      "mkdir: preExcel: File exists\n",
      "mkdir: preExcel: File exists\n",
      "mkdir: preExcel: File exists\n",
      "mkdir: preExcel: File exists\n",
      "mkdir: preExcel: File exists\n",
      "mkdir: preExcel: File exists\n",
      "mkdir: preExcel: File exists\n",
      "mkdir: preExcel: File exists\n",
      "mkdir: preExcel: File exists\n",
      "mkdir: preExcel: File exists\n",
      "mkdir: preExcel: File exists\n",
      "mkdir: preExcel: File exists\n",
      "mkdir: preExcel: File exists\n",
      "mkdir: preExcel: File exists\n",
      "mkdir: preExcel: File exists\n",
      "mkdir: preExcel: File exists\n",
      "mkdir: preExcel: File exists\n",
      "mkdir: preExcel: File exists\n",
      "mkdir: preExcel: File exists\n",
      "mkdir: preExcel: File exists\n",
      "mkdir: preExcel: File exists\n",
      "mkdir: preExcel: File exists\n",
      "mkdir: preExcel: File exists\n",
      "mkdir: preExcel: File exists\n",
      "mkdir: preExcel: File exists\n",
      "mkdir: preExcel: File exists\n",
      "mkdir: preExcel: File exists\n",
      "mkdir: preExcel: File exists\n",
      "mkdir: preExcel: File exists\n",
      "mkdir: preExcel: File exists\n",
      "mkdir: preExcel: File exists\n",
      "mkdir: preExcel: File exists\n",
      "mkdir: preExcel: File exists\n",
      "mkdir: preExcel: File exists\n",
      "mkdir: preExcel: File exists\n",
      "mkdir: preExcel: File exists\n",
      "mkdir: preExcel: File exists\n",
      "mkdir: preExcel: File exists\n",
      "mkdir: preExcel: File exists\n",
      "mkdir: preExcel: File exists\n",
      "mkdir: preExcel: File exists\n",
      "mkdir: preExcel: File exists\n",
      "mkdir: preExcel: File exists\n",
      "mkdir: preExcel: File exists\n",
      "mkdir: preExcel: File exists\n",
      "mkdir: preExcel: File exists\n",
      "mkdir: preExcel: File exists\n",
      "mkdir: preExcel: File exists\n",
      "mkdir: preExcel: File exists\n",
      "mkdir: preExcel: File exists\n",
      "mkdir: preExcel: File exists\n",
      "mkdir: preExcel: File exists\n",
      "mkdir: preExcel: File exists\n",
      "mkdir: preExcel: File exists\n",
      "mkdir: preExcel: File exists\n",
      "mkdir: preExcel: File exists\n",
      "mkdir: preExcel: File exists\n",
      "mkdir: preExcel: File exists\n",
      "mkdir: preExcel: File exists\n",
      "mkdir: preExcel: File exists\n",
      "mkdir: preExcel: File exists\n",
      "mkdir: preExcel: File exists\n",
      "mkdir: preExcel: File exists\n",
      "mkdir: preExcel: File exists\n",
      "mkdir: preExcel: File exists\n",
      "mkdir: preExcel: File exists\n",
      "mkdir: preExcel: File exists\n",
      "mkdir: preExcel: File exists\n",
      "mkdir: preExcel: File exists\n",
      "mkdir: preExcel: File exists\n",
      "mkdir: preExcel: File exists\n",
      "mkdir: preExcel: File exists\n",
      "mkdir: preExcel: File exists\n",
      "mkdir: preExcel: File exists\n",
      "mkdir: preExcel: File exists\n",
      "mkdir: preExcel: File exists\n",
      "mkdir: preExcel: File exists\n",
      "mkdir: preExcel: File exists\n",
      "mkdir: preExcel: File exists\n",
      "mkdir: preExcel: File exists\n",
      "mkdir: preExcel: File exists\n",
      "mkdir: preExcel: File exists\n",
      "mkdir: preExcel: File exists\n",
      "mkdir: preExcel: File exists\n",
      "mkdir: preExcel: File exists\n",
      "mkdir: preExcel: File exists\n",
      "mkdir: preExcel: File exists\n",
      "mkdir: preExcel: File exists\n",
      "mkdir: preExcel: File exists\n",
      "mkdir: preExcel: File exists\n",
      "mkdir: preExcel: File exists\n",
      "mkdir: preExcel: File exists\n",
      "mkdir: preExcel: File exists\n",
      "mkdir: preExcel: File exists\n",
      "mkdir: preExcel: File exists\n",
      "mkdir: preExcel: File exists\n",
      "mkdir: preExcel: File exists\n",
      "mkdir: preExcel: File exists\n",
      "mkdir: preExcel: File exists\n",
      "mkdir: preExcel: File exists\n",
      "mkdir: preExcel: File exists\n",
      "mkdir: preExcel: File exists\n",
      "mkdir: preExcel: File exists\n",
      "mkdir: preExcel: File exists\n",
      "mkdir: preExcel: File exists\n",
      "mkdir: preExcel: File exists\n",
      "mkdir: preExcel: File exists\n",
      "mkdir: preExcel: File exists\n",
      "mkdir: preExcel: File exists\n",
      "mkdir: preExcel: File exists\n",
      "mkdir: preExcel: File exists\n",
      "mkdir: preExcel: File exists\n",
      "mkdir: preExcel: File exists\n",
      "mkdir: preExcel: File exists\n",
      "mkdir: preExcel: File exists\n",
      "mkdir: preExcel: File exists\n",
      "mkdir: preExcel: File exists\n",
      "mkdir: preExcel: File exists\n",
      "mkdir: preExcel: File exists\n",
      "mkdir: preExcel: File exists\n",
      "mkdir: preExcel: File exists\n",
      "mkdir: preExcel: File exists\n",
      "mkdir: preExcel: File exists\n",
      "mkdir: preExcel: File exists\n",
      "mkdir: preExcel: File exists\n",
      "mkdir: preExcel: File exists\n",
      "mkdir: preExcel: File exists\n",
      "mkdir: preExcel: File exists\n",
      "mkdir: preExcel: File exists\n",
      "mkdir: preExcel: File exists\n",
      "mkdir: preExcel: File exists\n",
      "mkdir: preExcel: File exists\n",
      "mkdir: preExcel: File exists\n",
      "mkdir: preExcel: File exists\n",
      "mkdir: preExcel: File exists\n",
      "mkdir: preExcel: File exists\n",
      "mkdir: preExcel: File exists\n",
      "mkdir: preExcel: File exists\n",
      "mkdir: preExcel: File exists\n",
      "mkdir: preExcel: File exists\n",
      "mkdir: preExcel: File exists\n",
      "mkdir: preExcel: File exists\n",
      "mkdir: preExcel: File exists\n",
      "mkdir: preExcel: File exists\n",
      "mkdir: preExcel: File exists\n",
      "mkdir: preExcel: File exists\n",
      "mkdir: preExcel: File exists\n",
      "mkdir: preExcel: File exists\n",
      "mkdir: preExcel: File exists\n"
     ]
    }
   ],
   "source": [
    "listMonsHere_allsmall = getOneColumn('Name_allsmall')\n",
    "listMonsHere_Capital = getOneColumn('Name_Capital')\n",
    "listMonsHere_PartlyCapital = getOneColumn('Name_PartlyCapital')\n",
    "for pkmnidx in range(len(listMonsHere_allsmall)):\n",
    "    pkmnHere_allsmall = listMonsHere_allsmall[pkmnidx]\n",
    "    pkmnHere_Capital = listMonsHere_Capital[pkmnidx]\n",
    "    pkmnHere_PartlyCapital = listMonsHere_PartlyCapital[pkmnidx]\n",
    "    \n",
    "    inputFile = '/Users/michael/Desktop/Core/Giochi/Pokémon/DisassemblyYellow/ExtremeYellow/data/pokemon/base_stats/'+pkmnHere_allsmall+'.asm'\n",
    "    linesFromFile, outputFile = readASMFileReturnLinesAndModifiedPath(inputFile)\n",
    "    verbose = True\n",
    "\n",
    "    txtToWrite = open(outputFile, \"w\")\n",
    "\n",
    "    txtToWrite.write(f'\\tdb DEX_{pkmnHere_Capital} ; pokedex id\\n')\n",
    "    txtToWrite.write(f'\\n')\n",
    "\n",
    "    lineToWrite = '\\tdb'\n",
    "    for statistic in ['HPs', 'ATK', 'DEF', 'SPD', 'SPC']:\n",
    "        lineToWrite = lineToWrite + printNCharacters(4-len(str(printOneInfoForOneMon(statistic,pkmnHere_allsmall)))) + str(printOneInfoForOneMon(statistic,pkmnHere_allsmall)) + ','\n",
    "    lineToWrite = lineToWrite[:-1] + '\\n' \n",
    "    txtToWrite.write(lineToWrite)\n",
    "\n",
    "    txtToWrite.write(f'\\t;   hp  atk  def  spd  spc\\n')\n",
    "    txtToWrite.write(f'\\n')\n",
    "    txtToWrite.write(f'\\tdb {printOneInfoForOneMon(\"Type1\",pkmnHere_allsmall)}, {printOneInfoForOneMon(\"Type2\",pkmnHere_allsmall)} ; type\\n')\n",
    "    txtToWrite.write(f'\\tdb {printOneInfoForOneMon(\"CatchRate\",pkmnHere_allsmall)} ; catch rate\\n')\n",
    "    txtToWrite.write(f'\\tdb {printOneInfoForOneMon(\"BaseExp\",pkmnHere_allsmall)} ; base exp\\n')\n",
    "    txtToWrite.write(f'\\n')\n",
    "    txtToWrite.write('\\tINCBIN \"gfx/pokemon/front/'+pkmnHere_allsmall+'.pic\", 0, 1 ; sprite dimensions\\n')\n",
    "    txtToWrite.write(f'\\tdw {pkmnHere_PartlyCapital}PicFront, {pkmnHere_PartlyCapital}PicBack\\n')\n",
    "    txtToWrite.write(f'\\n')\n",
    "    txtToWrite.write(f'\\tdb {printOneInfoForOneMon(\"Lvl1Moves\",pkmnHere_allsmall)} ; level 1 learnset\\n')\n",
    "    txtToWrite.write(f'\\tdb {printOneInfoForOneMon(\"GrowthRate\",pkmnHere_allsmall)} ; growth rate\\n')\n",
    "    txtToWrite.write(f'\\n')\n",
    "    txtToWrite.write(f'\\t; tm/hm learnset\\n')\n",
    "\n",
    "    try:\n",
    "        len(printOneInfoForOneMon(\"TMHMMoves\",pkmnHere_allsmall))\n",
    "    except:\n",
    "        txtToWrite.write('\\ttmhm\\n')\n",
    "    else:\n",
    "        THMLeft = printOneInfoForOneMon(\"TMHMMoves\",pkmnHere_allsmall).rsplit()\n",
    "        while len(THMLeft)>0:\n",
    "            lineToWrite='\\ttmhm ' if len(THMLeft)==len(printOneInfoForOneMon(\"TMHMMoves\",pkmnHere_allsmall).rsplit()) else '\\t     '\n",
    "            lineEnd='\\\\\\n' if len(THMLeft)>5 else '\\n'\n",
    "            for idxTHM in range(min(len(THMLeft),5)):\n",
    "                lineToWrite = lineToWrite + THMLeft[0] + printNCharacters(14-len(THMLeft[0]))\n",
    "                THMLeft.pop(0)\n",
    "            lineToWrite += lineEnd\n",
    "            txtToWrite.write(lineToWrite)\n",
    "\n",
    "    txtToWrite.write(f'\\t; end\\n')\n",
    "    txtToWrite.write(f'\\n')\n",
    "    txtToWrite.write(f'\\tdb BANK({pkmnHere_PartlyCapital}PicFront)\\n')\n",
    "    txtToWrite.write(f'\\tassert BANK({pkmnHere_PartlyCapital}PicFront) == BANK({pkmnHere_PartlyCapital}PicBack)\\n')\n",
    "\n",
    "    txtToWrite.close()\n",
    "    \n",
    "    tidyOldAndFromExcelFiles(inputFile, debug=False)\n",
    "    "
   ]
  },
  {
   "cell_type": "markdown",
   "metadata": {},
   "source": [
    "# base_stats \"folder\" (4/13)"
   ]
  },
  {
   "cell_type": "code",
   "execution_count": 370,
   "metadata": {},
   "outputs": [],
   "source": [
    "inputFile = '/Users/michael/Desktop/Core/Giochi/Pokémon/DisassemblyYellow/ExtremeYellow/data/pokemon/base_stats.asm'\n",
    "linesFromFile, outputFile = readASMFileReturnLinesAndModifiedPath(inputFile)\n",
    "verbose = False"
   ]
  },
  {
   "cell_type": "code",
   "execution_count": 371,
   "metadata": {},
   "outputs": [],
   "source": [
    "initialLines_firstIdx = 0\n",
    "initialLines_lastIdx = 1\n",
    "\n",
    "if verbose:\n",
    "    for idx in range(initialLines_firstIdx,initialLines_lastIdx+1):\n",
    "        print(repr(linesFromFile[idx]))"
   ]
  },
  {
   "cell_type": "code",
   "execution_count": 372,
   "metadata": {},
   "outputs": [],
   "source": [
    "finalLines_lastIdx = len(linesFromFile)-1\n",
    "finalLines_firstIdx = finalLines_lastIdx-0\n",
    "\n",
    "if verbose:\n",
    "    for idx in range(finalLines_firstIdx,finalLines_lastIdx+1):\n",
    "        print(repr(linesFromFile[idx]))"
   ]
  },
  {
   "cell_type": "code",
   "execution_count": 373,
   "metadata": {},
   "outputs": [],
   "source": [
    "txtToWrite = open(outputFile, \"w\")\n",
    "\n",
    "for idx in range(initialLines_firstIdx,initialLines_lastIdx+1):\n",
    "    txtToWrite.write(linesFromFile[idx])\n",
    "    \n",
    "listMonsHere = getOneColumn('Name_allsmall')\n",
    "for idx in range(len(listMonsHere)):\n",
    "    pkmn = listMonsHere[idx]\n",
    "    oneLine = 'INCLUDE \"data/pokemon/base_stats/'+pkmn+'.asm\"\\n'\n",
    "    txtToWrite.write(oneLine)\n",
    "\n",
    "for idx in range(finalLines_firstIdx,finalLines_lastIdx+1):\n",
    "    txtToWrite.write(linesFromFile[idx])\n",
    "\n",
    "txtToWrite.close()"
   ]
  },
  {
   "cell_type": "code",
   "execution_count": 374,
   "metadata": {},
   "outputs": [
    {
     "name": "stderr",
     "output_type": "stream",
     "text": [
      "mkdir: preExcel: File exists\n"
     ]
    }
   ],
   "source": [
    "tidyOldAndFromExcelFiles(inputFile, debug=False)"
   ]
  },
  {
   "cell_type": "markdown",
   "metadata": {},
   "source": [
    "# evos_moves (5/13)"
   ]
  },
  {
   "cell_type": "code",
   "execution_count": 375,
   "metadata": {},
   "outputs": [],
   "source": [
    "inputFile = '/Users/michael/Desktop/Core/Giochi/Pokémon/DisassemblyYellow/ExtremeYellow/data/pokemon/evos_moves.asm'\n",
    "linesFromFile, outputFile = readASMFileReturnLinesAndModifiedPath(inputFile)\n",
    "verbose = False"
   ]
  },
  {
   "cell_type": "code",
   "execution_count": 376,
   "metadata": {},
   "outputs": [],
   "source": [
    "initialLines_firstIdx = 0\n",
    "initialLines_lastIdx = 4\n",
    "\n",
    "if verbose:\n",
    "    for idx in range(initialLines_firstIdx,initialLines_lastIdx+1):\n",
    "        print(repr(linesFromFile[idx]))"
   ]
  },
  {
   "cell_type": "code",
   "execution_count": 377,
   "metadata": {},
   "outputs": [],
   "source": [
    "middleLines = ['\\tassert_table_length NUM_POKEMON_INDEXES\\n', '\\n']"
   ]
  },
  {
   "cell_type": "code",
   "execution_count": 378,
   "metadata": {},
   "outputs": [],
   "source": [
    "txtToWrite = open(outputFile, \"w\")\n",
    "\n",
    "for idx in range(initialLines_firstIdx,initialLines_lastIdx+1):\n",
    "    txtToWrite.write(linesFromFile[idx])\n",
    "    \n",
    "listMonsHere = getOneColumn('Name_PartlyCapital')\n",
    "for idx in range(len(listMonsHere)):\n",
    "    pkmn = listMonsHere[idx]\n",
    "    oneLine = f'\\tdw {pkmn}EvosMoves\\n'\n",
    "    txtToWrite.write(oneLine)\n",
    "for crapMon in listFossilsGhost:\n",
    "    txtToWrite.write(f'\\tdw {crapMon}EvosMoves\\n')\n",
    "    \n",
    "for oneLine in middleLines:\n",
    "    txtToWrite.write(oneLine)\n",
    "\n",
    "for pkmn in listMonsHere:   \n",
    "    txtToWrite.write(f'{pkmn}EvosMoves:\\n')\n",
    "    txtToWrite.write(f'; Evolutions\\n')\n",
    "    \n",
    "    try:\n",
    "        len(printOneInfoForOneMon('EvoInfo', pkmn, 'Name_PartlyCapital'))\n",
    "    except:\n",
    "        _\n",
    "    else:\n",
    "#        if not ' - ' in printOneInfoForOneMon('EvoInfo', pkmn, 'Name_PartlyCapital'):\n",
    "#            txtToWrite.write(f'\\tdb {printOneInfoForOneMon(\"EvoInfo\", pkmn, \"Name_PartlyCapital\")}\\n')\n",
    "#        else:\n",
    "#            for evolutionOption in printOneInfoForOneMon('EvoInfo', pkmn, 'Name_PartlyCapital').rsplit(' - '):\n",
    "#                txtToWrite.write(f'\\tdb {evolutionOption}\\n')\n",
    "        for evolutionOption in printOneInfoForOneMon('EvoInfo', pkmn, 'Name_PartlyCapital').rsplit(' ; '):\n",
    "            txtToWrite.write(f'\\tdb {evolutionOption}\\n')\n",
    "    \n",
    "    txtToWrite.write(f'\\tdb 0\\n')\n",
    "    txtToWrite.write(f'; Learnset\\n')\n",
    "    \n",
    "    try:\n",
    "        len(printOneInfoForOneMon('LevelUpMoves', pkmn, 'Name_PartlyCapital'))\n",
    "    except:\n",
    "        _\n",
    "    else:\n",
    "        for lvlUpMove in printOneInfoForOneMon('LevelUpMoves', pkmn, 'Name_PartlyCapital').rsplit(' ; '):\n",
    "            txtToWrite.write(f'\\tdb {lvlUpMove.rsplit()[0]}, {lvlUpMove.rsplit()[1]}\\n')\n",
    "    \n",
    "    txtToWrite.write(f'\\tdb 0\\n')\n",
    "    txtToWrite.write(f'\\n')\n",
    "    \n",
    "for crapMon in listFossilsGhost:\n",
    "    txtToWrite.write(f'{crapMon}EvosMoves:\\n')\n",
    "    txtToWrite.write(f'; Evolutions\\n') \n",
    "    txtToWrite.write(f'\\tdb 0\\n')\n",
    "    txtToWrite.write(f'; Learnset\\n')\n",
    "    txtToWrite.write(f'\\tdb 0\\n')\n",
    "    txtToWrite.write(f'\\n')\n",
    "    \n",
    "txtToWrite.close()"
   ]
  },
  {
   "cell_type": "code",
   "execution_count": 379,
   "metadata": {},
   "outputs": [
    {
     "name": "stderr",
     "output_type": "stream",
     "text": [
      "mkdir: preExcel: File exists\n"
     ]
    }
   ],
   "source": [
    "tidyOldAndFromExcelFiles(inputFile, debug=False)"
   ]
  },
  {
   "cell_type": "markdown",
   "metadata": {},
   "source": [
    "# names (6/13)"
   ]
  },
  {
   "cell_type": "code",
   "execution_count": 298,
   "metadata": {},
   "outputs": [],
   "source": [
    "names_Exceptions_Default = [\"NIDORAN_M\", \"NIDORAN_F\", \"MIME_JR\", \"MR_MIME\", \"FARFETCHD\"]\n",
    "names_Exceptions_Updated = [\"NIDORAN♂\", \"NIDORAN♀\", \"MIME JR.\", \"MR.MIME\", \"FARFETCH'D\"]"
   ]
  },
  {
   "cell_type": "code",
   "execution_count": 299,
   "metadata": {},
   "outputs": [],
   "source": [
    "inputFile = '/Users/michael/Desktop/Core/Giochi/Pokémon/DisassemblyYellow/ExtremeYellow/data/pokemon/names.asm'\n",
    "linesFromFile, outputFile = readASMFileReturnLinesAndModifiedPath(inputFile)\n",
    "verbose = False"
   ]
  },
  {
   "cell_type": "code",
   "execution_count": 300,
   "metadata": {},
   "outputs": [],
   "source": [
    "initialLines_firstIdx = 0\n",
    "initialLines_lastIdx = 1\n",
    "\n",
    "if verbose:\n",
    "    for idx in range(initialLines_firstIdx,initialLines_lastIdx+1):\n",
    "        print(repr(linesFromFile[idx]))"
   ]
  },
  {
   "cell_type": "code",
   "execution_count": 301,
   "metadata": {},
   "outputs": [],
   "source": [
    "finalLines_lastIdx = len(linesFromFile)-1\n",
    "finalLines_firstIdx = finalLines_lastIdx-0\n",
    "\n",
    "if verbose:\n",
    "    for idx in range(finalLines_firstIdx,finalLines_lastIdx+1):\n",
    "        print(repr(linesFromFile[idx]))"
   ]
  },
  {
   "cell_type": "code",
   "execution_count": 302,
   "metadata": {},
   "outputs": [],
   "source": [
    "txtToWrite = open(outputFile, \"w\")\n",
    "\n",
    "for idx in range(initialLines_firstIdx,initialLines_lastIdx+1):\n",
    "    txtToWrite.write(linesFromFile[idx])\n",
    "    \n",
    "listMonsHere = getOneColumn('Name_Capital')\n",
    "for idx in range(len(listMonsHere)):\n",
    "    pkmn = listMonsHere[idx]\n",
    "    if pkmn in names_Exceptions_Default:\n",
    "        pkmn = names_Exceptions_Updated[names_Exceptions_Default.index(pkmn)]\n",
    "    oneLine = '\\tdb \"'+pkmn+printNCharacters(10-len(pkmn), '@')+'\"\\n'\n",
    "    txtToWrite.write(oneLine)\n",
    "\n",
    "for crapMon in listFossilsGhost_Names_Capital:\n",
    "    oneLine = '\\tdb \"'+crapMon+printNCharacters(10-len(crapMon), '@')+'\"\\n'\n",
    "    txtToWrite.write(oneLine)\n",
    "    \n",
    "for idx in range(finalLines_firstIdx,finalLines_lastIdx+1):\n",
    "    txtToWrite.write(linesFromFile[idx])\n",
    "\n",
    "txtToWrite.close()"
   ]
  },
  {
   "cell_type": "code",
   "execution_count": 303,
   "metadata": {},
   "outputs": [
    {
     "name": "stderr",
     "output_type": "stream",
     "text": [
      "mkdir: preExcel: File exists\n"
     ]
    }
   ],
   "source": [
    "tidyOldAndFromExcelFiles(inputFile, debug=False)"
   ]
  },
  {
   "cell_type": "markdown",
   "metadata": {},
   "source": [
    "# cries (7/13)"
   ]
  },
  {
   "cell_type": "code",
   "execution_count": 304,
   "metadata": {},
   "outputs": [],
   "source": [
    "inputFile = '/Users/michael/Desktop/Core/Giochi/Pokémon/DisassemblyYellow/ExtremeYellow/data/pokemon/cries.asm'\n",
    "linesFromFile, outputFile = readASMFileReturnLinesAndModifiedPath(inputFile)\n",
    "verbose = False"
   ]
  },
  {
   "cell_type": "code",
   "execution_count": 305,
   "metadata": {},
   "outputs": [],
   "source": [
    "initialLines_firstIdx = 0\n",
    "initialLines_lastIdx = 7\n",
    "\n",
    "if verbose:\n",
    "    for idx in range(initialLines_firstIdx,initialLines_lastIdx+1):\n",
    "        print(repr(linesFromFile[idx]))"
   ]
  },
  {
   "cell_type": "code",
   "execution_count": 306,
   "metadata": {},
   "outputs": [],
   "source": [
    "finalLines_lastIdx = len(linesFromFile)-1\n",
    "finalLines_firstIdx = finalLines_lastIdx-0\n",
    "\n",
    "if verbose:\n",
    "    for idx in range(finalLines_firstIdx,finalLines_lastIdx+1):\n",
    "        print(repr(linesFromFile[idx]))"
   ]
  },
  {
   "cell_type": "code",
   "execution_count": 307,
   "metadata": {},
   "outputs": [],
   "source": [
    "txtToWrite = open(outputFile, \"w\")\n",
    "\n",
    "for idx in range(initialLines_firstIdx,initialLines_lastIdx+1):\n",
    "    txtToWrite.write(linesFromFile[idx])\n",
    "    \n",
    "listMonsHere = getOneColumn('Name_PartlyCapital')\n",
    "for idx in range(len(listMonsHere)):\n",
    "    pkmn = listMonsHere[idx]\n",
    "    oneLine = f'\\tmon_cry {printOneInfoForOneMon(\"cries\", pkmn, \"Name_PartlyCapital\")} ; {pkmn}\\n'\n",
    "    txtToWrite.write(oneLine)\n",
    "\n",
    "for crapMon in listFossilsGhost_Names:\n",
    "    oneLine = f'\\tmon_cry SFX_CRY_00, $00, $00 ; {crapMon}\\n'\n",
    "    txtToWrite.write(oneLine)\n",
    "    \n",
    "for idx in range(finalLines_firstIdx,finalLines_lastIdx+1):\n",
    "    txtToWrite.write(linesFromFile[idx])\n",
    "\n",
    "txtToWrite.close()"
   ]
  },
  {
   "cell_type": "code",
   "execution_count": 308,
   "metadata": {},
   "outputs": [
    {
     "name": "stderr",
     "output_type": "stream",
     "text": [
      "mkdir: preExcel: File exists\n"
     ]
    }
   ],
   "source": [
    "tidyOldAndFromExcelFiles(inputFile, debug=False)"
   ]
  },
  {
   "cell_type": "markdown",
   "metadata": {},
   "source": [
    "# menu_icons (8/13)"
   ]
  },
  {
   "cell_type": "code",
   "execution_count": 309,
   "metadata": {},
   "outputs": [],
   "source": [
    "inputFile = '/Users/michael/Desktop/Core/Giochi/Pokémon/DisassemblyYellow/ExtremeYellow/data/pokemon/menu_icons.asm'\n",
    "linesFromFile, outputFile = readASMFileReturnLinesAndModifiedPath(inputFile)\n",
    "verbose = False"
   ]
  },
  {
   "cell_type": "code",
   "execution_count": 310,
   "metadata": {},
   "outputs": [],
   "source": [
    "initialLines_firstIdx = 0\n",
    "initialLines_lastIdx = 1\n",
    "\n",
    "if verbose:\n",
    "    for idx in range(initialLines_firstIdx,initialLines_lastIdx+1):\n",
    "        print(repr(linesFromFile[idx]))"
   ]
  },
  {
   "cell_type": "code",
   "execution_count": 311,
   "metadata": {},
   "outputs": [],
   "source": [
    "finalLines_lastIdx = len(linesFromFile)-1\n",
    "finalLines_firstIdx = finalLines_lastIdx-0\n",
    "\n",
    "if verbose:\n",
    "    for idx in range(finalLines_firstIdx,finalLines_lastIdx+1):\n",
    "        print(repr(linesFromFile[idx]))"
   ]
  },
  {
   "cell_type": "code",
   "execution_count": 312,
   "metadata": {},
   "outputs": [],
   "source": [
    "txtToWrite = open(outputFile, \"w\")\n",
    "\n",
    "for idx in range(initialLines_firstIdx,initialLines_lastIdx+1):\n",
    "    txtToWrite.write(linesFromFile[idx])\n",
    "    \n",
    "listMonsHere = getOneColumn('Name_PartlyCapital')\n",
    "for idx in range(len(listMonsHere)):\n",
    "    pkmn = listMonsHere[idx]\n",
    "    oneLine = '\\tnybble '+printOneInfoForOneMon(\"menuIcons\", pkmn, \"Name_PartlyCapital\")+printNCharacters(15-len(printOneInfoForOneMon(\"menuIcons\", pkmn, \"Name_PartlyCapital\")))+'; '+pkmn+'\\n'\n",
    "    txtToWrite.write(oneLine)\n",
    "\n",
    "for idx in range(finalLines_firstIdx,finalLines_lastIdx+1):\n",
    "    txtToWrite.write(linesFromFile[idx])\n",
    "\n",
    "txtToWrite.close()"
   ]
  },
  {
   "cell_type": "code",
   "execution_count": 313,
   "metadata": {},
   "outputs": [
    {
     "name": "stderr",
     "output_type": "stream",
     "text": [
      "mkdir: preExcel: File exists\n"
     ]
    }
   ],
   "source": [
    "tidyOldAndFromExcelFiles(inputFile, debug=False)"
   ]
  },
  {
   "cell_type": "markdown",
   "metadata": {},
   "source": [
    "# palettes (9/13)"
   ]
  },
  {
   "cell_type": "code",
   "execution_count": 314,
   "metadata": {},
   "outputs": [],
   "source": [
    "inputFile = '/Users/michael/Desktop/Core/Giochi/Pokémon/DisassemblyYellow/ExtremeYellow/data/pokemon/palettes.asm'\n",
    "linesFromFile, outputFile = readASMFileReturnLinesAndModifiedPath(inputFile)\n",
    "verbose = False"
   ]
  },
  {
   "cell_type": "code",
   "execution_count": 315,
   "metadata": {},
   "outputs": [],
   "source": [
    "initialLines_firstIdx = 0\n",
    "initialLines_lastIdx = 2\n",
    "\n",
    "if verbose:\n",
    "    for idx in range(initialLines_firstIdx,initialLines_lastIdx+1):\n",
    "        print(repr(linesFromFile[idx]))"
   ]
  },
  {
   "cell_type": "code",
   "execution_count": 316,
   "metadata": {},
   "outputs": [],
   "source": [
    "finalLines_lastIdx = len(linesFromFile)-1\n",
    "finalLines_firstIdx = finalLines_lastIdx-0\n",
    "\n",
    "if verbose:\n",
    "    for idx in range(finalLines_firstIdx,finalLines_lastIdx+1):\n",
    "        print(repr(linesFromFile[idx]))"
   ]
  },
  {
   "cell_type": "code",
   "execution_count": 317,
   "metadata": {},
   "outputs": [],
   "source": [
    "txtToWrite = open(outputFile, \"w\")\n",
    "\n",
    "for idx in range(initialLines_firstIdx,initialLines_lastIdx+1):\n",
    "    txtToWrite.write(linesFromFile[idx])\n",
    "    \n",
    "listMonsHere = getOneColumn('Name_Capital')\n",
    "for idx in range(len(listMonsHere)):\n",
    "    pkmn = listMonsHere[idx]\n",
    "    oneLine = '\\tdb '+printOneInfoForOneMon(\"palettes\", pkmn, \"Name_Capital\")+printNCharacters(14-len(printOneInfoForOneMon(\"palettes\", pkmn, \"Name_Capital\")))+'; '+pkmn+'\\n'\n",
    "    txtToWrite.write(oneLine)\n",
    "\n",
    "for idx in range(finalLines_firstIdx,finalLines_lastIdx+1):\n",
    "    txtToWrite.write(linesFromFile[idx])\n",
    "\n",
    "txtToWrite.close()"
   ]
  },
  {
   "cell_type": "code",
   "execution_count": 318,
   "metadata": {},
   "outputs": [
    {
     "name": "stderr",
     "output_type": "stream",
     "text": [
      "mkdir: preExcel: File exists\n"
     ]
    }
   ],
   "source": [
    "tidyOldAndFromExcelFiles(inputFile, debug=False)"
   ]
  },
  {
   "cell_type": "markdown",
   "metadata": {},
   "source": [
    "# dex_order (10/13)"
   ]
  },
  {
   "cell_type": "code",
   "execution_count": 319,
   "metadata": {},
   "outputs": [],
   "source": [
    "inputFile = '/Users/michael/Desktop/Core/Giochi/Pokémon/DisassemblyYellow/ExtremeYellow/data/pokemon/dex_order.asm'\n",
    "linesFromFile, outputFile = readASMFileReturnLinesAndModifiedPath(inputFile)\n",
    "verbose = False"
   ]
  },
  {
   "cell_type": "code",
   "execution_count": 320,
   "metadata": {},
   "outputs": [],
   "source": [
    "initialLines_firstIdx = 0\n",
    "initialLines_lastIdx = 1\n",
    "\n",
    "if verbose:\n",
    "    for idx in range(initialLines_firstIdx,initialLines_lastIdx+1):\n",
    "        print(repr(linesFromFile[idx]))"
   ]
  },
  {
   "cell_type": "code",
   "execution_count": 321,
   "metadata": {},
   "outputs": [],
   "source": [
    "finalLines_lastIdx = len(linesFromFile)-1\n",
    "finalLines_firstIdx = finalLines_lastIdx-0\n",
    "\n",
    "if verbose:\n",
    "    for idx in range(finalLines_firstIdx,finalLines_lastIdx+1):\n",
    "        print(repr(linesFromFile[idx]))"
   ]
  },
  {
   "cell_type": "code",
   "execution_count": 322,
   "metadata": {},
   "outputs": [],
   "source": [
    "txtToWrite = open(outputFile, \"w\")\n",
    "\n",
    "for idx in range(initialLines_firstIdx,initialLines_lastIdx+1):\n",
    "    txtToWrite.write(linesFromFile[idx])\n",
    "    \n",
    "listMonsHere = getOneColumn('Name_Capital')\n",
    "for idx in range(len(listMonsHere)):\n",
    "    pkmn = listMonsHere[idx]\n",
    "    oneLine = f'\\tdb DEX_{pkmn}\\n'\n",
    "    txtToWrite.write(oneLine)\n",
    "\n",
    "for crapMon in listFossilsGhost_Names_Capital:\n",
    "    oneLine = f'\\tdb 0 ; {crapMon}\\n'\n",
    "    txtToWrite.write(oneLine)\n",
    "    \n",
    "for idx in range(finalLines_firstIdx,finalLines_lastIdx+1):\n",
    "    txtToWrite.write(linesFromFile[idx])\n",
    "\n",
    "txtToWrite.close()"
   ]
  },
  {
   "cell_type": "code",
   "execution_count": 323,
   "metadata": {},
   "outputs": [
    {
     "name": "stderr",
     "output_type": "stream",
     "text": [
      "mkdir: preExcel: File exists\n"
     ]
    }
   ],
   "source": [
    "tidyOldAndFromExcelFiles(inputFile, debug=False)"
   ]
  },
  {
   "cell_type": "markdown",
   "metadata": {},
   "source": [
    "# dex_entries (11/13)"
   ]
  },
  {
   "cell_type": "code",
   "execution_count": 324,
   "metadata": {},
   "outputs": [],
   "source": [
    "inputFile = '/Users/michael/Desktop/Core/Giochi/Pokémon/DisassemblyYellow/ExtremeYellow/data/pokemon/dex_entries.asm'\n",
    "linesFromFile, outputFile = readASMFileReturnLinesAndModifiedPath(inputFile)\n",
    "verbose = False"
   ]
  },
  {
   "cell_type": "code",
   "execution_count": 325,
   "metadata": {},
   "outputs": [],
   "source": [
    "initialLines_firstIdx = 0\n",
    "initialLines_lastIdx = 1\n",
    "\n",
    "if verbose:\n",
    "    for idx in range(initialLines_firstIdx,initialLines_lastIdx+1):\n",
    "        print(repr(linesFromFile[idx]))"
   ]
  },
  {
   "cell_type": "code",
   "execution_count": 326,
   "metadata": {},
   "outputs": [],
   "source": [
    "middleLines = ['\\tassert_table_length NUM_POKEMON_INDEXES\\n', '\\n', '; string: species name\\n', '; height in decimeter\\n', '; weight in hectograms\\n', '; text entry\\n', '\\n', ]"
   ]
  },
  {
   "cell_type": "code",
   "execution_count": 327,
   "metadata": {},
   "outputs": [
    {
     "name": "stdout",
     "output_type": "stream",
     "text": [
      "Bulbasaur\n",
      "Ivysaur\n",
      "Venusaur\n",
      "MVenusaur\n",
      "Charmander\n",
      "Charmeleon\n",
      "Charizard\n",
      "MCharzardX\n",
      "MCharzardY\n",
      "Squirtle\n",
      "Wartortle\n",
      "Blastoise\n",
      "MBlastoise\n",
      "Caterpie\n",
      "Metapod\n",
      "Butterfree\n",
      "Weedle\n",
      "Kakuna\n",
      "Beedrill\n",
      "MBeedrill\n",
      "Pidgey\n",
      "Pidgeotto\n",
      "Pidgeot\n",
      "MPidgeot\n",
      "Rattata\n",
      "Raticate\n",
      "Spearow\n",
      "Fearow\n",
      "Ekans\n",
      "Arbok\n",
      "Pichu\n",
      "Pikachu\n",
      "Raichu\n",
      "Sandshrew\n",
      "Sandslash\n",
      "NidoranF\n",
      "Nidorina\n",
      "Nidoqueen\n",
      "NidoranM\n",
      "Nidorino\n",
      "Nidoking\n",
      "Cleffa\n",
      "Clefairy\n",
      "Clefable\n",
      "Vulpix\n",
      "Ninetales\n",
      "Igglybuff\n",
      "Jigglypuff\n",
      "Wigglytuff\n",
      "Zubat\n",
      "Golbat\n",
      "Crobat\n",
      "Oddish\n",
      "Gloom\n",
      "Vileplume\n",
      "Bellossom\n",
      "Paras\n",
      "Parasect\n",
      "Venonat\n",
      "Venomoth\n",
      "Diglett\n",
      "Dugtrio\n",
      "Meowth\n",
      "Persian\n",
      "Psyduck\n",
      "Golduck\n",
      "Mankey\n",
      "Primeape\n",
      "Annihilape\n",
      "Growlithe\n",
      "Arcanine\n",
      "Poliwag\n",
      "Poliwhirl\n",
      "Poliwrath\n",
      "Politoed\n",
      "Abra\n",
      "Kadabra\n",
      "Alakazam\n",
      "MAlakazam\n",
      "Machop\n",
      "Machoke\n",
      "Machamp\n",
      "Bellsprout\n",
      "Weepinbell\n",
      "Victreebel\n",
      "Tentacool\n",
      "Tentacruel\n",
      "Geodude\n",
      "Graveler\n",
      "Golem\n",
      "Ponyta\n",
      "Rapidash\n",
      "Slowpoke\n",
      "Slowbro\n",
      "MSlowbro\n",
      "Slowking\n",
      "Magnemite\n",
      "Magneton\n",
      "Magnezone\n",
      "Farfetchd\n",
      "Doduo\n",
      "Dodrio\n",
      "Seel\n",
      "Dewgong\n",
      "Grimer\n",
      "Muk\n",
      "Shellder\n",
      "Cloyster\n",
      "Gastly\n",
      "Haunter\n",
      "Gengar\n",
      "MGengar\n",
      "Onix\n",
      "Steelix\n",
      "MSteelix\n",
      "Drowzee\n",
      "Hypno\n",
      "Krabby\n",
      "Kingler\n",
      "Voltorb\n",
      "Electrode\n",
      "Exeggcute\n",
      "Exeggutor\n",
      "Cubone\n",
      "Marowak\n",
      "Tyrogue\n",
      "Hitmonlee\n",
      "Hitmonchan\n",
      "Hitmontop\n",
      "Lickitung\n",
      "Lickilicky\n",
      "Koffing\n",
      "Weezing\n",
      "Rhyhorn\n",
      "Rhydon\n",
      "Rhyperior\n",
      "Happiny\n",
      "Chansey\n",
      "Blissey\n",
      "Tangela\n",
      "Tangrowth\n",
      "Kangaskhan\n",
      "MKangaskan\n",
      "Horsea\n",
      "Seadra\n",
      "Kingdra\n",
      "Goldeen\n",
      "Seaking\n",
      "Staryu\n",
      "Starmie\n",
      "MimeJr\n",
      "MrMime\n",
      "Scyther\n",
      "Scizor\n",
      "MScizor\n",
      "Kleavor\n",
      "Smoochum\n",
      "Jynx\n",
      "Elekid\n",
      "Electabuzz\n",
      "Electivire\n",
      "Magby\n",
      "Magmar\n",
      "Magmortar\n",
      "Pinsir\n",
      "MPinsir\n",
      "Tauros\n",
      "Magikarp\n",
      "Gyarados\n",
      "MGyarados\n",
      "Lapras\n",
      "Ditto\n",
      "Eevee\n",
      "Vaporeon\n",
      "Jolteon\n",
      "Flareon\n",
      "Espeon\n",
      "Umbreon\n",
      "Leafeon\n",
      "Glaceon\n",
      "Sylveon\n",
      "Porygon\n",
      "Porygon2\n",
      "PorygonZ\n",
      "Omanyte\n",
      "Omastar\n",
      "Kabuto\n",
      "Kabutops\n",
      "Aerodactyl\n",
      "MAerodatyl\n",
      "Munchlax\n",
      "Snorlax\n",
      "Articuno\n",
      "Zapdos\n",
      "Moltres\n",
      "Dratini\n",
      "Dragonair\n",
      "Dragonite\n",
      "Mewtwo\n",
      "MMewtwoX\n",
      "MMewtwoY\n",
      "Mew\n",
      "Venustoise\n"
     ]
    }
   ],
   "source": [
    "txtToWrite = open(outputFile, \"w\")\n",
    "\n",
    "for idx in range(initialLines_firstIdx,initialLines_lastIdx+1):\n",
    "    txtToWrite.write(linesFromFile[idx])\n",
    "    \n",
    "listMonsHere = getOneColumn('Name_PartlyCapital')\n",
    "for idx in range(len(listMonsHere)):\n",
    "    pkmn = listMonsHere[idx]\n",
    "    oneLine = f'\\tdw {pkmn}DexEntry\\n'\n",
    "    txtToWrite.write(oneLine)\n",
    "for crapMon in listFossilsGhost_Names:\n",
    "    txtToWrite.write(f'\\tdw {crapMon[:-1]}DexEntry\\n')\n",
    "    \n",
    "for oneLine in middleLines:\n",
    "    txtToWrite.write(oneLine)\n",
    "\n",
    "for pkmn in listMonsHere:   \n",
    "    txtToWrite.write(f'{pkmn}DexEntry:\\n')\n",
    "    txtToWrite.write('\\tdb \"'+printOneInfoForOneMon('species', pkmn, 'Name_PartlyCapital')+'@\"\\n')\n",
    "    txtToWrite.write('\\tdb '+str(printOneInfoForOneMon('height_dm', pkmn, 'Name_PartlyCapital'))+'\\n')\n",
    "    txtToWrite.write('\\tdw '+str(printOneInfoForOneMon('weight_hg', pkmn, 'Name_PartlyCapital'))+'\\n')\n",
    "    txtToWrite.write(f'\\ttext_far _{pkmn}DexEntry\\n')\n",
    "    txtToWrite.write('\\ttext_end\\n')\n",
    "    txtToWrite.write('\\n')\n",
    "    \n",
    "txtToWrite.write('MissingNoDexEntry:\\n')\n",
    "txtToWrite.write('\\tdb \"???@\"\\n') \n",
    "txtToWrite.write('\\tdb 31\\n') \n",
    "txtToWrite.write('\\tdw 45\\n') \n",
    "txtToWrite.write('\\tdb \"コメント\\u3000さくせいちゅう@\" ; コメント作成中 (Comment to be written)\\n') \n",
    "\n",
    "txtToWrite.close()"
   ]
  },
  {
   "cell_type": "code",
   "execution_count": 328,
   "metadata": {},
   "outputs": [
    {
     "name": "stderr",
     "output_type": "stream",
     "text": [
      "mkdir: preExcel: File exists\n"
     ]
    }
   ],
   "source": [
    "tidyOldAndFromExcelFiles(inputFile, debug=False)"
   ]
  },
  {
   "cell_type": "markdown",
   "metadata": {},
   "source": [
    "# dex_text (12/13)"
   ]
  },
  {
   "cell_type": "code",
   "execution_count": 329,
   "metadata": {},
   "outputs": [],
   "source": [
    "inputFile = '/Users/michael/Desktop/Core/Giochi/Pokémon/DisassemblyYellow/ExtremeYellow/data/pokemon/dex_text.asm'\n",
    "linesFromFile, outputFile = readASMFileReturnLinesAndModifiedPath(inputFile)\n",
    "verbose = False"
   ]
  },
  {
   "cell_type": "code",
   "execution_count": 330,
   "metadata": {},
   "outputs": [
    {
     "name": "stdout",
     "output_type": "stream",
     "text": [
      "Squirtle has a 5-line entry!\n",
      "Raticate has a 5-line entry!\n",
      "Gengar has a 5-line entry!\n",
      "Magmortar has a 5-line entry!\n",
      "Sylveon has a 4-line entry!\n"
     ]
    }
   ],
   "source": [
    "# cross-checks\n",
    "# - are all entries theoretically fittable?\n",
    "for pkmn in getOneColumn('Name_PartlyCapital'):\n",
    "    if len(printOneInfoForOneMon('dexTexts', pkmn, 'Name_PartlyCapital'))>18*6:\n",
    "        print(f'{pkmn} has a too-long entry!')\n",
    "# - are all entries re-made in 6 lines?\n",
    "for pkmn in getOneColumn('Name_PartlyCapital'):\n",
    "    if len(lineifyDexEntries(printOneInfoForOneMon('dexTexts', pkmn, 'Name_PartlyCapital')))!=6:\n",
    "        print(f'{pkmn} has a '+str(len(lineifyDexEntries(printOneInfoForOneMon('dexTexts', pkmn, 'Name_PartlyCapital'))))+'-line entry!')"
   ]
  },
  {
   "cell_type": "code",
   "execution_count": 331,
   "metadata": {},
   "outputs": [],
   "source": [
    "txtToWrite = open(outputFile, \"w\")\n",
    "\n",
    "listMonsHere = getOneColumn('Name_PartlyCapital')\n",
    "for idx in range(len(listMonsHere)):\n",
    "    pkmn = listMonsHere[idx]\n",
    "#    print(pkmn)\n",
    "#    print(printOneInfoForOneMon('dexTexts', pkmn, 'Name_PartlyCapital'))\n",
    "    dexLinesHere = lineifyDexEntries(printOneInfoForOneMon('dexTexts', pkmn, 'Name_PartlyCapital'))\n",
    "#    print(dexLinesHere)\n",
    "    txtToWrite.write(f'_{pkmn}DexEntry::\\n')\n",
    "    txtToWrite.write('\\ttext \"'+dexLinesHere[0]+'\"\\n')\n",
    "    txtToWrite.write('\\tnext \"'+dexLinesHere[1]+'\"\\n')\n",
    "    txtToWrite.write('\\tnext \"'+dexLinesHere[2]+'\"\\n')\n",
    "    txtToWrite.write('\\n')\n",
    "    txtToWrite.write('\\tpage \"'+dexLinesHere[3]+'\"\\n')\n",
    "    if len(dexLinesHere)>=5:\n",
    "        txtToWrite.write('\\tnext \"'+dexLinesHere[4]+'\"\\n')\n",
    "    if len(dexLinesHere)==6:\n",
    "        txtToWrite.write('\\tnext \"'+dexLinesHere[5]+'\"\\n')\n",
    "    txtToWrite.write('\\tdex\\n')\n",
    "    txtToWrite.write('\\n')\n",
    "#    print('---')\n",
    "    \n",
    "txtToWrite.close()"
   ]
  },
  {
   "cell_type": "code",
   "execution_count": 332,
   "metadata": {},
   "outputs": [
    {
     "name": "stderr",
     "output_type": "stream",
     "text": [
      "mkdir: preExcel: File exists\n"
     ]
    }
   ],
   "source": [
    "tidyOldAndFromExcelFiles(inputFile, debug=False)"
   ]
  },
  {
   "cell_type": "markdown",
   "metadata": {},
   "source": [
    "# pics D: (13/13)"
   ]
  },
  {
   "cell_type": "code",
   "execution_count": 333,
   "metadata": {},
   "outputs": [],
   "source": [
    "inputFile = '/Users/michael/Desktop/Core/Giochi/Pokémon/DisassemblyYellow/ExtremeYellow/gfx/pics.asm'\n",
    "linesFromFile, outputFile = readASMFileReturnLinesAndModifiedPath(inputFile)\n",
    "verbose = False"
   ]
  },
  {
   "cell_type": "code",
   "execution_count": 334,
   "metadata": {},
   "outputs": [],
   "source": [
    "initialLines_firstIdx = linesFromFile.index('SECTION \"Pics 6\", ROMX\\n')\n",
    "initialLines_lastIdx = linesFromFile.index('SECTION \"Pics 8\", ROMX\\n')+7\n",
    "\n",
    "if verbose:\n",
    "    for idx in range(initialLines_firstIdx,initialLines_lastIdx+1):\n",
    "        print(repr(linesFromFile[idx]))"
   ]
  },
  {
   "cell_type": "code",
   "execution_count": 335,
   "metadata": {},
   "outputs": [],
   "source": [
    "txtToWrite = open(outputFile, \"w\")\n",
    "\n",
    "listMonsHere = getOneColumn('Name_PartlyCapital')\n",
    "listMonsHere_allsmall = getOneColumn('Name_allsmall')\n",
    "\n",
    "for idx in range(len(listMonsHere)):\n",
    "    \n",
    "    if int(idx/30)+1==6:\n",
    "        txtToWrite.write('\\n')\n",
    "        txtToWrite.write('\\n')\n",
    "#        txtToWrite.write('SECTION \"Pics '+str(int(idx/30)+2)+'\", ROMX\\n')\n",
    "        txtToWrite.write('SECTION \"Pics '+str(6)+'\", ROMX\\n')\n",
    "        txtToWrite.write('\\n')\n",
    "        txtToWrite.write('YoungsterPic::     INCBIN \"gfx/trainers/youngster.pic\"\\n')\n",
    "        txtToWrite.write('BugCatcherPic::    INCBIN \"gfx/trainers/bugcatcher.pic\"\\n')\n",
    "        txtToWrite.write('LassPic::          INCBIN \"gfx/trainers/lass.pic\"\\n')\n",
    "        txtToWrite.write('SailorPic::        INCBIN \"gfx/trainers/sailor.pic\"\\n')\n",
    "        txtToWrite.write('JrTrainerMPic::    INCBIN \"gfx/trainers/jr.trainerm.pic\"\\n')\n",
    "        txtToWrite.write('JrTrainerFPic::    INCBIN \"gfx/trainers/jr.trainerf.pic\"\\n')\n",
    "        txtToWrite.write('PokemaniacPic::    INCBIN \"gfx/trainers/pokemaniac.pic\"\\n')\n",
    "        txtToWrite.write('SuperNerdPic::     INCBIN \"gfx/trainers/supernerd.pic\"\\n')\n",
    "        txtToWrite.write('HikerPic::         INCBIN \"gfx/trainers/hiker.pic\"\\n')\n",
    "        txtToWrite.write('BikerPic::         INCBIN \"gfx/trainers/biker.pic\"\\n')\n",
    "        txtToWrite.write('BurglarPic::       INCBIN \"gfx/trainers/burglar.pic\"\\n')\n",
    "        txtToWrite.write('EngineerPic::      INCBIN \"gfx/trainers/engineer.pic\"\\n')\n",
    "        txtToWrite.write('FisherPic::        INCBIN \"gfx/trainers/fisher.pic\"\\n')\n",
    "        txtToWrite.write('SwimmerPic::       INCBIN \"gfx/trainers/swimmer.pic\"\\n')\n",
    "        txtToWrite.write('CueBallPic::       INCBIN \"gfx/trainers/cueball.pic\"\\n')\n",
    "        txtToWrite.write('GamblerPic::       INCBIN \"gfx/trainers/gambler.pic\"\\n')\n",
    "        txtToWrite.write('BeautyPic::        INCBIN \"gfx/trainers/beauty.pic\"\\n')\n",
    "        txtToWrite.write('PsychicPic::       INCBIN \"gfx/trainers/psychic.pic\"\\n')\n",
    "        txtToWrite.write('RockerPic::        INCBIN \"gfx/trainers/rocker.pic\"\\n')\n",
    "        txtToWrite.write('JugglerPic::       INCBIN \"gfx/trainers/juggler.pic\"\\n')\n",
    "        txtToWrite.write('TamerPic::         INCBIN \"gfx/trainers/tamer.pic\"\\n')\n",
    "        txtToWrite.write('BirdKeeperPic::    INCBIN \"gfx/trainers/birdkeeper.pic\"\\n')\n",
    "        txtToWrite.write('BlackbeltPic::     INCBIN \"gfx/trainers/blackbelt.pic\"\\n')\n",
    "        txtToWrite.write('Rival1Pic::        INCBIN \"gfx/trainers/rival1.pic\"\\n')\n",
    "        txtToWrite.write('ProfOakPic::       INCBIN \"gfx/trainers/prof.oak.pic\"\\n')\n",
    "        txtToWrite.write('ChiefPic::\\n')\n",
    "        txtToWrite.write('ScientistPic::     INCBIN \"gfx/trainers/scientist.pic\"\\n')\n",
    "        txtToWrite.write('GiovanniPic::      INCBIN \"gfx/trainers/giovanni.pic\"\\n')\n",
    "        txtToWrite.write('RocketPic::        INCBIN \"gfx/trainers/rocket.pic\"\\n')\n",
    "        txtToWrite.write('CooltrainerMPic::  INCBIN \"gfx/trainers/cooltrainerm.pic\"\\n')\n",
    "        txtToWrite.write('CooltrainerFPic::  INCBIN \"gfx/trainers/cooltrainerf.pic\"\\n')\n",
    "        txtToWrite.write('BrunoPic::         INCBIN \"gfx/trainers/bruno.pic\"\\n')\n",
    "        txtToWrite.write('BrockPic::         INCBIN \"gfx/trainers/brock.pic\"\\n')\n",
    "        txtToWrite.write('MistyPic::         INCBIN \"gfx/trainers/misty.pic\"\\n')\n",
    "        txtToWrite.write('LtSurgePic::       INCBIN \"gfx/trainers/lt.surge.pic\"\\n')\n",
    "        txtToWrite.write('ErikaPic::         INCBIN \"gfx/trainers/erika.pic\"\\n')\n",
    "        txtToWrite.write('KogaPic::          INCBIN \"gfx/trainers/koga.pic\"\\n')\n",
    "        txtToWrite.write('BlainePic::        INCBIN \"gfx/trainers/blaine.pic\"\\n')\n",
    "        txtToWrite.write('SabrinaPic::       INCBIN \"gfx/trainers/sabrina.pic\"\\n')\n",
    "        txtToWrite.write('GentlemanPic::     INCBIN \"gfx/trainers/gentleman.pic\"\\n')\n",
    "        txtToWrite.write('Rival2Pic::        INCBIN \"gfx/trainers/rival2.pic\"\\n')\n",
    "        txtToWrite.write('Rival3Pic::        INCBIN \"gfx/trainers/rival3.pic\"\\n')\n",
    "        txtToWrite.write('LoreleiPic::       INCBIN \"gfx/trainers/lorelei.pic\"\\n')\n",
    "        txtToWrite.write('ChannelerPic::     INCBIN \"gfx/trainers/channeler.pic\"\\n')\n",
    "        txtToWrite.write('AgathaPic::        INCBIN \"gfx/trainers/agatha.pic\"\\n')\n",
    "        txtToWrite.write('LancePic::         INCBIN \"gfx/trainers/lance.pic\"\\n')\n",
    "        txtToWrite.write('JessieJamesPic::   INCBIN \"gfx/trainers/jessiejames.pic\"\\n')\n",
    "        txtToWrite.write('\\n')\n",
    "        txtToWrite.write('\\n')\n",
    "#        txtToWrite.write('SECTION \"Pics '+str(int(idx/30)+3)+'\", ROMX\\n')\n",
    "        txtToWrite.write('SECTION \"Pics '+str(7)+'\", ROMX\\n')\n",
    "        txtToWrite.write('\\n')\n",
    "        txtToWrite.write('RedPicBack::       INCBIN \"gfx/player/redb.pic\"\\n')\n",
    "        txtToWrite.write('OldManPicBack::    INCBIN \"gfx/battle/oldmanb.pic\"\\n')\n",
    "        txtToWrite.write('ProfOakPicBack::   INCBIN \"gfx/battle/prof.oakb.pic\"\\n')\n",
    "        break\n",
    "        \n",
    "    if idx%30==0:\n",
    "        if idx!=0:\n",
    "            txtToWrite.write('\\n')\n",
    "            txtToWrite.write('\\n')\n",
    "        txtToWrite.write('SECTION \"Pics '+str(int(idx/30)+1)+'\", ROMX\\n')\n",
    "        txtToWrite.write('\\n')\n",
    "    pkmn = listMonsHere[idx]\n",
    "    txtToWrite.write(pkmn+'PicFront::'+printNCharacters(22-len(pkmn+'PicFront::'))+'INCBIN \"gfx/pokemon/front/'+listMonsHere_allsmall[idx]+'.pic\"\\n')\n",
    "    txtToWrite.write(pkmn+'PicBack::'+printNCharacters(22-len(pkmn+'PicBack::'))+'INCBIN \"gfx/pokemon/back/'+listMonsHere_allsmall[idx]+'b.pic\"\\n')\n",
    "    \n",
    "for idx2 in range(idx,len(listMonsHere)):\n",
    "    if idx2%30==0:\n",
    "        if idx2!=0:\n",
    "            txtToWrite.write('\\n')\n",
    "            txtToWrite.write('\\n')\n",
    "        txtToWrite.write('SECTION \"Pics '+str(int(idx2/30)+3)+'\", ROMX\\n')\n",
    "        txtToWrite.write('\\n')\n",
    "    pkmn = listMonsHere[idx2]\n",
    "    txtToWrite.write(pkmn+'PicFront::'+printNCharacters(22-len(pkmn+'PicFront::'))+'INCBIN \"gfx/pokemon/front/'+listMonsHere_allsmall[idx2]+'.pic\"\\n')\n",
    "    txtToWrite.write(pkmn+'PicBack::'+printNCharacters(22-len(pkmn+'PicBack::'))+'INCBIN \"gfx/pokemon/back/'+listMonsHere_allsmall[idx2]+'b.pic\"\\n')\n",
    "        \n",
    "txtToWrite.write('\\n')\n",
    "txtToWrite.write('FossilKabutopsPic::   INCBIN \"gfx/pokemon/front/fossilkabutops.pic\"\\n')\n",
    "txtToWrite.write('FossilAerodactylPic::  INCBIN \"gfx/pokemon/front/fossilaerodactyl.pic\"\\n')\n",
    "txtToWrite.write('GhostPic::             INCBIN \"gfx/battle/ghost.pic\"\\n')\n",
    "\n",
    "txtToWrite.close()    "
   ]
  },
  {
   "cell_type": "code",
   "execution_count": 336,
   "metadata": {},
   "outputs": [],
   "source": [
    "if False:\n",
    "    txtToWrite = open(outputFile, \"w\")\n",
    "\n",
    "    listMonsHere = getOneColumn('Name_PartlyCapital')\n",
    "    listMonsHere_allsmall = getOneColumn('Name_allsmall')\n",
    "    for idx in range(len(listMonsHere)):\n",
    "        if idx%30==0:\n",
    "            if idx!=0:\n",
    "                txtToWrite.write('\\n')\n",
    "                txtToWrite.write('\\n')\n",
    "            txtToWrite.write('SECTION \"Pics '+str(int(idx/30)+1)+'\", ROMX\\n')\n",
    "            txtToWrite.write('\\n')\n",
    "        pkmn = listMonsHere[idx]\n",
    "        txtToWrite.write(pkmn+'PicFront::'+printNCharacters(22-len(pkmn+'PicFront::'))+'INCBIN \"gfx/pokemon/front/'+listMonsHere_allsmall[idx]+'.pic\"\\n')\n",
    "        txtToWrite.write(pkmn+'PicBack::'+printNCharacters(22-len(pkmn+'PicBack::'))+'INCBIN \"gfx/pokemon/back/'+listMonsHere_allsmall[idx]+'b.pic\"\\n')\n",
    "\n",
    "    txtToWrite.write('\\n')\n",
    "    txtToWrite.write('\\n')\n",
    "    txtToWrite.write('SECTION \"Pics '+str(int(idx/30)+2)+'\", ROMX\\n')\n",
    "    txtToWrite.write('\\n')\n",
    "    txtToWrite.write('YoungsterPic::     INCBIN \"gfx/trainers/youngster.pic\"\\n')\n",
    "    txtToWrite.write('BugCatcherPic::    INCBIN \"gfx/trainers/bugcatcher.pic\"\\n')\n",
    "    txtToWrite.write('LassPic::          INCBIN \"gfx/trainers/lass.pic\"\\n')\n",
    "    txtToWrite.write('SailorPic::        INCBIN \"gfx/trainers/sailor.pic\"\\n')\n",
    "    txtToWrite.write('JrTrainerMPic::    INCBIN \"gfx/trainers/jr.trainerm.pic\"\\n')\n",
    "    txtToWrite.write('JrTrainerFPic::    INCBIN \"gfx/trainers/jr.trainerf.pic\"\\n')\n",
    "    txtToWrite.write('PokemaniacPic::    INCBIN \"gfx/trainers/pokemaniac.pic\"\\n')\n",
    "    txtToWrite.write('SuperNerdPic::     INCBIN \"gfx/trainers/supernerd.pic\"\\n')\n",
    "    txtToWrite.write('HikerPic::         INCBIN \"gfx/trainers/hiker.pic\"\\n')\n",
    "    txtToWrite.write('BikerPic::         INCBIN \"gfx/trainers/biker.pic\"\\n')\n",
    "    txtToWrite.write('BurglarPic::       INCBIN \"gfx/trainers/burglar.pic\"\\n')\n",
    "    txtToWrite.write('EngineerPic::      INCBIN \"gfx/trainers/engineer.pic\"\\n')\n",
    "    txtToWrite.write('FisherPic::        INCBIN \"gfx/trainers/fisher.pic\"\\n')\n",
    "    txtToWrite.write('SwimmerPic::       INCBIN \"gfx/trainers/swimmer.pic\"\\n')\n",
    "    txtToWrite.write('CueBallPic::       INCBIN \"gfx/trainers/cueball.pic\"\\n')\n",
    "    txtToWrite.write('GamblerPic::       INCBIN \"gfx/trainers/gambler.pic\"\\n')\n",
    "    txtToWrite.write('BeautyPic::        INCBIN \"gfx/trainers/beauty.pic\"\\n')\n",
    "    txtToWrite.write('PsychicPic::       INCBIN \"gfx/trainers/psychic.pic\"\\n')\n",
    "    txtToWrite.write('RockerPic::        INCBIN \"gfx/trainers/rocker.pic\"\\n')\n",
    "    txtToWrite.write('JugglerPic::       INCBIN \"gfx/trainers/juggler.pic\"\\n')\n",
    "    txtToWrite.write('TamerPic::         INCBIN \"gfx/trainers/tamer.pic\"\\n')\n",
    "    txtToWrite.write('BirdKeeperPic::    INCBIN \"gfx/trainers/birdkeeper.pic\"\\n')\n",
    "    txtToWrite.write('BlackbeltPic::     INCBIN \"gfx/trainers/blackbelt.pic\"\\n')\n",
    "    txtToWrite.write('Rival1Pic::        INCBIN \"gfx/trainers/rival1.pic\"\\n')\n",
    "    txtToWrite.write('ProfOakPic::       INCBIN \"gfx/trainers/prof.oak.pic\"\\n')\n",
    "    txtToWrite.write('ChiefPic::\\n')\n",
    "    txtToWrite.write('ScientistPic::     INCBIN \"gfx/trainers/scientist.pic\"\\n')\n",
    "    txtToWrite.write('GiovanniPic::      INCBIN \"gfx/trainers/giovanni.pic\"\\n')\n",
    "    txtToWrite.write('RocketPic::        INCBIN \"gfx/trainers/rocket.pic\"\\n')\n",
    "    txtToWrite.write('CooltrainerMPic::  INCBIN \"gfx/trainers/cooltrainerm.pic\"\\n')\n",
    "    txtToWrite.write('CooltrainerFPic::  INCBIN \"gfx/trainers/cooltrainerf.pic\"\\n')\n",
    "    txtToWrite.write('BrunoPic::         INCBIN \"gfx/trainers/bruno.pic\"\\n')\n",
    "    txtToWrite.write('BrockPic::         INCBIN \"gfx/trainers/brock.pic\"\\n')\n",
    "    txtToWrite.write('MistyPic::         INCBIN \"gfx/trainers/misty.pic\"\\n')\n",
    "    txtToWrite.write('LtSurgePic::       INCBIN \"gfx/trainers/lt.surge.pic\"\\n')\n",
    "    txtToWrite.write('ErikaPic::         INCBIN \"gfx/trainers/erika.pic\"\\n')\n",
    "    txtToWrite.write('KogaPic::          INCBIN \"gfx/trainers/koga.pic\"\\n')\n",
    "    txtToWrite.write('BlainePic::        INCBIN \"gfx/trainers/blaine.pic\"\\n')\n",
    "    txtToWrite.write('SabrinaPic::       INCBIN \"gfx/trainers/sabrina.pic\"\\n')\n",
    "    txtToWrite.write('GentlemanPic::     INCBIN \"gfx/trainers/gentleman.pic\"\\n')\n",
    "    txtToWrite.write('Rival2Pic::        INCBIN \"gfx/trainers/rival2.pic\"\\n')\n",
    "    txtToWrite.write('Rival3Pic::        INCBIN \"gfx/trainers/rival3.pic\"\\n')\n",
    "    txtToWrite.write('LoreleiPic::       INCBIN \"gfx/trainers/lorelei.pic\"\\n')\n",
    "    txtToWrite.write('ChannelerPic::     INCBIN \"gfx/trainers/channeler.pic\"\\n')\n",
    "    txtToWrite.write('AgathaPic::        INCBIN \"gfx/trainers/agatha.pic\"\\n')\n",
    "    txtToWrite.write('LancePic::         INCBIN \"gfx/trainers/lance.pic\"\\n')\n",
    "    txtToWrite.write('JessieJamesPic::   INCBIN \"gfx/trainers/jessiejames.pic\"\\n')\n",
    "    txtToWrite.write('\\n')\n",
    "    txtToWrite.write('\\n')\n",
    "    txtToWrite.write('SECTION \"Pics '+str(int(idx/30)+3)+'\", ROMX\\n')\n",
    "    txtToWrite.write('\\n')\n",
    "    txtToWrite.write('RedPicBack::       INCBIN \"gfx/player/redb.pic\"\\n')\n",
    "    txtToWrite.write('OldManPicBack::    INCBIN \"gfx/battle/oldmanb.pic\"\\n')\n",
    "    txtToWrite.write('ProfOakPicBack::   INCBIN \"gfx/battle/prof.oakb.pic\"\\n')\n",
    "    txtToWrite.write('\\n')\n",
    "    txtToWrite.write('\\n')\n",
    "    txtToWrite.write('SECTION \"Pics '+str(int(idx/30)+4)+'\", ROMX\\n')\n",
    "    txtToWrite.write('\\n')\n",
    "    txtToWrite.write('FossilKabutopsPic::   INCBIN \"gfx/pokemon/front/fossilkabutops.pic\"\\n')\n",
    "    txtToWrite.write('FossilAerodactylPic::  INCBIN \"gfx/pokemon/front/fossilaerodactyl.pic\"\\n')\n",
    "    txtToWrite.write('GhostPic::             INCBIN \"gfx/battle/ghost.pic\"\\n')\n",
    "\n",
    "    txtToWrite.close()    "
   ]
  },
  {
   "cell_type": "code",
   "execution_count": 337,
   "metadata": {
    "scrolled": true
   },
   "outputs": [
    {
     "name": "stderr",
     "output_type": "stream",
     "text": [
      "mkdir: preExcel: File exists\n"
     ]
    }
   ],
   "source": [
    "tidyOldAndFromExcelFiles(inputFile, debug=False)"
   ]
  },
  {
   "cell_type": "code",
   "execution_count": null,
   "metadata": {},
   "outputs": [],
   "source": []
  },
  {
   "cell_type": "code",
   "execution_count": null,
   "metadata": {},
   "outputs": [],
   "source": []
  },
  {
   "cell_type": "code",
   "execution_count": null,
   "metadata": {},
   "outputs": [],
   "source": []
  },
  {
   "cell_type": "markdown",
   "metadata": {},
   "source": [
    "# Proxy images just to test"
   ]
  },
  {
   "cell_type": "code",
   "execution_count": 340,
   "metadata": {},
   "outputs": [],
   "source": [
    "pkmnWithProxyPics_list = ['mvenusaur', 'mcharzardx', 'mcharzardy', 'mblastoise', 'mbeedrill', 'mpidgeot', 'pichu', 'cleffa', \\\n",
    "                          'igglybuff', 'crobat', 'bellossom', 'annihilape', 'politoed', 'malakazam', 'mslowbro', 'slowking', \\\n",
    "                          'magnezone', 'mgengar', 'steelix', 'msteelix', 'tyrogue', 'hitmontop', 'lickilicky', 'rhyperior', \\\n",
    "                          'happiny', 'blissey', 'tangrowth', 'mkangaskan', 'kingdra', 'mimejr', 'scizor', 'mscizor', 'kleavor', \\\n",
    "                          'smoochum', 'elekid', 'electivire', 'magby', 'magmortar', 'mpinsir', 'mgyarados', 'espeon', 'umbreon', \\\n",
    "                          'leafeon', 'glaceon', 'sylveon', 'porygon2', 'porygonz', 'maerodatyl', 'munchlax', 'mmewtwox', 'mmewtwoy', \\\n",
    "                          'venustoise']\n"
   ]
  },
  {
   "cell_type": "code",
   "execution_count": 341,
   "metadata": {
    "collapsed": true
   },
   "outputs": [
    {
     "name": "stdout",
     "output_type": "stream",
     "text": [
      "mvenusaur\n",
      "cp /Users/Michael/Desktop/Core/Giochi/Pokémon/DisassemblyYellow/pokeyellow_Venustoise/gfx/pokemon/back/venustoiseb.png /Users/Michael/Desktop/Core/Giochi/Pokémon/DisassemblyYellow/ExtremeYellow/gfx/pokemon/back/mvenusaurb.png\n",
      "cp /Users/Michael/Desktop/Core/Giochi/Pokémon/DisassemblyYellow/pokeyellow_Venustoise/gfx/pokemon/front/venustoise.png /Users/Michael/Desktop/Core/Giochi/Pokémon/DisassemblyYellow/ExtremeYellow/gfx/pokemon/front/mvenusaur.png\n",
      "---\n",
      "mcharzardx\n",
      "cp /Users/Michael/Desktop/Core/Giochi/Pokémon/DisassemblyYellow/pokeyellow_Venustoise/gfx/pokemon/back/venustoiseb.png /Users/Michael/Desktop/Core/Giochi/Pokémon/DisassemblyYellow/ExtremeYellow/gfx/pokemon/back/mcharzardxb.png\n",
      "cp /Users/Michael/Desktop/Core/Giochi/Pokémon/DisassemblyYellow/pokeyellow_Venustoise/gfx/pokemon/front/venustoise.png /Users/Michael/Desktop/Core/Giochi/Pokémon/DisassemblyYellow/ExtremeYellow/gfx/pokemon/front/mcharzardx.png\n",
      "---\n",
      "mcharzardy\n",
      "cp /Users/Michael/Desktop/Core/Giochi/Pokémon/DisassemblyYellow/pokeyellow_Venustoise/gfx/pokemon/back/venustoiseb.png /Users/Michael/Desktop/Core/Giochi/Pokémon/DisassemblyYellow/ExtremeYellow/gfx/pokemon/back/mcharzardyb.png\n",
      "cp /Users/Michael/Desktop/Core/Giochi/Pokémon/DisassemblyYellow/pokeyellow_Venustoise/gfx/pokemon/front/venustoise.png /Users/Michael/Desktop/Core/Giochi/Pokémon/DisassemblyYellow/ExtremeYellow/gfx/pokemon/front/mcharzardy.png\n",
      "---\n",
      "mblastoise\n",
      "cp /Users/Michael/Desktop/Core/Giochi/Pokémon/DisassemblyYellow/pokeyellow_Venustoise/gfx/pokemon/back/venustoiseb.png /Users/Michael/Desktop/Core/Giochi/Pokémon/DisassemblyYellow/ExtremeYellow/gfx/pokemon/back/mblastoiseb.png\n",
      "cp /Users/Michael/Desktop/Core/Giochi/Pokémon/DisassemblyYellow/pokeyellow_Venustoise/gfx/pokemon/front/venustoise.png /Users/Michael/Desktop/Core/Giochi/Pokémon/DisassemblyYellow/ExtremeYellow/gfx/pokemon/front/mblastoise.png\n",
      "---\n",
      "mbeedrill\n",
      "cp /Users/Michael/Desktop/Core/Giochi/Pokémon/DisassemblyYellow/pokeyellow_Venustoise/gfx/pokemon/back/venustoiseb.png /Users/Michael/Desktop/Core/Giochi/Pokémon/DisassemblyYellow/ExtremeYellow/gfx/pokemon/back/mbeedrillb.png\n",
      "cp /Users/Michael/Desktop/Core/Giochi/Pokémon/DisassemblyYellow/pokeyellow_Venustoise/gfx/pokemon/front/venustoise.png /Users/Michael/Desktop/Core/Giochi/Pokémon/DisassemblyYellow/ExtremeYellow/gfx/pokemon/front/mbeedrill.png\n",
      "---\n",
      "mpidgeot\n",
      "cp /Users/Michael/Desktop/Core/Giochi/Pokémon/DisassemblyYellow/pokeyellow_Venustoise/gfx/pokemon/back/venustoiseb.png /Users/Michael/Desktop/Core/Giochi/Pokémon/DisassemblyYellow/ExtremeYellow/gfx/pokemon/back/mpidgeotb.png\n",
      "cp /Users/Michael/Desktop/Core/Giochi/Pokémon/DisassemblyYellow/pokeyellow_Venustoise/gfx/pokemon/front/venustoise.png /Users/Michael/Desktop/Core/Giochi/Pokémon/DisassemblyYellow/ExtremeYellow/gfx/pokemon/front/mpidgeot.png\n",
      "---\n",
      "pichu\n",
      "cp /Users/Michael/Desktop/Core/Giochi/Pokémon/DisassemblyYellow/pokeyellow_Venustoise/gfx/pokemon/back/venustoiseb.png /Users/Michael/Desktop/Core/Giochi/Pokémon/DisassemblyYellow/ExtremeYellow/gfx/pokemon/back/pichub.png\n",
      "cp /Users/Michael/Desktop/Core/Giochi/Pokémon/DisassemblyYellow/pokeyellow_Venustoise/gfx/pokemon/front/venustoise.png /Users/Michael/Desktop/Core/Giochi/Pokémon/DisassemblyYellow/ExtremeYellow/gfx/pokemon/front/pichu.png\n",
      "---\n",
      "cleffa\n",
      "cp /Users/Michael/Desktop/Core/Giochi/Pokémon/DisassemblyYellow/pokeyellow_Venustoise/gfx/pokemon/back/venustoiseb.png /Users/Michael/Desktop/Core/Giochi/Pokémon/DisassemblyYellow/ExtremeYellow/gfx/pokemon/back/cleffab.png\n",
      "cp /Users/Michael/Desktop/Core/Giochi/Pokémon/DisassemblyYellow/pokeyellow_Venustoise/gfx/pokemon/front/venustoise.png /Users/Michael/Desktop/Core/Giochi/Pokémon/DisassemblyYellow/ExtremeYellow/gfx/pokemon/front/cleffa.png\n",
      "---\n",
      "igglybuff\n",
      "cp /Users/Michael/Desktop/Core/Giochi/Pokémon/DisassemblyYellow/pokeyellow_Venustoise/gfx/pokemon/back/venustoiseb.png /Users/Michael/Desktop/Core/Giochi/Pokémon/DisassemblyYellow/ExtremeYellow/gfx/pokemon/back/igglybuffb.png\n",
      "cp /Users/Michael/Desktop/Core/Giochi/Pokémon/DisassemblyYellow/pokeyellow_Venustoise/gfx/pokemon/front/venustoise.png /Users/Michael/Desktop/Core/Giochi/Pokémon/DisassemblyYellow/ExtremeYellow/gfx/pokemon/front/igglybuff.png\n",
      "---\n",
      "crobat\n",
      "cp /Users/Michael/Desktop/Core/Giochi/Pokémon/DisassemblyYellow/pokeyellow_Venustoise/gfx/pokemon/back/venustoiseb.png /Users/Michael/Desktop/Core/Giochi/Pokémon/DisassemblyYellow/ExtremeYellow/gfx/pokemon/back/crobatb.png\n",
      "cp /Users/Michael/Desktop/Core/Giochi/Pokémon/DisassemblyYellow/pokeyellow_Venustoise/gfx/pokemon/front/venustoise.png /Users/Michael/Desktop/Core/Giochi/Pokémon/DisassemblyYellow/ExtremeYellow/gfx/pokemon/front/crobat.png\n",
      "---\n",
      "bellossom\n",
      "cp /Users/Michael/Desktop/Core/Giochi/Pokémon/DisassemblyYellow/pokeyellow_Venustoise/gfx/pokemon/back/venustoiseb.png /Users/Michael/Desktop/Core/Giochi/Pokémon/DisassemblyYellow/ExtremeYellow/gfx/pokemon/back/bellossomb.png\n",
      "cp /Users/Michael/Desktop/Core/Giochi/Pokémon/DisassemblyYellow/pokeyellow_Venustoise/gfx/pokemon/front/venustoise.png /Users/Michael/Desktop/Core/Giochi/Pokémon/DisassemblyYellow/ExtremeYellow/gfx/pokemon/front/bellossom.png\n",
      "---\n",
      "annihilape\n",
      "cp /Users/Michael/Desktop/Core/Giochi/Pokémon/DisassemblyYellow/pokeyellow_Venustoise/gfx/pokemon/back/venustoiseb.png /Users/Michael/Desktop/Core/Giochi/Pokémon/DisassemblyYellow/ExtremeYellow/gfx/pokemon/back/annihilapeb.png\n",
      "cp /Users/Michael/Desktop/Core/Giochi/Pokémon/DisassemblyYellow/pokeyellow_Venustoise/gfx/pokemon/front/venustoise.png /Users/Michael/Desktop/Core/Giochi/Pokémon/DisassemblyYellow/ExtremeYellow/gfx/pokemon/front/annihilape.png\n",
      "---\n",
      "politoed\n",
      "cp /Users/Michael/Desktop/Core/Giochi/Pokémon/DisassemblyYellow/pokeyellow_Venustoise/gfx/pokemon/back/venustoiseb.png /Users/Michael/Desktop/Core/Giochi/Pokémon/DisassemblyYellow/ExtremeYellow/gfx/pokemon/back/politoedb.png\n",
      "cp /Users/Michael/Desktop/Core/Giochi/Pokémon/DisassemblyYellow/pokeyellow_Venustoise/gfx/pokemon/front/venustoise.png /Users/Michael/Desktop/Core/Giochi/Pokémon/DisassemblyYellow/ExtremeYellow/gfx/pokemon/front/politoed.png\n",
      "---\n",
      "malakazam\n",
      "cp /Users/Michael/Desktop/Core/Giochi/Pokémon/DisassemblyYellow/pokeyellow_Venustoise/gfx/pokemon/back/venustoiseb.png /Users/Michael/Desktop/Core/Giochi/Pokémon/DisassemblyYellow/ExtremeYellow/gfx/pokemon/back/malakazamb.png\n",
      "cp /Users/Michael/Desktop/Core/Giochi/Pokémon/DisassemblyYellow/pokeyellow_Venustoise/gfx/pokemon/front/venustoise.png /Users/Michael/Desktop/Core/Giochi/Pokémon/DisassemblyYellow/ExtremeYellow/gfx/pokemon/front/malakazam.png\n",
      "---\n",
      "mslowbro\n",
      "cp /Users/Michael/Desktop/Core/Giochi/Pokémon/DisassemblyYellow/pokeyellow_Venustoise/gfx/pokemon/back/venustoiseb.png /Users/Michael/Desktop/Core/Giochi/Pokémon/DisassemblyYellow/ExtremeYellow/gfx/pokemon/back/mslowbrob.png\n",
      "cp /Users/Michael/Desktop/Core/Giochi/Pokémon/DisassemblyYellow/pokeyellow_Venustoise/gfx/pokemon/front/venustoise.png /Users/Michael/Desktop/Core/Giochi/Pokémon/DisassemblyYellow/ExtremeYellow/gfx/pokemon/front/mslowbro.png\n",
      "---\n",
      "slowking\n",
      "cp /Users/Michael/Desktop/Core/Giochi/Pokémon/DisassemblyYellow/pokeyellow_Venustoise/gfx/pokemon/back/venustoiseb.png /Users/Michael/Desktop/Core/Giochi/Pokémon/DisassemblyYellow/ExtremeYellow/gfx/pokemon/back/slowkingb.png\n",
      "cp /Users/Michael/Desktop/Core/Giochi/Pokémon/DisassemblyYellow/pokeyellow_Venustoise/gfx/pokemon/front/venustoise.png /Users/Michael/Desktop/Core/Giochi/Pokémon/DisassemblyYellow/ExtremeYellow/gfx/pokemon/front/slowking.png\n",
      "---\n",
      "magnezone\n",
      "cp /Users/Michael/Desktop/Core/Giochi/Pokémon/DisassemblyYellow/pokeyellow_Venustoise/gfx/pokemon/back/venustoiseb.png /Users/Michael/Desktop/Core/Giochi/Pokémon/DisassemblyYellow/ExtremeYellow/gfx/pokemon/back/magnezoneb.png\n",
      "cp /Users/Michael/Desktop/Core/Giochi/Pokémon/DisassemblyYellow/pokeyellow_Venustoise/gfx/pokemon/front/venustoise.png /Users/Michael/Desktop/Core/Giochi/Pokémon/DisassemblyYellow/ExtremeYellow/gfx/pokemon/front/magnezone.png\n",
      "---\n",
      "mgengar\n",
      "cp /Users/Michael/Desktop/Core/Giochi/Pokémon/DisassemblyYellow/pokeyellow_Venustoise/gfx/pokemon/back/venustoiseb.png /Users/Michael/Desktop/Core/Giochi/Pokémon/DisassemblyYellow/ExtremeYellow/gfx/pokemon/back/mgengarb.png\n",
      "cp /Users/Michael/Desktop/Core/Giochi/Pokémon/DisassemblyYellow/pokeyellow_Venustoise/gfx/pokemon/front/venustoise.png /Users/Michael/Desktop/Core/Giochi/Pokémon/DisassemblyYellow/ExtremeYellow/gfx/pokemon/front/mgengar.png\n",
      "---\n",
      "steelix\n",
      "cp /Users/Michael/Desktop/Core/Giochi/Pokémon/DisassemblyYellow/pokeyellow_Venustoise/gfx/pokemon/back/venustoiseb.png /Users/Michael/Desktop/Core/Giochi/Pokémon/DisassemblyYellow/ExtremeYellow/gfx/pokemon/back/steelixb.png\n",
      "cp /Users/Michael/Desktop/Core/Giochi/Pokémon/DisassemblyYellow/pokeyellow_Venustoise/gfx/pokemon/front/venustoise.png /Users/Michael/Desktop/Core/Giochi/Pokémon/DisassemblyYellow/ExtremeYellow/gfx/pokemon/front/steelix.png\n",
      "---\n",
      "msteelix\n",
      "cp /Users/Michael/Desktop/Core/Giochi/Pokémon/DisassemblyYellow/pokeyellow_Venustoise/gfx/pokemon/back/venustoiseb.png /Users/Michael/Desktop/Core/Giochi/Pokémon/DisassemblyYellow/ExtremeYellow/gfx/pokemon/back/msteelixb.png\n",
      "cp /Users/Michael/Desktop/Core/Giochi/Pokémon/DisassemblyYellow/pokeyellow_Venustoise/gfx/pokemon/front/venustoise.png /Users/Michael/Desktop/Core/Giochi/Pokémon/DisassemblyYellow/ExtremeYellow/gfx/pokemon/front/msteelix.png\n",
      "---\n",
      "tyrogue\n",
      "cp /Users/Michael/Desktop/Core/Giochi/Pokémon/DisassemblyYellow/pokeyellow_Venustoise/gfx/pokemon/back/venustoiseb.png /Users/Michael/Desktop/Core/Giochi/Pokémon/DisassemblyYellow/ExtremeYellow/gfx/pokemon/back/tyrogueb.png\n",
      "cp /Users/Michael/Desktop/Core/Giochi/Pokémon/DisassemblyYellow/pokeyellow_Venustoise/gfx/pokemon/front/venustoise.png /Users/Michael/Desktop/Core/Giochi/Pokémon/DisassemblyYellow/ExtremeYellow/gfx/pokemon/front/tyrogue.png\n",
      "---\n",
      "hitmontop\n",
      "cp /Users/Michael/Desktop/Core/Giochi/Pokémon/DisassemblyYellow/pokeyellow_Venustoise/gfx/pokemon/back/venustoiseb.png /Users/Michael/Desktop/Core/Giochi/Pokémon/DisassemblyYellow/ExtremeYellow/gfx/pokemon/back/hitmontopb.png\n",
      "cp /Users/Michael/Desktop/Core/Giochi/Pokémon/DisassemblyYellow/pokeyellow_Venustoise/gfx/pokemon/front/venustoise.png /Users/Michael/Desktop/Core/Giochi/Pokémon/DisassemblyYellow/ExtremeYellow/gfx/pokemon/front/hitmontop.png\n",
      "---\n",
      "lickilicky\n",
      "cp /Users/Michael/Desktop/Core/Giochi/Pokémon/DisassemblyYellow/pokeyellow_Venustoise/gfx/pokemon/back/venustoiseb.png /Users/Michael/Desktop/Core/Giochi/Pokémon/DisassemblyYellow/ExtremeYellow/gfx/pokemon/back/lickilickyb.png\n",
      "cp /Users/Michael/Desktop/Core/Giochi/Pokémon/DisassemblyYellow/pokeyellow_Venustoise/gfx/pokemon/front/venustoise.png /Users/Michael/Desktop/Core/Giochi/Pokémon/DisassemblyYellow/ExtremeYellow/gfx/pokemon/front/lickilicky.png\n",
      "---\n",
      "rhyperior\n",
      "cp /Users/Michael/Desktop/Core/Giochi/Pokémon/DisassemblyYellow/pokeyellow_Venustoise/gfx/pokemon/back/venustoiseb.png /Users/Michael/Desktop/Core/Giochi/Pokémon/DisassemblyYellow/ExtremeYellow/gfx/pokemon/back/rhyperiorb.png\n",
      "cp /Users/Michael/Desktop/Core/Giochi/Pokémon/DisassemblyYellow/pokeyellow_Venustoise/gfx/pokemon/front/venustoise.png /Users/Michael/Desktop/Core/Giochi/Pokémon/DisassemblyYellow/ExtremeYellow/gfx/pokemon/front/rhyperior.png\n",
      "---\n",
      "happiny\n",
      "cp /Users/Michael/Desktop/Core/Giochi/Pokémon/DisassemblyYellow/pokeyellow_Venustoise/gfx/pokemon/back/venustoiseb.png /Users/Michael/Desktop/Core/Giochi/Pokémon/DisassemblyYellow/ExtremeYellow/gfx/pokemon/back/happinyb.png\n",
      "cp /Users/Michael/Desktop/Core/Giochi/Pokémon/DisassemblyYellow/pokeyellow_Venustoise/gfx/pokemon/front/venustoise.png /Users/Michael/Desktop/Core/Giochi/Pokémon/DisassemblyYellow/ExtremeYellow/gfx/pokemon/front/happiny.png\n"
     ]
    },
    {
     "name": "stdout",
     "output_type": "stream",
     "text": [
      "---\n",
      "blissey\n",
      "cp /Users/Michael/Desktop/Core/Giochi/Pokémon/DisassemblyYellow/pokeyellow_Venustoise/gfx/pokemon/back/venustoiseb.png /Users/Michael/Desktop/Core/Giochi/Pokémon/DisassemblyYellow/ExtremeYellow/gfx/pokemon/back/blisseyb.png\n",
      "cp /Users/Michael/Desktop/Core/Giochi/Pokémon/DisassemblyYellow/pokeyellow_Venustoise/gfx/pokemon/front/venustoise.png /Users/Michael/Desktop/Core/Giochi/Pokémon/DisassemblyYellow/ExtremeYellow/gfx/pokemon/front/blissey.png\n",
      "---\n",
      "tangrowth\n",
      "cp /Users/Michael/Desktop/Core/Giochi/Pokémon/DisassemblyYellow/pokeyellow_Venustoise/gfx/pokemon/back/venustoiseb.png /Users/Michael/Desktop/Core/Giochi/Pokémon/DisassemblyYellow/ExtremeYellow/gfx/pokemon/back/tangrowthb.png\n",
      "cp /Users/Michael/Desktop/Core/Giochi/Pokémon/DisassemblyYellow/pokeyellow_Venustoise/gfx/pokemon/front/venustoise.png /Users/Michael/Desktop/Core/Giochi/Pokémon/DisassemblyYellow/ExtremeYellow/gfx/pokemon/front/tangrowth.png\n",
      "---\n",
      "mkangaskan\n",
      "cp /Users/Michael/Desktop/Core/Giochi/Pokémon/DisassemblyYellow/pokeyellow_Venustoise/gfx/pokemon/back/venustoiseb.png /Users/Michael/Desktop/Core/Giochi/Pokémon/DisassemblyYellow/ExtremeYellow/gfx/pokemon/back/mkangaskanb.png\n",
      "cp /Users/Michael/Desktop/Core/Giochi/Pokémon/DisassemblyYellow/pokeyellow_Venustoise/gfx/pokemon/front/venustoise.png /Users/Michael/Desktop/Core/Giochi/Pokémon/DisassemblyYellow/ExtremeYellow/gfx/pokemon/front/mkangaskan.png\n",
      "---\n",
      "kingdra\n",
      "cp /Users/Michael/Desktop/Core/Giochi/Pokémon/DisassemblyYellow/pokeyellow_Venustoise/gfx/pokemon/back/venustoiseb.png /Users/Michael/Desktop/Core/Giochi/Pokémon/DisassemblyYellow/ExtremeYellow/gfx/pokemon/back/kingdrab.png\n",
      "cp /Users/Michael/Desktop/Core/Giochi/Pokémon/DisassemblyYellow/pokeyellow_Venustoise/gfx/pokemon/front/venustoise.png /Users/Michael/Desktop/Core/Giochi/Pokémon/DisassemblyYellow/ExtremeYellow/gfx/pokemon/front/kingdra.png\n",
      "---\n",
      "mimejr\n",
      "cp /Users/Michael/Desktop/Core/Giochi/Pokémon/DisassemblyYellow/pokeyellow_Venustoise/gfx/pokemon/back/venustoiseb.png /Users/Michael/Desktop/Core/Giochi/Pokémon/DisassemblyYellow/ExtremeYellow/gfx/pokemon/back/mimejrb.png\n",
      "cp /Users/Michael/Desktop/Core/Giochi/Pokémon/DisassemblyYellow/pokeyellow_Venustoise/gfx/pokemon/front/venustoise.png /Users/Michael/Desktop/Core/Giochi/Pokémon/DisassemblyYellow/ExtremeYellow/gfx/pokemon/front/mimejr.png\n",
      "---\n",
      "scizor\n",
      "cp /Users/Michael/Desktop/Core/Giochi/Pokémon/DisassemblyYellow/pokeyellow_Venustoise/gfx/pokemon/back/venustoiseb.png /Users/Michael/Desktop/Core/Giochi/Pokémon/DisassemblyYellow/ExtremeYellow/gfx/pokemon/back/scizorb.png\n",
      "cp /Users/Michael/Desktop/Core/Giochi/Pokémon/DisassemblyYellow/pokeyellow_Venustoise/gfx/pokemon/front/venustoise.png /Users/Michael/Desktop/Core/Giochi/Pokémon/DisassemblyYellow/ExtremeYellow/gfx/pokemon/front/scizor.png\n",
      "---\n",
      "mscizor\n",
      "cp /Users/Michael/Desktop/Core/Giochi/Pokémon/DisassemblyYellow/pokeyellow_Venustoise/gfx/pokemon/back/venustoiseb.png /Users/Michael/Desktop/Core/Giochi/Pokémon/DisassemblyYellow/ExtremeYellow/gfx/pokemon/back/mscizorb.png\n",
      "cp /Users/Michael/Desktop/Core/Giochi/Pokémon/DisassemblyYellow/pokeyellow_Venustoise/gfx/pokemon/front/venustoise.png /Users/Michael/Desktop/Core/Giochi/Pokémon/DisassemblyYellow/ExtremeYellow/gfx/pokemon/front/mscizor.png\n",
      "---\n",
      "kleavor\n",
      "cp /Users/Michael/Desktop/Core/Giochi/Pokémon/DisassemblyYellow/pokeyellow_Venustoise/gfx/pokemon/back/venustoiseb.png /Users/Michael/Desktop/Core/Giochi/Pokémon/DisassemblyYellow/ExtremeYellow/gfx/pokemon/back/kleavorb.png\n",
      "cp /Users/Michael/Desktop/Core/Giochi/Pokémon/DisassemblyYellow/pokeyellow_Venustoise/gfx/pokemon/front/venustoise.png /Users/Michael/Desktop/Core/Giochi/Pokémon/DisassemblyYellow/ExtremeYellow/gfx/pokemon/front/kleavor.png\n",
      "---\n",
      "smoochum\n",
      "cp /Users/Michael/Desktop/Core/Giochi/Pokémon/DisassemblyYellow/pokeyellow_Venustoise/gfx/pokemon/back/venustoiseb.png /Users/Michael/Desktop/Core/Giochi/Pokémon/DisassemblyYellow/ExtremeYellow/gfx/pokemon/back/smoochumb.png\n",
      "cp /Users/Michael/Desktop/Core/Giochi/Pokémon/DisassemblyYellow/pokeyellow_Venustoise/gfx/pokemon/front/venustoise.png /Users/Michael/Desktop/Core/Giochi/Pokémon/DisassemblyYellow/ExtremeYellow/gfx/pokemon/front/smoochum.png\n",
      "---\n",
      "elekid\n",
      "cp /Users/Michael/Desktop/Core/Giochi/Pokémon/DisassemblyYellow/pokeyellow_Venustoise/gfx/pokemon/back/venustoiseb.png /Users/Michael/Desktop/Core/Giochi/Pokémon/DisassemblyYellow/ExtremeYellow/gfx/pokemon/back/elekidb.png\n",
      "cp /Users/Michael/Desktop/Core/Giochi/Pokémon/DisassemblyYellow/pokeyellow_Venustoise/gfx/pokemon/front/venustoise.png /Users/Michael/Desktop/Core/Giochi/Pokémon/DisassemblyYellow/ExtremeYellow/gfx/pokemon/front/elekid.png\n",
      "---\n",
      "electivire\n",
      "cp /Users/Michael/Desktop/Core/Giochi/Pokémon/DisassemblyYellow/pokeyellow_Venustoise/gfx/pokemon/back/venustoiseb.png /Users/Michael/Desktop/Core/Giochi/Pokémon/DisassemblyYellow/ExtremeYellow/gfx/pokemon/back/electivireb.png\n",
      "cp /Users/Michael/Desktop/Core/Giochi/Pokémon/DisassemblyYellow/pokeyellow_Venustoise/gfx/pokemon/front/venustoise.png /Users/Michael/Desktop/Core/Giochi/Pokémon/DisassemblyYellow/ExtremeYellow/gfx/pokemon/front/electivire.png\n",
      "---\n",
      "magby\n",
      "cp /Users/Michael/Desktop/Core/Giochi/Pokémon/DisassemblyYellow/pokeyellow_Venustoise/gfx/pokemon/back/venustoiseb.png /Users/Michael/Desktop/Core/Giochi/Pokémon/DisassemblyYellow/ExtremeYellow/gfx/pokemon/back/magbyb.png\n",
      "cp /Users/Michael/Desktop/Core/Giochi/Pokémon/DisassemblyYellow/pokeyellow_Venustoise/gfx/pokemon/front/venustoise.png /Users/Michael/Desktop/Core/Giochi/Pokémon/DisassemblyYellow/ExtremeYellow/gfx/pokemon/front/magby.png\n",
      "---\n",
      "magmortar\n",
      "cp /Users/Michael/Desktop/Core/Giochi/Pokémon/DisassemblyYellow/pokeyellow_Venustoise/gfx/pokemon/back/venustoiseb.png /Users/Michael/Desktop/Core/Giochi/Pokémon/DisassemblyYellow/ExtremeYellow/gfx/pokemon/back/magmortarb.png\n",
      "cp /Users/Michael/Desktop/Core/Giochi/Pokémon/DisassemblyYellow/pokeyellow_Venustoise/gfx/pokemon/front/venustoise.png /Users/Michael/Desktop/Core/Giochi/Pokémon/DisassemblyYellow/ExtremeYellow/gfx/pokemon/front/magmortar.png\n",
      "---\n",
      "mpinsir\n",
      "cp /Users/Michael/Desktop/Core/Giochi/Pokémon/DisassemblyYellow/pokeyellow_Venustoise/gfx/pokemon/back/venustoiseb.png /Users/Michael/Desktop/Core/Giochi/Pokémon/DisassemblyYellow/ExtremeYellow/gfx/pokemon/back/mpinsirb.png\n",
      "cp /Users/Michael/Desktop/Core/Giochi/Pokémon/DisassemblyYellow/pokeyellow_Venustoise/gfx/pokemon/front/venustoise.png /Users/Michael/Desktop/Core/Giochi/Pokémon/DisassemblyYellow/ExtremeYellow/gfx/pokemon/front/mpinsir.png\n",
      "---\n",
      "mgyarados\n",
      "cp /Users/Michael/Desktop/Core/Giochi/Pokémon/DisassemblyYellow/pokeyellow_Venustoise/gfx/pokemon/back/venustoiseb.png /Users/Michael/Desktop/Core/Giochi/Pokémon/DisassemblyYellow/ExtremeYellow/gfx/pokemon/back/mgyaradosb.png\n",
      "cp /Users/Michael/Desktop/Core/Giochi/Pokémon/DisassemblyYellow/pokeyellow_Venustoise/gfx/pokemon/front/venustoise.png /Users/Michael/Desktop/Core/Giochi/Pokémon/DisassemblyYellow/ExtremeYellow/gfx/pokemon/front/mgyarados.png\n",
      "---\n",
      "espeon\n",
      "cp /Users/Michael/Desktop/Core/Giochi/Pokémon/DisassemblyYellow/pokeyellow_Venustoise/gfx/pokemon/back/venustoiseb.png /Users/Michael/Desktop/Core/Giochi/Pokémon/DisassemblyYellow/ExtremeYellow/gfx/pokemon/back/espeonb.png\n",
      "cp /Users/Michael/Desktop/Core/Giochi/Pokémon/DisassemblyYellow/pokeyellow_Venustoise/gfx/pokemon/front/venustoise.png /Users/Michael/Desktop/Core/Giochi/Pokémon/DisassemblyYellow/ExtremeYellow/gfx/pokemon/front/espeon.png\n",
      "---\n",
      "umbreon\n",
      "cp /Users/Michael/Desktop/Core/Giochi/Pokémon/DisassemblyYellow/pokeyellow_Venustoise/gfx/pokemon/back/venustoiseb.png /Users/Michael/Desktop/Core/Giochi/Pokémon/DisassemblyYellow/ExtremeYellow/gfx/pokemon/back/umbreonb.png\n",
      "cp /Users/Michael/Desktop/Core/Giochi/Pokémon/DisassemblyYellow/pokeyellow_Venustoise/gfx/pokemon/front/venustoise.png /Users/Michael/Desktop/Core/Giochi/Pokémon/DisassemblyYellow/ExtremeYellow/gfx/pokemon/front/umbreon.png\n",
      "---\n",
      "leafeon\n",
      "cp /Users/Michael/Desktop/Core/Giochi/Pokémon/DisassemblyYellow/pokeyellow_Venustoise/gfx/pokemon/back/venustoiseb.png /Users/Michael/Desktop/Core/Giochi/Pokémon/DisassemblyYellow/ExtremeYellow/gfx/pokemon/back/leafeonb.png\n",
      "cp /Users/Michael/Desktop/Core/Giochi/Pokémon/DisassemblyYellow/pokeyellow_Venustoise/gfx/pokemon/front/venustoise.png /Users/Michael/Desktop/Core/Giochi/Pokémon/DisassemblyYellow/ExtremeYellow/gfx/pokemon/front/leafeon.png\n"
     ]
    },
    {
     "name": "stdout",
     "output_type": "stream",
     "text": [
      "---\n",
      "glaceon\n",
      "cp /Users/Michael/Desktop/Core/Giochi/Pokémon/DisassemblyYellow/pokeyellow_Venustoise/gfx/pokemon/back/venustoiseb.png /Users/Michael/Desktop/Core/Giochi/Pokémon/DisassemblyYellow/ExtremeYellow/gfx/pokemon/back/glaceonb.png\n",
      "cp /Users/Michael/Desktop/Core/Giochi/Pokémon/DisassemblyYellow/pokeyellow_Venustoise/gfx/pokemon/front/venustoise.png /Users/Michael/Desktop/Core/Giochi/Pokémon/DisassemblyYellow/ExtremeYellow/gfx/pokemon/front/glaceon.png\n",
      "---\n",
      "sylveon\n",
      "cp /Users/Michael/Desktop/Core/Giochi/Pokémon/DisassemblyYellow/pokeyellow_Venustoise/gfx/pokemon/back/venustoiseb.png /Users/Michael/Desktop/Core/Giochi/Pokémon/DisassemblyYellow/ExtremeYellow/gfx/pokemon/back/sylveonb.png\n",
      "cp /Users/Michael/Desktop/Core/Giochi/Pokémon/DisassemblyYellow/pokeyellow_Venustoise/gfx/pokemon/front/venustoise.png /Users/Michael/Desktop/Core/Giochi/Pokémon/DisassemblyYellow/ExtremeYellow/gfx/pokemon/front/sylveon.png\n",
      "---\n",
      "porygon2\n",
      "cp /Users/Michael/Desktop/Core/Giochi/Pokémon/DisassemblyYellow/pokeyellow_Venustoise/gfx/pokemon/back/venustoiseb.png /Users/Michael/Desktop/Core/Giochi/Pokémon/DisassemblyYellow/ExtremeYellow/gfx/pokemon/back/porygon2b.png\n",
      "cp /Users/Michael/Desktop/Core/Giochi/Pokémon/DisassemblyYellow/pokeyellow_Venustoise/gfx/pokemon/front/venustoise.png /Users/Michael/Desktop/Core/Giochi/Pokémon/DisassemblyYellow/ExtremeYellow/gfx/pokemon/front/porygon2.png\n",
      "---\n",
      "porygonz\n",
      "cp /Users/Michael/Desktop/Core/Giochi/Pokémon/DisassemblyYellow/pokeyellow_Venustoise/gfx/pokemon/back/venustoiseb.png /Users/Michael/Desktop/Core/Giochi/Pokémon/DisassemblyYellow/ExtremeYellow/gfx/pokemon/back/porygonzb.png\n",
      "cp /Users/Michael/Desktop/Core/Giochi/Pokémon/DisassemblyYellow/pokeyellow_Venustoise/gfx/pokemon/front/venustoise.png /Users/Michael/Desktop/Core/Giochi/Pokémon/DisassemblyYellow/ExtremeYellow/gfx/pokemon/front/porygonz.png\n",
      "---\n",
      "maerodatyl\n",
      "cp /Users/Michael/Desktop/Core/Giochi/Pokémon/DisassemblyYellow/pokeyellow_Venustoise/gfx/pokemon/back/venustoiseb.png /Users/Michael/Desktop/Core/Giochi/Pokémon/DisassemblyYellow/ExtremeYellow/gfx/pokemon/back/maerodatylb.png\n",
      "cp /Users/Michael/Desktop/Core/Giochi/Pokémon/DisassemblyYellow/pokeyellow_Venustoise/gfx/pokemon/front/venustoise.png /Users/Michael/Desktop/Core/Giochi/Pokémon/DisassemblyYellow/ExtremeYellow/gfx/pokemon/front/maerodatyl.png\n",
      "---\n",
      "munchlax\n",
      "cp /Users/Michael/Desktop/Core/Giochi/Pokémon/DisassemblyYellow/pokeyellow_Venustoise/gfx/pokemon/back/venustoiseb.png /Users/Michael/Desktop/Core/Giochi/Pokémon/DisassemblyYellow/ExtremeYellow/gfx/pokemon/back/munchlaxb.png\n",
      "cp /Users/Michael/Desktop/Core/Giochi/Pokémon/DisassemblyYellow/pokeyellow_Venustoise/gfx/pokemon/front/venustoise.png /Users/Michael/Desktop/Core/Giochi/Pokémon/DisassemblyYellow/ExtremeYellow/gfx/pokemon/front/munchlax.png\n",
      "---\n",
      "mmewtwox\n",
      "cp /Users/Michael/Desktop/Core/Giochi/Pokémon/DisassemblyYellow/pokeyellow_Venustoise/gfx/pokemon/back/venustoiseb.png /Users/Michael/Desktop/Core/Giochi/Pokémon/DisassemblyYellow/ExtremeYellow/gfx/pokemon/back/mmewtwoxb.png\n",
      "cp /Users/Michael/Desktop/Core/Giochi/Pokémon/DisassemblyYellow/pokeyellow_Venustoise/gfx/pokemon/front/venustoise.png /Users/Michael/Desktop/Core/Giochi/Pokémon/DisassemblyYellow/ExtremeYellow/gfx/pokemon/front/mmewtwox.png\n",
      "---\n",
      "mmewtwoy\n",
      "cp /Users/Michael/Desktop/Core/Giochi/Pokémon/DisassemblyYellow/pokeyellow_Venustoise/gfx/pokemon/back/venustoiseb.png /Users/Michael/Desktop/Core/Giochi/Pokémon/DisassemblyYellow/ExtremeYellow/gfx/pokemon/back/mmewtwoyb.png\n",
      "cp /Users/Michael/Desktop/Core/Giochi/Pokémon/DisassemblyYellow/pokeyellow_Venustoise/gfx/pokemon/front/venustoise.png /Users/Michael/Desktop/Core/Giochi/Pokémon/DisassemblyYellow/ExtremeYellow/gfx/pokemon/front/mmewtwoy.png\n",
      "---\n",
      "venustoise\n",
      "cp /Users/Michael/Desktop/Core/Giochi/Pokémon/DisassemblyYellow/pokeyellow_Venustoise/gfx/pokemon/back/venustoiseb.png /Users/Michael/Desktop/Core/Giochi/Pokémon/DisassemblyYellow/ExtremeYellow/gfx/pokemon/back/venustoiseb.png\n",
      "cp /Users/Michael/Desktop/Core/Giochi/Pokémon/DisassemblyYellow/pokeyellow_Venustoise/gfx/pokemon/front/venustoise.png /Users/Michael/Desktop/Core/Giochi/Pokémon/DisassemblyYellow/ExtremeYellow/gfx/pokemon/front/venustoise.png\n",
      "---\n"
     ]
    }
   ],
   "source": [
    "for pkmnToProxy in pkmnWithProxyPics_list:\n",
    "    print(pkmnToProxy)\n",
    "    command = f'cp /Users/Michael/Desktop/Core/Giochi/Pokémon/DisassemblyYellow/pokeyellow_Venustoise/gfx/pokemon/back/venustoiseb.png /Users/Michael/Desktop/Core/Giochi/Pokémon/DisassemblyYellow/ExtremeYellow/gfx/pokemon/back/{pkmnToProxy}b.png'\n",
    "    print(command)\n",
    "    os.system(command)\n",
    "    command = f'cp /Users/Michael/Desktop/Core/Giochi/Pokémon/DisassemblyYellow/pokeyellow_Venustoise/gfx/pokemon/front/venustoise.png /Users/Michael/Desktop/Core/Giochi/Pokémon/DisassemblyYellow/ExtremeYellow/gfx/pokemon/front/{pkmnToProxy}.png'\n",
    "    print(command)\n",
    "    os.system(command)\n",
    "    print('---')"
   ]
  },
  {
   "cell_type": "code",
   "execution_count": null,
   "metadata": {},
   "outputs": [],
   "source": []
  },
  {
   "cell_type": "code",
   "execution_count": 15,
   "metadata": {},
   "outputs": [
    {
     "data": {
      "text/plain": [
       "32"
      ]
     },
     "execution_count": 15,
     "metadata": {},
     "output_type": "execute_result"
    }
   ],
   "source": [
    "pkmnWithNewAlreadyDonePics_list = ['pichu', 'cleffa', \\\n",
    "                                   'igglybuff', 'crobat', 'bellossom', 'politoed', 'slowking', \\\n",
    "                                   'magnezone', 'steelix', 'tyrogue', 'hitmontop', 'lickilicky', 'rhyperior', \\\n",
    "                                   'happiny', 'blissey', 'tangrowth', 'kingdra', 'mimejr', 'scizor', \\\n",
    "                                   'smoochum', 'elekid', 'electivire', 'magby', 'magmortar', 'espeon', 'umbreon', \\\n",
    "                                   'leafeon', 'glaceon', 'sylveon', 'porygon2', 'porygonz', 'munchlax',]\n",
    "len(pkmnWithNewAlreadyDonePics_list)"
   ]
  },
  {
   "cell_type": "code",
   "execution_count": 22,
   "metadata": {},
   "outputs": [
    {
     "name": "stdout",
     "output_type": "stream",
     "text": [
      "python /Users/Michael/Desktop/Core/Giochi/Pokémon/DisassemblyYellow/ExtremeYellow/tools/palfix.py gfx/pokemon/new/front/done/pichu.png\n",
      "python /Users/Michael/Desktop/Core/Giochi/Pokémon/DisassemblyYellow/ExtremeYellow/tools/palfix.py gfx/pokemon/new/front/done/cleffa.png\n",
      "python /Users/Michael/Desktop/Core/Giochi/Pokémon/DisassemblyYellow/ExtremeYellow/tools/palfix.py gfx/pokemon/new/front/done/igglybuff.png\n",
      "python /Users/Michael/Desktop/Core/Giochi/Pokémon/DisassemblyYellow/ExtremeYellow/tools/palfix.py gfx/pokemon/new/front/done/crobat.png\n",
      "python /Users/Michael/Desktop/Core/Giochi/Pokémon/DisassemblyYellow/ExtremeYellow/tools/palfix.py gfx/pokemon/new/front/done/bellossom.png\n",
      "python /Users/Michael/Desktop/Core/Giochi/Pokémon/DisassemblyYellow/ExtremeYellow/tools/palfix.py gfx/pokemon/new/front/done/politoed.png\n",
      "python /Users/Michael/Desktop/Core/Giochi/Pokémon/DisassemblyYellow/ExtremeYellow/tools/palfix.py gfx/pokemon/new/front/done/slowking.png\n",
      "python /Users/Michael/Desktop/Core/Giochi/Pokémon/DisassemblyYellow/ExtremeYellow/tools/palfix.py gfx/pokemon/new/front/done/magnezone.png\n",
      "python /Users/Michael/Desktop/Core/Giochi/Pokémon/DisassemblyYellow/ExtremeYellow/tools/palfix.py gfx/pokemon/new/front/done/steelix.png\n",
      "python /Users/Michael/Desktop/Core/Giochi/Pokémon/DisassemblyYellow/ExtremeYellow/tools/palfix.py gfx/pokemon/new/front/done/tyrogue.png\n",
      "python /Users/Michael/Desktop/Core/Giochi/Pokémon/DisassemblyYellow/ExtremeYellow/tools/palfix.py gfx/pokemon/new/front/done/hitmontop.png\n",
      "python /Users/Michael/Desktop/Core/Giochi/Pokémon/DisassemblyYellow/ExtremeYellow/tools/palfix.py gfx/pokemon/new/front/done/lickilicky.png\n",
      "python /Users/Michael/Desktop/Core/Giochi/Pokémon/DisassemblyYellow/ExtremeYellow/tools/palfix.py gfx/pokemon/new/front/done/rhyperior.png\n",
      "python /Users/Michael/Desktop/Core/Giochi/Pokémon/DisassemblyYellow/ExtremeYellow/tools/palfix.py gfx/pokemon/new/front/done/happiny.png\n",
      "python /Users/Michael/Desktop/Core/Giochi/Pokémon/DisassemblyYellow/ExtremeYellow/tools/palfix.py gfx/pokemon/new/front/done/blissey.png\n",
      "python /Users/Michael/Desktop/Core/Giochi/Pokémon/DisassemblyYellow/ExtremeYellow/tools/palfix.py gfx/pokemon/new/front/done/tangrowth.png\n",
      "python /Users/Michael/Desktop/Core/Giochi/Pokémon/DisassemblyYellow/ExtremeYellow/tools/palfix.py gfx/pokemon/new/front/done/kingdra.png\n",
      "python /Users/Michael/Desktop/Core/Giochi/Pokémon/DisassemblyYellow/ExtremeYellow/tools/palfix.py gfx/pokemon/new/front/done/mimejr.png\n",
      "python /Users/Michael/Desktop/Core/Giochi/Pokémon/DisassemblyYellow/ExtremeYellow/tools/palfix.py gfx/pokemon/new/front/done/scizor.png\n",
      "python /Users/Michael/Desktop/Core/Giochi/Pokémon/DisassemblyYellow/ExtremeYellow/tools/palfix.py gfx/pokemon/new/front/done/smoochum.png\n",
      "python /Users/Michael/Desktop/Core/Giochi/Pokémon/DisassemblyYellow/ExtremeYellow/tools/palfix.py gfx/pokemon/new/front/done/elekid.png\n",
      "python /Users/Michael/Desktop/Core/Giochi/Pokémon/DisassemblyYellow/ExtremeYellow/tools/palfix.py gfx/pokemon/new/front/done/electivire.png\n",
      "python /Users/Michael/Desktop/Core/Giochi/Pokémon/DisassemblyYellow/ExtremeYellow/tools/palfix.py gfx/pokemon/new/front/done/magby.png\n",
      "python /Users/Michael/Desktop/Core/Giochi/Pokémon/DisassemblyYellow/ExtremeYellow/tools/palfix.py gfx/pokemon/new/front/done/magmortar.png\n",
      "python /Users/Michael/Desktop/Core/Giochi/Pokémon/DisassemblyYellow/ExtremeYellow/tools/palfix.py gfx/pokemon/new/front/done/espeon.png\n",
      "python /Users/Michael/Desktop/Core/Giochi/Pokémon/DisassemblyYellow/ExtremeYellow/tools/palfix.py gfx/pokemon/new/front/done/umbreon.png\n",
      "python /Users/Michael/Desktop/Core/Giochi/Pokémon/DisassemblyYellow/ExtremeYellow/tools/palfix.py gfx/pokemon/new/front/done/leafeon.png\n",
      "python /Users/Michael/Desktop/Core/Giochi/Pokémon/DisassemblyYellow/ExtremeYellow/tools/palfix.py gfx/pokemon/new/front/done/glaceon.png\n",
      "python /Users/Michael/Desktop/Core/Giochi/Pokémon/DisassemblyYellow/ExtremeYellow/tools/palfix.py gfx/pokemon/new/front/done/sylveon.png\n",
      "python /Users/Michael/Desktop/Core/Giochi/Pokémon/DisassemblyYellow/ExtremeYellow/tools/palfix.py gfx/pokemon/new/front/done/porygon2.png\n",
      "python /Users/Michael/Desktop/Core/Giochi/Pokémon/DisassemblyYellow/ExtremeYellow/tools/palfix.py gfx/pokemon/new/front/done/porygonz.png\n",
      "python /Users/Michael/Desktop/Core/Giochi/Pokémon/DisassemblyYellow/ExtremeYellow/tools/palfix.py gfx/pokemon/new/front/done/munchlax.png\n"
     ]
    }
   ],
   "source": [
    "for pkmnToFix in pkmnWithNewAlreadyDonePics_list:\n",
    "#    print(pkmnToFix)\n",
    "    command = f'python /Users/Michael/Desktop/Core/Giochi/Pokémon/DisassemblyYellow/ExtremeYellow/tools/palfix.py gfx/pokemon/new/front/done/{pkmnToFix}.png'\n",
    "    print(command)\n",
    "#    os.system(command)\n",
    "#    print('---')"
   ]
  },
  {
   "cell_type": "code",
   "execution_count": null,
   "metadata": {},
   "outputs": [],
   "source": [
    "for pkmnToFix in pkmnWithNewAlreadyDonePics_list:\n",
    "    print(pkmnToFix)\n",
    "    command = f'python /Users/Michael/Desktop/Core/Giochi/Pokémon/DisassemblyYellow/ExtremeYellow/tools/palfix.py gfx/pokemon/new/front/{pkmnToFix}.png'\n",
    "    print(command)\n",
    "    os.system(command)\n",
    "    print('---')"
   ]
  },
  {
   "cell_type": "code",
   "execution_count": null,
   "metadata": {},
   "outputs": [],
   "source": [
    "python /Users/Michael/Desktop/Core/Giochi/Pokémon/DisassemblyYellow/ExtremeYellow/tools/palfix.py gfx/pokemon/new/front/igglybuff.png\n",
    "python /Users/Michael/Desktop/Core/Giochi/Pokémon/DisassemblyYellow/ExtremeYellow/tools/palfix.py gfx/pokemon/new/front/magnezone.png\n",
    "python /Users/Michael/Desktop/Core/Giochi/Pokémon/DisassemblyYellow/ExtremeYellow/tools/palfix.py gfx/pokemon/new/front/rhyperior.png\n",
    "python /Users/Michael/Desktop/Core/Giochi/Pokémon/DisassemblyYellow/ExtremeYellow/tools/palfix.py gfx/pokemon/new/front/kingdra.png\n"
   ]
  },
  {
   "cell_type": "code",
   "execution_count": null,
   "metadata": {},
   "outputs": [],
   "source": []
  },
  {
   "cell_type": "markdown",
   "metadata": {},
   "source": [
    "# Sorted THMs"
   ]
  },
  {
   "cell_type": "code",
   "execution_count": null,
   "metadata": {},
   "outputs": [],
   "source": [
    "THMs_sorted = ['MEGA_PUNCH', 'MEGAHORN', 'SWORDS_DANCE', 'COUNTER', 'DRAGON_CLAW', 'TOXIC', 'DARK_PULSE', 'BODY_SLAM', 'METEOR_MASH', 'DOUBLE_EDGE', 'BUBBLEBEAM', 'METRONOME', 'ICE_BEAM', 'BLIZZARD', 'HYPER_BEAM', 'MIRROR_COAT', 'DRAININGKISS', 'FLASH_CANNON', 'SEISMIC_TOSS', 'FEINT_ATTACK', 'GIGA_DRAIN', 'STONE_EDGE', 'WILL_O_WISP', 'THUNDERBOLT', 'THUNDER', 'EARTHQUAKE', 'FISSURE', 'DIG', 'PSYCHIC_M', 'MOONBLAST', 'MIMIC', 'DOUBLE_TEAM', 'REFLECT', 'BIDE', 'HYDRO_PUMP', 'SELFDESTRUCT', 'CLOSE_COMBAT', 'FIRE_BLAST', 'SHADOW_SNEAK', 'OUTRAGE', 'BRAVE_BIRD', 'REST', 'GUNK_SHOT', 'X_SCISSOR', 'THUNDER_WAVE', 'PSYWAVE', 'EXPLOSION', 'ROCK_SLIDE', 'SHADOW_BALL', 'SUBSTITUTE', ]"
   ]
  },
  {
   "cell_type": "code",
   "execution_count": null,
   "metadata": {},
   "outputs": [],
   "source": [
    "len(THMs_sorted)"
   ]
  },
  {
   "cell_type": "code",
   "execution_count": null,
   "metadata": {},
   "outputs": [],
   "source": []
  },
  {
   "cell_type": "code",
   "execution_count": null,
   "metadata": {},
   "outputs": [],
   "source": []
  },
  {
   "cell_type": "code",
   "execution_count": null,
   "metadata": {},
   "outputs": [],
   "source": []
  },
  {
   "cell_type": "markdown",
   "metadata": {},
   "source": [
    "# Test length of dex entry"
   ]
  },
  {
   "cell_type": "code",
   "execution_count": 203,
   "metadata": {},
   "outputs": [
    {
     "data": {
      "text/plain": [
       "['A legendary fusion',\n",
       " 'of ghastly origin.',\n",
       " \"It's said to wield\",\n",
       " 'unparalleled power',\n",
       " 'and attack with',\n",
       " 'otherworldy fury']"
      ]
     },
     "execution_count": 203,
     "metadata": {},
     "output_type": "execute_result"
    }
   ],
   "source": [
    "dexEntry_here = \"A legendary fusion of ghastly origin. It's said to wield unparalleled power and attack with otherworldy fury\"\n",
    "\n",
    "lineifyDexEntries(dexEntry_here)"
   ]
  },
  {
   "cell_type": "code",
   "execution_count": null,
   "metadata": {},
   "outputs": [],
   "source": [
    "['Psychic power aug-',\n",
    " 'mented its mus-',\n",
    " 'cles. Has a grip',\n",
    " 'of one ton and can',\n",
    " 'sprint 100 meters',\n",
    " 'in 2 seconds']"
   ]
  },
  {
   "cell_type": "code",
   "execution_count": 206,
   "metadata": {},
   "outputs": [
    {
     "data": {
      "text/plain": [
       "['Psychic power aug-',\n",
       " 'mented its mus-',\n",
       " 'cles. Has a grip',\n",
       " 'of one ton and can',\n",
       " 'sprint 100 meters',\n",
       " 'in 2 seconds']"
      ]
     },
     "execution_count": 206,
     "metadata": {},
     "output_type": "execute_result"
    }
   ],
   "source": [
    "dexEntry_here = \"Psychic power augmented its mus-cles. Has a grip of one ton and can sprint 100 meters in 2 seconds\"\n",
    "\n",
    "lineifyDexEntries(dexEntry_here)"
   ]
  },
  {
   "cell_type": "code",
   "execution_count": null,
   "metadata": {},
   "outputs": [],
   "source": []
  },
  {
   "cell_type": "code",
   "execution_count": null,
   "metadata": {},
   "outputs": [],
   "source": []
  },
  {
   "cell_type": "code",
   "execution_count": null,
   "metadata": {},
   "outputs": [],
   "source": []
  },
  {
   "cell_type": "code",
   "execution_count": null,
   "metadata": {},
   "outputs": [],
   "source": []
  },
  {
   "cell_type": "code",
   "execution_count": null,
   "metadata": {},
   "outputs": [],
   "source": []
  }
 ],
 "metadata": {
  "kernelspec": {
   "display_name": "Python 3",
   "language": "python",
   "name": "python3"
  },
  "language_info": {
   "codemirror_mode": {
    "name": "ipython",
    "version": 3
   },
   "file_extension": ".py",
   "mimetype": "text/x-python",
   "name": "python",
   "nbconvert_exporter": "python",
   "pygments_lexer": "ipython3",
   "version": "3.10.10"
  }
 },
 "nbformat": 4,
 "nbformat_minor": 4
}
