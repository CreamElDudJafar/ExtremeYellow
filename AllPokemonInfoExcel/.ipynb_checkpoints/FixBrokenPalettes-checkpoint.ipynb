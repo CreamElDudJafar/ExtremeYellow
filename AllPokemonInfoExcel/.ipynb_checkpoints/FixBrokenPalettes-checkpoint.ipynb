{
 "cells": [
  {
   "cell_type": "code",
   "execution_count": 1,
   "id": "85213056",
   "metadata": {},
   "outputs": [
    {
     "data": {
      "text/html": [
       "<style>.container { width:100% !important; }</style>"
      ],
      "text/plain": [
       "<IPython.core.display.HTML object>"
      ]
     },
     "metadata": {},
     "output_type": "display_data"
    }
   ],
   "source": [
    "from IPython.display import display, HTML\n",
    "display(HTML(\"<style>.container { width:100% !important; }</style>\"))"
   ]
  },
  {
   "cell_type": "code",
   "execution_count": 3,
   "id": "25241ab3",
   "metadata": {},
   "outputs": [],
   "source": [
    "from PIL import Image\n",
    "import os\n",
    "from collections import Counter"
   ]
  },
  {
   "cell_type": "code",
   "execution_count": 4,
   "id": "94f3717c",
   "metadata": {},
   "outputs": [],
   "source": [
    "BLACK = (0, 0, 0)\n",
    "WHITE = (255, 255, 255)\n",
    "\n",
    "def calculate_distance(c1, c2):\n",
    "    \"\"\"Calculate the distance between two RGB colors.\"\"\"\n",
    "    return sum((p1-p2)**2 for p1, p2 in zip(c1, c2))\n",
    "\n",
    "def closest_color(colors, color):\n",
    "    \"\"\"Find the closest color in colors to the given color.\"\"\"\n",
    "    return min(colors, key=lambda c: calculate_distance(c, color))\n",
    "\n",
    "def most_common_colors(img, num=2):\n",
    "    \"\"\"Find the most common colors in the image excluding black and white.\"\"\"\n",
    "    pixels = img.getdata()\n",
    "    color_counter = Counter(pixels)\n",
    "    common_colors = color_counter.most_common()\n",
    "    filtered_colors = [color for color, count in commoncolors if color != BLACK and color != WHITE]\n",
    "    return [color for color,  in filtered_colors[:num]]\n",
    "\n",
    "def detect_pixels(directory):\n",
    "    \"\"\"Detect pixels that don't match the given colors.\"\"\"\n",
    "    result = {}\n",
    "    for filename in os.listdir(directory):\n",
    "        if filename.endswith(('.png', '.jpg', '.jpeg')):\n",
    "            img = Image.open(os.path.join(directory, filename))\n",
    "            most_common = most_common_colors(img)\n",
    "            COLORS = [BLACK, WHITE] + most_common\n",
    "            pixels = img.load()\n",
    "            for i in range(img.width):\n",
    "                for j in range(img.height):\n",
    "                    if pixels[i, j] not in COLORS:\n",
    "                        if filename not in result:\n",
    "                            result[filename] = []\n",
    "                        result[filename].append((i, j, COLORS))  # we also store the colors for this image\n",
    "    return result\n",
    "\n",
    "def adjust_pixels(directory, pixels_to_adjust):\n",
    "    \"\"\"Adjust the color of the detected pixels.\"\"\"\n",
    "    for filename, pixel_info in pixels_to_adjust.items():\n",
    "        img = Image.open(os.path.join(directory, filename))\n",
    "        pixels = img.load()\n",
    "        for i, j, COLORS in pixel_info:\n",
    "            pixels[i, j] = closest_color(COLORS, pixels[i, j])\n",
    "        img.save(os.path.join(directory, filename))  # overwrite the image"
   ]
  },
  {
   "cell_type": "code",
   "execution_count": null,
   "id": "1b1f2141",
   "metadata": {},
   "outputs": [],
   "source": []
  }
 ],
 "metadata": {
  "kernelspec": {
   "display_name": "Python 3",
   "language": "python",
   "name": "python3"
  },
  "language_info": {
   "codemirror_mode": {
    "name": "ipython",
    "version": 3
   },
   "file_extension": ".py",
   "mimetype": "text/x-python",
   "name": "python",
   "nbconvert_exporter": "python",
   "pygments_lexer": "ipython3",
   "version": "3.10.10"
  }
 },
 "nbformat": 4,
 "nbformat_minor": 5
}
