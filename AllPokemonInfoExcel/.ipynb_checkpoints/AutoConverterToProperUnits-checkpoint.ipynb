{
 "cells": [
  {
   "cell_type": "code",
   "execution_count": 1,
   "metadata": {},
   "outputs": [
    {
     "data": {
      "text/html": [
       "<style>.container { width:100% !important; }</style>"
      ],
      "text/plain": [
       "<IPython.core.display.HTML object>"
      ]
     },
     "metadata": {},
     "output_type": "display_data"
    }
   ],
   "source": [
    "from IPython.display import display, HTML\n",
    "display(HTML(\"<style>.container { width:100% !important; }</style>\"))"
   ]
  },
  {
   "cell_type": "code",
   "execution_count": 2,
   "metadata": {},
   "outputs": [],
   "source": [
    "import pandas as pd\n",
    "import os"
   ]
  },
  {
   "cell_type": "code",
   "execution_count": 3,
   "metadata": {},
   "outputs": [],
   "source": [
    "listAllOriginalMons = ['Bulbasaur', 'Ivysaur', 'Venusaur', 'Charmander', 'Charmeleon', 'Charizard', 'Squirtle', 'Wartortle', 'Blastoise', 'Caterpie', 'Metapod', 'Butterfree', 'Weedle', 'Kakuna', 'Beedrill', 'Pidgey', 'Pidgeotto', 'Pidgeot', 'Rattata', 'Raticate', 'Spearow', 'Fearow', 'Ekans', 'Arbok', 'Pikachu', 'Raichu', 'Sandshrew', 'Sandslash', 'NidoranF', 'Nidorina', 'Nidoqueen', 'NidoranM', 'Nidorino', 'Nidoking', 'Clefairy', 'Clefable', 'Vulpix', 'Ninetales', 'Jigglypuff', 'Wigglytuff', 'Zubat', 'Golbat', 'Oddish', 'Gloom', 'Vileplume', 'Paras', 'Parasect', 'Venonat', 'Venomoth', 'Diglett', 'Dugtrio', 'Meowth', 'Persian', 'Psyduck', 'Golduck', 'Mankey', 'Primeape', 'Growlithe', 'Arcanine', 'Poliwag', 'Poliwhirl', 'Poliwrath', 'Abra', 'Kadabra', 'Alakazam', 'Machop', 'Machoke', 'Machamp', 'Bellsprout', 'Weepinbell', 'Victreebel', 'Tentacool', 'Tentacruel', 'Geodude', 'Graveler', 'Golem', 'Ponyta', 'Rapidash', 'Slowpoke', 'Slowbro', 'Magnemite', 'Magneton', 'Farfetchd', 'Doduo', 'Dodrio', 'Seel', 'Dewgong', 'Grimer', 'Muk', 'Shellder', 'Cloyster', 'Gastly', 'Haunter', 'Gengar', 'Onix', 'Drowzee', 'Hypno', 'Krabby', 'Kingler', 'Voltorb', 'Electrode', 'Exeggcute', 'Exeggutor', 'Cubone', 'Marowak', 'Hitmonlee', 'Hitmonchan', 'Lickitung', 'Koffing', 'Weezing', 'Rhyhorn', 'Rhydon', 'Chansey', 'Tangela', 'Kangaskhan', 'Horsea', 'Seadra', 'Goldeen', 'Seaking', 'Staryu', 'Starmie', 'MrMime', 'Scyther', 'Jynx', 'Electabuzz', 'Magmar', 'Pinsir', 'Tauros', 'Magikarp', 'Gyarados', 'Lapras', 'Ditto', 'Eevee', 'Vaporeon', 'Jolteon', 'Flareon', 'Porygon', 'Omanyte', 'Omastar', 'Kabuto', 'Kabutops', 'Aerodactyl', 'Snorlax', 'Articuno', 'Zapdos', 'Moltres', 'Dratini', 'Dragonair', 'Dragonite', 'Mewtwo', 'Mew', ]"
   ]
  },
  {
   "cell_type": "code",
   "execution_count": 4,
   "metadata": {},
   "outputs": [],
   "source": [
    "def convertShittyUnitsIntoDecimeters(foots, inches):\n",
    "    # height in dm, approximate to unit, as an int\n",
    "    return int(round((foots * 0.3048 + inches * 0.0254)*10))\n",
    "\n",
    "def convertShittyUnitsIntoHectograms(decipounds):\n",
    "    # weight in hg, approximate to unit, as an int\n",
    "    return int(round((decipounds * 0.453592)))"
   ]
  },
  {
   "cell_type": "code",
   "execution_count": 5,
   "metadata": {},
   "outputs": [],
   "source": [
    "def changeShittyHeightLine(linein):\n",
    "        heightProperUnits = convertShittyUnitsIntoDecimeters(int(linein.rsplit()[1].rsplit(',')[0]), int(linein.rsplit()[1].rsplit(',')[1]))\n",
    "        lineout = f'\\tdb {heightProperUnits}\\n'\n",
    "        return lineout\n",
    "    \n",
    "def changeShittyWeightLine(linein):\n",
    "        weightProperUnits = convertShittyUnitsIntoHectograms(int(linein.rsplit()[1]))\n",
    "        lineout = f'\\tdw {weightProperUnits}\\n'\n",
    "        return lineout"
   ]
  },
  {
   "cell_type": "code",
   "execution_count": 123,
   "metadata": {},
   "outputs": [],
   "source": [
    "#print(convertShittyUnitsIntoDecimeters(13,1))\n",
    "#print(convertShittyUnitsIntoHectograms(2690))"
   ]
  },
  {
   "cell_type": "code",
   "execution_count": 119,
   "metadata": {},
   "outputs": [],
   "source": [
    "fileInPath  = '/Users/Michael/Desktop/Core/Giochi/Pokémon/DisassemblyYellow/pokeyellow_ExtremeYellow/data/pokemon/dex_entries_original.asm'\n",
    "fileOutPath = '/Users/Michael/Desktop/Core/Giochi/Pokémon/DisassemblyYellow/pokeyellow_ExtremeYellow/data/pokemon/dex_entries_properUnits.asm'"
   ]
  },
  {
   "cell_type": "code",
   "execution_count": 120,
   "metadata": {},
   "outputs": [],
   "source": [
    "file_in = open(fileInPath, 'r')\n",
    "linesFromFile = []\n",
    "for y in file_in.readlines():\n",
    "#    if y!='\\n':\n",
    "#        print(y)\n",
    "    linesFromFile.append(y)"
   ]
  },
  {
   "cell_type": "code",
   "execution_count": 121,
   "metadata": {},
   "outputs": [],
   "source": [
    "linesFromFile_Edited = []\n",
    "for linehere in linesFromFile:\n",
    "    if ('\\tdb ' in linehere) and not ('\"' in linehere):\n",
    "        linesFromFile_Edited.append(changeShittyHeightLine(linehere))\n",
    "    elif ('\\tdw ' in linehere) and not ('DexEntry' in linehere):\n",
    "        linesFromFile_Edited.append(changeShittyWeightLine(linehere))\n",
    "    elif linehere=='; height in feet, inches\\n':\n",
    "        linesFromFile_Edited.append('; height in decimeter\\n')\n",
    "    elif linehere=='; weight in pounds\\n':\n",
    "        linesFromFile_Edited.append('; weight in hectograms\\n')\n",
    "    else:\n",
    "        linesFromFile_Edited.append(linehere)\n",
    "        "
   ]
  },
  {
   "cell_type": "code",
   "execution_count": 122,
   "metadata": {},
   "outputs": [],
   "source": [
    "txtToWrite = open(fileOutPath, \"w\")\n",
    "for oneLine in linesFromFile_Edited:\n",
    "    txtToWrite.write(oneLine)\n",
    "txtToWrite.close()"
   ]
  },
  {
   "cell_type": "code",
   "execution_count": null,
   "metadata": {},
   "outputs": [],
   "source": []
  },
  {
   "cell_type": "code",
   "execution_count": null,
   "metadata": {},
   "outputs": [],
   "source": [
    "def convertUglyUnitsIntoDecimeters(foots, inches):\n",
    "    # height in dm, approximate to unit, as an int\n",
    "    return int(round((foots * 0.3048 + inches * 0.0254)*10))\n",
    "def convertUglyUnitsIntoHectograms(decipounds):\n",
    "    # weight in hg, approximate to unit, as an int\n",
    "    return int(round((decipounds * 0.453592)))\n",
    "\n",
    "# remember to change the paths below to the ones you actually care for\n",
    "fileInPath  = '/your/path/to/dex_entries.asm'\n",
    "fileOutPath = '/your/path/to/dex_entries_properUnits.asm'\n",
    "\n",
    "# probably it's ugly and there's better, but it's a working way of reading the original .asm file\n",
    "file_in = open(fileInPath, 'r')\n",
    "linesFromFile = []\n",
    "for y in file_in.readlines():\n",
    "    linesFromFile.append(y)\n",
    "    \n",
    "# change all the relevant lines\n",
    "linesFromFile_Edited = []\n",
    "for linehere in linesFromFile:\n",
    "    if ('\\tdb ' in linehere) and not ('\"' in linehere): # fix the height values\n",
    "        linesFromFile_Edited.append(changeUglyHeightLine(linehere))\n",
    "    elif ('\\tdw ' in linehere) and not ('DexEntry' in linehere): # fix the weight values\n",
    "        linesFromFile_Edited.append(changeUglyWeightLine(linehere))\n",
    "    elif linehere=='; height in feet, inches\\n': # change the comment about height units\n",
    "        linesFromFile_Edited.append('; height in decimeter\\n')\n",
    "    elif linehere=='; weight in pounds\\n': # change the comment about weight units\n",
    "        linesFromFile_Edited.append('; weight in hectograms\\n')\n",
    "    else: # keep the rest as it is\n",
    "        linesFromFile_Edited.append(linehere)\n",
    "\n",
    "# write the new .asm file\n",
    "txtToWrite = open(fileOutPath, \"w\")\n",
    "for oneLine in linesFromFile_Edited:\n",
    "    txtToWrite.write(oneLine)\n",
    "txtToWrite.close()"
   ]
  },
  {
   "cell_type": "code",
   "execution_count": null,
   "metadata": {},
   "outputs": [],
   "source": []
  },
  {
   "cell_type": "code",
   "execution_count": null,
   "metadata": {},
   "outputs": [],
   "source": []
  },
  {
   "cell_type": "code",
   "execution_count": null,
   "metadata": {},
   "outputs": [],
   "source": []
  },
  {
   "cell_type": "code",
   "execution_count": null,
   "metadata": {},
   "outputs": [],
   "source": []
  },
  {
   "cell_type": "code",
   "execution_count": null,
   "metadata": {},
   "outputs": [],
   "source": []
  },
  {
   "cell_type": "code",
   "execution_count": null,
   "metadata": {},
   "outputs": [],
   "source": []
  },
  {
   "cell_type": "code",
   "execution_count": null,
   "metadata": {},
   "outputs": [],
   "source": []
  },
  {
   "cell_type": "code",
   "execution_count": null,
   "metadata": {},
   "outputs": [],
   "source": []
  },
  {
   "cell_type": "code",
   "execution_count": null,
   "metadata": {},
   "outputs": [],
   "source": []
  },
  {
   "cell_type": "code",
   "execution_count": 72,
   "metadata": {},
   "outputs": [
    {
     "data": {
      "text/plain": [
       "['db', '10,1']"
      ]
     },
     "execution_count": 72,
     "metadata": {},
     "output_type": "execute_result"
    }
   ],
   "source": [
    "lineheretest.rsplit()"
   ]
  },
  {
   "cell_type": "code",
   "execution_count": 70,
   "metadata": {},
   "outputs": [
    {
     "data": {
      "text/plain": [
       "['10', '1']"
      ]
     },
     "execution_count": 70,
     "metadata": {},
     "output_type": "execute_result"
    }
   ],
   "source": [
    "lineheretest.rsplit()[1].rsplit(',')"
   ]
  },
  {
   "cell_type": "code",
   "execution_count": null,
   "metadata": {},
   "outputs": [],
   "source": []
  },
  {
   "cell_type": "code",
   "execution_count": 6,
   "metadata": {},
   "outputs": [
    {
     "data": {
      "text/plain": [
       "26"
      ]
     },
     "execution_count": 6,
     "metadata": {},
     "output_type": "execute_result"
    }
   ],
   "source": [
    "convertShittyUnitsIntoDecimeters(8,5)\n"
   ]
  },
  {
   "cell_type": "code",
   "execution_count": 7,
   "metadata": {},
   "outputs": [
    {
     "data": {
      "text/plain": [
       "1361"
      ]
     },
     "execution_count": 7,
     "metadata": {},
     "output_type": "execute_result"
    }
   ],
   "source": [
    "convertShittyUnitsIntoHectograms(3000)\n"
   ]
  },
  {
   "cell_type": "code",
   "execution_count": null,
   "metadata": {},
   "outputs": [],
   "source": []
  }
 ],
 "metadata": {
  "kernelspec": {
   "display_name": "Python 3",
   "language": "python",
   "name": "python3"
  },
  "language_info": {
   "codemirror_mode": {
    "name": "ipython",
    "version": 3
   },
   "file_extension": ".py",
   "mimetype": "text/x-python",
   "name": "python",
   "nbconvert_exporter": "python",
   "pygments_lexer": "ipython3",
   "version": "3.10.10"
  }
 },
 "nbformat": 4,
 "nbformat_minor": 4
}
