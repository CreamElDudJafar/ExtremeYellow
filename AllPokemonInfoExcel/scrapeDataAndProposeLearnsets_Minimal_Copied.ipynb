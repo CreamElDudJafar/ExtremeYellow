{
 "cells": [
  {
   "cell_type": "code",
   "execution_count": 1,
   "id": "750d3042",
   "metadata": {},
   "outputs": [
    {
     "data": {
      "text/html": [
       "<style>.container { width:100% !important; }</style>"
      ],
      "text/plain": [
       "<IPython.core.display.HTML object>"
      ]
     },
     "metadata": {},
     "output_type": "display_data"
    }
   ],
   "source": [
    "# Import HTML\n",
    "from IPython.display import display, HTML\n",
    "display(HTML(\"<style>.container { width:100% !important; }</style>\"))"
   ]
  },
  {
   "cell_type": "code",
   "execution_count": 3,
   "id": "f6b70239-7c74-412b-a51d-cb6ec7917547",
   "metadata": {
    "tags": []
   },
   "outputs": [],
   "source": [
    "# Import libraries\n",
    "import requests\n",
    "from bs4 import BeautifulSoup\n",
    "import pandas as pd\n",
    "from enum import Enum\n",
    "\n",
    "pd.set_option('display.max_rows', None)  # Show all rows\n",
    "#pd.set_option('display.max_rows', 255)\n",
    "#pd.set_option('display.max_columns', 100)"
   ]
  },
  {
   "cell_type": "code",
   "execution_count": 4,
   "id": "35d485b8",
   "metadata": {},
   "outputs": [],
   "source": [
    "# Define all moves for pokemon\n",
    "listOfAllMoves = [\"Pound\", \"Karate Chop\", \"Double Slap\", \"Comet Punch\", \"Mega Punch\", \"Pay Day\", \"Fire Punch\", \"Ice Punch\", \"Thunder Punch\", \"Scratch\", \"Vise Grip\", \"Guillotine\", \"Razor Wind\", \"Swords Dance\", \"Cut\", \"Gust\", \"Wing Attack\", \"Whirlwind\", \"Fly\", \"Bind\", \"Slam\", \"Vine Whip\", \"Stomp\", \"Double Kick\", \"Mega Kick\", \"Jump Kick\", \"Rolling Kick\", \"Sand Attack\", \"Headbutt\", \"Horn Attack\", \"Fury Attack\", \"Horn Drill\", \"Tackle\", \"Body Slam\", \"Wrap\", \"Take Down\", \"Thrash\", \"Double-Edge\", \"Tail Whip\", \"Poison Sting\", \"Twineedle\", \"Pin Missile\", \"Leer\", \"Bite\", \"Growl\", \"Roar\", \"Sing\", \"Supersonic\", \"Sonic Boom\", \"Disable\", \"Acid\", \"Ember\", \"Flamethrower\", \"Mist\", \"Water Gun\", \"Hydro Pump\", \"Surf\", \"Ice Beam\", \"Blizzard\", \"Psybeam\", \"Bubble Beam\", \"Aurora Beam\", \"Hyper Beam\", \"Peck\", \"Drill Peck\", \"Submission\", \"Low Kick\", \"Counter\", \"Seismic Toss\", \"Strength\", \"Absorb\", \"Mega Drain\", \"Leech Seed\", \"Growth\", \"Razor Leaf\", \"Solar Beam\", \"Poison Powder\", \"Stun Spore\", \"Sleep Powder\", \"Petal Dance\", \"String Shot\", \"Dragon Rage\", \"Fire Spin\", \"Thunder Shock\", \"Thunderbolt\", \"Thunder Wave\", \"Thunder\", \"Rock Throw\", \"Earthquake\", \"Fissure\", \"Dig\", \"Toxic\", \"Confusion\", \"Hypnosis\", \"Meditate\", \"Agility\", \"Quick Attack\", \"Rage\", \"Teleport\", \"Night Shade\", \"Mimic\", \"Screech\", \"Double Team\", \"Recover\", \"Harden\", \"Minimize\", \"Smokescreen\", \"Confuse Ray\", \"Withdraw\", \"Defense Curl\", \"Barrier\", \"Light Screen\", \"Haze\", \"Reflect\", \"Focus Energy\", \"Bide\", \"Metronome\", \"Mirror Move\", \"Self-Destruct\", \"Egg Bomb\", \"Lick\", \"Smog\", \"Sludge\", \"Bone Club\", \"Fire Blast\", \"Waterfall\", \"Clamp\", \"Swift\", \"Skull Bash\", \"Spike Cannon\", \"Constrict\", \"Amnesia\", \"Kinesis\", \"Soft-Boiled\", \"High Jump Kick\", \"Glare\", \"Dream Eater\", \"Poison Gas\", \"Barrage\", \"Leech Life\", \"Lovely Kiss\", \"Sky Attack\", \"Transform\", \"Bubble\", \"Dizzy Punch\", \"Spore\", \"Flash\", \"Psywave\", \"Splash\", \"Acid Armor\", \"Crabhammer\", \"Explosion\", \"Fury Swipes\", \"Bonemerang\", \"Rest\", \"Rock Slide\", \"Hyper Fang\", \"Sharpen\", \"Conversion\", \"Tri Attack\", \"Super Fang\", \"Slash\", \"Substitute\", \"Struggle\", \"Sketch\", \"Triple Kick\", \"Thief\", \"Spider Web\", \"Mind Reader\", \"Nightmare\", \"Flame Wheel\", \"Snore\", \"Curse\", \"Flail\", \"Conversion 2\", \"Aeroblast\", \"Cotton Spore\", \"Reversal\", \"Spite\", \"Powder Snow\", \"Protect\", \"Mach Punch\", \"Scary Face\", \"Feint Attack\", \"Sweet Kiss\", \"Belly Drum\", \"Sludge Bomb\", \"Mud-Slap\", \"Octazooka\", \"Spikes\", \"Zap Cannon\", \"Foresight\", \"Destiny Bond\", \"Perish Song\", \"Icy Wind\", \"Detect\", \"Bone Rush\", \"Lock-On\", \"Outrage\", \"Sandstorm\", \"Giga Drain\", \"Endure\", \"Charm\", \"Rollout\", \"False Swipe\", \"Swagger\", \"Milk Drink\", \"Spark\", \"Fury Cutter\", \"Steel Wing\", \"Mean Look\", \"Attract\", \"Sleep Talk\", \"Heal Bell\", \"Return\", \"Present\", \"Frustration\", \"Safeguard\", \"Pain Split\", \"Sacred Fire\", \"Magnitude\", \"Dynamic Punch\", \"Megahorn\", \"Dragon Breath\", \"Baton Pass\", \"Encore\", \"Pursuit\", \"Rapid Spin\", \"Sweet Scent\", \"Iron Tail\", \"Metal Claw\", \"Vital Throw\", \"Morning Sun\", \"Synthesis\", \"Moonlight\", \"Hidden Power\", \"Cross Chop\", \"Twister\", \"Rain Dance\", \"Sunny Day\", \"Crunch\", \"Mirror Coat\", \"Psych Up\", \"Extreme Speed\", \"Ancient Power\", \"Shadow Ball\", \"Future Sight\", \"Rock Smash\", \"Whirlpool\", \"Beat Up\", \"Fake Out\", \"Uproar\", \"Stockpile\", \"Spit Up\", \"Swallow\", \"Heat Wave\", \"Hail\", \"Torment\", \"Flatter\", \"Will-O-Wisp\", \"Memento\", \"Facade\", \"Focus Punch\", \"Smelling Salts\", \"Follow Me\", \"Nature Power\", \"Charge\", \"Taunt\", \"Helping Hand\", \"Trick\", \"Role Play\", \"Wish\", \"Assist\", \"Ingrain\", \"Superpower\", \"Magic Coat\", \"Recycle\", \"Revenge\", \"Brick Break\", \"Yawn\", \"Knock Off\", \"Endeavor\", \"Eruption\", \"Skill Swap\", \"Imprison\", \"Refresh\", \"Grudge\", \"Snatch\", \"Secret Power\", \"Dive\", \"Arm Thrust\", \"Camouflage\", \"Tail Glow\", \"Luster Purge\", \"Mist Ball\", \"Feather Dance\", \"Teeter Dance\", \"Blaze Kick\", \"Mud Sport\", \"Ice Ball\", \"Needle Arm\", \"Slack Off\", \"Hyper Voice\", \"Poison Fang\", \"Crush Claw\", \"Blast Burn\", \"Hydro Cannon\", \"Meteor Mash\", \"Astonish\", \"Weather Ball\", \"Aromatherapy\", \"Fake Tears\", \"Air Cutter\", \"Overheat\", \"Odor Sleuth\", \"Rock Tomb\", \"Silver Wind\", \"Metal Sound\", \"Grass Whistle\", \"Tickle\", \"Cosmic Power\", \"Water Spout\", \"Signal Beam\", \"Shadow Punch\", \"Extrasensory\", \"Sky Uppercut\", \"Sand Tomb\", \"Sheer Cold\", \"Muddy Water\", \"Bullet Seed\", \"Aerial Ace\", \"Icicle Spear\", \"Iron Defense\", \"Block\", \"Howl\", \"Dragon Claw\", \"Frenzy Plant\", \"Bulk Up\", \"Bounce\", \"Mud Shot\", \"Poison Tail\", \"Covet\", \"Volt Tackle\", \"Magical Leaf\", \"Water Sport\", \"Calm Mind\", \"Leaf Blade\", \"Dragon Dance\", \"Rock Blast\", \"Shock Wave\", \"Water Pulse\", \"Doom Desire\", \"Psycho Boost\", \"Roost\", \"Gravity\", \"Miracle Eye\", \"Wake-Up Slap\", \"Hammer Arm\", \"Gyro Ball\", \"Healing Wish\", \"Brine\", \"Natural Gift\", \"Feint\", \"Pluck\", \"Tailwind\", \"Acupressure\", \"Metal Burst\", \"U-turn\", \"Close Combat\", \"Payback\", \"Assurance\", \"Embargo\", \"Fling\", \"Psycho Shift\", \"Trump Card\", \"Heal Block\", \"Wring Out\", \"Power Trick\", \"Gastro Acid\", \"Lucky Chant\", \"Me First\", \"Copycat\", \"Power Swap\", \"Guard Swap\", \"Punishment\", \"Last Resort\", \"Worry Seed\", \"Sucker Punch\", \"Toxic Spikes\", \"Heart Swap\", \"Aqua Ring\", \"Magnet Rise\", \"Flare Blitz\", \"Force Palm\", \"Aura Sphere\", \"Rock Polish\", \"Poison Jab\", \"Dark Pulse\", \"Night Slash\", \"Aqua Tail\", \"Seed Bomb\", \"Air Slash\", \"X-Scissor\", \"Bug Buzz\", \"Dragon Pulse\", \"Dragon Rush\", \"Power Gem\", \"Drain Punch\", \"Vacuum Wave\", \"Focus Blast\", \"Energy Ball\", \"Brave Bird\", \"Earth Power\", \"Switcheroo\", \"Giga Impact\", \"Nasty Plot\", \"Bullet Punch\", \"Avalanche\", \"Ice Shard\", \"Shadow Claw\", \"Thunder Fang\", \"Ice Fang\", \"Fire Fang\", \"Shadow Sneak\", \"Mud Bomb\", \"Psycho Cut\", \"Zen Headbutt\", \"Mirror Shot\", \"Flash Cannon\", \"Rock Climb\", \"Defog\", \"Trick Room\", \"Draco Meteor\", \"Discharge\", \"Lava Plume\", \"Leaf Storm\", \"Power Whip\", \"Rock Wrecker\", \"Cross Poison\", \"Gunk Shot\", \"Iron Head\", \"Magnet Bomb\", \"Stone Edge\", \"Captivate\", \"Stealth Rock\", \"Grass Knot\", \"Chatter\", \"Judgment\", \"Bug Bite\", \"Charge Beam\", \"Wood Hammer\", \"Aqua Jet\", \"Attack Order\", \"Defend Order\", \"Heal Order\", \"Head Smash\", \"Double Hit\", \"Roar of Time\", \"Spacial Rend\", \"Lunar Dance\", \"Crush Grip\", \"Magma Storm\", \"Dark Void\", \"Seed Flare\", \"Ominous Wind\", \"Shadow Force\", \"Hone Claws\", \"Wide Guard\", \"Guard Split\", \"Power Split\", \"Wonder Room\", \"Psyshock\", \"Venoshock\", \"Autotomize\", \"Rage Powder\", \"Telekinesis\", \"Magic Room\", \"Smack Down\", \"Storm Throw\", \"Flame Burst\", \"Sludge Wave\", \"Quiver Dance\", \"Heavy Slam\", \"Synchronoise\", \"Electro Ball\", \"Soak\", \"Flame Charge\", \"Coil\", \"Low Sweep\", \"Acid Spray\", \"Foul Play\", \"Simple Beam\", \"Entrainment\", \"After You\", \"Round\", \"Echoed Voice\", \"Chip Away\", \"Clear Smog\", \"Stored Power\", \"Quick Guard\", \"Ally Switch\", \"Scald\", \"Shell Smash\", \"Heal Pulse\", \"Hex\", \"Sky Drop\", \"Shift Gear\", \"Circle Throw\", \"Incinerate\", \"Quash\", \"Acrobatics\", \"Reflect Type\", \"Retaliate\", \"Final Gambit\", \"Bestow\", \"Inferno\", \"Water Pledge\", \"Fire Pledge\", \"Grass Pledge\", \"Volt Switch\", \"Struggle Bug\", \"Bulldoze\", \"Frost Breath\", \"Dragon Tail\", \"Work Up\", \"Electroweb\", \"Wild Charge\", \"Drill Run\", \"Dual Chop\", \"Heart Stamp\", \"Horn Leech\", \"Sacred Sword\", \"Razor Shell\", \"Heat Crash\", \"Leaf Tornado\", \"Steamroller\", \"Cotton Guard\", \"Night Daze\", \"Psystrike\", \"Tail Slap\", \"Hurricane\", \"Head Charge\", \"Gear Grind\", \"Searing Shot\", \"Techno Blast\", \"Relic Song\", \"Secret Sword\", \"Glaciate\", \"Bolt Strike\", \"Blue Flare\", \"Fiery Dance\", \"Freeze Shock\", \"Ice Burn\", \"Snarl\", \"Icicle Crash\", \"V-create\", \"Fusion Flare\", \"Fusion Bolt\", \"Flying Press\", \"Mat Block\", \"Belch\", \"Rototiller\", \"Sticky Web\", \"Fell Stinger\", \"Phantom Force\", \"Trick-or-Treat\", \"Noble Roar\", \"Ion Deluge\", \"Parabolic Charge\", \"Petal Blizzard\", \"Freeze-Dry\", \"Disarming Voice\", \"Parting Shot\", \"Topsy-Turvy\", \"Draining Kiss\", \"Crafty Shield\", \"Flower Shield\", \"Grassy Terrain\", \"Misty Terrain\", \"Electrify\", \"Play Rough\", \"Fairy Wind\", \"Moonblast\", \"Boomburst\", \"Fairy Lock\", \"Play Nice\", \"Confide\", \"Diamond Storm\", \"Steam Eruption\", \"Hyperspace Hole\", \"Water Shuriken\", \"Mystical Fire\", \"Spiky Shield\", \"Aromatic Mist\", \"Eerie Impulse\", \"Venom Drench\", \"Powder\", \"Geomancy\", \"Magnetic Flux\", \"Happy Hour\", \"Electric Terrain\", \"Dazzling Gleam\", \"Celebrate\", \"Hold Hands\", \"Baby-Doll Eyes\", \"Nuzzle\", \"Hold Back\", \"Infestation\", \"Power-Up Punch\", \"Oblivion Wing\", \"Thousand Arrows\", \"Thousand Waves\", \"Light of Ruin\", \"Origin Pulse\", \"Precipice Blades\", \"Dragon Ascent\", \"Hyperspace Fury\", \"Catastropika\", \"Shore Up\", \"First Impression\", \"Baneful Bunker\", \"Spirit Shackle\", \"Darkest Lariat\", \"Sparkling Aria\", \"Ice Hammer\", \"Floral Healing\", \"High Horsepower\", \"Strength Sap\", \"Solar Blade\", \"Leafage\", \"Spotlight\", \"Toxic Thread\", \"Laser Focus\", \"Gear Up\", \"Throat Chop\", \"Pollen Puff\", \"Anchor Shot\", \"Psychic Terrain\", \"Lunge\", \"Fire Lash\", \"Power Trip\", \"Burn Up\", \"Speed Swap\", \"Smart Strike\", \"Purify\", \"Revelation Dance\", \"Core Enforcer\", \"Trop Kick\", \"Instruct\", \"Beak Blast\", \"Clanging Scales\", \"Dragon Hammer\", \"Brutal Swing\", \"Aurora Veil\", \"Shell Trap\", \"Fleur Cannon\", \"Psychic Fangs\", \"Stomping Tantrum\", \"Shadow Bone\", \"Accelerock\", \"Liquidation\", \"Prismatic Laser\", \"Spectral Thief\", \"Sunsteel Strike\", \"Moongeist Beam\", \"Tearful Look\", \"Zing Zap\", \"Multi-Attack\", \"Mind Blown\", \"Plasma Fists\", \"Photon Geyser\", \"Zippy Zap\", \"Splishy Splash\", \"Floaty Fall\", \"Pika Papow\", \"Bouncy Bubble\", \"Buzzy Buzz\", \"Sizzly Slide\", \"Glitzy Glow\", \"Baddy Bad\", \"Sappy Seed\", \"Freezy Frost\", \"Sparkly Swirl\", \"Veevee Volley\", \"Double Iron Bash\", \"Max Guard\", \"Dynamax Cannon\", \"Snipe Shot\", \"Jaw Lock\", \"Stuff Cheeks\", \"No Retreat\", \"Tar Shot\", \"Magic Powder\", \"Dragon Darts\", \"Teatime\", \"Octolock\", \"Bolt Beak\", \"Fishious Rend\", \"Court Change\", \"Clangorous Soul\", \"Body Press\", \"Decorate\", \"Drum Beating\", \"Snap Trap\", \"Pyro Ball\", \"Behemoth Blade\", \"Behemoth Bash\", \"Aura Wheel\", \"Breaking Swipe\", \"Branch Poke\", \"Overdrive\", \"Apple Acid\", \"Grav Apple\", \"Spirit Break\", \"Strange Steam\", \"Life Dew\", \"Obstruct\", \"False Surrender\", \"Meteor Assault\", \"Eternabeam\", \"Steel Beam\", \"Expanding Force\", \"Steel Roller\", \"Scale Shot\", \"Meteor Beam\", \"Shell Side Arm\", \"Misty Explosion\", \"Grassy Glide\", \"Rising Voltage\", \"Terrain Pulse\", \"Skitter Smack\", \"Burning Jealousy\", \"Lash Out\", \"Poltergeist\", \"Corrosive Gas\", \"Coaching\", \"Flip Turn\", \"Triple Axel\", \"Dual Wingbeat\", \"Scorching Sands\", \"Jungle Healing\", \"Wicked Blow\", \"Surging Strikes\", \"Thunder Cage\", \"Dragon Energy\", \"Freezing Glare\", \"Fiery Wrath\", \"Thunderous Kick\", \"Glacial Lance\", \"Astral Barrage\", \"Eerie Spell\", \"Dire Claw\", \"Psyshield Bash\", \"Power Shift\", \"Stone Axe\", \"Springtide Storm\", \"Mystical Power\", \"Raging Fury\", \"Wave Crash\", \"Chloroblast\", \"Mountain Gale\", \"Victory Dance\", \"Headlong Rush\", \"Barb Barrage\", \"Esper Wing\", \"Bitter Malice\", \"Shelter\", \"Triple Arrows\", \"Infernal Parade\", \"Ceaseless Edge\", \"Bleakwind Storm\", \"Wildbolt Storm\", \"Sandsear Storm\", \"Lunar Blessing\", \"Take Heart\", \"Tera Blast\", \"Silk Trap\", \"Axe Kick\", \"Last Respects\", \"Lumina Crash\", \"Order Up\", \"Jet Punch\", \"Spicy Extract\", \"Spin Out\", \"Population Bomb\", \"Ice Spinner\", \"Glaive Rush\", \"Revival Blessing\", \"Salt Cure\", \"Triple Dive\", \"Mortal Spin\", \"Doodle\", \"Fillet Away\", \"Kowtow Cleave\", \"Flower Trick\", \"Torch Song\", \"Aqua Step\", \"Raging Bull\", \"Make It Rain\", \"Psyblade\", \"Hydro Steam\", \"Ruination\", \"Collision Course\", \"Electro Drift\", \"Shed Tail\", \"Chilly Reception\", \"Tidy Up\", \"Snowscape\", \"Pounce\", \"Trailblaze\", \"Chilling Water\", \"Hyper Drill\", \"Twin Beam\", \"Rage Fist\", \"Armor Cannon\", \"Bitter Blade\", \"Double Shock\", \"Gigaton Hammer\", \"Comeuppance\", \"Aqua Cutter\", \"Blazing Torque\", \"Wicked Torque\", \"Noxious Torque\", \"Combat Torque\", \"Magical Torque\", ]\n",
    "\n",
    "#allExtremeYellowMoves = [\"POUND\", \"KARATE_CHOP\", \"COMET_PUNCH\", \"MEGA_PUNCH\", \"PAY_DAY\", \"FIRE_PUNCH\", \"ICE_PUNCH\", \"THUNDERPUNCH\", \"SCRATCH\", \"GUILLOTINE\", \"SWORDS_DANCE\", \"CUT\", \"GUST\", \"WING_ATTACK\", \"FLY\", \"BIND\", \"SLAM\", \"VINE_WHIP\", \"STOMP\", \"DOUBLE_KICK\", \"MEGA_KICK\", \"JUMP_KICK\", \"ROLLING_KICK\", \"SAND_ATTACK\", \"HEADBUTT\", \"HORN_ATTACK\", \"FURY_ATTACK\", \"HORN_DRILL\", \"TACKLE\", \"BODY_SLAM\", \"WRAP\", \"TAKE_DOWN\", \"THRASH\", \"DOUBLE_EDGE\", \"POISON_STING\", \"TWINEEDLE\", \"PIN_MISSILE\", \"LEER\", \"BITE\", \"GROWL\", \"SING\", \"SUPERSONIC\", \"SONICBOOM\", \"DISABLE\", \"ACID\", \"EMBER\", \"FLAMETHROWER\", \"MIST\", \"WATER_GUN\", \"HYDRO_PUMP\", \"SURF\", \"ICE_BEAM\", \"BLIZZARD\", \"PSYBEAM\", \"BUBBLEBEAM\", \"AURORA_BEAM\", \"HYPER_BEAM\", \"PECK\", \"DRILL_PECK\", \"SUBMISSION\", \"LOW_KICK\", \"COUNTER\", \"SEISMIC_TOSS\", \"STRENGTH\", \"ABSORB\", \"MEGA_DRAIN\", \"LEECH_SEED\", \"GROWTH\", \"RAZOR_LEAF\", \"SOLARBEAM\", \"POISONPOWDER\", \"STUN_SPORE\", \"SLEEP_POWDER\", \"PETAL_DANCE\", \"STRING_SHOT\", \"DRAGON_RAGE\", \"FIRE_SPIN\", \"THUNDERSHOCK\", \"THUNDERBOLT\", \"THUNDER_WAVE\", \"THUNDER\", \"ROCK_THROW\", \"EARTHQUAKE\", \"FISSURE\", \"DIG\", \"TOXIC\", \"CONFUSION\", \"PSYCHIC_M\", \"HYPNOSIS\", \"MEDITATE\", \"AGILITY\", \"QUICK_ATTACK\", \"TELEPORT\", \"NIGHT_SHADE\", \"MIMIC\", \"SCREECH\", \"DOUBLE_TEAM\", \"RECOVER\", \"HARDEN\", \"MINIMIZE\", \"SMOKESCREEN\", \"CONFUSE_RAY\", \"DEFENSE_CURL\", \"BARRIER\", \"LIGHT_SCREEN\", \"HAZE\", \"REFLECT\", \"FOCUS_ENERGY\", \"BIDE\", \"METRONOME\", \"MIRROR_MOVE\", \"SELFDESTRUCT\", \"LICK\", \"SMOG\", \"SLUDGE\", \"BONE_CLUB\", \"FIRE_BLAST\", \"WATERFALL\", \"CLAMP\", \"SWIFT\", \"SKULL_BASH\", \"SPIKE_CANNON\", \"AMNESIA\", \"SOFTBOILED\", \"HI_JUMP_KICK\", \"GLARE\", \"DREAM_EATER\", \"POISON_GAS\", \"BARRAGE\", \"LEECH_LIFE\", \"LOVELY_KISS\", \"SKY_ATTACK\", \"TRANSFORM\", \"BUBBLE\", \"DIZZY_PUNCH\", \"SPORE\", \"FLASH\", \"PSYWAVE\", \"SPLASH\", \"ACID_ARMOR\", \"CRABHAMMER\", \"EXPLOSION\", \"FURY_SWIPES\", \"BONEMERANG\", \"REST\", \"ROCK_SLIDE\", \"HYPER_FANG\", \"CONVERSION\", \"TRI_ATTACK\", \"SUPER_FANG\", \"SLASH\", \"SUBSTITUTE\", \"MEGAHORN\", \"X_SCISSOR\", \"INFESTATION\", \"FEINT_ATTACK\", \"CRUNCH\", \"NIGHT_SLASH\", \"DARK_PULSE\", \"TWISTER\", \"DRAGONBREATH\", \"OUTRAGE\", \"DRAGON_CLAW\", \"ZAP_CANNON\", \"SHOCK_WAVE\", \"VOLT_TACKLE\", \"CHARM\", \"DRAININGKISS\", \"PLAY_ROUGH\", \"MOONBLAST\", \"MACH_PUNCH\", \"SUPERPOWER\", \"CLOSE_COMBAT\", \"DRAIN_PUNCH\", \"WILL_O_WISP\", \"FLARE_BLITZ\", \"BLAST_BURN\", \"ROOST\", \"AIR_CUTTER\", \"AERIAL_ACE\", \"AIR_SLASH\", \"BRAVE_BIRD\", \"HURRICANE\", \"SHADOW_BALL\", \"SHADOW_PUNCH\", \"SHADOW_SNEAK\", \"SHADOW_CLAW\", \"GIGA_DRAIN\", \"MAGICAL_LEAF\", \"BULLET_SEED\", \"LEAF_STORM\", \"ENERGY_BALL\", \"FRENZY_PLANT\", \"MUD_SLAP\", \"MUD_SHOT\", \"ICICLE_SPEAR\", \"ICICLE_CRASH\", \"GUNK_SHOT\", \"SLUDGE_WAVE\", \"MIRROR_COAT\", \"ZEN_HEADBUTT\", \"PSYCHO_CUT\", \"ROCK_TOMB\", \"HEAD_SMASH\", \"STONE_EDGE\", \"ACCELEROCK\", \"IRON_TAIL\", \"STEEL_WING\", \"METAL_CLAW\", \"METEOR_MASH\", \"BULLET_PUNCH\", \"FLASH_CANNON\", \"WATER_PULSE\", \"AQUA_JET\", \"SCALD\", \"HYDRO_CANNON\", \"ANCESTOR_PWR\", ]\n",
    "listOfTypes = ['NORMAL', 'FIGHTING', 'FLYING', 'POISON', 'GROUND', 'ROCK', 'BUG', 'GHOST', 'STEEL', 'FIRE', 'WATER', 'GRASS', 'ELECTRIC', 'PSYCHIC_TYPE', 'ICE', 'DRAGON', 'DARK', 'FAIRY', ]\n",
    "allExtremeYellowMoves = ['POUND', 'KARATE_CHOP', 'COMET_PUNCH', 'MEGA_PUNCH', 'PAY_DAY', 'FIRE_PUNCH', 'ICE_PUNCH', 'THUNDERPUNCH', 'SCRATCH', 'GUILLOTINE', 'SWORDS_DANCE', 'CUT', 'GUST', 'WING_ATTACK', 'FLY', 'BIND', 'SLAM', 'VINE_WHIP', 'STOMP', 'DOUBLE_KICK', 'JUMP_KICK', 'ROLLING_KICK', 'SAND_ATTACK', 'HEADBUTT', 'HORN_ATTACK', 'FURY_ATTACK', 'HORN_DRILL', 'TACKLE', 'BODY_SLAM', 'WRAP', 'TAKE_DOWN', 'THRASH', 'DOUBLE_EDGE', 'POISON_STING', 'TWINEEDLE', 'PIN_MISSILE', 'LEER', 'BITE', 'GROWL', 'SING', 'SUPERSONIC', 'SONICBOOM', 'DISABLE', 'ACID', 'EMBER', 'FLAMETHROWER', 'MIST', 'WATER_GUN', 'HYDRO_PUMP', 'SURF', 'ICE_BEAM', 'BLIZZARD', 'PSYBEAM', 'BUBBLEBEAM', 'AURORA_BEAM', 'HYPER_BEAM', 'PECK', 'DRILL_PECK', 'SUBMISSION', 'LOW_KICK', 'COUNTER', 'SEISMIC_TOSS', 'STRENGTH', 'ABSORB', 'MEGA_DRAIN', 'LEECH_SEED', 'GROWTH', 'RAZOR_LEAF', 'SOLARBEAM', 'POISONPOWDER', 'STUN_SPORE', 'SLEEP_POWDER', 'PETAL_DANCE', 'STRING_SHOT', 'DRAGON_RAGE', 'FIRE_SPIN', 'THUNDERSHOCK', 'THUNDERBOLT', 'THUNDER_WAVE', 'THUNDER', 'ROCK_THROW', 'EARTHQUAKE', 'FISSURE', 'DIG', 'TOXIC', 'CONFUSION', 'PSYCHIC_M', 'HYPNOSIS', 'MEDITATE', 'AGILITY', 'QUICK_ATTACK', 'TELEPORT', 'NIGHT_SHADE', 'MIMIC', 'SCREECH', 'DOUBLE_TEAM', 'RECOVER', 'HARDEN', 'MINIMIZE', 'SMOKESCREEN', 'CONFUSE_RAY', 'DEFENSE_CURL', 'BARRIER', 'LIGHT_SCREEN', 'HAZE', 'REFLECT', 'FOCUS_ENERGY', 'BIDE', 'METRONOME', 'MIRROR_MOVE', 'SELFDESTRUCT', 'LICK', 'SMOG', 'SLUDGE', 'BONE_CLUB', 'FIRE_BLAST', 'WATERFALL', 'CLAMP', 'SWIFT', 'SPIKE_CANNON', 'AMNESIA', 'SOFTBOILED', 'HI_JUMP_KICK', 'GLARE', 'DREAM_EATER', 'POISON_GAS', 'BARRAGE', 'LEECH_LIFE', 'LOVELY_KISS', 'TRANSFORM', 'BUBBLE', 'DIZZY_PUNCH', 'SPORE', 'FLASH', 'PSYWAVE', 'SPLASH', 'ACID_ARMOR', 'CRABHAMMER', 'EXPLOSION', 'FURY_SWIPES', 'BONEMERANG', 'REST', 'ROCK_SLIDE', 'HYPER_FANG', 'CONVERSION', 'TRI_ATTACK', 'SUPER_FANG', 'SLASH', 'SUBSTITUTE', 'MEGAHORN', 'X_SCISSOR', 'INFESTATION', 'FEINT_ATTACK', 'CRUNCH', 'NIGHT_SLASH', 'DARK_PULSE', 'TWISTER', 'DRAGONBREATH', 'OUTRAGE', 'DRAGON_CLAW', 'ZAP_CANNON', 'SHOCK_WAVE', 'VOLT_TACKLE', 'CHARM', 'DRAININGKISS', 'PLAY_ROUGH', 'MOONBLAST', 'MACH_PUNCH', 'SUPERPOWER', 'CLOSE_COMBAT', 'DRAIN_PUNCH', 'WILL_O_WISP', 'FLARE_BLITZ', 'BLAST_BURN', 'HEAT_WAVE', 'ROOST', 'AIR_CUTTER', 'AERIAL_ACE', 'AIR_SLASH', 'BRAVE_BIRD', 'HURRICANE', 'SHADOW_BALL', 'SHADOW_PUNCH', 'SHADOW_SNEAK', 'SHADOW_CLAW', 'GIGA_DRAIN', 'MAGICAL_LEAF', 'BULLET_SEED', 'LEAF_STORM', 'ENERGY_BALL', 'FRENZY_PLANT', 'MUD_SLAP', 'MUD_SHOT', 'ICICLE_SPEAR', 'ICICLE_CRASH', 'EXTREMESPEED', 'GUNK_SHOT', 'SLUDGE_WAVE', 'MIRROR_COAT', 'ZEN_HEADBUTT', 'PSYCHO_CUT', 'ROCK_TOMB', 'HEAD_SMASH', 'STONE_EDGE', 'ACCELEROCK', 'IRON_TAIL', 'STEEL_WING', 'METAL_CLAW', 'METEOR_MASH', 'BULLET_PUNCH', 'FLASH_CANNON', 'WATER_PULSE', 'AQUA_JET', 'SCALD', 'HYDRO_CANNON', 'ANCESTOR_PWR']\n",
    "allExtremeYellowMoves_BP = ['40', '50', '18', '80', '40', '75', '75', '75', '40', '1', '0', '50', '40', '60', '90', '15', '80', '45', '65', '30', '70', '60', '0', '70', '65', '15', '1', '35', '85', '15', '90', '120', '120', '15', '25', '25', '0', '60', '0', '0', '0', '1', '0', '40', '40', '95', '0', '40', '120', '95', '95', '120', '65', '65', '65', '150', '35', '80', '80', '50', '1', '1', '80', '20', '40', '0', '0', '55', '120', '0', '0', '0', '120', '0', '1', '15', '40', '95', '0', '120', '50', '100', '1', '100', '0', '50', '90', '0', '0', '0', '40', '0', '0', '0', '0', '0', '0', '0', '0', '0', '0', '0', '0', '0', '0', '0', '0', '0', '0', '0', '200', '30', '30', '65', '65', '120', '80', '35', '60', '20', '0', '0', '85', '0', '100', '0', '15', '80', '0', '0', '20', '70', '0', '0', '1', '0', '0', '100', '250', '18', '50', '0', '75', '80', '0', '80', '1', '70', '0', '120', '80', '20', '60', '80', '70', '80', '40', '60', '120', '80', '120', '60', '120', '0', '50', '90', '95', '40', '120', '120', '75', '0', '120', '150', '100', '0', '60', '60', '75', '120', '110', '80', '60', '40', '70', '75', '60', '25', '130', '90', '150', '20', '55', '25', '85', '80', '120', '95', '1', '80', '70', '60', '150', '100', '40', '100', '70', '50', '100', '40', '80', '60', '40', '80', '150', '1', ]\n",
    "allExtremeYellowMoves_Types = ['NORMAL', 'FIGHTING', 'NORMAL', 'NORMAL', 'NORMAL', 'FIRE', 'ICE', 'ELECTRIC', 'NORMAL', 'NORMAL', 'NORMAL', 'NORMAL', 'FLYING', 'FLYING', 'FLYING', 'NORMAL', 'NORMAL', 'GRASS', 'NORMAL', 'FIGHTING', 'FIGHTING', 'FIGHTING', 'NORMAL', 'NORMAL', 'NORMAL', 'NORMAL', 'NORMAL', 'NORMAL', 'NORMAL', 'NORMAL', 'NORMAL', 'NORMAL', 'NORMAL', 'POISON', 'BUG', 'BUG', 'NORMAL', 'DARK', 'NORMAL', 'NORMAL', 'NORMAL', 'NORMAL', 'NORMAL', 'POISON', 'FIRE', 'FIRE', 'ICE', 'WATER', 'WATER', 'WATER', 'ICE', 'ICE', 'PSYCHIC_TYPE', 'WATER', 'ICE', 'NORMAL', 'FLYING', 'FLYING', 'FIGHTING', 'FIGHTING', 'FIGHTING', 'FIGHTING', 'NORMAL', 'GRASS', 'GRASS', 'GRASS', 'NORMAL', 'GRASS', 'GRASS', 'POISON', 'GRASS', 'GRASS', 'GRASS', 'BUG', 'DRAGON', 'FIRE', 'ELECTRIC', 'ELECTRIC', 'ELECTRIC', 'ELECTRIC', 'ROCK', 'GROUND', 'GROUND', 'GROUND', 'POISON', 'PSYCHIC_TYPE', 'PSYCHIC_TYPE', 'PSYCHIC_TYPE', 'PSYCHIC_TYPE', 'PSYCHIC_TYPE', 'NORMAL', 'PSYCHIC_TYPE', 'GHOST', 'NORMAL', 'NORMAL', 'NORMAL', 'NORMAL', 'NORMAL', 'NORMAL', 'NORMAL', 'GHOST', 'NORMAL', 'PSYCHIC_TYPE', 'PSYCHIC_TYPE', 'ICE', 'PSYCHIC_TYPE', 'NORMAL', 'NORMAL', 'NORMAL', 'FLYING', 'NORMAL', 'GHOST', 'POISON', 'POISON', 'GROUND', 'FIRE', 'WATER', 'WATER', 'NORMAL', 'NORMAL', 'PSYCHIC_TYPE', 'NORMAL', 'FIGHTING', 'NORMAL', 'PSYCHIC_TYPE', 'POISON', 'NORMAL', 'BUG', 'NORMAL', 'NORMAL', 'WATER', 'NORMAL', 'GRASS', 'NORMAL', 'PSYCHIC_TYPE', 'NORMAL', 'POISON', 'WATER', 'NORMAL', 'NORMAL', 'GROUND', 'PSYCHIC_TYPE', 'ROCK', 'NORMAL', 'NORMAL', 'NORMAL', 'NORMAL', 'NORMAL', 'NORMAL', 'BUG', 'BUG', 'BUG', 'DARK', 'DARK', 'DARK', 'DARK', 'DRAGON', 'DRAGON', 'DRAGON', 'DRAGON', 'ELECTRIC', 'ELECTRIC', 'ELECTRIC', 'FAIRY', 'FAIRY', 'FAIRY', 'FAIRY', 'FIGHTING', 'FIGHTING', 'FIGHTING', 'FIGHTING', 'FIRE', 'FIRE', 'FIRE', 'FIRE', 'FLYING', 'FLYING', 'FLYING', 'FLYING', 'FLYING', 'FLYING', 'GHOST', 'GHOST', 'GHOST', 'GHOST', 'GRASS', 'GRASS', 'GRASS', 'GRASS', 'GRASS', 'GRASS', 'GROUND', 'GROUND', 'ICE', 'ICE', 'NORMAL', 'POISON', 'POISON', 'PSYCHIC_TYPE', 'PSYCHIC_TYPE', 'PSYCHIC_TYPE', 'ROCK', 'ROCK', 'ROCK', 'ROCK', 'STEEL', 'STEEL', 'STEEL', 'STEEL', 'STEEL', 'STEEL', 'WATER', 'WATER', 'WATER', 'WATER', 'WATER', ]\n",
    "\n",
    "allExtremeYellowTHMs = ['MEGA_PUNCH', 'MEGAHORN', 'SWORDS_DANCE', 'COUNTER', 'DRAGON_CLAW', 'TOXIC', 'DARK_PULSE', 'BODY_SLAM', 'METEOR_MASH', 'DOUBLE_EDGE', 'BUBBLEBEAM', 'METRONOME', 'ICE_BEAM', 'BLIZZARD', 'HYPER_BEAM', 'MIRROR_COAT', 'DRAININGKISS', 'FLASH_CANNON', 'SEISMIC_TOSS', 'FEINT_ATTACK', 'GIGA_DRAIN', 'STONE_EDGE', 'WILL_O_WISP', 'THUNDERBOLT', 'THUNDER', 'EARTHQUAKE', 'FISSURE', 'DIG', 'PSYCHIC_M', 'MOONBLAST', 'MIMIC', 'DOUBLE_TEAM', 'REFLECT', 'BIDE', 'HYDRO_PUMP', 'SELFDESTRUCT', 'CLOSE_COMBAT', 'FIRE_BLAST', 'SHADOW_SNEAK', 'OUTRAGE', 'BRAVE_BIRD', 'REST', 'GUNK_SHOT', 'X_SCISSOR', 'THUNDER_WAVE', 'PSYWAVE', 'EXPLOSION', 'ROCK_SLIDE', 'SHADOW_BALL', 'SUBSTITUTE', ]\n",
    "allExtremeYellowTHMs += ['CUT', 'FLY', 'SURF', 'STRENGTH', 'FLASH', ]\n",
    "\n",
    "spuriousBulbaSymbols = ['×', '^', '*', ]\n",
    "specialCase_MovesIn  = ['Solar Beam', 'High Jump Kick', 'Bubble Beam', 'Sonic Boom', 'Soft-Boiled', 'Psychic', 'Withdraw', 'Tail Whip']\n",
    "specialCase_MovesOut = ['SolarBeam', 'Hi Jump Kick', 'BubbleBeam', 'SONICBOOM', 'SOFTBOILED', 'Psychic_M', 'DEFENSE_CURL', 'LEER']\n"
   ]
  },
  {
   "cell_type": "code",
   "execution_count": 57,
   "id": "30481117",
   "metadata": {},
   "outputs": [],
   "source": [
    "# Web Scraping\n",
    "class Gens(Enum):\n",
    "    GEN1 = 'I'\n",
    "    GEN2 = 'II'\n",
    "    GEN3 = 'III'\n",
    "    GEN4 = 'IV'\n",
    "    GEN5 = 'V'\n",
    "    GEN6 = 'VI'\n",
    "    GEN7 = 'VII'\n",
    "    GEN8 = 'VIII'\n",
    "    GEN9 = 'IX'\n",
    "\n",
    "\n",
    "def get_moves_url(pokemon, gen):\n",
    "    return 'https://bulbapedia.bulbagarden.net/wiki/' + pokemon + '_(Pokémon)/Generation_'+ gen.value + '_learnset'\n",
    "\n",
    "\n",
    "def get_learnset_tables(url):\n",
    "    try:\n",
    "        response = requests.get(url)\n",
    "        response.raise_for_status()\n",
    "    except requests.exceptions.RequestException as e:\n",
    "        print(\"Error fetching URL:\", e)\n",
    "        return []\n",
    "    \n",
    "    soup = BeautifulSoup(response.content, 'html.parser')\n",
    "    tables = soup.find_all('table', class_='roundy')\n",
    "    return tables\n",
    "\n",
    "def process_learnset_tables(tables):\n",
    "    processed_tables = []\n",
    "    for table in tables:\n",
    "        # check if the table contains a sortable table\n",
    "        sortable_table = table.find('table', class_='sortable')\n",
    "        if sortable_table:\n",
    "            processed_tables.append(sortable_table)\n",
    "        else:\n",
    "            # remove rows with roundytop or roundybottom classes from the table\n",
    "            for row in table.find_all('tr'):\n",
    "                if row.find_all('td', {'class': ['roundytop', 'roundybottom']}):\n",
    "                    #print(\"Before: \", row)\n",
    "                    row.decompose()\n",
    "                    #print(\"After: \", row)\n",
    "            processed_tables.append(table)\n",
    "    \n",
    "    filtered_tables = [table for table in processed_tables \n",
    "                   if table.find('tbody') is not None]\n",
    "\n",
    "    #for table in filtered_tables:\n",
    "       # print(table.prettify())\n",
    "        \n",
    "    return filtered_tables"
   ]
  },
  {
   "cell_type": "code",
   "execution_count": 66,
   "id": "077789cc-7fba-4547-967f-516489225b32",
   "metadata": {
    "tags": []
   },
   "outputs": [],
   "source": [
    "# Table processing\n",
    "# --------------------------------------------------------------\n",
    "\n",
    "\n",
    "#def findMoveColumnIndex(headerCells, columnName):\n",
    "#    print (pd.DataFrame(parse_other_table(table), columns=['Move']).tolist())\n",
    "\n",
    "def parse_table(table, extractor):\n",
    "    rows = table.find_all('tr')[1:]\n",
    "    learnset = []\n",
    "    for row in rows:\n",
    "        tableCells = row.find_all('td')\n",
    "        move = extractor(tableCells)\n",
    "        if move != \"\":\n",
    "            learnset.append(move)\n",
    "    return learnset\n",
    "\n",
    "\n",
    "def get_level_move_extractor(level_index, move_index):\n",
    "    def extract_level_move(table_cells):\n",
    "        level_cell = table_cells[level_index]\n",
    "        if level_cell.find('span') is not None:\n",
    "            level_text = level_cell.find('span').get_text(strip=True).lstrip('0')\n",
    "        else:\n",
    "            level_text = level_cell.get_text(strip=True).lstrip('0')\n",
    "        move_text = table_cells[move_index].get_text(strip=True)\n",
    "        return level_text, move_text\n",
    "    return extract_level_move\n",
    "\n",
    "def get_move_extractor(index):\n",
    "    return lambda tableCells: (\n",
    "        \"\" if (len(tableCells) <= index) else tableCells[index].get_text(strip=True))\n",
    "\n",
    "def findColumnIndex(headerCells, columnName):\n",
    "    index = None\n",
    "    for i, headerCell in enumerate(headerCells):\n",
    "        header_text = headerCell.get_text(strip=True).lower()\n",
    "        if columnName.lower() in header_text:\n",
    "            index = i\n",
    "            break\n",
    "    return index\n",
    "\n",
    "\n",
    "def parse_leveling_table(table):\n",
    "    headerCells = table.find_all('th')\n",
    "    moveColIndex = findColumnIndex(headerCells, 'move')\n",
    "\n",
    "    ## find the index of the column that contains the level\n",
    "    levelColIndex = findColumnIndex(headerCells, 'level')\n",
    "    smColIndex = findColumnIndex(headerCells, 'sm')\n",
    "    yColIndex = findColumnIndex(headerCells, 'y')\n",
    "    rgbColIndex = findColumnIndex(headerCells, 'rgb')\n",
    "#    LearnColIndex = findColumnIndex(headerCells, 'Learn')\n",
    "#    MasteryColIndex = findColumnIndex(headerCells, 'Mastery')\n",
    "\n",
    "    colIndices = [levelColIndex, smColIndex, yColIndex, rgbColIndex]\n",
    "#    colIndices = [levelColIndex, smColIndex, yColIndex, rgbColIndex, LearnColIndex, MasteryColIndex]\n",
    "\n",
    "    if all(col_index is None for col_index in colIndices) or moveColIndex is None:\n",
    "        print('No Level or sm or move column found')\n",
    "        return []\n",
    "    \n",
    "    levelIndex = find_first_not_none(colIndices)\n",
    "    extractor = get_level_move_extractor(levelIndex, moveColIndex)\n",
    "    return parse_table(table, extractor)\n",
    "\n",
    "def find_first_not_none(lst):\n",
    "    for element in lst:\n",
    "        if element is not None:\n",
    "            return element\n",
    "    return None\n",
    "\n",
    "def parse_other_table_2(table):\n",
    "    headerCells = table.find_all('th')\n",
    "    rightIndex = False\n",
    "    idx_temp = 0\n",
    "    learnset = []\n",
    "    while (idx_temp<len(headerCells)) and (rightIndex==False):\n",
    "        move_extractor = get_move_extractor(idx_temp) # get the lambda function\n",
    "        learnset = parse_table(table, move_extractor) # pass lambda function to parse_table\n",
    "        for move_test in learnset:\n",
    "            if move_test in listOfAllMoves:\n",
    "                rightIndex = True\n",
    "                break\n",
    "        idx_temp+=1\n",
    "    return learnset\n",
    "\n",
    "\n",
    "def main(tables, verbose=True):\n",
    "    leveling_learnset = parse_leveling_table(tables[0])    \n",
    "    other_learnset = set()\n",
    "    \n",
    "    for table in tables[1:]:\n",
    "        learnset = parse_other_table_2(table)\n",
    "        if verbose:\n",
    "            print('table number #'+str(tables.index(table)))\n",
    "            print(learnset)\n",
    "            print('---')\n",
    "        other_learnset.update(learnset)\n",
    "            \n",
    "    leveling_df = pd.DataFrame(leveling_learnset, columns=['Level', 'Move'])\n",
    "    moves_df = pd.DataFrame(other_learnset, columns=['Move'])\n",
    "\n",
    "    if verbose:\n",
    "        print(\"Leveling Learnset:\")\n",
    "        print(leveling_df)\n",
    "        print(\"\\nMoves All other Learnsets:\")\n",
    "        print(moves_df)\n",
    "    \n",
    "    return leveling_df, moves_df"
   ]
  },
  {
   "cell_type": "code",
   "execution_count": 67,
   "id": "37875fab",
   "metadata": {},
   "outputs": [],
   "source": [
    "# Assembly stuff??\n",
    "def convertFromBulbapediaToAsm(listMovesIn, symbolsToPurge=spuriousBulbaSymbols):\n",
    "    listMovesOut = []\n",
    "    for movetemp in listMovesIn:\n",
    "        \n",
    "        for symboltemp in symbolsToPurge:\n",
    "            movetemp = movetemp.replace(symboltemp, '')\n",
    "            \n",
    "        for specialMoveIn in specialCase_MovesIn:\n",
    "            if movetemp==specialMoveIn:\n",
    "                movetemp = specialCase_MovesOut[specialCase_MovesIn.index(movetemp)]\n",
    "            \n",
    "        if len(movetemp)<=12:\n",
    "            movetemp = movetemp.replace('-', '_')\n",
    "            movetemp = movetemp.replace(' ', '_')\n",
    "        else:\n",
    "            movetemp = movetemp.replace('-', '')\n",
    "            movetemp = movetemp.replace(' ', '')\n",
    "        movefixed = movetemp.upper()\n",
    "        listMovesOut.append(movefixed)\n",
    "    \n",
    "    return listMovesOut\n",
    "\n",
    "def filterMovesByExtremeYellow(listMovesIn, listLvlsIn=None, lvlEvo=100):\n",
    "    listMovesOut = []\n",
    "    listMovesOut_Absent = []\n",
    "    if listLvlsIn!=None:\n",
    "        listLvlsOut = []\n",
    "        listLvlsOut_Absent = []\n",
    "        \n",
    "    for idxMove in range(len(listMovesIn)):\n",
    "        movetemp = listMovesIn[idxMove]\n",
    "        if listLvlsIn!=None:\n",
    "            lvltemp = listLvlsIn[idxMove]\n",
    "            if lvltemp=='Evo.':\n",
    "                lvltemp = lvlEvo\n",
    "            if lvltemp=='N/A':\n",
    "                lvltemp = 999\n",
    "            lvltemp=int(lvltemp)\n",
    "        \n",
    "        if movetemp in allExtremeYellowMoves:\n",
    "            listMovesOut.append(movetemp)\n",
    "            listLvlsOut.append(lvltemp) if listLvlsIn!=None else _\n",
    "        else:\n",
    "            listMovesOut_Absent.append(movetemp)\n",
    "            listLvlsOut_Absent.append(lvltemp) if listLvlsIn!=None else _\n",
    "\n",
    "    if listLvlsIn!=None:\n",
    "        return listMovesOut, listMovesOut_Absent, listLvlsOut, listLvlsOut_Absent\n",
    "    else:\n",
    "        return listMovesOut, listMovesOut_Absent\n",
    "    \n",
    "def sortEvoMove(moves, levels):\n",
    "    idx=1\n",
    "    found=False\n",
    "    while (idx<len(levels)-1) and found==False:\n",
    "        if not ((levels[idx]>=levels[idx-1]) and (levels[idx]<=levels[idx+1])):\n",
    "            found=True\n",
    "        else:\n",
    "            idx+=1\n",
    "            \n",
    "    if found:\n",
    "        moveToMove = moves[idx]\n",
    "        levelToMove = levels[idx]\n",
    "        moves.pop(idx)\n",
    "        levels.pop(idx)\n",
    "\n",
    "        if levelToMove>max(levels):\n",
    "            moves.append(moveToMove)\n",
    "            levels.append(levelToMove)\n",
    "        else:\n",
    "            idxnew=0\n",
    "            while not ((levels[idxnew]<=levelToMove) and (levels[idxnew+1]>=levelToMove)):\n",
    "                idxnew+=1\n",
    "            levels_left = levels[:idxnew+1]\n",
    "            levels_right = levels[idxnew+1:]\n",
    "            moves_left = moves[:idxnew+1]\n",
    "            moves_right = moves[idxnew+1:]\n",
    "            levels_left.append(levelToMove)\n",
    "            moves_left.append(moveToMove)\n",
    "            levels = levels_left + levels_right\n",
    "            moves = moves_left + moves_right\n",
    "    return moves, levels\n",
    "    \n",
    "def extractLvl1MovesGen1(moves_LvlUp_Gen1, lvls_LvlUp_Gen1):\n",
    "    listhere = []\n",
    "    for idx in range(len(moves_LvlUp_Gen1)):\n",
    "        if lvls_LvlUp_Gen1[idx]==1:\n",
    "            listhere.append(moves_LvlUp_Gen1[idx])\n",
    "    return listhere\n",
    "\n",
    "def removeLvl1MovesGen1(moves_LvlUp_Gen1, lvls_LvlUp_Gen1):\n",
    "    attempRemoveFirst = True\n",
    "    while attempRemoveFirst:\n",
    "        if (len(lvls_LvlUp_Gen1) > 0 and lvls_LvlUp_Gen1[0]==1):\n",
    "            lvls_LvlUp_Gen1.pop(0)\n",
    "            moves_LvlUp_Gen1.pop(0)\n",
    "        else:\n",
    "            attempRemoveFirst=False\n",
    "            \n",
    "def sortTHMsByEY(listMovesIn):\n",
    "    listMovesOut = []\n",
    "    for movehere in allExtremeYellowTHMs:\n",
    "        if movehere in listMovesIn:\n",
    "            listMovesOut.append(movehere)\n",
    "    return listMovesOut\n",
    "\n",
    "if False:\n",
    "    def omniPrinter():\n",
    "        print('\\tLevel 1 moves:')\n",
    "        toPrint_moves_Lvl1_Gen1_inEY = ''\n",
    "        for movehere in moves_Lvl1_Gen1_inEY:\n",
    "            toPrint_moves_Lvl1_Gen1_inEY += (movehere+', ')\n",
    "        print(toPrint_moves_Lvl1_Gen1_inEY[:-2])\n",
    "        print('\\n')\n",
    "\n",
    "        print('\\tLevel-up moves:')\n",
    "        toPrint_levelUpMoves_tentative = ''\n",
    "        for idx in range(len(levelUpMoves_tentative)):\n",
    "            toPrint_levelUpMoves_tentative += (str(levelUpLevels_tentative[idx])+' '+str(levelUpMoves_tentative[idx])+' ; ')\n",
    "        print(toPrint_levelUpMoves_tentative[:-3])\n",
    "        print('\\n')\n",
    "\n",
    "        print('\\tOther moves (not THMs in EY):')\n",
    "        toPrint_moves_Others_Gen1AndNew_inEY_NoTHMs = ''\n",
    "        for movehere in moves_Others_Gen1AndNew_inEY_NoTHMs:\n",
    "            toPrint_moves_Others_Gen1AndNew_inEY_NoTHMs += (movehere+', ')\n",
    "        print(toPrint_moves_Others_Gen1AndNew_inEY_NoTHMs[:-2])\n",
    "        print('\\n')\n",
    "\n",
    "        print('\\tTHMs:')\n",
    "        toPrint_moves_Others_Gen1AndNew_inEY_THMs = ''\n",
    "        for movehere in moves_Others_Gen1AndNew_inEY_THMs:\n",
    "            toPrint_moves_Others_Gen1AndNew_inEY_THMs += (movehere+', ')\n",
    "        print(toPrint_moves_Others_Gen1AndNew_inEY_THMs[:-2])\n",
    "        print('\\n')\n",
    "\n",
    "        print('\\tUnused moves (not THMs):')\n",
    "    #    toPrint_unusedMovesNotTHMs = ''\n",
    "    #    for movehere in unusedMovesNotTHMs:\n",
    "    #        toPrint_unusedMovesNotTHMs += (movehere+', ')\n",
    "    #    print(toPrint_unusedMovesNotTHMs[:-2])\n",
    "        for typehere in listOfTypes:\n",
    "            print('* '+typehere+':')\n",
    "            toPrint_unusedMovesNotTHMs_typehere = ''\n",
    "            for idxhere in range(len(allExtremeYellowMoves_Types)):\n",
    "                if allExtremeYellowMoves_Types[idxhere]==typehere:\n",
    "                    if allExtremeYellowMoves[idxhere] in unusedMovesNotTHMs:\n",
    "                        toPrint_unusedMovesNotTHMs_typehere += (allExtremeYellowMoves[idxhere]+', ')\n",
    "            if len(toPrint_unusedMovesNotTHMs_typehere)>0:\n",
    "                toPrint_unusedMovesNotTHMs_typehere = toPrint_unusedMovesNotTHMs_typehere[:-2]\n",
    "            print(toPrint_unusedMovesNotTHMs_typehere)\n",
    "        print('\\n')\n",
    "\n",
    "        print('\\tUnused moves (THMs):')\n",
    "    #    toPrint_unusedTHMs = ''\n",
    "    #    for movehere in unusedTHMs:\n",
    "    #        toPrint_unusedTHMs += (movehere+', ')\n",
    "    #    print(toPrint_unusedTHMs[:-2])  \n",
    "        for typehere in listOfTypes:\n",
    "            print('* '+typehere+':')\n",
    "            toPrint_unusedTHMs_typehere = ''\n",
    "            for idxhere in range(len(allExtremeYellowMoves_Types)):\n",
    "                if allExtremeYellowMoves_Types[idxhere]==typehere:\n",
    "                    if allExtremeYellowMoves[idxhere] in unusedTHMs:\n",
    "                        toPrint_unusedTHMs_typehere += (allExtremeYellowMoves[idxhere]+', ')\n",
    "            if len(toPrint_unusedTHMs_typehere)>0:\n",
    "                toPrint_unusedTHMs_typehere = toPrint_unusedTHMs_typehere[:-2]\n",
    "            print(toPrint_unusedTHMs_typehere)"
   ]
  },
  {
   "cell_type": "code",
   "execution_count": 92,
   "id": "ea2d88cd",
   "metadata": {},
   "outputs": [],
   "source": [
    "# Titanic function\n",
    "def hugeFunction(tableOld, tableNew, customMoves=False):\n",
    "    if len(tableOld)>0:\n",
    "        # read all the relevant info\n",
    "\n",
    "        df_LvlUpMovesGen1, df_OtherMovesGen1 = main(tableOld, verbose=False)\n",
    "        df_LvlUpMovesGenNew, df_OtherMovesGenNew = main(tableNew, verbose=False)\n",
    "\n",
    "        movesFromScaper_LvlUp_Gen1 = df_LvlUpMovesGen1['Move'].tolist()\n",
    "        levelsFromScaper_LvlUp_Gen1 = df_LvlUpMovesGen1['Level'].tolist()\n",
    "        movesFromScaper_Others_Gen1 = df_OtherMovesGen1['Move'].tolist()\n",
    "\n",
    "        movesFromScaper_LvlUp_GenNew = df_LvlUpMovesGenNew['Move'].tolist()\n",
    "        levelsFromScaper_LvlUp_GenNew = df_LvlUpMovesGenNew['Level'].tolist()\n",
    "        movesFromScaper_Others_GenNew = df_OtherMovesGenNew['Move'].tolist()\n",
    "\n",
    "        # convert into asm-friendly format\n",
    "\n",
    "        movesFromScaper_LvlUp_Gen1_AsmFormat = convertFromBulbapediaToAsm(movesFromScaper_LvlUp_Gen1)\n",
    "        movesFromScaper_Others_Gen1_AsmFormat = convertFromBulbapediaToAsm(movesFromScaper_Others_Gen1)\n",
    "\n",
    "        movesFromScaper_LvlUp_GenNew_AsmFormat = convertFromBulbapediaToAsm(movesFromScaper_LvlUp_GenNew)\n",
    "        movesFromScaper_Others_GenNew_AsmFormat = convertFromBulbapediaToAsm(movesFromScaper_Others_GenNew)\n",
    "\n",
    "        # take only Extreme Yellow moves\n",
    "\n",
    "        moves_LvlUp_Gen1_inEY, _, lvls_LvlUp_Gen1_inEY, _ = filterMovesByExtremeYellow(movesFromScaper_LvlUp_Gen1_AsmFormat, levelsFromScaper_LvlUp_Gen1)\n",
    "        moves_Others_Gen1_inEY, _ = filterMovesByExtremeYellow(movesFromScaper_Others_Gen1_AsmFormat)\n",
    "        moves_LvlUp_GenNew_inEY, _, lvls_LvlUp_GenNew_inEY, _ = filterMovesByExtremeYellow(movesFromScaper_LvlUp_GenNew_AsmFormat, levelsFromScaper_LvlUp_GenNew)\n",
    "        moves_LvlUp_GenNew_inEY, lvls_LvlUp_GenNew_inEY = sortEvoMove(moves_LvlUp_GenNew_inEY, lvls_LvlUp_GenNew_inEY)\n",
    "        moves_Others_GenNew_inEY, _ = filterMovesByExtremeYellow(movesFromScaper_Others_GenNew_AsmFormat)\n",
    "\n",
    "        # deal with LVL1 moves\n",
    "\n",
    "        moves_Lvl1_Gen1_inEY = extractLvl1MovesGen1(moves_LvlUp_Gen1_inEY, lvls_LvlUp_Gen1_inEY)\n",
    "        removeLvl1MovesGen1(moves_LvlUp_Gen1_inEY, lvls_LvlUp_Gen1_inEY)\n",
    "\n",
    "        # get \"proposal\" for level-up moves\n",
    "\n",
    "        if len(lvls_LvlUp_Gen1_inEY)>0 and len([x for x in lvls_LvlUp_GenNew_inEY if x!=1])>0:\n",
    "            minLevelLvlUpMove = min(min(lvls_LvlUp_Gen1_inEY), min([x for x in lvls_LvlUp_GenNew_inEY if x!=1]))\n",
    "        elif len(lvls_LvlUp_Gen1_inEY)>0:\n",
    "            minLevelLvlUpMove = min(lvls_LvlUp_Gen1_inEY)\n",
    "        elif len([x for x in lvls_LvlUp_GenNew_inEY if x!=1])>0:\n",
    "            minLevelLvlUpMove = min([x for x in lvls_LvlUp_GenNew_inEY if x!=1])\n",
    "        else:\n",
    "            minLevelLvlUpMove = 100\n",
    "        maxLevelLvlUpMove = 999\n",
    "\n",
    "        levelUpMoves_tentative = []\n",
    "        levelUpLevels_tentative = []\n",
    "\n",
    "        for levelHere in range(minLevelLvlUpMove,maxLevelLvlUpMove+1):\n",
    "            if levelHere in lvls_LvlUp_Gen1_inEY:\n",
    "                moveHere = moves_LvlUp_Gen1_inEY[lvls_LvlUp_Gen1_inEY.index(levelHere)]\n",
    "                if not moveHere in levelUpMoves_tentative:\n",
    "                    levelUpMoves_tentative.append(moveHere)\n",
    "                    levelUpLevels_tentative.append(levelHere)\n",
    "            if levelHere in lvls_LvlUp_GenNew_inEY:\n",
    "                moveHere = moves_LvlUp_GenNew_inEY[lvls_LvlUp_GenNew_inEY.index(levelHere)]\n",
    "                if not moveHere in levelUpMoves_tentative:\n",
    "                    levelUpMoves_tentative.append(moveHere)\n",
    "                    levelUpLevels_tentative.append(levelHere)\n",
    "\n",
    "        for idx in range(len(lvls_LvlUp_GenNew_inEY)):\n",
    "            if lvls_LvlUp_GenNew_inEY[idx]==1 and moves_LvlUp_GenNew_inEY[idx] not in levelUpMoves_tentative:\n",
    "                levelUpMoves_tentative.append(moves_LvlUp_GenNew_inEY[idx])\n",
    "                levelUpLevels_tentative.append(lvls_LvlUp_GenNew_inEY[idx])\n",
    "\n",
    "        # get \"other\" moves\n",
    "\n",
    "        moves_Others_Gen1AndNew_inEY = moves_Others_GenNew_inEY\n",
    "        for movegen1 in moves_Others_Gen1_inEY:\n",
    "            if movegen1 not in moves_Others_Gen1AndNew_inEY:\n",
    "                moves_Others_Gen1AndNew_inEY.append(movegen1)\n",
    "\n",
    "        # get last learnset\n",
    "\n",
    "        moves_Others_Gen1AndNew_inEY_THMs = []\n",
    "        moves_Others_Gen1AndNew_inEY_NoTHMs = []\n",
    "\n",
    "        for moveOthers in moves_Others_Gen1AndNew_inEY:\n",
    "            if moveOthers in allExtremeYellowTHMs:\n",
    "                moves_Others_Gen1AndNew_inEY_THMs.append(moveOthers)\n",
    "            else:\n",
    "                moves_Others_Gen1AndNew_inEY_NoTHMs.append(moveOthers)\n",
    "\n",
    "        moves_Others_Gen1AndNew_inEY_THMs = list(set(moves_Others_Gen1AndNew_inEY_THMs))\n",
    "        moves_Others_Gen1AndNew_inEY_NoTHMs = list(set(moves_Others_Gen1AndNew_inEY_NoTHMs))\n",
    "\n",
    "        unusedTHMs = []\n",
    "        for movehere in allExtremeYellowTHMs:\n",
    "            if movehere not in moves_Others_Gen1AndNew_inEY_THMs:\n",
    "                unusedTHMs.append(movehere)\n",
    "\n",
    "        # add moves that are in the lvlup learnsets AND in the \"unused THMs\" set, and remove them from the unusedTHMs list (e.g. DOUBLE_EDGE for Venusaur)\n",
    "        for movehere in unusedTHMs:\n",
    "            if (movehere in unusedTHMs) and (movehere in levelUpMoves_tentative):\n",
    "                moves_Others_Gen1AndNew_inEY_THMs.append(movehere)\n",
    "                unusedTHMs.remove(movehere)\n",
    "\n",
    "        # get what's left, may I want to add it ad-hoc\n",
    "\n",
    "        allPossibleMovesForThisMon = moves_Lvl1_Gen1_inEY + levelUpMoves_tentative + moves_Others_Gen1AndNew_inEY_THMs + moves_Others_Gen1AndNew_inEY_NoTHMs\n",
    "        unusedMovesNotTHMs = []\n",
    "        for movehere in allExtremeYellowMoves:\n",
    "            if (not movehere in allPossibleMovesForThisMon) and (not movehere in unusedTHMs):\n",
    "                unusedMovesNotTHMs.append(movehere)\n",
    "\n",
    "        moves_Others_Gen1AndNew_inEY_THMs = sortTHMsByEY(moves_Others_Gen1AndNew_inEY_THMs)\n",
    "        unusedTHMs = sortTHMsByEY(unusedTHMs)\n",
    "\n",
    "        print('\\tLevel 1 moves:')\n",
    "        toPrint_moves_Lvl1_Gen1_inEY = ''\n",
    "        for movehere in moves_Lvl1_Gen1_inEY:\n",
    "            toPrint_moves_Lvl1_Gen1_inEY += (movehere+', ')\n",
    "        print(toPrint_moves_Lvl1_Gen1_inEY[:-2])\n",
    "        print('\\n')\n",
    "\n",
    "        print('\\tLevel-up moves:')\n",
    "        toPrint_levelUpMoves_tentative = ''\n",
    "        for idx in range(len(levelUpMoves_tentative)):\n",
    "            toPrint_levelUpMoves_tentative += (str(levelUpLevels_tentative[idx])+' '+str(levelUpMoves_tentative[idx])+' ; ')\n",
    "        print(toPrint_levelUpMoves_tentative[:-3])\n",
    "        print('\\n')\n",
    "\n",
    "        print('\\tOther moves (not THMs in EY):')\n",
    "        toPrint_moves_Others_Gen1AndNew_inEY_NoTHMs = ''\n",
    "        for movehere in moves_Others_Gen1AndNew_inEY_NoTHMs:\n",
    "            # let's avoid moves that are already levelup ones\n",
    "            if not ((movehere in levelUpMoves_tentative) or (movehere in moves_Lvl1_Gen1_inEY)):\n",
    "                toPrint_moves_Others_Gen1AndNew_inEY_NoTHMs += (movehere+', ')\n",
    "        print(toPrint_moves_Others_Gen1AndNew_inEY_NoTHMs[:-2])\n",
    "        print('\\n')\n",
    "\n",
    "        print('\\tTHMs:')\n",
    "        toPrint_moves_Others_Gen1AndNew_inEY_THMs = ''\n",
    "        for movehere in moves_Others_Gen1AndNew_inEY_THMs:\n",
    "            toPrint_moves_Others_Gen1AndNew_inEY_THMs += (movehere+', ')\n",
    "        print(toPrint_moves_Others_Gen1AndNew_inEY_THMs[:-2])\n",
    "        print('\\n')\n",
    "\n",
    "        print('\\tUnused moves (not THMs):')\n",
    "    #    toPrint_unusedMovesNotTHMs = ''\n",
    "    #    for movehere in unusedMovesNotTHMs:\n",
    "    #        toPrint_unusedMovesNotTHMs += (movehere+', ')\n",
    "    #    print(toPrint_unusedMovesNotTHMs[:-2])\n",
    "        for typehere in listOfTypes:\n",
    "            print('* '+typehere+':')\n",
    "            toPrint_unusedMovesNotTHMs_typehere = ''\n",
    "            for idxhere in range(len(allExtremeYellowMoves_Types)):\n",
    "                if allExtremeYellowMoves_Types[idxhere]==typehere:\n",
    "                    if allExtremeYellowMoves[idxhere] in unusedMovesNotTHMs:\n",
    "                        toPrint_unusedMovesNotTHMs_typehere += (allExtremeYellowMoves[idxhere]+', ')\n",
    "            if len(toPrint_unusedMovesNotTHMs_typehere)>0:\n",
    "                toPrint_unusedMovesNotTHMs_typehere = toPrint_unusedMovesNotTHMs_typehere[:-2]\n",
    "            print(toPrint_unusedMovesNotTHMs_typehere)\n",
    "        print('\\n')\n",
    "\n",
    "        print('\\tUnused moves (THMs):')\n",
    "    #    toPrint_unusedTHMs = ''\n",
    "    #    for movehere in unusedTHMs:\n",
    "    #        toPrint_unusedTHMs += (movehere+', ')\n",
    "    #    print(toPrint_unusedTHMs[:-2])  \n",
    "        for typehere in listOfTypes:\n",
    "            print('* '+typehere+':')\n",
    "            toPrint_unusedTHMs_typehere = ''\n",
    "            for idxhere in range(len(allExtremeYellowMoves_Types)):\n",
    "                if allExtremeYellowMoves_Types[idxhere]==typehere:\n",
    "                    if allExtremeYellowMoves[idxhere] in unusedTHMs:\n",
    "                        toPrint_unusedTHMs_typehere += (allExtremeYellowMoves[idxhere]+', ')\n",
    "            if len(toPrint_unusedTHMs_typehere)>0:\n",
    "                toPrint_unusedTHMs_typehere = toPrint_unusedTHMs_typehere[:-2]\n",
    "            print(toPrint_unusedTHMs_typehere)\n",
    "            \n",
    "    else: # the mon didn't exist in gen1\n",
    "        # read all the relevant info\n",
    "\n",
    "        if not customMoves:\n",
    "            df_LvlUpMovesGenNew, df_OtherMovesGenNew = main(tableNew, verbose=False)\n",
    "\n",
    "            movesFromScaper_LvlUp_GenNew = df_LvlUpMovesGenNew['Move'].tolist()\n",
    "            levelsFromScaper_LvlUp_GenNew = df_LvlUpMovesGenNew['Level'].tolist()\n",
    "            movesFromScaper_Others_GenNew = df_OtherMovesGenNew['Move'].tolist()\n",
    "        else:\n",
    "            levelsFromScaper_LvlUp_GenNew = ['1', '1', '1', '1', '1', '100', '5', '8', '12', '17', '22', '26', '30', '35', '39', '44', '48', '53', '57',]\n",
    "            movesFromScaper_LvlUp_GenNew = ['Counter', 'Fling', 'Scratch', 'Leer', 'Focus Energy', 'Shadow Punch', 'Fury Swipes', 'Low Kick', 'Seismic Toss', 'Swagger', 'Cross Chop', 'Assurance', 'Thrash', 'Rage Fist', 'Close Combat', 'Screech', 'Stomping Tantrum', 'Outrage', 'Final Gambit', ]\n",
    "            movesFromScaper_Others_GenNew = ['Take Down', 'Scary Face', 'Protect', 'Low Kick', 'Acrobatics', 'Thief', 'Facade', 'Bulldoze', 'Swift', 'Rock Tomb', 'Low Sweep', 'Night Shade', 'Fling', 'Endure', 'Sunny Day', 'Rain Dance', 'Dig', 'Brick Break', 'U-turn', 'Shadow Claw', 'Bulk Up', 'Body Slam', 'Fire Punch', 'Thunder Punch', 'Ice Punch', 'Sleep Talk', 'Seed Bomb', 'Drain Punch', 'Metronome', 'Poison Jab', 'Stomping Tantrum', 'Rest', 'Rock Slide', 'Taunt', 'Gunk Shot', 'Substitute', 'Shadow Ball', 'Stealth Rock', 'Encore', 'Thunderbolt', 'Helping Hand', 'Reversal', 'Earthquake', 'Stone Edge', 'Phantom Force', 'Giga Impact', 'Outrage', 'Overheat', 'Focus Blast', 'Hyper Beam', 'Thunder', 'Close Combat', 'Tera Blast', ]\n",
    "\n",
    "        # convert into asm-friendly format\n",
    "\n",
    "        movesFromScaper_LvlUp_GenNew_AsmFormat = convertFromBulbapediaToAsm(movesFromScaper_LvlUp_GenNew)\n",
    "        movesFromScaper_Others_GenNew_AsmFormat = convertFromBulbapediaToAsm(movesFromScaper_Others_GenNew)\n",
    "\n",
    "        # take only Extreme Yellow moves\n",
    "\n",
    "        moves_LvlUp_GenNew_inEY, _, lvls_LvlUp_GenNew_inEY, _ = filterMovesByExtremeYellow(movesFromScaper_LvlUp_GenNew_AsmFormat, levelsFromScaper_LvlUp_GenNew)\n",
    "        moves_LvlUp_GenNew_inEY, lvls_LvlUp_GenNew_inEY = sortEvoMove(moves_LvlUp_GenNew_inEY, lvls_LvlUp_GenNew_inEY)\n",
    "        moves_Others_GenNew_inEY, _ = filterMovesByExtremeYellow(movesFromScaper_Others_GenNew_AsmFormat)\n",
    "\n",
    "        # deal with LVL1 moves\n",
    "\n",
    "        moves_Lvl1_GenNew_inEY = extractLvl1MovesGen1(moves_LvlUp_GenNew_inEY, lvls_LvlUp_GenNew_inEY)\n",
    "        removeLvl1MovesGen1(moves_LvlUp_GenNew_inEY, lvls_LvlUp_GenNew_inEY)\n",
    "\n",
    "        # get \"proposal\" for level-up moves\n",
    "\n",
    "        if len(lvls_LvlUp_GenNew_inEY)>0:\n",
    "            minLevelLvlUpMove = min(lvls_LvlUp_GenNew_inEY)\n",
    "        else:\n",
    "            minLevelLvlUpMove = 100\n",
    "        maxLevelLvlUpMove = 999\n",
    "\n",
    "        levelUpMoves_tentative = []\n",
    "        levelUpLevels_tentative = []\n",
    "\n",
    "        for levelHere in range(minLevelLvlUpMove,maxLevelLvlUpMove+1):\n",
    "            if levelHere in lvls_LvlUp_GenNew_inEY:\n",
    "                moveHere = moves_LvlUp_GenNew_inEY[lvls_LvlUp_GenNew_inEY.index(levelHere)]\n",
    "                if not moveHere in levelUpMoves_tentative:\n",
    "                    levelUpMoves_tentative.append(moveHere)\n",
    "                    levelUpLevels_tentative.append(levelHere)\n",
    "\n",
    "        for idx in range(len(lvls_LvlUp_GenNew_inEY)):\n",
    "            if lvls_LvlUp_GenNew_inEY[idx]==1 and moves_LvlUp_GenNew_inEY[idx] not in levelUpMoves_tentative:\n",
    "                levelUpMoves_tentative.append(moves_LvlUp_GenNew_inEY[idx])\n",
    "                levelUpLevels_tentative.append(lvls_LvlUp_GenNew_inEY[idx])\n",
    "\n",
    "        # get \"other\" moves\n",
    "\n",
    "        moves_Others_GenNew_inEY = moves_Others_GenNew_inEY\n",
    "\n",
    "        # get last learnset\n",
    "\n",
    "        moves_Others_GenNew_inEY_THMs = []\n",
    "        moves_Others_GenNew_inEY_NoTHMs = []\n",
    "\n",
    "        for moveOthers in moves_Others_GenNew_inEY:\n",
    "            if moveOthers in allExtremeYellowTHMs:\n",
    "                moves_Others_GenNew_inEY_THMs.append(moveOthers)\n",
    "            else:\n",
    "                moves_Others_GenNew_inEY_NoTHMs.append(moveOthers)\n",
    "\n",
    "        moves_Others_GenNew_inEY_THMs = list(set(moves_Others_GenNew_inEY_THMs))\n",
    "        moves_Others_GenNew_inEY_NoTHMs = list(set(moves_Others_GenNew_inEY_NoTHMs))\n",
    "\n",
    "        unusedTHMs = []\n",
    "        for movehere in allExtremeYellowTHMs:\n",
    "            if movehere not in moves_Others_GenNew_inEY_THMs:\n",
    "                unusedTHMs.append(movehere)\n",
    "\n",
    "        # add moves that are in the lvlup learnsets AND in the \"unused THMs\" set, and remove them from the unusedTHMs list (e.g. DOUBLE_EDGE for Venusaur)\n",
    "        for movehere in unusedTHMs:\n",
    "            if (movehere in unusedTHMs) and (movehere in levelUpMoves_tentative):\n",
    "                moves_Others_GenNew_inEY_THMs.append(movehere)\n",
    "                unusedTHMs.remove(movehere)\n",
    "\n",
    "        # get what's left, may I want to add it ad-hoc\n",
    "\n",
    "        allPossibleMovesForThisMon = moves_Lvl1_GenNew_inEY + levelUpMoves_tentative + moves_Others_GenNew_inEY_THMs + moves_Others_GenNew_inEY_NoTHMs\n",
    "        unusedMovesNotTHMs = []\n",
    "        for movehere in allExtremeYellowMoves:\n",
    "            if (not movehere in allPossibleMovesForThisMon) and (not movehere in unusedTHMs):\n",
    "                unusedMovesNotTHMs.append(movehere)\n",
    "\n",
    "        moves_Others_GenNew_inEY_THMs = sortTHMsByEY(moves_Others_GenNew_inEY_THMs)\n",
    "        unusedTHMs = sortTHMsByEY(unusedTHMs)\n",
    "\n",
    "        print('\\tLevel 1 moves:')\n",
    "        toPrint_moves_Lvl1_GenNew_inEY = ''\n",
    "        for movehere in moves_Lvl1_GenNew_inEY:\n",
    "            toPrint_moves_Lvl1_GenNew_inEY += (movehere+', ')\n",
    "        print(toPrint_moves_Lvl1_GenNew_inEY[:-2])\n",
    "        print('\\n')\n",
    "\n",
    "        print('\\tLevel-up moves:')\n",
    "        toPrint_levelUpMoves_tentative = ''\n",
    "        for idx in range(len(levelUpMoves_tentative)):\n",
    "            toPrint_levelUpMoves_tentative += (str(levelUpLevels_tentative[idx])+' '+str(levelUpMoves_tentative[idx])+' ; ')\n",
    "        print(toPrint_levelUpMoves_tentative[:-3])\n",
    "        print('\\n')\n",
    "\n",
    "        print('\\tOther moves (not THMs in EY):')\n",
    "        toPrint_moves_Others_GenNew_inEY_NoTHMs = ''\n",
    "        for movehere in moves_Others_GenNew_inEY_NoTHMs:\n",
    "            # let's avoid moves that are already levelup ones\n",
    "            if not ((movehere in levelUpMoves_tentative) or (movehere in moves_Lvl1_GenNew_inEY)):\n",
    "                toPrint_moves_Others_GenNew_inEY_NoTHMs += (movehere+', ')\n",
    "        print(toPrint_moves_Others_GenNew_inEY_NoTHMs[:-2])\n",
    "        print('\\n')\n",
    "\n",
    "        print('\\tTHMs:')\n",
    "        toPrint_moves_Others_GenNew_inEY_THMs = ''\n",
    "        for movehere in moves_Others_GenNew_inEY_THMs:\n",
    "            toPrint_moves_Others_GenNew_inEY_THMs += (movehere+', ')\n",
    "        print(toPrint_moves_Others_GenNew_inEY_THMs[:-2])\n",
    "        print('\\n')\n",
    "\n",
    "        print('\\tUnused moves (not THMs):')\n",
    "    #    toPrint_unusedMovesNotTHMs = ''\n",
    "    #    for movehere in unusedMovesNotTHMs:\n",
    "    #        toPrint_unusedMovesNotTHMs += (movehere+', ')\n",
    "    #    print(toPrint_unusedMovesNotTHMs[:-2])\n",
    "        for typehere in listOfTypes:\n",
    "            print('* '+typehere+':')\n",
    "            toPrint_unusedMovesNotTHMs_typehere = ''\n",
    "            for idxhere in range(len(allExtremeYellowMoves_Types)):\n",
    "                if allExtremeYellowMoves_Types[idxhere]==typehere:\n",
    "                    if allExtremeYellowMoves[idxhere] in unusedMovesNotTHMs:\n",
    "                        toPrint_unusedMovesNotTHMs_typehere += (allExtremeYellowMoves[idxhere]+', ')\n",
    "            if len(toPrint_unusedMovesNotTHMs_typehere)>0:\n",
    "                toPrint_unusedMovesNotTHMs_typehere = toPrint_unusedMovesNotTHMs_typehere[:-2]\n",
    "            print(toPrint_unusedMovesNotTHMs_typehere)\n",
    "        print('\\n')\n",
    "\n",
    "        print('\\tUnused moves (THMs):')\n",
    "    #    toPrint_unusedTHMs = ''\n",
    "    #    for movehere in unusedTHMs:\n",
    "    #        toPrint_unusedTHMs += (movehere+', ')\n",
    "    #    print(toPrint_unusedTHMs[:-2])  \n",
    "        for typehere in listOfTypes:\n",
    "            print('* '+typehere+':')\n",
    "            toPrint_unusedTHMs_typehere = ''\n",
    "            for idxhere in range(len(allExtremeYellowMoves_Types)):\n",
    "                if allExtremeYellowMoves_Types[idxhere]==typehere:\n",
    "                    if allExtremeYellowMoves[idxhere] in unusedTHMs:\n",
    "                        toPrint_unusedTHMs_typehere += (allExtremeYellowMoves[idxhere]+', ')\n",
    "            if len(toPrint_unusedTHMs_typehere)>0:\n",
    "                toPrint_unusedTHMs_typehere = toPrint_unusedTHMs_typehere[:-2]\n",
    "            print(toPrint_unusedTHMs_typehere)\n",
    "            "
   ]
  },
  {
   "cell_type": "code",
   "execution_count": 195,
   "id": "9e9cf872",
   "metadata": {},
   "outputs": [
    {
     "name": "stdout",
     "output_type": "stream",
     "text": [
      "Error fetching URL: 404 Client Error: Not Found for url: https://bulbapedia.bulbagarden.net/wiki/Slowking_(Pok%C3%A9mon)/Generation_I_learnset\n"
     ]
    }
   ],
   "source": [
    "# Run Load Data for pokemon\n",
    "pokemon = 'Slowking'\n",
    "\n",
    "gen1 = Gens.GEN1\n",
    "genNew = Gens.GEN8\n",
    "\n",
    "urlGen1 = get_moves_url(pokemon, gen1)\n",
    "tablesGen1 = get_learnset_tables(urlGen1)\n",
    "\n",
    "urlGenNew = get_moves_url(pokemon, genNew)\n",
    "tablesGenNew = get_learnset_tables(urlGenNew)"
   ]
  },
  {
   "cell_type": "code",
   "execution_count": 196,
   "id": "8f4b9fba",
   "metadata": {
    "scrolled": true
   },
   "outputs": [
    {
     "name": "stdout",
     "output_type": "stream",
     "text": [
      "\tLevel 1 moves:\n",
      "TACKLE, GROWL, WATER_GUN\n",
      "\n",
      "\n",
      "\tLevel-up moves:\n",
      "12 CONFUSION ; 15 DISABLE ; 18 WATER_PULSE ; 21 HEADBUTT ; 24 ZEN_HEADBUTT ; 27 AMNESIA ; 30 SURF ; 36 PSYCHIC_M\n",
      "\n",
      "\n",
      "\tOther moves (not THMs in EY):\n",
      "MUD_SHOT, TELEPORT, FLAMETHROWER, TRI_ATTACK, STOMP, ACID, MUD_SLAP, SWIFT, ZAP_CANNON, DREAM_EATER, ICE_PUNCH, TAKE_DOWN, SLUDGE_WAVE, IRON_TAIL, DRAIN_PUNCH, SCALD, PAY_DAY, LIGHT_SCREEN\n",
      "\n",
      "\n",
      "\tTHMs:\n",
      "MEGA_PUNCH, COUNTER, TOXIC, BODY_SLAM, DOUBLE_EDGE, BUBBLEBEAM, ICE_BEAM, BLIZZARD, HYPER_BEAM, SEISMIC_TOSS, EARTHQUAKE, FISSURE, DIG, PSYCHIC_M, MIMIC, DOUBLE_TEAM, REFLECT, BIDE, HYDRO_PUMP, FIRE_BLAST, REST, THUNDER_WAVE, PSYWAVE, SHADOW_BALL, SUBSTITUTE, SURF, STRENGTH, FLASH\n",
      "\n",
      "\n",
      "\tUnused moves (not THMs):\n",
      "* NORMAL:\n",
      "POUND, COMET_PUNCH, SCRATCH, GUILLOTINE, BIND, SLAM, SAND_ATTACK, HORN_ATTACK, FURY_ATTACK, HORN_DRILL, WRAP, THRASH, LEER, SING, SUPERSONIC, SONICBOOM, GROWTH, QUICK_ATTACK, SCREECH, RECOVER, HARDEN, MINIMIZE, SMOKESCREEN, DEFENSE_CURL, FOCUS_ENERGY, SPIKE_CANNON, SOFTBOILED, GLARE, BARRAGE, LOVELY_KISS, TRANSFORM, DIZZY_PUNCH, SPLASH, FURY_SWIPES, HYPER_FANG, CONVERSION, SUPER_FANG, SLASH, EXTREMESPEED\n",
      "* FIGHTING:\n",
      "KARATE_CHOP, DOUBLE_KICK, JUMP_KICK, ROLLING_KICK, SUBMISSION, LOW_KICK, HI_JUMP_KICK, MACH_PUNCH, SUPERPOWER\n",
      "* FLYING:\n",
      "GUST, WING_ATTACK, PECK, DRILL_PECK, MIRROR_MOVE, ROOST, AIR_CUTTER, AERIAL_ACE, AIR_SLASH, HURRICANE\n",
      "* POISON:\n",
      "POISON_STING, POISONPOWDER, SMOG, SLUDGE, POISON_GAS, ACID_ARMOR\n",
      "* GROUND:\n",
      "BONE_CLUB, BONEMERANG\n",
      "* ROCK:\n",
      "ROCK_THROW, ROCK_TOMB, HEAD_SMASH, ACCELEROCK\n",
      "* BUG:\n",
      "TWINEEDLE, PIN_MISSILE, STRING_SHOT, LEECH_LIFE, INFESTATION\n",
      "* GHOST:\n",
      "NIGHT_SHADE, CONFUSE_RAY, LICK, SHADOW_PUNCH, SHADOW_CLAW\n",
      "* STEEL:\n",
      "STEEL_WING, METAL_CLAW, BULLET_PUNCH\n",
      "* FIRE:\n",
      "FIRE_PUNCH, EMBER, FIRE_SPIN, FLARE_BLITZ, BLAST_BURN, HEAT_WAVE\n",
      "* WATER:\n",
      "WATERFALL, CLAMP, BUBBLE, CRABHAMMER, AQUA_JET, HYDRO_CANNON, ANCESTOR_PWR\n",
      "* GRASS:\n",
      "VINE_WHIP, ABSORB, MEGA_DRAIN, LEECH_SEED, RAZOR_LEAF, SOLARBEAM, STUN_SPORE, SLEEP_POWDER, PETAL_DANCE, SPORE, MAGICAL_LEAF, BULLET_SEED, LEAF_STORM, ENERGY_BALL, FRENZY_PLANT\n",
      "* ELECTRIC:\n",
      "THUNDERPUNCH, THUNDERSHOCK, SHOCK_WAVE, VOLT_TACKLE\n",
      "* PSYCHIC_TYPE:\n",
      "PSYBEAM, HYPNOSIS, MEDITATE, AGILITY, BARRIER, PSYCHO_CUT\n",
      "* ICE:\n",
      "MIST, AURORA_BEAM, HAZE, ICICLE_SPEAR, ICICLE_CRASH\n",
      "* DRAGON:\n",
      "DRAGON_RAGE, TWISTER, DRAGONBREATH\n",
      "* DARK:\n",
      "BITE, CRUNCH, NIGHT_SLASH\n",
      "* FAIRY:\n",
      "CHARM, PLAY_ROUGH\n",
      "\n",
      "\n",
      "\tUnused moves (THMs):\n",
      "* NORMAL:\n",
      "SWORDS_DANCE, CUT, METRONOME, SELFDESTRUCT, EXPLOSION\n",
      "* FIGHTING:\n",
      "CLOSE_COMBAT\n",
      "* FLYING:\n",
      "FLY, BRAVE_BIRD\n",
      "* POISON:\n",
      "GUNK_SHOT\n",
      "* GROUND:\n",
      "\n",
      "* ROCK:\n",
      "ROCK_SLIDE, STONE_EDGE\n",
      "* BUG:\n",
      "MEGAHORN, X_SCISSOR\n",
      "* GHOST:\n",
      "SHADOW_SNEAK\n",
      "* STEEL:\n",
      "METEOR_MASH, FLASH_CANNON\n",
      "* FIRE:\n",
      "WILL_O_WISP\n",
      "* WATER:\n",
      "\n",
      "* GRASS:\n",
      "GIGA_DRAIN\n",
      "* ELECTRIC:\n",
      "THUNDERBOLT, THUNDER\n",
      "* PSYCHIC_TYPE:\n",
      "MIRROR_COAT\n",
      "* ICE:\n",
      "\n",
      "* DRAGON:\n",
      "OUTRAGE, DRAGON_CLAW\n",
      "* DARK:\n",
      "FEINT_ATTACK, DARK_PULSE\n",
      "* FAIRY:\n",
      "DRAININGKISS, MOONBLAST\n"
     ]
    }
   ],
   "source": [
    "# Run Process Data\n",
    "\n",
    "hugeFunction(process_learnset_tables(tablesGen1), process_learnset_tables(tablesGenNew), customMoves=False)\n"
   ]
  },
  {
   "cell_type": "code",
   "execution_count": null,
   "id": "0debfed9",
   "metadata": {},
   "outputs": [],
   "source": []
  },
  {
   "cell_type": "code",
   "execution_count": null,
   "id": "42d5c89a",
   "metadata": {},
   "outputs": [],
   "source": []
  },
  {
   "cell_type": "code",
   "execution_count": null,
   "id": "55e00a9d",
   "metadata": {},
   "outputs": [],
   "source": []
  },
  {
   "cell_type": "code",
   "execution_count": null,
   "id": "2cc917fa",
   "metadata": {},
   "outputs": [],
   "source": []
  },
  {
   "cell_type": "code",
   "execution_count": null,
   "id": "482a624d",
   "metadata": {},
   "outputs": [],
   "source": []
  },
  {
   "cell_type": "code",
   "execution_count": null,
   "id": "c2b69a96",
   "metadata": {},
   "outputs": [],
   "source": []
  },
  {
   "cell_type": "code",
   "execution_count": null,
   "id": "1f0b741d",
   "metadata": {},
   "outputs": [],
   "source": [
    "# Slowpoke Slowbro MSlowbro Slowking"
   ]
  },
  {
   "cell_type": "code",
   "execution_count": null,
   "id": "7b0e0051",
   "metadata": {},
   "outputs": [],
   "source": [
    "3 GROWL ; 5 TACKLE ; 7 WATER_GUN ; 9 DEFENSE_CURL ; 12 CONFUSION ; 14 MUD_SLAP ; 16 DISABLE ; 18 WATER_PULSE ; 20 TELEPORT ; 22 HEADBUTT ; 24 ZEN_HEADBUTT ; 26 STOMP ; 29 AMNESIA ; 31 SURF ; 33 MUD_SHOT ; 36 PSYCHIC_M ; 39 TAKE_DOWN ; 41 LIGHT_SCREEN ; 44 IRON_TAIL ; 47 SCALD ; 50 DREAM_EATER ; 54 FLAMETHROWER ; 59 ZAP_CANNON\n"
   ]
  },
  {
   "cell_type": "code",
   "execution_count": null,
   "id": "473e5807",
   "metadata": {},
   "outputs": [],
   "source": [
    "3 GROWL ; 5 TACKLE ; 7 WATER_GUN ; 9 DEFENSE_CURL ; 12 CONFUSION ; 14 MUD_SLAP ; 16 DISABLE ; 18 WATER_PULSE ; 20 TELEPORT ; 22 HEADBUTT ; 24 ZEN_HEADBUTT ; 26 STOMP ; 29 AMNESIA ; 31 SURF ; 33 MUD_SHOT ; 36 PSYCHIC_M ; 38 SUBMISSION ; 43 TAKE_DOWN ; 45 LIGHT_SCREEN ; 47 ICE_PUNCH ; 49 IRON_TAIL ; 51 SCALD ; 54 DRAIN_PUNCH ; 57 DREAM_EATER ; 60 FLAMETHROWER ; 63 ZAP_CANNON\n"
   ]
  },
  {
   "cell_type": "code",
   "execution_count": null,
   "id": "6d9f19ed",
   "metadata": {},
   "outputs": [],
   "source": [
    "8 GROWL ; 10 TACKLE ; 12 WATER_GUN ; 14 DEFENSE_CURL ; 17 CONFUSION ; 19 MUD_SLAP ; 21 DISABLE ; 23 WATER_PULSE ; 25 TELEPORT ; 27 HEADBUTT ; 29 ZEN_HEADBUTT ; 31 STOMP ; 34 AMNESIA ; 36 SURF ; 38 MUD_SHOT ; 41 PSYCHIC_M ; 43 SUBMISSION ; 45 SPIKE_CANNON ; 48 TAKE_DOWN ; 50 LIGHT_SCREEN ; 52 ICE_PUNCH ; 54 IRON_TAIL ; 56 SCALD ; 57 PIN_MISSILE ; 59 DRAIN_PUNCH ; 60 CLAMP ; 62 DREAM_EATER ; 63 AURORA_BEAM ; 65 FLAMETHROWER ; 66 HYPNOSIS ; 68 ZAP_CANNON\n"
   ]
  },
  {
   "cell_type": "code",
   "execution_count": null,
   "id": "64f6a659",
   "metadata": {},
   "outputs": [],
   "source": [
    "2 GROWL ; 4 TACKLE ; 6 CONFUSION ; 8 DEFENSE_CURL ; 10 WATER_GUN ; 12 DISABLE ; 14 MUD_SLAP ; 16 TELEPORT ; 18 WATER_PULSE ; 20 HEADBUTT ; 22 ZEN_HEADBUTT ; 24 AMNESIA ; 26 STOMP ; 28 PSYCHIC_M ; 30 MUD_SHOT ; 32 SURF ; 34 PSYCHIC_M ; 36 SUBMISSION ; 38 DREAM_EATER ; 40 LIGHT_SCREEN ; 42 FLAMETHROWER ; 44 IRON_TAIL ; 46 SCALD ; 48 DRAIN_PUNCH ; 50 TAKE_DOWN ; 52 ICE_PUNCH ; 54 ZAP_CANNON\n"
   ]
  },
  {
   "cell_type": "code",
   "execution_count": null,
   "id": "bf34ff50",
   "metadata": {},
   "outputs": [],
   "source": [
    "TOXIC, BODY_SLAM, DOUBLE_EDGE, BUBBLEBEAM, ICE_BEAM, BLIZZARD, EARTHQUAKE, FISSURE, DIG, PSYCHIC_M, MIMIC, DOUBLE_TEAM, REFLECT, BIDE, HYDRO_PUMP, FIRE_BLAST, REST, THUNDER_WAVE, PSYWAVE, SHADOW_BALL, SUBSTITUTE, SURF, STRENGTH, FLASH\n"
   ]
  },
  {
   "cell_type": "code",
   "execution_count": null,
   "id": "bde4cc17",
   "metadata": {},
   "outputs": [],
   "source": [
    "MEGA_PUNCH, COUNTER, TOXIC, BODY_SLAM, DOUBLE_EDGE, BUBBLEBEAM, ICE_BEAM, BLIZZARD, HYPER_BEAM, SEISMIC_TOSS, EARTHQUAKE, FISSURE, DIG, PSYCHIC_M, MIMIC, DOUBLE_TEAM, REFLECT, BIDE, HYDRO_PUMP, FIRE_BLAST, REST, THUNDER_WAVE, PSYWAVE, SHADOW_BALL, SUBSTITUTE, SURF, STRENGTH, FLASH\n"
   ]
  },
  {
   "cell_type": "code",
   "execution_count": null,
   "id": "8562cfd1",
   "metadata": {},
   "outputs": [],
   "source": [
    "MEGA_PUNCH, COUNTER, TOXIC, BODY_SLAM, DOUBLE_EDGE, BUBBLEBEAM, ICE_BEAM, BLIZZARD, HYPER_BEAM, SEISMIC_TOSS, EARTHQUAKE, FISSURE, DIG, PSYCHIC_M, MIMIC, DOUBLE_TEAM, REFLECT, BIDE, HYDRO_PUMP, FIRE_BLAST, REST, THUNDER_WAVE, PSYWAVE, SHADOW_BALL, SUBSTITUTE, SURF, STRENGTH, FLASH, EXPLOSION, FLASH_CANNON, THUNDERBOLT, DARK_PULSE, MIRROR_COAT\n"
   ]
  },
  {
   "cell_type": "code",
   "execution_count": null,
   "id": "749352f9",
   "metadata": {},
   "outputs": [],
   "source": [
    "MEGA_PUNCH, COUNTER, TOXIC, BODY_SLAM, DOUBLE_EDGE, BUBBLEBEAM, ICE_BEAM, BLIZZARD, HYPER_BEAM, SEISMIC_TOSS, EARTHQUAKE, FISSURE, DIG, PSYCHIC_M, MIMIC, DOUBLE_TEAM, REFLECT, BIDE, HYDRO_PUMP, FIRE_BLAST, REST, THUNDER_WAVE, PSYWAVE, SHADOW_BALL, SUBSTITUTE, SURF, STRENGTH, FLASH\n"
   ]
  },
  {
   "cell_type": "code",
   "execution_count": null,
   "id": "d5ee1575",
   "metadata": {},
   "outputs": [],
   "source": [
    "# Ponyta"
   ]
  },
  {
   "cell_type": "code",
   "execution_count": null,
   "id": "237d62c5",
   "metadata": {},
   "outputs": [],
   "source": [
    "5 LEER ; 7 TACKLE ; 10 EMBER ; 12 QUICK_ATTACK ; 15 GROWL ; 17 DOUBLE_KICK ; 19 SWIFT ; 22 AGILITY ; 25 LOW_KICK ; 27 HEADBUTT ; 30 STOMP ; 32 IRON_TAIL ; 35 FIRE_SPIN ; 38 THRASH ; 41 TAKE_DOWN ; 43 PLAY_ROUGH ; 45 FLAMETHROWER ; 48 HYPNOSIS ; 50 FIRE_BLAST ; 52 SOLARBEAM ; 55 HEAT_WAVE ; 57 FLARE_BLITZ ; 60 HORN_DRILL\n"
   ]
  },
  {
   "cell_type": "code",
   "execution_count": null,
   "id": "5f0853db",
   "metadata": {},
   "outputs": [],
   "source": [
    "5 LEER ; 7 TACKLE ; 10 EMBER ; 12 QUICK_ATTACK ; 15 GROWL ; 17 DOUBLE_KICK ; 19 SWIFT ; 22 AGILITY ; 25 LOW_KICK ; 27 HEADBUTT ; 30 STOMP ; 32 IRON_TAIL ; 35 FIRE_SPIN ; 38 THRASH ; 41 FURY_ATTACK ; 44 TAKE_DOWN ; 47 PLAY_ROUGH ; 50 MEGAHORN ; 52 FLAMETHROWER ; 54 HYPNOSIS ; 57 FIRE_BLAST ; 59 SOLARBEAM ; 62 HEAT_WAVE ; 65 FLARE_BLITZ ; 68 HORN_DRILL\n"
   ]
  },
  {
   "cell_type": "code",
   "execution_count": null,
   "id": "557d6ab7",
   "metadata": {},
   "outputs": [],
   "source": [
    "TOXIC, BODY_SLAM, DOUBLE_EDGE, WILL_O_WISP, PSYCHIC_M, MIMIC, DOUBLE_TEAM, REFLECT, BIDE, FIRE_BLAST, REST, SUBSTITUTE, STRENGTH\n"
   ]
  },
  {
   "cell_type": "code",
   "execution_count": null,
   "id": "5bdd52fc",
   "metadata": {},
   "outputs": [],
   "source": [
    "MEGAHORN, SWORDS_DANCE, TOXIC, BODY_SLAM, DOUBLE_EDGE, HYPER_BEAM, WILL_O_WISP, PSYCHIC_M, MIMIC, DOUBLE_TEAM, REFLECT, BIDE, FIRE_BLAST, REST, SUBSTITUTE, STRENGTH\n"
   ]
  },
  {
   "cell_type": "code",
   "execution_count": null,
   "id": "4955eda4",
   "metadata": {},
   "outputs": [],
   "source": [
    "# Geodude"
   ]
  },
  {
   "cell_type": "code",
   "execution_count": null,
   "id": "037d6f16",
   "metadata": {},
   "outputs": [],
   "source": [
    "7 DEFENSE_CURL ; 10 MUD_SLAP ; 12 HARDEN ; 16 ROCK_THROW ; 20 SELFDESTRUCT ; 24 HEADBUTT ; 29 EARTHQUAKE ; 33 ROCK_TOMB ; 36 TAKE_DOWN ; 39 EXPLOSION ; 43 DOUBLE_EDGE ; 45 STONE_EDGE ; 49 SUBMISSION ; 52 SUPERPOWER\n"
   ]
  },
  {
   "cell_type": "code",
   "execution_count": null,
   "id": "5a410fe7",
   "metadata": {},
   "outputs": [],
   "source": [
    "7 DEFENSE_CURL ; 10 MUD_SLAP ; 12 HARDEN ; 16 ROCK_THROW ; 20 SELFDESTRUCT ; 24 HEADBUTT ; 33 EARTHQUAKE ; 36 ROCK_TOMB ; 39 TAKE_DOWN ; 43 EXPLOSION ; 46 DOUBLE_EDGE ; 49 STONE_EDGE ; 52 SUBMISSION ; 55 SUPERPOWER\n"
   ]
  },
  {
   "cell_type": "code",
   "execution_count": null,
   "id": "0fe018e1",
   "metadata": {},
   "outputs": [],
   "source": [
    "7 DEFENSE_CURL ; 10 MUD_SLAP ; 12 HARDEN ; 16 ROCK_THROW ; 20 SELFDESTRUCT ; 24 HEADBUTT ; 33 EARTHQUAKE ; 36 ROCK_TOMB ; 39 TAKE_DOWN ; 46 EXPLOSION ; 49 DOUBLE_EDGE ; 52 STONE_EDGE ; 55 SUBMISSION ; 59 SUPERPOWER\n"
   ]
  },
  {
   "cell_type": "code",
   "execution_count": null,
   "id": "628e1782",
   "metadata": {},
   "outputs": [],
   "source": [
    "MEGA_PUNCH, COUNTER, TOXIC, BODY_SLAM, DOUBLE_EDGE, METRONOME, SEISMIC_TOSS, STONE_EDGE, EARTHQUAKE, FISSURE, DIG, MIMIC, DOUBLE_TEAM, BIDE, SELFDESTRUCT, FIRE_BLAST, REST, EXPLOSION, ROCK_SLIDE, SUBSTITUTE, STRENGTH\n"
   ]
  },
  {
   "cell_type": "code",
   "execution_count": null,
   "id": "5fed421d",
   "metadata": {},
   "outputs": [],
   "source": [
    "MEGA_PUNCH, COUNTER, TOXIC, BODY_SLAM, DOUBLE_EDGE, METRONOME, SEISMIC_TOSS, STONE_EDGE, EARTHQUAKE, FISSURE, DIG, MIMIC, DOUBLE_TEAM, BIDE, SELFDESTRUCT, FIRE_BLAST, REST, EXPLOSION, ROCK_SLIDE, SUBSTITUTE, STRENGTH\n"
   ]
  },
  {
   "cell_type": "code",
   "execution_count": null,
   "id": "41cf286d",
   "metadata": {},
   "outputs": [],
   "source": [
    "MEGA_PUNCH, COUNTER, TOXIC, BODY_SLAM, DOUBLE_EDGE, METRONOME, HYPER_BEAM, SEISMIC_TOSS, STONE_EDGE, EARTHQUAKE, FISSURE, DIG, MIMIC, DOUBLE_TEAM, BIDE, SELFDESTRUCT, FIRE_BLAST, REST, EXPLOSION, ROCK_SLIDE, SUBSTITUTE, STRENGTH\n"
   ]
  },
  {
   "cell_type": "code",
   "execution_count": null,
   "id": "3d562d56",
   "metadata": {},
   "outputs": [],
   "source": [
    "# Tentacool"
   ]
  },
  {
   "cell_type": "code",
   "execution_count": null,
   "id": "3ad5c5df",
   "metadata": {},
   "outputs": [],
   "source": [
    "4 ACID ; 7 SUPERSONIC ; 8 WRAP ; 12 BUBBLE ; 16 WATER_PULSE ; 18 POISON_STING ; 20 SCREECH ; 22 WATER_GUN ; 24 HAZE ; 27 BUBBLEBEAM ; 29 MEGA_DRAIN ; 32 ACID_ARMOR ; 34 BARRIER ; 36 SURF ; 38 SLUDGE_WAVE ; 41 TAKE_DOWN ; 43 WATERFALL ; 45 AURORA_BEAM ; 47 HEADBUTT ; 49 BIND ; 52 CONFUSE_RAY ; 55 SCALD ; 58 INFESTATION ; 62 HYDRO_PUMP\n"
   ]
  },
  {
   "cell_type": "code",
   "execution_count": null,
   "id": "42d16f20",
   "metadata": {},
   "outputs": [],
   "source": [
    "4 ACID ; 7 SUPERSONIC ; 8 WRAP ; 12 BUBBLE ; 16 WATER_PULSE ; 18 POISON_STING ; 20 SCREECH ; 22 WATER_GUN ; 24 HAZE ; 27 BUBBLEBEAM ; 29 MEGA_DRAIN ; 35 ACID_ARMOR ; 37 BARRIER ; 40 SURF ; 42 SLUDGE_WAVE ; 44 TAKE_DOWN ; 47 WATERFALL ; 49 AURORA_BEAM ; 52 HEADBUTT ; 55 BIND ; 57 CONFUSE_RAY ; 60 SCALD ; 62 INFESTATION ; 65 HYDRO_PUMP\n"
   ]
  },
  {
   "cell_type": "code",
   "execution_count": null,
   "id": "d97909e4",
   "metadata": {},
   "outputs": [],
   "source": [
    "SWORDS_DANCE, TOXIC, DOUBLE_EDGE, BUBBLEBEAM, ICE_BEAM, BLIZZARD, MIRROR_COAT, GIGA_DRAIN, MIMIC, DOUBLE_TEAM, REFLECT, BIDE, HYDRO_PUMP, REST, SUBSTITUTE, CUT, SURF\n"
   ]
  },
  {
   "cell_type": "code",
   "execution_count": null,
   "id": "165577b7",
   "metadata": {},
   "outputs": [],
   "source": [
    "SWORDS_DANCE, TOXIC, DOUBLE_EDGE, BUBBLEBEAM, ICE_BEAM, BLIZZARD, HYPER_BEAM, MIRROR_COAT, GIGA_DRAIN, MIMIC, DOUBLE_TEAM, REFLECT, BIDE, HYDRO_PUMP, REST, SUBSTITUTE, CUT, SURF\n"
   ]
  },
  {
   "cell_type": "code",
   "execution_count": null,
   "id": "defb4521",
   "metadata": {},
   "outputs": [],
   "source": [
    "# Victreebel"
   ]
  },
  {
   "cell_type": "code",
   "execution_count": null,
   "id": "b4b419ac",
   "metadata": {},
   "outputs": [],
   "source": [
    "7 GROWTH ; 11 WRAP ; 13 SLEEP_POWDER ; 15 POISONPOWDER ; 17 STUN_SPORE ; 20 MEGA_DRAIN ; 23 ACID ; 26 BULLET_SEED ; 29 MAGICAL_LEAF ; 32 LEECH_LIFE ; 35 RAZOR_LEAF ; 37 SLAM ; 40 ENERGY_BALL ; 44 TAKE_DOWN ; 47 LOVELY_KISS ; 50 SOLARBEAM\n"
   ]
  },
  {
   "cell_type": "code",
   "execution_count": null,
   "id": "3cdf5595",
   "metadata": {},
   "outputs": [],
   "source": [
    "7 GROWTH ; 11 WRAP ; 13 SLEEP_POWDER ; 15 POISONPOWDER ; 17 STUN_SPORE ; 20 MEGA_DRAIN ; 26 ACID ; 29 BULLET_SEED ; 32 MAGICAL_LEAF ; 36 LEECH_LIFE ; 39 RAZOR_LEAF ; 42 SLAM ; 45 ENERGY_BALL ; 48 TAKE_DOWN ; 51 LOVELY_KISS ; 55 SOLARBEAM\n"
   ]
  },
  {
   "cell_type": "code",
   "execution_count": null,
   "id": "17c33815",
   "metadata": {},
   "outputs": [],
   "source": [
    "7 GROWTH ; 11 WRAP ; 13 SLEEP_POWDER ; 15 POISONPOWDER ; 17 STUN_SPORE ; 20 MEGA_DRAIN ; 26 ACID ; 29 BULLET_SEED ; 32 MAGICAL_LEAF ; 36 LEECH_LIFE ; 42 RAZOR_LEAF ; 45 SLAM ; 49 ENERGY_BALL ; 52 TAKE_DOWN ; 54 LOVELY_KISS ; 58 SOLARBEAM ; 62 LEAF_STORM\n"
   ]
  },
  {
   "cell_type": "code",
   "execution_count": null,
   "id": "9e293087",
   "metadata": {},
   "outputs": [],
   "source": [
    "SWORDS_DANCE, TOXIC, DOUBLE_EDGE, GIGA_DRAIN, MIMIC, DOUBLE_TEAM, REFLECT, BIDE, REST, SUBSTITUTE, CUT, FLASH"
   ]
  },
  {
   "cell_type": "code",
   "execution_count": null,
   "id": "04ef414f",
   "metadata": {},
   "outputs": [],
   "source": [
    "SWORDS_DANCE, TOXIC, DOUBLE_EDGE, GIGA_DRAIN, MIMIC, DOUBLE_TEAM, REFLECT, BIDE, REST, SUBSTITUTE, CUT, FLASH"
   ]
  },
  {
   "cell_type": "code",
   "execution_count": null,
   "id": "06286331",
   "metadata": {},
   "outputs": [],
   "source": [
    "SWORDS_DANCE, TOXIC, BODY_SLAM, DOUBLE_EDGE, HYPER_BEAM, GIGA_DRAIN, MIMIC, DOUBLE_TEAM, REFLECT, BIDE, REST, SUBSTITUTE, CUT, FLASH"
   ]
  },
  {
   "cell_type": "code",
   "execution_count": null,
   "id": "015ef31c",
   "metadata": {},
   "outputs": [],
   "source": [
    "# Machamp"
   ]
  },
  {
   "cell_type": "code",
   "execution_count": null,
   "id": "e634f8f9",
   "metadata": {},
   "outputs": [],
   "source": [
    "4 FOCUS_ENERGY ; 7 LEER ; 9 TACKLE ; 12 LOW_KICK ; 15 MEDITATE ; 18 ROCK_TOMB ; 22 MUD_SLAP ; 25 HEADBUTT ; 27 STRENGTH ; 31 TAKE_DOWN ; 34 THRASH ; 37 SEISMIC_TOSS ; 41 ROLLING_KICK ; 44 BULLET_PUNCH ; 45 THUNDERPUNCH ; 46 FIRE_PUNCH ; 47 ICE_PUNCH ; 48 MACH_PUNCH ; 53 SUBMISSION ; 55 DOUBLE_EDGE ; 58 SUPERPOWER\n"
   ]
  },
  {
   "cell_type": "code",
   "execution_count": null,
   "id": "1b6edb1d",
   "metadata": {},
   "outputs": [],
   "source": [
    "4 FOCUS_ENERGY ; 7 LEER ; 9 TACKLE ; 12 LOW_KICK ; 15 MEDITATE ; 18 ROCK_TOMB ; 22 MUD_SLAP ; 25 HEADBUTT ; 27 STRENGTH ; 34 TAKE_DOWN ; 37 THRASH ; 40 SEISMIC_TOSS ; 44 ROLLING_KICK ; 48 BULLET_PUNCH ; 49 THUNDERPUNCH ; 50 FIRE_PUNCH ; 51 ICE_PUNCH ; 52 MACH_PUNCH ; 56 SUBMISSION ; 59 DOUBLE_EDGE ; 62 SUPERPOWER\n"
   ]
  },
  {
   "cell_type": "code",
   "execution_count": null,
   "id": "7986d872",
   "metadata": {},
   "outputs": [],
   "source": [
    "4 FOCUS_ENERGY ; 7 LEER ; 9 TACKLE ; 12 LOW_KICK ; 15 MEDITATE ; 18 ROCK_TOMB ; 22 MUD_SLAP ; 25 HEADBUTT ; 27 STRENGTH ; 34 TAKE_DOWN ; 37 THRASH ; 40 SEISMIC_TOSS ; 46 ROLLING_KICK ; 50 BULLET_PUNCH ; 51 THUNDERPUNCH ; 52 FIRE_PUNCH ; 53 ICE_PUNCH ; 54 MACH_PUNCH ; 55 DRAIN_PUNCH ; 59 SUBMISSION ; 62 DOUBLE_EDGE ; 65 SUPERPOWER\n"
   ]
  },
  {
   "cell_type": "code",
   "execution_count": null,
   "id": "4778a0be",
   "metadata": {},
   "outputs": [],
   "source": [
    "MEGA_PUNCH, COUNTER, TOXIC, BODY_SLAM, DOUBLE_EDGE, METRONOME, SEISMIC_TOSS, EARTHQUAKE, FISSURE, DIG, MIMIC, DOUBLE_TEAM, BIDE, CLOSE_COMBAT, FIRE_BLAST, REST, ROCK_SLIDE, SUBSTITUTE, STRENGTH\n"
   ]
  },
  {
   "cell_type": "code",
   "execution_count": null,
   "id": "441c6aa8",
   "metadata": {},
   "outputs": [],
   "source": [
    "MEGA_PUNCH, COUNTER, TOXIC, BODY_SLAM, DOUBLE_EDGE, METRONOME, SEISMIC_TOSS, EARTHQUAKE, FISSURE, DIG, MIMIC, DOUBLE_TEAM, BIDE, CLOSE_COMBAT, FIRE_BLAST, REST, ROCK_SLIDE, SUBSTITUTE, STRENGTH\n"
   ]
  },
  {
   "cell_type": "code",
   "execution_count": null,
   "id": "4d79f39f",
   "metadata": {},
   "outputs": [],
   "source": [
    "MEGA_PUNCH, COUNTER, TOXIC, BODY_SLAM, DOUBLE_EDGE, METRONOME, HYPER_BEAM, SEISMIC_TOSS, STONE_EDGE, EARTHQUAKE, FISSURE, DIG, MIMIC, DOUBLE_TEAM, BIDE, CLOSE_COMBAT, FIRE_BLAST, REST, ROCK_SLIDE, SUBSTITUTE, STRENGTH\n"
   ]
  },
  {
   "cell_type": "code",
   "execution_count": null,
   "id": "9c1263e1",
   "metadata": {},
   "outputs": [],
   "source": [
    "# Abra"
   ]
  },
  {
   "cell_type": "code",
   "execution_count": null,
   "id": "98bdf5ce",
   "metadata": {},
   "outputs": [],
   "source": []
  },
  {
   "cell_type": "code",
   "execution_count": null,
   "id": "7443452f",
   "metadata": {},
   "outputs": [],
   "source": [
    "5 PSYBEAM ; 8 BARRIER ; 11 CONFUSION ; 14 DISABLE ; 17 SWIFT ; 19 PSYCHO_CUT ; 22 NIGHT_SHADE ; 25 RECOVER ; 27 HYPNOSIS ; 29 DREAM_EATER ; 31 REFLECT ; 34 LIGHT_SCREEN ; 37 ZEN_HEADBUTT ; 40 IRON_TAIL ; 43 THUNDERPUNCH ; 44 ICE_PUNCH ; 45 FIRE_PUNCH ; 47 DRAIN_PUNCH ; 50 PSYCHIC_M ; 52 SHOCK_WAVE ; 55 ENERGY_BALL ; 57 ZAP_CANNON\n"
   ]
  },
  {
   "cell_type": "code",
   "execution_count": null,
   "id": "cda5600c",
   "metadata": {},
   "outputs": [],
   "source": [
    "5 PSYBEAM ; 8 BARRIER ; 11 CONFUSION ; 14 DISABLE ; 17 SWIFT ; 19 PSYCHO_CUT ; 22 NIGHT_SHADE ; 25 RECOVER ; 27 HYPNOSIS ; 29 DREAM_EATER ; 31 REFLECT ; 34 LIGHT_SCREEN ; 37 ZEN_HEADBUTT ; 40 IRON_TAIL ; 46 THUNDERPUNCH ; 47 ICE_PUNCH ; 48 FIRE_PUNCH ; 50 DRAIN_PUNCH ; 53 PSYCHIC_M ; 55 SHOCK_WAVE ; 57 ENERGY_BALL ; 60 ZAP_CANNON\n"
   ]
  },
  {
   "cell_type": "code",
   "execution_count": null,
   "id": "0d1c1732",
   "metadata": {},
   "outputs": [],
   "source": [
    "10 PSYBEAM ; 13 BARRIER ; 16 CONFUSION ; 19 DISABLE ; 22 SWIFT ; 24 PSYCHO_CUT ; 27 NIGHT_SHADE ; 30 RECOVER ; 32 HYPNOSIS ; 34 DREAM_EATER ; 36 REFLECT ; 39 LIGHT_SCREEN ; 42 ZEN_HEADBUTT ; 45 IRON_TAIL ; 48 MEDITATE ; 51 THUNDERPUNCH ; 52 ICE_PUNCH ; 53 FIRE_PUNCH ; 55 DRAIN_PUNCH ; 58 PSYCHIC_M ; 60 SHOCK_WAVE ; 62 ENERGY_BALL ; 65 ZAP_CANNON ; 67 NIGHT_SLASH\n"
   ]
  },
  {
   "cell_type": "code",
   "execution_count": null,
   "id": "765794e3",
   "metadata": {},
   "outputs": [],
   "source": [
    "MEGA_PUNCH, COUNTER, TOXIC, BODY_SLAM, DOUBLE_EDGE, METRONOME, SEISMIC_TOSS, PSYCHIC_M, MIMIC, DOUBLE_TEAM, REFLECT, BIDE, REST, THUNDER_WAVE, PSYWAVE, SHADOW_BALL, SUBSTITUTE, FLASH\n"
   ]
  },
  {
   "cell_type": "code",
   "execution_count": null,
   "id": "313e327e",
   "metadata": {},
   "outputs": [],
   "source": [
    "MEGA_PUNCH, COUNTER, TOXIC, BODY_SLAM, DOUBLE_EDGE, METRONOME, SEISMIC_TOSS, DIG, PSYCHIC_M, MIMIC, DOUBLE_TEAM, REFLECT, BIDE, REST, THUNDER_WAVE, PSYWAVE, SHADOW_BALL, SUBSTITUTE, FLASH\n"
   ]
  },
  {
   "cell_type": "code",
   "execution_count": null,
   "id": "faf7a6b1",
   "metadata": {},
   "outputs": [],
   "source": [
    "MEGA_PUNCH, COUNTER, TOXIC, BODY_SLAM, DOUBLE_EDGE, METRONOME, HYPER_BEAM, SEISMIC_TOSS, DIG, PSYCHIC_M, MIMIC, DOUBLE_TEAM, REFLECT, BIDE, REST, THUNDER_WAVE, PSYWAVE, SHADOW_BALL, SUBSTITUTE, FLASH\n"
   ]
  },
  {
   "cell_type": "code",
   "execution_count": null,
   "id": "ccc5c2af",
   "metadata": {},
   "outputs": [],
   "source": [
    "MEGA_PUNCH, COUNTER, TOXIC, BODY_SLAM, DOUBLE_EDGE, METRONOME, HYPER_BEAM, SEISMIC_TOSS, DIG, PSYCHIC_M, MIMIC, DOUBLE_TEAM, REFLECT, BIDE, REST, THUNDER_WAVE, PSYWAVE, SHADOW_BALL, SUBSTITUTE, FLASH, MOONBLAST, DARK_PULSE\n"
   ]
  },
  {
   "cell_type": "code",
   "execution_count": null,
   "id": "2bfc3248",
   "metadata": {},
   "outputs": [],
   "source": [
    "# Poliwag"
   ]
  },
  {
   "cell_type": "code",
   "execution_count": null,
   "id": "51e1dbb7",
   "metadata": {},
   "outputs": [],
   "source": [
    "5 SPLASH ; 6 POUND ; 9 DEFENSE_CURL ; 12 MUD_SHOT ; 15 HYPNOSIS ; 17 WATER_GUN ; 19 BUBBLEBEAM ; 21 LOW_KICK ; 23 HEADBUTT ; 25 GROWTH ; 30 BODY_SLAM ; 33 WATER_PULSE ; 36 TAKE_DOWN ; 38 AMNESIA ; 42 HYDRO_PUMP ; 45 HAZE ; 46 MIST ; 49 DOUBLE_EDGE ; 52 WATERFALL ; 55 LOVELY_KISS ; 57 SCALD\n"
   ]
  },
  {
   "cell_type": "code",
   "execution_count": null,
   "id": "b6b60304",
   "metadata": {},
   "outputs": [],
   "source": [
    "5 SPLASH ; 6 POUND ; 9 DEFENSE_CURL ; 12 MUD_SHOT ; 15 HYPNOSIS ; 17 WATER_GUN ; 19 BUBBLEBEAM ; 21 LOW_KICK ; 23 HEADBUTT ; 24 ICE_PUNCH ; 25 SUBMISSION ; 27 MUD_SLAP ; 32 BODY_SLAM ; 34 WATER_PULSE ; 38 TAKE_DOWN ; 40 AMNESIA ; 44 HYDRO_PUMP ; 48 HAZE ; 49 MIST ; 51 DOUBLE_EDGE ; 54 WATERFALL ; 56 LOVELY_KISS ; 59 SCALD\n"
   ]
  },
  {
   "cell_type": "code",
   "execution_count": null,
   "id": "ebb9c41a",
   "metadata": {},
   "outputs": [],
   "source": [
    "5 SPLASH ; 6 POUND ; 9 DEFENSE_CURL ; 12 MUD_SHOT ; 15 HYPNOSIS ; 17 WATER_GUN ; 19 BUBBLEBEAM ; 21 LOW_KICK ; 23 HEADBUTT ; 24 ICE_PUNCH ; 25 SUBMISSION ; 27 MUD_SLAP ; 32 BODY_SLAM ; 34 WATER_PULSE ; 40 TAKE_DOWN ; 42 ROCK_TOMB ; 44 AMNESIA ; 46 HYDRO_PUMP ; 49 HAZE ; 50 MIST ; 53 DRAIN_PUNCH ; 55 DOUBLE_EDGE ; 57 WATERFALL ; 60 SUPERPOWER ; 62 LOVELY_KISS ; 64 SCALD\n"
   ]
  },
  {
   "cell_type": "code",
   "execution_count": null,
   "id": "4c2adece",
   "metadata": {},
   "outputs": [],
   "source": [
    "5 SPLASH ; 6 POUND ; 9 DEFENSE_CURL ; 12 MUD_SHOT ; 15 HYPNOSIS ; 17 WATER_GUN ; 19 BUBBLEBEAM ; 21 LOW_KICK ; 23 HEADBUTT ; 24 ICE_PUNCH ; 25 SUBMISSION ; 27 MUD_SLAP ; 32 BODY_SLAM ; 34 WATER_PULSE ; 40 TAKE_DOWN ; 42 AMNESIA ; 44 HYDRO_PUMP ; 46 HAZE ; 47 MIST ; 50 DOUBLE_EDGE ; 53 WATERFALL ; 55 LOVELY_KISS ; 57 SCALD\n"
   ]
  },
  {
   "cell_type": "code",
   "execution_count": null,
   "id": "bf788e9b",
   "metadata": {},
   "outputs": [],
   "source": [
    "TOXIC, BODY_SLAM, DOUBLE_EDGE, BUBBLEBEAM, ICE_BEAM, BLIZZARD, DIG, PSYCHIC_M, MIMIC, DOUBLE_TEAM, BIDE, HYDRO_PUMP, REST, PSYWAVE, SUBSTITUTE, SURF\n"
   ]
  },
  {
   "cell_type": "code",
   "execution_count": null,
   "id": "dc55709f",
   "metadata": {},
   "outputs": [],
   "source": [
    "MEGA_PUNCH, COUNTER, TOXIC, BODY_SLAM, DOUBLE_EDGE, BUBBLEBEAM, METRONOME, ICE_BEAM, BLIZZARD, SEISMIC_TOSS, EARTHQUAKE, FISSURE, DIG, PSYCHIC_M, MIMIC, DOUBLE_TEAM, BIDE, HYDRO_PUMP, REST, PSYWAVE, SUBSTITUTE, SURF, STRENGTH\n"
   ]
  },
  {
   "cell_type": "code",
   "execution_count": null,
   "id": "7b3cfdec",
   "metadata": {},
   "outputs": [],
   "source": [
    "MEGA_PUNCH, COUNTER, TOXIC, BODY_SLAM, DOUBLE_EDGE, BUBBLEBEAM, METRONOME, ICE_BEAM, BLIZZARD, HYPER_BEAM, SEISMIC_TOSS, EARTHQUAKE, FISSURE, DIG, PSYCHIC_M, MIMIC, DOUBLE_TEAM, BIDE, HYDRO_PUMP, CLOSE_COMBAT, REST, PSYWAVE, ROCK_SLIDE, SUBSTITUTE, SURF, STRENGTH\n"
   ]
  },
  {
   "cell_type": "code",
   "execution_count": null,
   "id": "40c01c94",
   "metadata": {},
   "outputs": [],
   "source": [
    "MEGA_PUNCH, COUNTER, TOXIC, BODY_SLAM, BUBBLEBEAM, METRONOME, ICE_BEAM, BLIZZARD, HYPER_BEAM, SEISMIC_TOSS, EARTHQUAKE, FISSURE, DIG, PSYCHIC_M, MIMIC, DOUBLE_TEAM, BIDE, HYDRO_PUMP, REST, PSYWAVE, SUBSTITUTE, SURF, STRENGTH\n"
   ]
  },
  {
   "cell_type": "code",
   "execution_count": null,
   "id": "e153dc0a",
   "metadata": {},
   "outputs": [],
   "source": [
    "# Growlithe"
   ]
  },
  {
   "cell_type": "code",
   "execution_count": null,
   "id": "60c20fb4",
   "metadata": {},
   "outputs": [],
   "source": [
    "8 TACKLE ; 13 BITE ; 17 EMBER ; 19 AGILITY ; 21 MUD_SLAP ; 23 LEER ; 26 SWIFT ; 28 DOUBLE_KICK ; 30 TAKE_DOWN ; 32 CRUNCH ; 34 DRAGON_RAGE ; 36 AERIAL_ACE ; 38 HEADBUTT ; 40 FLAMETHROWER ; 43 THRASH ; 45 IRON_TAIL ; 48 PLAY_ROUGH ; 51 FIRE_SPIN ; 54 DRAGONBREATH ; 57 HEAT_WAVE ; 60 FLARE_BLITZ\n"
   ]
  },
  {
   "cell_type": "code",
   "execution_count": null,
   "id": "0293d7cf",
   "metadata": {},
   "outputs": [],
   "source": [
    "8 TACKLE ; 13 BITE ; 17 EMBER ; 19 AGILITY ; 21 MUD_SLAP ; 23 LEER ; 26 SWIFT ; 28 DOUBLE_KICK ; 30 TAKE_DOWN ; 32 CRUNCH ; 34 DRAGON_RAGE ; 36 AERIAL_ACE ; 40 HEADBUTT ; 42 EXTREMESPEED ; 44 FLAMETHROWER ; 46 THRASH ; 47 IRON_TAIL ; 51 PLAY_ROUGH ; 54 FIRE_SPIN ; 56 DRAGONBREATH ; 59 HEAT_WAVE ; 62 FLARE_BLITZ ; 64 SUPERPOWER ; 66 SOLARBEAM\n"
   ]
  },
  {
   "cell_type": "code",
   "execution_count": null,
   "id": "2d67c93a",
   "metadata": {},
   "outputs": [],
   "source": [
    "TOXIC, BODY_SLAM, DOUBLE_EDGE, WILL_O_WISP, DIG, MIMIC, DOUBLE_TEAM, REFLECT, BIDE, CLOSE_COMBAT, FIRE_BLAST, OUTRAGE, REST, ROCK_SLIDE, SUBSTITUTE, STRENGTH\n"
   ]
  },
  {
   "cell_type": "code",
   "execution_count": null,
   "id": "7aef2e35",
   "metadata": {},
   "outputs": [],
   "source": [
    "TOXIC, BODY_SLAM, DOUBLE_EDGE, HYPER_BEAM, STONE_EDGE, WILL_O_WISP, DIG, MIMIC, DOUBLE_TEAM, REFLECT, BIDE, CLOSE_COMBAT, FIRE_BLAST, OUTRAGE, REST, ROCK_SLIDE, SUBSTITUTE, STRENGTH\n"
   ]
  },
  {
   "cell_type": "code",
   "execution_count": null,
   "id": "8bd65542",
   "metadata": {},
   "outputs": [],
   "source": [
    "# Mankey - 38"
   ]
  },
  {
   "cell_type": "code",
   "execution_count": null,
   "id": "fad16df7",
   "metadata": {},
   "outputs": [],
   "source": [
    "7 DEFENSE_CURL ; 9 FURY_SWIPES ; 11 LOW_KICK ; 13 MUD_SLAP ; 16 SEISMIC_TOSS ; 18 KARATE_CHOP ; 21 HEADBUTT ; 24 SWIFT ; 27 FOCUS_ENERGY ; 29 IRON_TAIL ; 32 SCREECH ; 35 THRASH ; 37 AERIAL_ACE ; 39 ROCK_TOMB ; 41 TAKE_DOWN ; 43 SUBMISSION ; 46 NIGHT_SLASH ; 49 ICE_PUNCH ; 50 FIRE_PUNCH ; 51 THUNDERPUNCH ; 54 CLOSE_COMBAT ; 57 OUTRAGE\n"
   ]
  },
  {
   "cell_type": "code",
   "execution_count": null,
   "id": "fb9f413e",
   "metadata": {},
   "outputs": [],
   "source": [
    "7 DEFENSE_CURL ; 9 FURY_SWIPES ; 11 LOW_KICK ; 13 MUD_SLAP ; 16 SEISMIC_TOSS ; 18 KARATE_CHOP ; 21 HEADBUTT ; 24 SWIFT ; 27 FOCUS_ENERGY ; 34 SCREECH ; 37 THRASH ; 39 AERIAL_ACE ; 42 ROCK_TOMB ; 45 TAKE_DOWN ; 48 SUBMISSION ; 50 NIGHT_SLASH ; 53 ICE_PUNCH ; 54 FIRE_PUNCH ; 55 THUNDERPUNCH ; 59 CLOSE_COMBAT ; 62 OUTRAGE\n"
   ]
  },
  {
   "cell_type": "code",
   "execution_count": null,
   "id": "a8509a14",
   "metadata": {},
   "outputs": [],
   "source": [
    "COUNTER, SCRATCH, LEER, FOCUS_ENERGY"
   ]
  },
  {
   "cell_type": "code",
   "execution_count": null,
   "id": "c15fed1e",
   "metadata": {},
   "outputs": [],
   "source": [
    "7 DEFENSE_CURL ; 9 FURY_SWIPES ; 11 LOW_KICK ; 13 MUD_SLAP ; 16 SEISMIC_TOSS ; 18 KARATE_CHOP ; 21 HEADBUTT ; 24 SWIFT ; 27 FOCUS_ENERGY ; 34 SCREECH ; 37 THRASH ; 38 SHADOW_PUNCH ; 40 AERIAL_ACE ; 42 COUNTER ; 44 ROCK_TOMB ; 45 SHADOW_CLAW ; 47 TAKE_DOWN ; 49 NIGHT_SHADE ; 51 SUBMISSION ; 53 DRAIN_PUNCH ; 55 NIGHT_SLASH ; 57 ICE_PUNCH ; 58 FIRE_PUNCH ; 59 THUNDERPUNCH ; 61 CLOSE_COMBAT ; 65 OUTRAGE\n"
   ]
  },
  {
   "cell_type": "code",
   "execution_count": null,
   "id": "f507f7a7",
   "metadata": {},
   "outputs": [],
   "source": [
    "MEGA_PUNCH, COUNTER, TOXIC, BODY_SLAM, DOUBLE_EDGE, METRONOME, SEISMIC_TOSS, THUNDERBOLT, THUNDER, EARTHQUAKE, DIG, MIMIC, DOUBLE_TEAM, BIDE, CLOSE_COMBAT, OUTRAGE, REST, ROCK_SLIDE, SUBSTITUTE, STRENGTH\n"
   ]
  },
  {
   "cell_type": "code",
   "execution_count": null,
   "id": "2b90140f",
   "metadata": {},
   "outputs": [],
   "source": [
    "MEGA_PUNCH, COUNTER, TOXIC, BODY_SLAM, DOUBLE_EDGE, METRONOME, HYPER_BEAM, SEISMIC_TOSS, STONE_EDGE, THUNDERBOLT, THUNDER, EARTHQUAKE, DIG, MIMIC, DOUBLE_TEAM, BIDE, CLOSE_COMBAT, OUTRAGE, REST, ROCK_SLIDE, SUBSTITUTE, STRENGTH\n"
   ]
  },
  {
   "cell_type": "code",
   "execution_count": null,
   "id": "47de3041",
   "metadata": {},
   "outputs": [],
   "source": [
    "MEGA_PUNCH, COUNTER, TOXIC, BODY_SLAM, DOUBLE_EDGE, METRONOME, HYPER_BEAM, SEISMIC_TOSS, STONE_EDGE, THUNDERBOLT, THUNDER, EARTHQUAKE, DIG, MIMIC, DOUBLE_TEAM, BIDE, CLOSE_COMBAT, OUTRAGE, REST, ROCK_SLIDE, SUBSTITUTE, STRENGTH, GUNK_SHOT, SHADOW_BALL\n"
   ]
  },
  {
   "cell_type": "code",
   "execution_count": null,
   "id": "3f53f0dd",
   "metadata": {},
   "outputs": [],
   "source": [
    "# Psyduck"
   ]
  },
  {
   "cell_type": "code",
   "execution_count": null,
   "id": "7d4c00b7",
   "metadata": {},
   "outputs": [],
   "source": [
    "3 LEER ; 6 WATER_GUN ; 8 CONFUSION ; 10 FURY_SWIPES ; 12 WATER_PULSE ; 15 DISABLE ; 17 ZEN_HEADBUTT ; 20 SCREECH ; 22 BUBBLE ; 24 MUD_SLAP ; 27 SWIFT ; 28 HEADBUTT ; 33 PSYBEAM ; 34 AMNESIA ; 37 CONFUSE_RAY ; 40 LIGHT_SCREEN ; 42 TAKE_DOWN ; 45 IRON_TAIL ; 48 HYPNOSIS ; 50 SCALD ; 53 SHADOW_CLAW ; 55 ICE_PUNCH ; 60 HYDRO_PUMP"
   ]
  },
  {
   "cell_type": "code",
   "execution_count": null,
   "id": "1c2f3aa5",
   "metadata": {},
   "outputs": [],
   "source": [
    "3 LEER ; 6 WATER_GUN ; 8 CONFUSION ; 10 FURY_SWIPES ; 12 WATER_PULSE ; 15 DISABLE ; 17 ZEN_HEADBUTT ; 20 SCREECH ; 22 BUBBLE ; 24 MUD_SLAP ; 27 SWIFT ; 28 HEADBUTT ; 33 PSYBEAM ; 35 AERIAL_ACE ; 37 AMNESIA ; 41 CONFUSE_RAY ; 43 SUBMISSION ; 44 LIGHT_SCREEN ; 46 TAKE_DOWN ; 48 WATERFALL ; 50 IRON_TAIL ; 52 HYPNOSIS ; 54 SCALD ; 56 LOW_KICK ; 58 SHADOW_CLAW ; 61 ICE_PUNCH ; 65 HYDRO_PUMP"
   ]
  },
  {
   "cell_type": "code",
   "execution_count": null,
   "id": "dd736a1a",
   "metadata": {},
   "outputs": [],
   "source": [
    "MEGA_PUNCH, COUNTER, TOXIC, BODY_SLAM, DOUBLE_EDGE, BUBBLEBEAM, ICE_BEAM, BLIZZARD, SEISMIC_TOSS, DIG, PSYCHIC_M, MIMIC, DOUBLE_TEAM, BIDE, HYDRO_PUMP, REST, SUBSTITUTE, SURF, STRENGTH, FLASH"
   ]
  },
  {
   "cell_type": "code",
   "execution_count": null,
   "id": "1187a93f",
   "metadata": {},
   "outputs": [],
   "source": [
    "MEGA_PUNCH, COUNTER, TOXIC, BODY_SLAM, DOUBLE_EDGE, BUBBLEBEAM, ICE_BEAM, BLIZZARD, HYPER_BEAM, SEISMIC_TOSS, DIG, PSYCHIC_M, MIMIC, DOUBLE_TEAM, BIDE, HYDRO_PUMP, REST, SUBSTITUTE, SURF, STRENGTH, FLASH"
   ]
  },
  {
   "cell_type": "code",
   "execution_count": null,
   "id": "c49cc9f8",
   "metadata": {},
   "outputs": [],
   "source": [
    "# Meowth"
   ]
  },
  {
   "cell_type": "code",
   "execution_count": null,
   "id": "e37ac1c1",
   "metadata": {},
   "outputs": [],
   "source": [
    "8 LEER ; 10 DEFENSE_CURL ; 12 BITE ; 14 WATER_GUN ; 15 PAY_DAY ; 17 MUD_SLAP ; 19 SWIFT ; 21 SHOCK_WAVE ; 23 HEADBUTT ; 25 SCREECH ; 27 FURY_SWIPES ; 29 TAKE_DOWN ; 30 CRUNCH ; 31 WATER_PULSE ; 33 SLASH ; 35 SING ; 36 DREAM_EATER ; 37 HYPNOSIS ; 39 METAL_CLAW ; 41 AERIAL_ACE ; 43 AMNESIA ; 45 PLAY_ROUGH ; 47 IRON_TAIL ; 49 NIGHT_SLASH ; 52 SHADOW_CLAW ; 55 THRASH"
   ]
  },
  {
   "cell_type": "code",
   "execution_count": null,
   "id": "6f5bcc0a",
   "metadata": {},
   "outputs": [],
   "source": [
    "8 LEER ; 10 DEFENSE_CURL ; 12 BITE ; 14 WATER_GUN ; 15 PAY_DAY ; 17 MUD_SLAP ; 19 SWIFT ; 21 SHOCK_WAVE ; 23 HEADBUTT ; 25 SCREECH ; 27 FURY_SWIPES ; 33 TAKE_DOWN ; 35 WATER_PULSE ; 38 SLASH ; 40 SING ; 41 DREAM_EATER ; 42 HYPNOSIS ; 43 AERIAL_ACE ; 46 AMNESIA ; 49 PLAY_ROUGH ; 52 IRON_TAIL ; 55 NIGHT_SLASH ; 58 SHADOW_CLAW"
   ]
  },
  {
   "cell_type": "code",
   "execution_count": null,
   "id": "65ae5d5d",
   "metadata": {},
   "outputs": [],
   "source": [
    "SWORDS_DANCE, TOXIC, DARK_PULSE, BODY_SLAM, DOUBLE_EDGE, BUBBLEBEAM, FEINT_ATTACK, THUNDERBOLT, THUNDER, DIG, MIMIC, DOUBLE_TEAM, BIDE, REST, GUNK_SHOT, SHADOW_BALL, SUBSTITUTE, CUT, FLASH"
   ]
  },
  {
   "cell_type": "code",
   "execution_count": null,
   "id": "75ecb25c",
   "metadata": {},
   "outputs": [],
   "source": [
    "TOXIC, DARK_PULSE, BODY_SLAM, DOUBLE_EDGE, BUBBLEBEAM, HYPER_BEAM, FEINT_ATTACK, THUNDERBOLT, THUNDER, DIG, MIMIC, DOUBLE_TEAM, BIDE, REST, GUNK_SHOT, SHADOW_BALL, SUBSTITUTE, CUT, FLASH\n"
   ]
  },
  {
   "cell_type": "code",
   "execution_count": null,
   "id": "3052e966",
   "metadata": {},
   "outputs": [],
   "source": [
    "# Diglett"
   ]
  },
  {
   "cell_type": "code",
   "execution_count": null,
   "id": "c53bdd93",
   "metadata": {},
   "outputs": [],
   "source": [
    "4 GROWL ; 12 MUD_SLAP ; 15 FURY_SWIPES ; 18 DIG ; 20 HEADBUTT ; 22 SCREECH ; 24 SAND_ATTACK ; 27 SLASH ; 29 TAKE_DOWN ; 33 AERIAL_ACE ; 36 ROCK_TOMB ; 38 AGILITY ; 40 EARTHQUAKE ; 43 THRASH ; 46 SHADOW_CLAW ; 47 METAL_CLAW ; 51 FISSURE"
   ]
  },
  {
   "cell_type": "code",
   "execution_count": null,
   "id": "0ce986dd",
   "metadata": {},
   "outputs": [],
   "source": [
    "4 GROWL ; 12 MUD_SLAP ; 15 FURY_SWIPES ; 18 DIG ; 20 HEADBUTT ; 22 SCREECH ; 24 SAND_ATTACK ; 30 SLASH ; 32 TAKE_DOWN ; 36 AERIAL_ACE ; 39 ROCK_TOMB ; 41 AGILITY ; 46 EARTHQUAKE ; 49 THRASH ; 52 SHADOW_CLAW ; 53 METAL_CLAW ; 54 NIGHT_SLASH ; 57 SLUDGE_WAVE ; 59 FISSURE"
   ]
  },
  {
   "cell_type": "code",
   "execution_count": null,
   "id": "0150c699",
   "metadata": {},
   "outputs": [],
   "source": [
    "TOXIC, BODY_SLAM, DOUBLE_EDGE, FLASH_CANNON, FEINT_ATTACK, EARTHQUAKE, FISSURE, DIG, MIMIC, DOUBLE_TEAM, BIDE, REST, ROCK_SLIDE, SUBSTITUTE, CUT"
   ]
  },
  {
   "cell_type": "code",
   "execution_count": null,
   "id": "d9b41890",
   "metadata": {},
   "outputs": [],
   "source": [
    "TOXIC, BODY_SLAM, DOUBLE_EDGE, HYPER_BEAM, FLASH_CANNON, FEINT_ATTACK, STONE_EDGE, EARTHQUAKE, FISSURE, DIG, MIMIC, DOUBLE_TEAM, BIDE, REST, ROCK_SLIDE, SUBSTITUTE, CUT"
   ]
  },
  {
   "cell_type": "code",
   "execution_count": null,
   "id": "83278ebc",
   "metadata": {},
   "outputs": [],
   "source": [
    "# Venonat"
   ]
  },
  {
   "cell_type": "code",
   "execution_count": null,
   "id": "229ad4fb",
   "metadata": {},
   "outputs": [],
   "source": [
    "5 SUPERSONIC ; 11 CONFUSION ; 13 POISONPOWDER ; 15 PSYBEAM ; 18 SCREECH ; 21 SWIFT ; 23 STUN_SPORE ; 25 MEGA_DRAIN ; 27 LEECH_LIFE ; 29 SLEEP_POWDER ; 32 TAKE_DOWN ; 35 AGILITY ; 37 ZEN_HEADBUTT ; 43 PSYCHIC_M ; 47 SOLARBEAM"
   ]
  },
  {
   "cell_type": "code",
   "execution_count": null,
   "id": "70d6124d",
   "metadata": {},
   "outputs": [],
   "source": [
    "5 SUPERSONIC ; 11 CONFUSION ; 13 POISONPOWDER ; 15 PSYBEAM ; 18 SCREECH ; 21 SWIFT ; 23 STUN_SPORE ; 25 MEGA_DRAIN ; 27 LEECH_LIFE ; 29 SLEEP_POWDER ; 31 GUST ; 33 TELEPORT ; 35 TAKE_DOWN ; 37 AGILITY ; 39 AERIAL_ACE ; 41 ZEN_HEADBUTT ; 46 ENERGY_BALL ; 50 PSYCHIC_M ; 52 ROOST ; 55 SOLARBEAM"
   ]
  },
  {
   "cell_type": "code",
   "execution_count": null,
   "id": "f167f518",
   "metadata": {},
   "outputs": [],
   "source": [
    "TOXIC, DOUBLE_EDGE, GIGA_DRAIN, PSYCHIC_M, MIMIC, DOUBLE_TEAM, REFLECT, BIDE, REST, PSYWAVE, SUBSTITUTE, FLASH"
   ]
  },
  {
   "cell_type": "code",
   "execution_count": null,
   "id": "f7ad4072",
   "metadata": {},
   "outputs": [],
   "source": [
    "TOXIC, DOUBLE_EDGE, HYPER_BEAM, GIGA_DRAIN, PSYCHIC_M, MIMIC, DOUBLE_TEAM, REFLECT, BIDE, REST, PSYWAVE, SUBSTITUTE, FLASH\n"
   ]
  },
  {
   "cell_type": "code",
   "execution_count": null,
   "id": "ba467811",
   "metadata": {},
   "outputs": [],
   "source": [
    "# Paras"
   ]
  },
  {
   "cell_type": "code",
   "execution_count": null,
   "id": "18128c47",
   "metadata": {},
   "outputs": [],
   "source": [
    "6 ABSORB ; 9 LEECH_LIFE ; 12 LEECH_SEED ; 14 POISONPOWDER ; 16 STUN_SPORE ; 18 INFESTATION ; 20 MEGA_DRAIN ; 22 SPORE ; 24 GROWTH ; 27 SLASH ; 29 BULLET_SEED ; 32 SCREECH ; 35 PSYBEAM ; 38 GIGA_DRAIN ; 40 AERIAL_ACE ; 43 AGILITY ; 45 METAL_CLAW ; 47 X_SCISSOR ; 49 ENERGY_BALL ; 52 LIGHT_SCREEN ; 55 SOLARBEAM"
   ]
  },
  {
   "cell_type": "code",
   "execution_count": null,
   "id": "0a82d6f6",
   "metadata": {},
   "outputs": [],
   "source": [
    "6 ABSORB ; 9 LEECH_LIFE ; 12 LEECH_SEED ; 14 POISONPOWDER ; 16 STUN_SPORE ; 18 INFESTATION ; 20 MEGA_DRAIN ; 22 SPORE ; 24 GROWTH ; 27 TAKE_DOWN ; 30 SLASH ; 32 BULLET_SEED ; 35 SCREECH ; 38 PSYBEAM ; 41 GIGA_DRAIN ; 44 AERIAL_ACE ; 46 AGILITY ; 48 METAL_CLAW ; 50 X_SCISSOR ; 53 ENERGY_BALL ; 56 LIGHT_SCREEN ; 59 SOLARBEAM\n"
   ]
  },
  {
   "cell_type": "code",
   "execution_count": null,
   "id": "cf717007",
   "metadata": {},
   "outputs": [],
   "source": [
    "SWORDS_DANCE, COUNTER, TOXIC, BODY_SLAM, DOUBLE_EDGE, GIGA_DRAIN, DIG, MIMIC, DOUBLE_TEAM, REFLECT, BIDE, REST, X_SCISSOR, SUBSTITUTE, CUT, FLASH\n"
   ]
  },
  {
   "cell_type": "code",
   "execution_count": null,
   "id": "ef7d1526",
   "metadata": {},
   "outputs": [],
   "source": [
    "SWORDS_DANCE, COUNTER, TOXIC, BODY_SLAM, DOUBLE_EDGE, HYPER_BEAM, GIGA_DRAIN, DIG, MIMIC, DOUBLE_TEAM, REFLECT, BIDE, REST, X_SCISSOR, SUBSTITUTE, CUT, FLASH\n"
   ]
  },
  {
   "cell_type": "code",
   "execution_count": null,
   "id": "7682e5ad",
   "metadata": {},
   "outputs": [],
   "source": [
    "# ODDISH"
   ]
  },
  {
   "cell_type": "code",
   "execution_count": null,
   "id": "87926939",
   "metadata": {},
   "outputs": [],
   "source": [
    "4 GROWTH ; 7 ACID ; 10 LEECH_SEED ; 12 MEGA_DRAIN ; 14 POISONPOWDER ; 16 STUN_SPORE ; 18 SLEEP_POWDER ; 20 BULLET_SEED ; 22 GIGA_DRAIN ; 24 TOXIC ; 26 ENERGY_BALL ; 28 MOONBLAST ; 30 INFESTATION ; 33 PETAL_DANCE ; 35 RAZOR_LEAF ; 39 SLUDGE_WAVE ; 44 SOLARBEAM\n"
   ]
  },
  {
   "cell_type": "code",
   "execution_count": null,
   "id": "8480af92",
   "metadata": {},
   "outputs": [],
   "source": [
    "4 GROWTH ; 7 ACID ; 10 LEECH_SEED ; 12 MEGA_DRAIN ; 14 POISONPOWDER ; 16 STUN_SPORE ; 18 SLEEP_POWDER ; 20 BULLET_SEED ; 25 GIGA_DRAIN ; 27 TOXIC ; 29 ENERGY_BALL ; 31 MOONBLAST ; 33 INFESTATION ; 35 DRAIN_PUNCH ; 37 PETAL_DANCE ; 39 RAZOR_LEAF ; 41 SLUDGE_WAVE ; 44 TAKE_DOWN ; 47 SOLARBEAM\n"
   ]
  },
  {
   "cell_type": "code",
   "execution_count": null,
   "id": "edbe435d",
   "metadata": {},
   "outputs": [],
   "source": [
    "4 GROWTH ; 7 ACID ; 10 LEECH_SEED ; 12 MEGA_DRAIN ; 14 POISONPOWDER ; 16 STUN_SPORE ; 18 SLEEP_POWDER ; 20 BULLET_SEED ; 25 GIGA_DRAIN ; 27 TOXIC ; 29 ENERGY_BALL ; 31 MOONBLAST ; 33 INFESTATION ; 35 DRAIN_PUNCH ; 40 PETAL_DANCE ; 42 RAZOR_LEAF ; 44 SLUDGE_WAVE ; 47 TAKE_DOWN ; 51 SOLARBEAM\n"
   ]
  },
  {
   "cell_type": "code",
   "execution_count": null,
   "id": "78fd13de",
   "metadata": {},
   "outputs": [],
   "source": [
    "4 GROWTH ; 7 ACID ; 10 LEECH_SEED ; 12 MEGA_DRAIN ; 14 POISONPOWDER ; 16 STUN_SPORE ; 18 SLEEP_POWDER ; 20 BULLET_SEED ; 25 GIGA_DRAIN ; 27 TOXIC ; 29 ENERGY_BALL ; 31 MOONBLAST ; 33 INFESTATION ; 35 DRAIN_PUNCH ; 37 PLAY_ROUGH ; 40 PETAL_DANCE ; 42 RAZOR_LEAF ; 44 SLUDGE_WAVE ; 47 TAKE_DOWN ; 51 SOLARBEAM\n"
   ]
  },
  {
   "cell_type": "code",
   "execution_count": null,
   "id": "4bab5df0",
   "metadata": {},
   "outputs": [],
   "source": [
    "SWORDS_DANCE, TOXIC, DOUBLE_EDGE, GIGA_DRAIN, MOONBLAST, MIMIC, DOUBLE_TEAM, REFLECT, BIDE, REST, SUBSTITUTE, CUT, FLASH, GUNK_SHOT\n"
   ]
  },
  {
   "cell_type": "code",
   "execution_count": null,
   "id": "aaecd189",
   "metadata": {},
   "outputs": [],
   "source": [
    "SWORDS_DANCE, TOXIC, BODY_SLAM, DOUBLE_EDGE, GIGA_DRAIN, MOONBLAST, MIMIC, DOUBLE_TEAM, REFLECT, BIDE, REST, SUBSTITUTE, CUT, FLASH, GUNK_SHOT\n"
   ]
  },
  {
   "cell_type": "code",
   "execution_count": null,
   "id": "207d0c2f",
   "metadata": {},
   "outputs": [],
   "source": [
    "SWORDS_DANCE, TOXIC, BODY_SLAM, DOUBLE_EDGE, HYPER_BEAM, GIGA_DRAIN, MOONBLAST, MIMIC, DOUBLE_TEAM, REFLECT, BIDE, REST, SUBSTITUTE, CUT, FLASH, GUNK_SHOT\n"
   ]
  },
  {
   "cell_type": "code",
   "execution_count": null,
   "id": "6dc9f67a",
   "metadata": {},
   "outputs": [],
   "source": [
    "SWORDS_DANCE, TOXIC, BODY_SLAM, DOUBLE_EDGE, HYPER_BEAM, GIGA_DRAIN, MOONBLAST, MIMIC, DOUBLE_TEAM, REFLECT, BIDE, REST, SUBSTITUTE, CUT, FLASH\n"
   ]
  },
  {
   "cell_type": "code",
   "execution_count": null,
   "id": "564e0c56",
   "metadata": {},
   "outputs": [],
   "source": [
    "# Crobat"
   ]
  },
  {
   "cell_type": "code",
   "execution_count": null,
   "id": "12890dc2",
   "metadata": {},
   "outputs": [],
   "source": [
    "TOXIC, DOUBLE_EDGE, FEINT_ATTACK, GIGA_DRAIN, MIMIC, DOUBLE_TEAM, BIDE, REST, SHADOW_BALL, SUBSTITUTE"
   ]
  },
  {
   "cell_type": "code",
   "execution_count": null,
   "id": "893485ff",
   "metadata": {},
   "outputs": [],
   "source": [
    "TOXIC, DOUBLE_EDGE, HYPER_BEAM, FEINT_ATTACK, GIGA_DRAIN, MIMIC, DOUBLE_TEAM, BIDE, BRAVE_BIRD, REST, SHADOW_BALL, SUBSTITUTE, FLY"
   ]
  },
  {
   "cell_type": "code",
   "execution_count": null,
   "id": "627b3c03",
   "metadata": {},
   "outputs": [],
   "source": [
    "TOXIC, DOUBLE_EDGE, HYPER_BEAM, FEINT_ATTACK, GIGA_DRAIN, MIMIC, DOUBLE_TEAM, BIDE, BRAVE_BIRD, REST, SHADOW_BALL, SUBSTITUTE, FLY, GUNK_SHOT, X_SCISSOR"
   ]
  },
  {
   "cell_type": "code",
   "execution_count": null,
   "id": "05d189af",
   "metadata": {},
   "outputs": [],
   "source": [
    "10 SUPERSONIC ; 13 ABSORB ; 15 BITE ; 17 LEECH_LIFE ; 19 WING_ATTACK ; 21 CONFUSE_RAY ; 23 SWIFT ; 24 AIR_CUTTER ; 25 GUST ; 27 SUPER_FANG ; 29 SLUDGE_WAVE ; 31 MEGA_DRAIN ; 33 TWISTER ; 35 AGILITY ; 37 HAZE ; 40 HEADBUTT ; 42 ZEN_HEADBUTT ; 45 CRUNCH ; 48 ROOST ; 50 STEEL_WING ; 52 AERIAL_ACE ; 55 AIR_SLASH"
   ]
  },
  {
   "cell_type": "code",
   "execution_count": null,
   "id": "49219c27",
   "metadata": {},
   "outputs": [],
   "source": [
    "10 SUPERSONIC ; 13 ABSORB ; 15 BITE ; 17 LEECH_LIFE ; 19 WING_ATTACK ; 21 CONFUSE_RAY ; 24 SWIFT ; 25 AIR_CUTTER ; 26 GUST ; 29 SUPER_FANG ; 31 SLUDGE_WAVE ; 33 MEGA_DRAIN ; 35 TWISTER ; 38 AGILITY ; 41 HAZE ; 44 HEADBUTT ; 45 ZEN_HEADBUTT ; 48 CRUNCH ; 51 ROOST ; 54 STEEL_WING ; 57 AERIAL_ACE ; 60 AIR_SLASH ; 63 HEAT_WAVE"
   ]
  },
  {
   "cell_type": "code",
   "execution_count": null,
   "id": "adc07f1b",
   "metadata": {},
   "outputs": [],
   "source": [
    "10 SUPERSONIC ; 13 ABSORB ; 15 BITE ; 17 LEECH_LIFE ; 19 WING_ATTACK ; 21 CONFUSE_RAY ; 24 SWIFT ; 25 AIR_CUTTER ; 26 GUST ; 29 SUPER_FANG ; 31 SLUDGE_WAVE ; 33 MEGA_DRAIN ; 35 TWISTER ; 38 AGILITY ; 41 HAZE ; 42 X_SCISSOR ; 48 HEADBUTT ; 50 ZEN_HEADBUTT ; 53 CRUNCH ; 55 ROOST ; 57 GUNK_SHOT ; 59 STEEL_WING ; 61 AERIAL_ACE ; 64 AIR_SLASH ; 66 HURRICANE ; 68 HEAT_WAVE"
   ]
  },
  {
   "cell_type": "code",
   "execution_count": null,
   "id": "4be633c0",
   "metadata": {},
   "outputs": [],
   "source": [
    "# Jigglypuff"
   ]
  },
  {
   "cell_type": "code",
   "execution_count": null,
   "id": "8173c0bc",
   "metadata": {},
   "outputs": [],
   "source": []
  },
  {
   "cell_type": "code",
   "execution_count": null,
   "id": "216d04c7",
   "metadata": {},
   "outputs": [],
   "source": [
    "MEGA_PUNCH, COUNTER, TOXIC, BODY_SLAM, DOUBLE_EDGE, BUBBLEBEAM, ICE_BEAM, BLIZZARD, DRAININGKISS, SEISMIC_TOSS, FEINT_ATTACK, THUNDERBOLT, THUNDER, DIG, PSYCHIC_M, MIMIC, DOUBLE_TEAM, REFLECT, BIDE, SELFDESTRUCT, FIRE_BLAST, REST, THUNDER_WAVE, PSYWAVE, SHADOW_BALL, SUBSTITUTE, STRENGTH, FLASH"
   ]
  },
  {
   "cell_type": "code",
   "execution_count": null,
   "id": "0ee2ebd1",
   "metadata": {},
   "outputs": [],
   "source": [
    "MEGA_PUNCH, COUNTER, TOXIC, BODY_SLAM, DOUBLE_EDGE, BUBBLEBEAM, ICE_BEAM, BLIZZARD, HYPER_BEAM, DRAININGKISS, SEISMIC_TOSS, FEINT_ATTACK, THUNDERBOLT, THUNDER, DIG, PSYCHIC_M, MIMIC, DOUBLE_TEAM, REFLECT, BIDE, SELFDESTRUCT, FIRE_BLAST, REST, THUNDER_WAVE, PSYWAVE, SHADOW_BALL, SUBSTITUTE, STRENGTH, FLASH"
   ]
  },
  {
   "cell_type": "code",
   "execution_count": null,
   "id": "9ec2cf38",
   "metadata": {},
   "outputs": [],
   "source": [
    "10 POUND ; 11 DREAM_EATER ; 12 SCREECH ; 13 DISABLE ; 14 WATER_GUN ; 15 SONICBOOM ; 16 TELEPORT ; 17 DEFENSE_CURL ; 18 REST ; 19 BODY_SLAM ; 20 MIMIC ; 21 SHOCK_WAVE ; 22 HEADBUTT ; 23 DOUBLE_EDGE ; 24 PLAY_ROUGH ; 25 WATER_PULSE ; 26 TAKE_DOWN ; 27 FIRE_PUNCH ; 28 ICE_PUNCH ; 29 THUNDERPUNCH ; 30 DRAIN_PUNCH ; 31 FLAMETHROWER ; 32 LIGHT_SCREEN ; 33 MINIMIZE ; 34 MOONBLAST"
   ]
  },
  {
   "cell_type": "code",
   "execution_count": null,
   "id": "416fe6dc",
   "metadata": {},
   "outputs": [],
   "source": [
    "9 POUND ; 10 DREAM_EATER ; 12 SCREECH ; 14 DISABLE ; 17 WATER_GUN ; 20 SONICBOOM ; 22 TELEPORT ; 23 DEFENSE_CURL ; 24 REST ; 27 BODY_SLAM ; 29 MIMIC ; 32 SHOCK_WAVE ; 35 HEADBUTT ; 38 DOUBLE_EDGE ; 40 PLAY_ROUGH ; 43 WATER_PULSE ; 46 TAKE_DOWN ; 48 FIRE_PUNCH ; 49 ICE_PUNCH ; 50 THUNDERPUNCH ; 51 DRAIN_PUNCH ; 54 FLAMETHROWER ; 59 LIGHT_SCREEN ; 61 MINIMIZE"
   ]
  },
  {
   "cell_type": "code",
   "execution_count": null,
   "id": "288092a5",
   "metadata": {},
   "outputs": [],
   "source": [
    "9 POUND ; 10 DREAM_EATER ; 12 SCREECH ; 14 DISABLE ; 17 WATER_GUN ; 20 SONICBOOM ; 22 TELEPORT ; 26 DEFENSE_CURL ; 27 REST ; 30 BODY_SLAM ; 33 MIMIC ; 36 SHOCK_WAVE ; 39 HEADBUTT ; 42 DOUBLE_EDGE ; 44 PLAY_ROUGH ; 47 WATER_PULSE ; 49 TAKE_DOWN ; 52 FIRE_PUNCH ; 53 ICE_PUNCH ; 54 THUNDERPUNCH ; 55 DRAIN_PUNCH ; 57 FLAMETHROWER ; 61 LIGHT_SCREEN ; 65 MINIMIZE"
   ]
  },
  {
   "cell_type": "code",
   "execution_count": null,
   "id": "13e793bd",
   "metadata": {},
   "outputs": [],
   "source": []
  },
  {
   "cell_type": "code",
   "execution_count": null,
   "id": "f70a5912",
   "metadata": {},
   "outputs": [],
   "source": []
  },
  {
   "cell_type": "code",
   "execution_count": null,
   "id": "a26dfea7",
   "metadata": {},
   "outputs": [],
   "source": []
  },
  {
   "cell_type": "code",
   "execution_count": null,
   "id": "53a52e96",
   "metadata": {},
   "outputs": [],
   "source": [
    "# Ninetales"
   ]
  },
  {
   "cell_type": "code",
   "execution_count": null,
   "id": "d19569cb",
   "metadata": {},
   "outputs": [],
   "source": [
    "TOXIC, DARK_PULSE, BODY_SLAM, DOUBLE_EDGE, FEINT_ATTACK, WILL_O_WISP, DIG, MIMIC, DOUBLE_TEAM, REFLECT, BIDE, FIRE_BLAST, REST, SUBSTITUTE"
   ]
  },
  {
   "cell_type": "code",
   "execution_count": null,
   "id": "7356fc09",
   "metadata": {},
   "outputs": [],
   "source": [
    "TOXIC, DARK_PULSE, BODY_SLAM, DOUBLE_EDGE, HYPER_BEAM, FEINT_ATTACK, WILL_O_WISP, DIG, MIMIC, DOUBLE_TEAM, REFLECT, BIDE, FIRE_BLAST, REST, SHADOW_BALL, SUBSTITUTE"
   ]
  },
  {
   "cell_type": "code",
   "execution_count": null,
   "id": "39472d59",
   "metadata": {},
   "outputs": [],
   "source": [
    "4 DISABLE ; 8 QUICK_ATTACK ; 14 SWIFT ; 18 CONFUSE_RAY ; 22 WILL_O_WISP ; 25 HYPNOSIS ; 27 FLAMETHROWER ; 30 AGILITY ; 32 HEADBUTT ; 35 FIRE_SPIN ; 38 IRON_TAIL ; 41 ENERGY_BALL ; 44 ZEN_HEADBUTT ; 47 FLARE_BLITZ ; 50 HEAT_WAVE ; 53 FIRE_BLAST"
   ]
  },
  {
   "cell_type": "code",
   "execution_count": null,
   "id": "233cf718",
   "metadata": {},
   "outputs": [],
   "source": [
    "4 DISABLE ; 8 QUICK_ATTACK ; 14 SWIFT ; 18 CONFUSE_RAY ; 22 WILL_O_WISP ; 25 HYPNOSIS ; 29 FLAMETHROWER ; 33 AGILITY ; 35 HEADBUTT ; 37 DREAM_EATER ; 40 FIRE_SPIN ; 43 IRON_TAIL ; 47 ENERGY_BALL ; 49 ZEN_HEADBUTT ; 52 FLARE_BLITZ ; 54 HEAT_WAVE ; 56 SOLARBEAM ; 59 FIRE_BLAST"
   ]
  },
  {
   "cell_type": "code",
   "execution_count": null,
   "id": "c79494ab",
   "metadata": {},
   "outputs": [],
   "source": [
    "# Clefairy"
   ]
  },
  {
   "cell_type": "code",
   "execution_count": null,
   "id": "f743848b",
   "metadata": {},
   "outputs": [],
   "source": []
  },
  {
   "cell_type": "code",
   "execution_count": null,
   "id": "159c8227",
   "metadata": {},
   "outputs": [],
   "source": [
    "MEGA_PUNCH, COUNTER, TOXIC, BODY_SLAM, METEOR_MASH, DOUBLE_EDGE, BUBBLEBEAM, METRONOME, ICE_BEAM, BLIZZARD, DRAININGKISS, SEISMIC_TOSS, THUNDERBOLT, THUNDER, DIG, PSYCHIC_M, MOONBLAST, MIMIC, DOUBLE_TEAM, REFLECT, BIDE, FIRE_BLAST, REST, THUNDER_WAVE, PSYWAVE, SHADOW_BALL, SUBSTITUTE, STRENGTH, FLASH"
   ]
  },
  {
   "cell_type": "code",
   "execution_count": null,
   "id": "d2a7e938",
   "metadata": {},
   "outputs": [],
   "source": [
    "MEGA_PUNCH, COUNTER, TOXIC, BODY_SLAM, METEOR_MASH, DOUBLE_EDGE, BUBBLEBEAM, METRONOME, ICE_BEAM, BLIZZARD, HYPER_BEAM, DRAININGKISS, SEISMIC_TOSS, THUNDERBOLT, THUNDER, DIG, PSYCHIC_M, MOONBLAST, MIMIC, DOUBLE_TEAM, REFLECT, BIDE, FIRE_BLAST, REST, THUNDER_WAVE, PSYWAVE, SHADOW_BALL, SUBSTITUTE, STRENGTH, FLASH"
   ]
  },
  {
   "cell_type": "code",
   "execution_count": null,
   "id": "f942819c",
   "metadata": {},
   "outputs": [],
   "source": [
    "10 MINIMIZE ; 11 METRONOME ; 12 SING ; 13 TELEPORT ; 14 MUD_SLAP ; 15 DEFENSE_CURL ; 16 SWIFT ; 17 DRAIN_PUNCH ; 18 IRON_TAIL ; 19 MAGICAL_LEAF ; 20 METEOR_MASH ; 21 FLAMETHROWER ; 22 MOONBLAST ; 23 LIGHT_SCREEN ; 24 ICE_PUNCH ; 25 THUNDERPUNCH ; 26 FIRE_PUNCH ; 27 AMNESIA ; 28 HEADBUTT ; 29 ZEN_HEADBUTT ; 30 DREAM_EATER ; 31 PETAL_DANCE ; 32 PLAY_ROUGH ; 33 NIGHT_SLASH"
   ]
  },
  {
   "cell_type": "code",
   "execution_count": null,
   "id": "08130ee5",
   "metadata": {},
   "outputs": [],
   "source": [
    "8 MINIMIZE ; 10 METRONOME ; 12 SING ; 14 TELEPORT ; 16 MUD_SLAP ; 19 DEFENSE_CURL ; 22 SWIFT ; 24 DRAIN_PUNCH ; 27 IRON_TAIL ; 29 MAGICAL_LEAF ; 32 METEOR_MASH ; 34 FLAMETHROWER ; 36 MOONBLAST ; 40 LIGHT_SCREEN ; 42 ICE_PUNCH ; 43 THUNDERPUNCH ; 44 FIRE_PUNCH ; 46 AMNESIA ; 48 HEADBUTT ; 49 ZEN_HEADBUTT ; 51 DREAM_EATER ; 54 PETAL_DANCE ; 57 PLAY_ROUGH"
   ]
  },
  {
   "cell_type": "code",
   "execution_count": null,
   "id": "61fe1b1a",
   "metadata": {},
   "outputs": [],
   "source": [
    "8 MINIMIZE ; 10 METRONOME ; 12 SING ; 14 TELEPORT ; 16 MUD_SLAP ; 19 DEFENSE_CURL ; 22 SWIFT ; 27 DRAIN_PUNCH ; 30 IRON_TAIL ; 32 MAGICAL_LEAF ; 35 METEOR_MASH ; 37 FLAMETHROWER ; 39 MOONBLAST ; 43 LIGHT_SCREEN ; 45 ICE_PUNCH ; 46 THUNDERPUNCH ; 47 FIRE_PUNCH ; 49 AMNESIA ; 51 HEADBUTT ; 52 ZEN_HEADBUTT ; 54 DREAM_EATER ; 57 PETAL_DANCE ; 60 PLAY_ROUGH"
   ]
  },
  {
   "cell_type": "code",
   "execution_count": null,
   "id": "339863be",
   "metadata": {},
   "outputs": [],
   "source": [
    "# Nidoking"
   ]
  },
  {
   "cell_type": "code",
   "execution_count": null,
   "id": "84fbd081",
   "metadata": {},
   "outputs": [],
   "source": [
    "TOXIC, BODY_SLAM, DOUBLE_EDGE, ICE_BEAM, BLIZZARD, STONE_EDGE, THUNDERBOLT, THUNDER, EARTHQUAKE, DIG, MIMIC, DOUBLE_TEAM, REFLECT, BIDE, FIRE_BLAST, REST, ROCK_SLIDE, SHADOW_BALL, SUBSTITUTE, CUT, GUNK_SHOT"
   ]
  },
  {
   "cell_type": "code",
   "execution_count": null,
   "id": "15534380",
   "metadata": {},
   "outputs": [],
   "source": [
    "TOXIC, BODY_SLAM, DOUBLE_EDGE, BUBBLEBEAM, ICE_BEAM, BLIZZARD, STONE_EDGE, THUNDERBOLT, THUNDER, EARTHQUAKE, DIG, MIMIC, DOUBLE_TEAM, REFLECT, BIDE, FIRE_BLAST, REST, ROCK_SLIDE, SHADOW_BALL, SUBSTITUTE, CUT, GUNK_SHOT"
   ]
  },
  {
   "cell_type": "code",
   "execution_count": null,
   "id": "4e4b2fea",
   "metadata": {},
   "outputs": [],
   "source": [
    "MEGA_PUNCH, MEGAHORN, COUNTER, TOXIC, BODY_SLAM, DOUBLE_EDGE, BUBBLEBEAM, ICE_BEAM, BLIZZARD, HYPER_BEAM, SEISMIC_TOSS, STONE_EDGE, THUNDERBOLT, THUNDER, EARTHQUAKE, FISSURE, DIG, MIMIC, DOUBLE_TEAM, REFLECT, BIDE, FIRE_BLAST, OUTRAGE, REST, ROCK_SLIDE, SHADOW_BALL, SUBSTITUTE, CUT, SURF, STRENGTH, GUNK_SHOT"
   ]
  },
  {
   "cell_type": "code",
   "execution_count": null,
   "id": "0ef9f4fc",
   "metadata": {},
   "outputs": [],
   "source": [
    "7 GROWL ; 8 SCRATCH ; 9 DEFENSE_CURL ; 10 FURY_SWIPES ; 11 PECK ; 12 DOUBLE_KICK ; 13 HORN_ATTACK ; 15 POISON_STING ; 17 MUD_SLAP ; 19 SUPERSONIC ; 20 BODY_SLAM ; 22 BITE ; 24 FOCUS_ENERGY ; 26 MUD_SHOT ; 28 HEADBUTT ; 30 SUPER_FANG ; 32 TAKE_DOWN ; 34 TOXIC ; 36 CRUNCH ; 38 IRON_TAIL ; 40 ROCK_TOMB ; 42 SLUDGE_WAVE ; 44 AERIAL_ACE"
   ]
  },
  {
   "cell_type": "code",
   "execution_count": null,
   "id": "1388194c",
   "metadata": {},
   "outputs": [],
   "source": [
    "7 GROWL ; 8 SCRATCH ; 9 DEFENSE_CURL ; 10 FURY_SWIPES ; 11 PECK ; 12 DOUBLE_KICK ; 13 HORN_ATTACK ; 15 POISON_STING ; 18 MUD_SLAP ; 20 SUPERSONIC ; 22 BODY_SLAM ; 24 BITE ; 26 FOCUS_ENERGY ; 28 MUD_SHOT ; 30 HEADBUTT ; 32 SUPER_FANG ; 34 TAKE_DOWN ; 37 TOXIC ; 39 CRUNCH ; 41 IRON_TAIL ; 43 ROCK_TOMB ; 45 SLUDGE_WAVE ; 47 AERIAL_ACE"
   ]
  },
  {
   "cell_type": "code",
   "execution_count": null,
   "id": "48f80c70",
   "metadata": {},
   "outputs": [],
   "source": [
    "7 GROWL ; 8 SCRATCH ; 10 FURY_SWIPES ; 12 DOUBLE_KICK ; 13 HORN_ATTACK ; 15 POISON_STING ; 18 MUD_SLAP ; 20 SUPERSONIC ; 22 BODY_SLAM ; 24 BITE ; 26 FOCUS_ENERGY ; 28 MUD_SHOT ; 30 HEADBUTT ; 32 SUPER_FANG ; 34 TAKE_DOWN ; 36 SUPERPOWER ; 37 FIRE_PUNCH ; 38 THUNDERPUNCH ; 39 ICE_PUNCH ; 40 SHADOW_CLAW ; 41 THRASH ; 42 TOXIC ; 44 CRUNCH ; 46 IRON_TAIL ; 48 MEGAHORN ; 50 ROCK_TOMB ; 52 SLUDGE_WAVE ; 54 SUBMISSION ; 56 AERIAL_ACE ; 58 LOVELY_KISS ; 62 HORN_DRILL ; 65 HEAD_SMASH"
   ]
  },
  {
   "cell_type": "code",
   "execution_count": null,
   "id": "587cea96",
   "metadata": {},
   "outputs": [],
   "source": [
    "# Nidoqueen"
   ]
  },
  {
   "cell_type": "code",
   "execution_count": null,
   "id": "f5621e44",
   "metadata": {},
   "outputs": [],
   "source": [
    "TOXIC, BODY_SLAM, DOUBLE_EDGE, ICE_BEAM, BLIZZARD, STONE_EDGE, THUNDERBOLT, THUNDER, EARTHQUAKE, DIG, MIMIC, DOUBLE_TEAM, REFLECT, BIDE, FIRE_BLAST, REST, ROCK_SLIDE, SHADOW_BALL, SUBSTITUTE, CUT, GUNK_SHOT"
   ]
  },
  {
   "cell_type": "code",
   "execution_count": null,
   "id": "be6a2aaa",
   "metadata": {},
   "outputs": [],
   "source": [
    "TOXIC, BODY_SLAM, DOUBLE_EDGE, BUBBLEBEAM, ICE_BEAM, BLIZZARD, STONE_EDGE, THUNDERBOLT, THUNDER, EARTHQUAKE, DIG, MIMIC, DOUBLE_TEAM, REFLECT, BIDE, FIRE_BLAST, REST, ROCK_SLIDE, SHADOW_BALL, SUBSTITUTE, CUT, GUNK_SHOT"
   ]
  },
  {
   "cell_type": "code",
   "execution_count": null,
   "id": "60366bb1",
   "metadata": {},
   "outputs": [],
   "source": [
    "MEGA_PUNCH, COUNTER, TOXIC, BODY_SLAM, DOUBLE_EDGE, BUBBLEBEAM, ICE_BEAM, BLIZZARD, HYPER_BEAM, SEISMIC_TOSS, STONE_EDGE, THUNDERBOLT, THUNDER, EARTHQUAKE, FISSURE, DIG, MIMIC, DOUBLE_TEAM, REFLECT, BIDE, FIRE_BLAST, OUTRAGE, REST, ROCK_SLIDE, SHADOW_BALL, SUBSTITUTE, CUT, SURF, STRENGTH, GUNK_SHOT"
   ]
  },
  {
   "cell_type": "code",
   "execution_count": null,
   "id": "6c1f22f8",
   "metadata": {},
   "outputs": [],
   "source": [
    "7 LEER ; 8 SCRATCH ; 9 DEFENSE_CURL ; 10 FURY_SWIPES ; 12 DOUBLE_KICK ; 15 POISON_STING ; 17 MUD_SLAP ; 18 SUPERSONIC ; 20 BODY_SLAM ; 22 BITE ; 24 FOCUS_ENERGY ; 25 MUD_SHOT ; 27 HEADBUTT ; 28 SUPER_FANG ; 30 TAKE_DOWN ; 31 TOXIC ; 33 CRUNCH ; 35 IRON_TAIL ; 37 ROCK_TOMB ; 39 SLUDGE_WAVE ; 41 AERIAL_ACE"
   ]
  },
  {
   "cell_type": "code",
   "execution_count": null,
   "id": "368fa2cf",
   "metadata": {},
   "outputs": [],
   "source": [
    "7 LEER ; 8 SCRATCH ; 9 DEFENSE_CURL ; 10 FURY_SWIPES ; 12 DOUBLE_KICK ; 15 POISON_STING ; 18 MUD_SLAP ; 20 SUPERSONIC ; 22 BODY_SLAM ; 24 BITE ; 26 FOCUS_ENERGY ; 28 MUD_SHOT ; 30 HEADBUTT ; 32 SUPER_FANG ; 34 TAKE_DOWN ; 37 TOXIC ; 39 CRUNCH ; 41 IRON_TAIL ; 43 ROCK_TOMB ; 45 SLUDGE_WAVE ; 47 AERIAL_ACE"
   ]
  },
  {
   "cell_type": "code",
   "execution_count": null,
   "id": "8a840ccf",
   "metadata": {},
   "outputs": [],
   "source": [
    "7 LEER ; 8 SCRATCH ; 10 FURY_SWIPES ; 12 DOUBLE_KICK ; 15 POISON_STING ; 18 MUD_SLAP ; 20 SUPERSONIC ; 22 BODY_SLAM ; 24 BITE ; 26 FOCUS_ENERGY ; 28 MUD_SHOT ; 30 HEADBUTT ; 32 SUPER_FANG ; 34 TAKE_DOWN ; 36 SUPERPOWER ; 37 FIRE_PUNCH ; 38 THUNDERPUNCH ; 39 ICE_PUNCH ; 40 SHADOW_CLAW ; 42 TOXIC ; 44 CRUNCH ; 46 IRON_TAIL ; 48 ROCK_TOMB ; 50 SLUDGE_WAVE ; 52 SUBMISSION ; 54 AERIAL_ACE ; 56 LOVELY_KISS ; 60 HORN_DRILL"
   ]
  },
  {
   "cell_type": "code",
   "execution_count": null,
   "id": "4fc1114f",
   "metadata": {},
   "outputs": [],
   "source": [
    "# Sandslash"
   ]
  },
  {
   "cell_type": "code",
   "execution_count": null,
   "id": "307e8dd3",
   "metadata": {},
   "outputs": [],
   "source": [
    "SWORDS_DANCE, COUNTER, TOXIC, BODY_SLAM, DOUBLE_EDGE, MIRROR_COAT, SEISMIC_TOSS, STONE_EDGE, EARTHQUAKE, DIG, MIMIC, DOUBLE_TEAM, BIDE, REST, X_SCISSOR, ROCK_SLIDE, SUBSTITUTE, CUT, STRENGTH"
   ]
  },
  {
   "cell_type": "code",
   "execution_count": null,
   "id": "3154e8b0",
   "metadata": {},
   "outputs": [],
   "source": [
    "10 SAND_ATTACK ; 13 DEFENSE_CURL ; 15 MUD_SLAP ; 18 SLASH ; 21 SWIFT ; 23 AGILITY ; 24 FURY_SWIPES ; 25 POISON_STING ; 27 ICE_PUNCH ; 29 LEECH_LIFE ; 32 HEADBUTT ; 34 ROCK_TOMB ; 37 DIG ; 39 NIGHT_SLASH ; 42 SHADOW_CLAW ; 44 PIN_MISSILE ; 46 SUPER_FANG ; 48 SWORDS_DANCE ; 50 SUBMISSION ; 52 EARTHQUAKE"
   ]
  },
  {
   "cell_type": "code",
   "execution_count": null,
   "id": "bf5e87b5",
   "metadata": {},
   "outputs": [],
   "source": [
    "SWORDS_DANCE, COUNTER, TOXIC, BODY_SLAM, DOUBLE_EDGE, HYPER_BEAM, MIRROR_COAT, SEISMIC_TOSS, STONE_EDGE, EARTHQUAKE, FISSURE, DIG, MIMIC, DOUBLE_TEAM, BIDE, REST, X_SCISSOR, ROCK_SLIDE, SUBSTITUTE, CUT, STRENGTH"
   ]
  },
  {
   "cell_type": "code",
   "execution_count": null,
   "id": "25745324",
   "metadata": {},
   "outputs": [],
   "source": [
    "10 SAND_ATTACK ; 13 DEFENSE_CURL ; 15 MUD_SLAP ; 18 SLASH ; 21 SWIFT ; 24 AGILITY ; 26 FURY_SWIPES ; 27 POISON_STING ; 30 ICE_PUNCH ; 33 LEECH_LIFE ; 36 HEADBUTT ; 39 ROCK_TOMB ; 41 DIG ; 43 NIGHT_SLASH ; 45 SHADOW_CLAW ; 47 PIN_MISSILE ; 49 SUPER_FANG ; 51 SWORDS_DANCE ; 54 SUBMISSION ; 59 EARTHQUAKE"
   ]
  },
  {
   "cell_type": "code",
   "execution_count": null,
   "id": "0cc15911",
   "metadata": {},
   "outputs": [],
   "source": [
    "# Pichu"
   ]
  },
  {
   "cell_type": "code",
   "execution_count": null,
   "id": "fca50e51",
   "metadata": {},
   "outputs": [],
   "source": []
  },
  {
   "cell_type": "code",
   "execution_count": null,
   "id": "37ba2593",
   "metadata": {},
   "outputs": [],
   "source": [
    "10 THUNDER_WAVE ; 11 LEER ; 12 DOUBLE_TEAM ; 13 DEFENSE_CURL ; 14 QUICK_ATTACK ; 15 FLY ; 16 SURF ; 17 DOUBLE_KICK ; 18 SLAM ; 19 AGILITY ; 20 SWIFT ; 21 MUD_SLAP ; 22 SING ; 23 THUNDERBOLT ; 24 TAKE_DOWN ; 25 THUNDERPUNCH ; 26 HEADBUTT ; 27 VOLT_TACKLE ; 28 IRON_TAIL ; 29 LIGHT_SCREEN ; 30 SHOCK_WAVE ; 31 PLAY_ROUGH ; 32 THUNDER ; 33 EXTREMESPEED ; 34 SUBMISSION ; 35 ZAP_CANNON ; 36 PETAL_DANCE ; 37 PSYCHIC_M"
   ]
  },
  {
   "cell_type": "code",
   "execution_count": null,
   "id": "4f8a472f",
   "metadata": {},
   "outputs": [],
   "source": [
    "# Pikachu"
   ]
  },
  {
   "cell_type": "code",
   "execution_count": null,
   "id": "9dda3327",
   "metadata": {},
   "outputs": [],
   "source": [
    "MEGA_PUNCH, COUNTER, TOXIC, BODY_SLAM, DOUBLE_EDGE, DRAININGKISS, SEISMIC_TOSS, THUNDERBOLT, THUNDER, DIG, MIMIC, DOUBLE_TEAM, REFLECT, BIDE, REST, THUNDER_WAVE, SUBSTITUTE, FLY, SURF, STRENGTH, FLASH"
   ]
  },
  {
   "cell_type": "code",
   "execution_count": null,
   "id": "9cd57bdb",
   "metadata": {},
   "outputs": [],
   "source": [
    "6 THUNDER_WAVE ; 7 LEER ; 8 DOUBLE_TEAM ; 9 DEFENSE_CURL ; 11 QUICK_ATTACK ; 12 FLY ; 13 SURF ; 14 DOUBLE_KICK ; 17 SLAM ; 19 AGILITY ; 21 SWIFT ; 23 MUD_SLAP ; 25 SING ; 27 THUNDERBOLT ; 29 TAKE_DOWN ; 31 THUNDERPUNCH ; 34 HEADBUTT ; 36 VOLT_TACKLE ; 37 IRON_TAIL ; 39 LIGHT_SCREEN ; 41 SHOCK_WAVE ; 44 PLAY_ROUGH ; 47 THUNDER ; 50 EXTREMESPEED ; 55 SUBMISSION ; 60 ZAP_CANNON ; 81 PETAL_DANCE"
   ]
  },
  {
   "cell_type": "code",
   "execution_count": null,
   "id": "ec163a9b",
   "metadata": {},
   "outputs": [],
   "source": [
    "# Raichu"
   ]
  },
  {
   "cell_type": "code",
   "execution_count": null,
   "id": "5eaf7457",
   "metadata": {},
   "outputs": [],
   "source": [
    "MEGA_PUNCH, COUNTER, TOXIC, BODY_SLAM, DOUBLE_EDGE, HYPER_BEAM, DRAININGKISS, SEISMIC_TOSS, THUNDERBOLT, THUNDER, DIG, MIMIC, DOUBLE_TEAM, REFLECT, BIDE, REST, THUNDER_WAVE, SUBSTITUTE, SURF, STRENGTH, FLASH"
   ]
  },
  {
   "cell_type": "code",
   "execution_count": null,
   "id": "9bfab977",
   "metadata": {},
   "outputs": [],
   "source": [
    "11 THUNDER_WAVE ; 12 LEER ; 13 DOUBLE_TEAM ; 14 DEFENSE_CURL ; 16 QUICK_ATTACK ; 18 SURF ; 19 DOUBLE_KICK ; 22 SLAM ; 24 AGILITY ; 26 SWIFT ; 28 MUD_SLAP ; 30 SING ; 32 THUNDERBOLT ; 34 TAKE_DOWN ; 36 THUNDERPUNCH ; 39 HEADBUTT ; 41 VOLT_TACKLE ; 42 IRON_TAIL ; 44 LIGHT_SCREEN ; 46 SHOCK_WAVE ; 49 PLAY_ROUGH ; 52 THUNDER ; 55 EXTREMESPEED ; 60 SUBMISSION ; 65 ZAP_CANNON ; 86 PETAL_DANCE"
   ]
  },
  {
   "cell_type": "code",
   "execution_count": null,
   "id": "2273dede",
   "metadata": {},
   "outputs": [],
   "source": [
    "# Ekans"
   ]
  },
  {
   "cell_type": "code",
   "execution_count": null,
   "id": "27e24813",
   "metadata": {},
   "outputs": [],
   "source": [
    "TOXIC, DARK_PULSE, BODY_SLAM, DOUBLE_EDGE, GIGA_DRAIN, EARTHQUAKE, DIG, MIMIC, DOUBLE_TEAM, BIDE, REST, GUNK_SHOT, ROCK_SLIDE, SUBSTITUTE, STRENGTH"
   ]
  },
  {
   "cell_type": "code",
   "execution_count": null,
   "id": "25154296",
   "metadata": {},
   "outputs": [],
   "source": [
    "4 POISON_STING ; 9 BITE ; 12 GLARE ; 17 SCREECH ; 20 ACID ; 23 DISABLE ; 24 CRUNCH ; 26 SLUDGE ; 28 HEADBUTT ; 30 MEGA_DRAIN ; 32 SLUDGE_WAVE ; 34 SLAM ; 36 IRON_TAIL ; 39 TAKE_DOWN ; 43 HAZE ; 46 GUNK_SHOT"
   ]
  },
  {
   "cell_type": "code",
   "execution_count": null,
   "id": "c5fa3c78",
   "metadata": {},
   "outputs": [],
   "source": [
    "TOXIC, DARK_PULSE, BODY_SLAM, DOUBLE_EDGE, HYPER_BEAM, GIGA_DRAIN, EARTHQUAKE, FISSURE, DIG, MIMIC, DOUBLE_TEAM, BIDE, REST, GUNK_SHOT, ROCK_SLIDE, SUBSTITUTE, STRENGTH"
   ]
  },
  {
   "cell_type": "code",
   "execution_count": null,
   "id": "40b92285",
   "metadata": {},
   "outputs": [],
   "source": [
    "4 POISON_STING ; 9 BITE ; 12 GLARE ; 17 SCREECH ; 20 ACID ; 24 DISABLE ; 26 CRUNCH ; 28 SLUDGE ; 31 HEADBUTT ; 33 MEGA_DRAIN ; 35 SLUDGE_WAVE ; 37 SLAM ; 39 IRON_TAIL ; 43 TAKE_DOWN ; 47 HAZE ; 52 GUNK_SHOT"
   ]
  },
  {
   "cell_type": "code",
   "execution_count": null,
   "id": "65a9bccf",
   "metadata": {},
   "outputs": [],
   "source": [
    "# Spearow"
   ]
  },
  {
   "cell_type": "code",
   "execution_count": null,
   "id": "6b2bb18a",
   "metadata": {},
   "outputs": [],
   "source": [
    "TOXIC, DOUBLE_EDGE, MIMIC, DOUBLE_TEAM, BIDE, REST, SUBSTITUTE, FLY"
   ]
  },
  {
   "cell_type": "code",
   "execution_count": null,
   "id": "0f639395",
   "metadata": {},
   "outputs": [],
   "source": [
    "4 LEER ; 9 FURY_ATTACK ; 14 WING_ATTACK ; 18 AERIAL_ACE ; 21 TAKE_DOWN ; 23 MIRROR_MOVE ; 25 AGILITY ; 27 SWIFT ; 29 FOCUS_ENERGY ; 31 DRILL_PECK ; 33 ROOST ; 36 STEEL_WING"
   ]
  },
  {
   "cell_type": "code",
   "execution_count": null,
   "id": "455e939b",
   "metadata": {},
   "outputs": [],
   "source": [
    "TOXIC, DOUBLE_EDGE, HYPER_BEAM, MIMIC, DOUBLE_TEAM, BIDE, REST, SUBSTITUTE, FLY"
   ]
  },
  {
   "cell_type": "code",
   "execution_count": null,
   "id": "8efbbbcc",
   "metadata": {},
   "outputs": [],
   "source": [
    "4 LEER ; 9 FURY_ATTACK ; 14 WING_ATTACK ; 18 AERIAL_ACE ; 23 TAKE_DOWN ; 25 MIRROR_MOVE ; 27 AGILITY ; 30 SWIFT ; 32 FOCUS_ENERGY ; 34 DRILL_PECK ; 36 ROOST ; 39 STEEL_WING"
   ]
  },
  {
   "cell_type": "code",
   "execution_count": null,
   "id": "4e10be11",
   "metadata": {},
   "outputs": [],
   "source": []
  },
  {
   "cell_type": "code",
   "execution_count": null,
   "id": "1eda0561",
   "metadata": {},
   "outputs": [],
   "source": []
  },
  {
   "cell_type": "code",
   "execution_count": null,
   "id": "312527bb",
   "metadata": {},
   "outputs": [],
   "source": []
  },
  {
   "cell_type": "code",
   "execution_count": null,
   "id": "5b19a563",
   "metadata": {},
   "outputs": [],
   "source": []
  },
  {
   "cell_type": "code",
   "execution_count": null,
   "id": "1af3bafb",
   "metadata": {},
   "outputs": [],
   "source": []
  },
  {
   "cell_type": "code",
   "execution_count": null,
   "id": "900aa89b",
   "metadata": {},
   "outputs": [],
   "source": []
  },
  {
   "cell_type": "code",
   "execution_count": null,
   "id": "9943e64c",
   "metadata": {},
   "outputs": [],
   "source": []
  },
  {
   "cell_type": "code",
   "execution_count": null,
   "id": "b2c061a0",
   "metadata": {},
   "outputs": [],
   "source": []
  },
  {
   "cell_type": "code",
   "execution_count": null,
   "id": "5e89e884",
   "metadata": {},
   "outputs": [],
   "source": []
  },
  {
   "cell_type": "code",
   "execution_count": null,
   "id": "850179d1",
   "metadata": {},
   "outputs": [],
   "source": [
    "# PIDGEY-PIDGEOTTO-PIDGEOT"
   ]
  },
  {
   "cell_type": "code",
   "execution_count": null,
   "id": "a08ca07a",
   "metadata": {},
   "outputs": [],
   "source": [
    "5 SAND_ATTACK ; 7 PECK ; 9 GUST ; 12 QUICK_ATTACK ; 15 TWISTER ; 17 WING_ATTACK ; 19 SWIFT ; 23 AGILITY ; 28 ROOST ; 32 STEEL_WING ; 31 MIRROR_MOVE ; 34 AERIAL_ACE ; 37 AIR_SLASH ; 40 AIR_CUTTER ; 44 HURRICANE ; "
   ]
  },
  {
   "cell_type": "code",
   "execution_count": null,
   "id": "8ecc781b",
   "metadata": {},
   "outputs": [],
   "source": [
    "TOXIC, DOUBLE_EDGE, MIMIC, DOUBLE_TEAM, REFLECT, BIDE, BRAVE_BIRD, REST, SUBSTITUTE, FLY"
   ]
  },
  {
   "cell_type": "code",
   "execution_count": null,
   "id": "5c2e6608",
   "metadata": {},
   "outputs": [],
   "source": [
    "5 SAND_ATTACK ; 7 PECK ; 9 GUST ; 12 QUICK_ATTACK ; 15 TWISTER ; 19 WING_ATTACK ; 23 SWIFT ; 27 AGILITY ; 32 ROOST ; 36 STEEL_WING ; 35 MIRROR_MOVE ; 38 AERIAL_ACE ; 41 AIR_SLASH ; 44 AIR_CUTTER ; 48 HURRICANE"
   ]
  },
  {
   "cell_type": "code",
   "execution_count": null,
   "id": "8ae25005",
   "metadata": {},
   "outputs": [],
   "source": [
    "TOXIC, DOUBLE_EDGE, MIMIC, DOUBLE_TEAM, REFLECT, BIDE, BRAVE_BIRD, REST, SUBSTITUTE, FLY"
   ]
  },
  {
   "cell_type": "code",
   "execution_count": null,
   "id": "5fa48532",
   "metadata": {},
   "outputs": [],
   "source": [
    "5 SAND_ATTACK ; 7 PECK ; 9 GUST ; 12 QUICK_ATTACK ; 15 TWISTER ; 19 WING_ATTACK ; 23 SWIFT ; 27 AGILITY ; 32 ROOST ; 36 STEEL_WING ; 39 MIRROR_MOVE ; 42 AERIAL_ACE ; 45 AIR_SLASH ; 48 AIR_CUTTER ; 52 HURRICANE"
   ]
  },
  {
   "cell_type": "code",
   "execution_count": null,
   "id": "ddd8c52f",
   "metadata": {},
   "outputs": [],
   "source": [
    "TOXIC, DOUBLE_EDGE, HYPER_BEAM, MIMIC, DOUBLE_TEAM, REFLECT, BIDE, BRAVE_BIRD, REST, SUBSTITUTE, FLY"
   ]
  },
  {
   "cell_type": "code",
   "execution_count": null,
   "id": "00e7f923",
   "metadata": {},
   "outputs": [],
   "source": [
    "# MPIDGEOT"
   ]
  },
  {
   "cell_type": "code",
   "execution_count": null,
   "id": "b7f621e3",
   "metadata": {},
   "outputs": [],
   "source": [
    "10 SAND_ATTACK ; 12 PECK ; 14 GUST ; 17 QUICK_ATTACK ; 20 TWISTER ; 24 WING_ATTACK ; 28 SWIFT ; 32 AGILITY ; 37 ROOST ; 39 HEAT_WAVE ; 41 STEEL_WING ; 43 THUNDER ; 44 MIRROR_MOVE ; 45 BLIZZARD ; 47 AERIAL_ACE ; 50 AIR_SLASH ; 53 AIR_CUTTE ; 57 HURRICANE ; "
   ]
  },
  {
   "cell_type": "code",
   "execution_count": null,
   "id": "d9b80d0f",
   "metadata": {},
   "outputs": [],
   "source": [
    "TOXIC, DOUBLE_EDGE, HYPER_BEAM, MIMIC, DOUBLE_TEAM, REFLECT, BIDE, BRAVE_BIRD, REST, SUBSTITUTE, FLY, THUNDER, BLIZZARD"
   ]
  },
  {
   "cell_type": "code",
   "execution_count": null,
   "id": "537a9b72",
   "metadata": {},
   "outputs": [],
   "source": [
    "# BEEDRILL"
   ]
  },
  {
   "cell_type": "code",
   "execution_count": null,
   "id": "e3a162f8",
   "metadata": {},
   "outputs": [],
   "source": [
    "10 FURY_ATTACK ; 13 FOCUS_ENERGY ; 15 POISON_STING ; 18 TWINEEDLE ; 21 SWIFT ; 24 PIN_MISSILE ; 26 MEGA_DRAIN ; 29 ROOST ; 32 AGILITY ; 34 INFESTATION ; 36 AERIAL_ACE ; 42 SLUDGE_WAVE ; 45 SOLARBEAM"
   ]
  },
  {
   "cell_type": "code",
   "execution_count": null,
   "id": "6054b96f",
   "metadata": {},
   "outputs": [],
   "source": [
    "SWORDS_DANCE, TOXIC, DOUBLE_EDGE, HYPER_BEAM, GIGA_DRAIN, MIMIC, DOUBLE_TEAM, REFLECT, BIDE, REST, X_SCISSOR, SUBSTITUTE, CUT, FLASH"
   ]
  },
  {
   "cell_type": "code",
   "execution_count": null,
   "id": "aa4ede6f",
   "metadata": {},
   "outputs": [],
   "source": [
    "# MBEEDRILL"
   ]
  },
  {
   "cell_type": "code",
   "execution_count": null,
   "id": "7741ffdb",
   "metadata": {},
   "outputs": [],
   "source": [
    "15 FURY_ATTACK ; 18 FOCUS_ENERGY ; 20 POISON_STING ; 23 TWINEEDLE ; 26 SWIFT ; 29 PIN_MISSILE ; 31 MEGA_DRAIN ; 34 ROOST ; 37 AGILITY ; 39 INFESTATION ; 40 STEEL_WING ; 41 AERIAL_ACE ; 42 X_SCISSOR ; 47 SLUDGE_WAVE ; 50 SOLARBEAM ; 53 GUNK_SHOT"
   ]
  },
  {
   "cell_type": "code",
   "execution_count": null,
   "id": "f770a051",
   "metadata": {},
   "outputs": [],
   "source": [
    "SWORDS_DANCE, TOXIC, DOUBLE_EDGE, HYPER_BEAM, GIGA_DRAIN, MIMIC, DOUBLE_TEAM, REFLECT, BIDE, REST, X_SCISSOR, SUBSTITUTE, CUT, FLASH, MEGAHORN, GUNK_SHOT"
   ]
  },
  {
   "cell_type": "code",
   "execution_count": null,
   "id": "1ed4e2f9",
   "metadata": {},
   "outputs": [],
   "source": [
    "# BUTTERFREE"
   ]
  },
  {
   "cell_type": "code",
   "execution_count": null,
   "id": "9e7b69f4",
   "metadata": {},
   "outputs": [],
   "source": [
    "10 CONFUSION ; 11 SUPERSONIC ; 12 POISONPOWDER ; 14 STUN_SPORE ; 15 SLEEP_POWDER ; 16 PSYBEAM ; 17 SWIFT ; 18 GUST ; 21 AIR_SLASH ; 23 MEGA_DRAIN ; 25 GUST ; 28 TWISTER ; 31 DREAM_EATER ; 33 INFESTATION ; 35 ENERGY_BALL ; 37 ROOST ; 39 AIR_CUTTER ; 41 AERIAL_ACE ; 44 HURRICANE"
   ]
  },
  {
   "cell_type": "code",
   "execution_count": null,
   "id": "3783ccab",
   "metadata": {},
   "outputs": [],
   "source": [
    "TOXIC, DOUBLE_EDGE, HYPER_BEAM, DRAININGKISS, GIGA_DRAIN, PSYCHIC_M, MIMIC, DOUBLE_TEAM, REFLECT, BIDE, REST, PSYWAVE, SHADOW_BALL, SUBSTITUTE, FLASH"
   ]
  },
  {
   "cell_type": "code",
   "execution_count": null,
   "id": "f1126977",
   "metadata": {},
   "outputs": [],
   "source": []
  },
  {
   "cell_type": "code",
   "execution_count": null,
   "id": "9e313838",
   "metadata": {},
   "outputs": [],
   "source": []
  },
  {
   "cell_type": "code",
   "execution_count": null,
   "id": "57d89376",
   "metadata": {
    "scrolled": true
   },
   "outputs": [],
   "source": []
  },
  {
   "cell_type": "code",
   "execution_count": null,
   "id": "6ca10391",
   "metadata": {
    "scrolled": true
   },
   "outputs": [],
   "source": []
  },
  {
   "cell_type": "code",
   "execution_count": null,
   "id": "b8d1f462",
   "metadata": {},
   "outputs": [],
   "source": []
  },
  {
   "cell_type": "code",
   "execution_count": null,
   "id": "24ae375d",
   "metadata": {},
   "outputs": [],
   "source": []
  },
  {
   "cell_type": "code",
   "execution_count": null,
   "id": "6dc04673",
   "metadata": {},
   "outputs": [],
   "source": []
  },
  {
   "cell_type": "code",
   "execution_count": null,
   "id": "99341d48",
   "metadata": {},
   "outputs": [],
   "source": []
  },
  {
   "cell_type": "code",
   "execution_count": null,
   "id": "cb3ee49d",
   "metadata": {},
   "outputs": [],
   "source": []
  },
  {
   "cell_type": "code",
   "execution_count": null,
   "id": "6c8c5900",
   "metadata": {},
   "outputs": [],
   "source": []
  },
  {
   "cell_type": "code",
   "execution_count": null,
   "id": "03a3b3dc",
   "metadata": {},
   "outputs": [],
   "source": []
  },
  {
   "cell_type": "code",
   "execution_count": null,
   "id": "acd1b34d",
   "metadata": {},
   "outputs": [],
   "source": []
  },
  {
   "cell_type": "code",
   "execution_count": null,
   "id": "55934d6c",
   "metadata": {},
   "outputs": [],
   "source": []
  },
  {
   "cell_type": "code",
   "execution_count": null,
   "id": "233eb2bf",
   "metadata": {},
   "outputs": [],
   "source": []
  },
  {
   "cell_type": "code",
   "execution_count": null,
   "id": "1227e304",
   "metadata": {},
   "outputs": [],
   "source": []
  },
  {
   "cell_type": "code",
   "execution_count": null,
   "id": "332ae560",
   "metadata": {},
   "outputs": [],
   "source": []
  },
  {
   "cell_type": "code",
   "execution_count": null,
   "id": "82615912",
   "metadata": {},
   "outputs": [],
   "source": []
  },
  {
   "cell_type": "code",
   "execution_count": null,
   "id": "1dfd13b7",
   "metadata": {},
   "outputs": [],
   "source": []
  },
  {
   "cell_type": "code",
   "execution_count": null,
   "id": "47f72ce3",
   "metadata": {},
   "outputs": [],
   "source": []
  },
  {
   "cell_type": "code",
   "execution_count": null,
   "id": "fa915d0b",
   "metadata": {},
   "outputs": [],
   "source": []
  },
  {
   "cell_type": "code",
   "execution_count": null,
   "id": "408d5b19",
   "metadata": {},
   "outputs": [],
   "source": []
  },
  {
   "cell_type": "code",
   "execution_count": null,
   "id": "e530a5f7",
   "metadata": {},
   "outputs": [],
   "source": []
  },
  {
   "cell_type": "code",
   "execution_count": null,
   "id": "ae42de06",
   "metadata": {},
   "outputs": [],
   "source": []
  },
  {
   "cell_type": "code",
   "execution_count": null,
   "id": "4803d7ce",
   "metadata": {},
   "outputs": [],
   "source": []
  },
  {
   "cell_type": "code",
   "execution_count": null,
   "id": "19b545d4",
   "metadata": {},
   "outputs": [],
   "source": []
  },
  {
   "cell_type": "code",
   "execution_count": null,
   "id": "822c76fb",
   "metadata": {},
   "outputs": [],
   "source": []
  },
  {
   "cell_type": "code",
   "execution_count": null,
   "id": "f082c7ca",
   "metadata": {},
   "outputs": [],
   "source": []
  },
  {
   "cell_type": "code",
   "execution_count": null,
   "id": "5d24976f",
   "metadata": {},
   "outputs": [],
   "source": []
  },
  {
   "cell_type": "code",
   "execution_count": null,
   "id": "17e3b605",
   "metadata": {},
   "outputs": [],
   "source": []
  },
  {
   "cell_type": "code",
   "execution_count": null,
   "id": "7962cf9e",
   "metadata": {},
   "outputs": [],
   "source": [
    "for move2 in allExtremeYellowMoves2:\n",
    "    if not move2 in allExtremeYellowMoves:\n",
    "        print(move2)\n",
    "print('---')        \n",
    "for move1 in allExtremeYellowMoves:\n",
    "    if not move1 in allExtremeYellowMoves2:\n",
    "        print(move1)"
   ]
  },
  {
   "cell_type": "code",
   "execution_count": null,
   "id": "d1e2c465",
   "metadata": {},
   "outputs": [],
   "source": [
    "POUND,        NO_ADDITIONAL_EFFECT,        40, NORMAL,       100, 35\n",
    "KARATE_CHOP,  NO_ADDITIONAL_EFFECT,        50, FIGHTING,     100, 25\n",
    "COMET_PUNCH,  TWO_TO_FIVE_ATTACKS_EFFECT,  18, NORMAL,        85, 15\n",
    "MEGA_PUNCH,   NO_ADDITIONAL_EFFECT,        80, NORMAL,        85, 20\n",
    "PAY_DAY,      PAY_DAY_EFFECT,              40, NORMAL,       100, 20\n",
    "FIRE_PUNCH,   BURN_SIDE_EFFECT1,           75, FIRE,         100, 15\n",
    "ICE_PUNCH,    FREEZE_SIDE_EFFECT,          75, ICE,          100, 15\n",
    "THUNDERPUNCH, PARALYZE_SIDE_EFFECT1,       75, ELECTRIC,     100, 15\n",
    "SCRATCH,      NO_ADDITIONAL_EFFECT,        40, NORMAL,       100, 35\n",
    "GUILLOTINE,   OHKO_EFFECT,                  1, NORMAL,        30,  5\n",
    "SWORDS_DANCE, ATTACK_UP2_EFFECT,            0, NORMAL,       100, 30\n",
    "CUT,          NO_ADDITIONAL_EFFECT,        50, NORMAL,        95, 30\n",
    "GUST,         NO_ADDITIONAL_EFFECT,        40, FLYING,       100, 35\n",
    "WING_ATTACK,  NO_ADDITIONAL_EFFECT,        60, FLYING,       100, 35\n",
    "FLY,          FLY_EFFECT,                  90, FLYING,        95, 15\n",
    "BIND,         TRAPPING_EFFECT,             15, NORMAL,        75, 20\n",
    "SLAM,         NO_ADDITIONAL_EFFECT,        80, NORMAL,        75, 20\n",
    "VINE_WHIP,    NO_ADDITIONAL_EFFECT,        45, GRASS,        100, 25\n",
    "STOMP,        FLINCH_SIDE_EFFECT3,         65, NORMAL,       100, 20\n",
    "DOUBLE_KICK,  ATTACK_TWICE_EFFECT,         30, FIGHTING,     100, 30\n",
    "JUMP_KICK,    JUMP_KICK_EFFECT,            70, FIGHTING,      95, 25\n",
    "ROLLING_KICK, FLINCH_SIDE_EFFECT3,         60, FIGHTING,      85, 15\n",
    "SAND_ATTACK,  ACCURACY_DOWN1_EFFECT,        0, NORMAL,       100, 15\n",
    "HEADBUTT,     FLINCH_SIDE_EFFECT3,         70, NORMAL,       100, 15\n",
    "HORN_ATTACK,  NO_ADDITIONAL_EFFECT,        65, NORMAL,       100, 25\n",
    "FURY_ATTACK,  TWO_TO_FIVE_ATTACKS_EFFECT,  15, NORMAL,        85, 20\n",
    "HORN_DRILL,   OHKO_EFFECT,                  1, NORMAL,        30,  5\n",
    "TACKLE,       NO_ADDITIONAL_EFFECT,        35, NORMAL,        95, 35\n",
    "BODY_SLAM,    PARALYZE_SIDE_EFFECT2,       85, NORMAL,       100, 15\n",
    "WRAP,         TRAPPING_EFFECT,             15, NORMAL,        85, 20\n",
    "TAKE_DOWN,    RECOIL_EFFECT,               90, NORMAL,        85, 20\n",
    "THRASH,       THRASH_PETAL_DANCE_EFFECT,  120, NORMAL,       100, 10\n",
    "DOUBLE_EDGE,  RECOIL_EFFECT,              120, NORMAL,       100, 15\n",
    "POISON_STING, POISON_SIDE_EFFECT3,         15, POISON,       100, 35\n",
    "TWINEEDLE,    TWINEEDLE_EFFECT,            25, BUG,          100, 20\n",
    "PIN_MISSILE,  TWO_TO_FIVE_ATTACKS_EFFECT,  25, BUG,           95, 20\n",
    "LEER,         DEFENSE_DOWN1_EFFECT,         0, NORMAL,       100, 30\n",
    "BITE,         FLINCH_SIDE_EFFECT1,         60, DARK,         100, 25\n",
    "GROWL,        ATTACK_DOWN1_EFFECT,          0, NORMAL,       100, 40\n",
    "SING,         SLEEP_EFFECT,                 0, NORMAL,        55, 15\n",
    "SUPERSONIC,   CONFUSION_EFFECT,             0, NORMAL,        55, 20\n",
    "SONICBOOM,    SPECIAL_DAMAGE_EFFECT,        1, NORMAL,        90, 20\n",
    "DISABLE,      DISABLE_EFFECT,               0, NORMAL,        55, 20\n",
    "ACID,         DEFENSE_DOWN_SIDE_EFFECT,    40, POISON,       100, 30\n",
    "EMBER,        BURN_SIDE_EFFECT1,           40, FIRE,         100, 25\n",
    "FLAMETHROWER, BURN_SIDE_EFFECT1,           95, FIRE,         100, 15\n",
    "MIST,         MIST_EFFECT,                  0, ICE,          100, 30\n",
    "WATER_GUN,    NO_ADDITIONAL_EFFECT,        40, WATER,        100, 25\n",
    "HYDRO_PUMP,   NO_ADDITIONAL_EFFECT,       120, WATER,         80,  5\n",
    "SURF,         NO_ADDITIONAL_EFFECT,        95, WATER,        100, 15\n",
    "ICE_BEAM,     FREEZE_SIDE_EFFECT,          95, ICE,          100, 10\n",
    "BLIZZARD,     FREEZE_SIDE_EFFECT,         120, ICE,           90,  5\n",
    "PSYBEAM,      CONFUSION_SIDE_EFFECT1,      65, PSYCHIC_TYPE, 100, 20\n",
    "BUBBLEBEAM,   SPEED_DOWN_SIDE_EFFECT,      65, WATER,        100, 20\n",
    "AURORA_BEAM,  ATTACK_DOWN_SIDE_EFFECT,     65, ICE,          100, 20\n",
    "HYPER_BEAM,   HYPER_BEAM_EFFECT,          150, NORMAL,        90,  5\n",
    "PECK,         NO_ADDITIONAL_EFFECT,        35, FLYING,       100, 35\n",
    "DRILL_PECK,   NO_ADDITIONAL_EFFECT,        80, FLYING,       100, 20\n",
    "SUBMISSION,   RECOIL_EFFECT,               80, FIGHTING,      80, 25\n",
    "LOW_KICK,     FLINCH_SIDE_EFFECT3,         50, FIGHTING,      90, 20\n",
    "COUNTER,      NO_ADDITIONAL_EFFECT,         1, FIGHTING,     100, 20\n",
    "SEISMIC_TOSS, SPECIAL_DAMAGE_EFFECT,        1, FIGHTING,     100, 20\n",
    "STRENGTH,     NO_ADDITIONAL_EFFECT,        80, NORMAL,       100, 15\n",
    "ABSORB,       DRAIN_HP_EFFECT,             20, GRASS,        100, 20\n",
    "MEGA_DRAIN,   DRAIN_HP_EFFECT,             40, GRASS,        100, 10\n",
    "LEECH_SEED,   LEECH_SEED_EFFECT,            0, GRASS,         90, 10\n",
    "GROWTH,       SPECIAL_UP1_EFFECT,           0, NORMAL,       100, 40\n",
    "RAZOR_LEAF,   NO_ADDITIONAL_EFFECT,        55, GRASS,         95, 25\n",
    "SOLARBEAM,    CHARGE_EFFECT,              120, GRASS,        100, 10\n",
    "POISONPOWDER, POISON_EFFECT,                0, POISON,        75, 35\n",
    "STUN_SPORE,   PARALYZE_EFFECT,              0, GRASS,         75, 30\n",
    "SLEEP_POWDER, SLEEP_EFFECT,                 0, GRASS,         75, 15\n",
    "PETAL_DANCE,  THRASH_PETAL_DANCE_EFFECT,  120, GRASS,        100, 10\n",
    "STRING_SHOT,  SPEED_DOWN1_EFFECT,           0, BUG,           95, 40\n",
    "DRAGON_RAGE,  SPECIAL_DAMAGE_EFFECT,        1, DRAGON,       100, 10\n",
    "FIRE_SPIN,    TRAPPING_EFFECT,             15, FIRE,          70, 15\n",
    "THUNDERSHOCK, PARALYZE_SIDE_EFFECT1,       40, ELECTRIC,     100, 30\n",
    "THUNDERBOLT,  PARALYZE_SIDE_EFFECT1,       95, ELECTRIC,     100, 15\n",
    "THUNDER_WAVE, PARALYZE_EFFECT,              0, ELECTRIC,     100, 20\n",
    "THUNDER,      PARALYZE_SIDE_EFFECT1,      120, ELECTRIC,      70, 10\n",
    "ROCK_THROW,   NO_ADDITIONAL_EFFECT,        50, ROCK,          90, 15\n",
    "EARTHQUAKE,   NO_ADDITIONAL_EFFECT,       100, GROUND,       100, 10\n",
    "FISSURE,      OHKO_EFFECT,                  1, GROUND,        30,  5\n",
    "DIG,          CHARGE_EFFECT,              100, GROUND,       100, 10\n",
    "TOXIC,        POISON_EFFECT,                0, POISON,        85, 10\n",
    "CONFUSION,    CONFUSION_SIDE_EFFECT1,      50, PSYCHIC_TYPE, 100, 25\n",
    "PSYCHIC_M,    SPECIAL_DOWN_SIDE_EFFECT,    90, PSYCHIC_TYPE, 100, 10\n",
    "HYPNOSIS,     SLEEP_EFFECT,                 0, PSYCHIC_TYPE,  60, 20\n",
    "MEDITATE,     ATTACK_UP1_EFFECT,            0, PSYCHIC_TYPE, 100, 40\n",
    "AGILITY,      SPEED_UP2_EFFECT,             0, PSYCHIC_TYPE, 100, 30\n",
    "QUICK_ATTACK, NO_ADDITIONAL_EFFECT,        40, NORMAL,       100, 30\n",
    "TELEPORT,     SWITCH_AND_TELEPORT_EFFECT,   0, PSYCHIC_TYPE, 100, 20\n",
    "NIGHT_SHADE,  SPECIAL_DAMAGE_EFFECT,        0, GHOST,        100, 15\n",
    "MIMIC,        MIMIC_EFFECT,                 0, NORMAL,       100, 10\n",
    "SCREECH,      DEFENSE_DOWN2_EFFECT,         0, NORMAL,        85, 40\n",
    "DOUBLE_TEAM,  EVASION_UP1_EFFECT,           0, NORMAL,       100, 15\n",
    "RECOVER,      HEAL_EFFECT,                  0, NORMAL,       100, 20\n",
    "HARDEN,       DEFENSE_UP1_EFFECT,           0, NORMAL,       100, 30\n",
    "MINIMIZE,     EVASION_UP2_EFFECT,           0, NORMAL,       100, 20\n",
    "SMOKESCREEN,  ACCURACY_DOWN1_EFFECT,        0, NORMAL,       100, 20\n",
    "CONFUSE_RAY,  CONFUSION_EFFECT,             0, GHOST,        100, 10\n",
    "DEFENSE_CURL, DEFENSE_UP1_EFFECT,           0, NORMAL,       100, 40\n",
    "BARRIER,      DEFENSE_UP2_EFFECT,           0, PSYCHIC_TYPE, 100, 30\n",
    "LIGHT_SCREEN, LIGHT_SCREEN_EFFECT,          0, PSYCHIC_TYPE, 100, 30\n",
    "HAZE,         HAZE_EFFECT,                  0, ICE,          100, 30\n",
    "REFLECT,      REFLECT_EFFECT,               0, PSYCHIC_TYPE, 100, 20\n",
    "FOCUS_ENERGY, FOCUS_ENERGY_EFFECT,          0, NORMAL,       100, 30\n",
    "BIDE,         BIDE_EFFECT,                  0, NORMAL,       100, 10\n",
    "METRONOME,    METRONOME_EFFECT,             0, NORMAL,       100, 10\n",
    "MIRROR_MOVE,  MIRROR_MOVE_EFFECT,           0, FLYING,       100, 20\n",
    "SELFDESTRUCT, EXPLODE_EFFECT,             200, NORMAL,       100,  5\n",
    "LICK,         PARALYZE_SIDE_EFFECT2,       30, GHOST,        100, 30\n",
    "SMOG,         POISON_SIDE_EFFECT4,         30, POISON,        70, 20\n",
    "SLUDGE,       POISON_SIDE_EFFECT4,         65, POISON,       100, 20\n",
    "BONE_CLUB,    FLINCH_SIDE_EFFECT1,         65, GROUND,        85, 20\n",
    "FIRE_BLAST,   BURN_SIDE_EFFECT2,          120, FIRE,          85,  5\n",
    "WATERFALL,    FLINCH_SIDE_EFFECT2,         80, WATER,        100, 15\n",
    "CLAMP,        TRAPPING_EFFECT,             35, WATER,         75, 10\n",
    "SWIFT,        SWIFT_EFFECT,                60, NORMAL,       100, 20\n",
    "SPIKE_CANNON, TWO_TO_FIVE_ATTACKS_EFFECT,  20, NORMAL,       100, 15\n",
    "AMNESIA,      SPECIAL_UP2_EFFECT,           0, PSYCHIC_TYPE, 100, 20\n",
    "SOFTBOILED,   HEAL_EFFECT,                  0, NORMAL,       100, 10\n",
    "HI_JUMP_KICK, JUMP_KICK_EFFECT,            85, FIGHTING,      90, 20\n",
    "GLARE,        PARALYZE_EFFECT,              0, NORMAL,        75, 30\n",
    "DREAM_EATER,  DREAM_EATER_EFFECT,         100, PSYCHIC_TYPE, 100, 15\n",
    "POISON_GAS,   POISON_EFFECT,                0, POISON,        55, 40\n",
    "BARRAGE,      TWO_TO_FIVE_ATTACKS_EFFECT,  15, NORMAL,        85, 20\n",
    "LEECH_LIFE,   DRAIN_HP_EFFECT,             80, BUG,          100, 10\n",
    "LOVELY_KISS,  SLEEP_EFFECT,                 0, NORMAL,        75, 10\n",
    "TRANSFORM,    TRANSFORM_EFFECT,             0, NORMAL,       100, 10\n",
    "BUBBLE,       SPEED_DOWN_SIDE_EFFECT,      20, WATER,        100, 30\n",
    "DIZZY_PUNCH,  CONFUSION_SIDE_EFFECT2,      70, NORMAL,       100, 10\n",
    "SPORE,        SLEEP_EFFECT,                 0, GRASS,        100, 15\n",
    "FLASH,        ACCURACY_DOWN1_EFFECT,        0, NORMAL,       100, 20\n",
    "PSYWAVE,      SPECIAL_DAMAGE_EFFECT,        1, PSYCHIC_TYPE, 100, 15\n",
    "SPLASH,       SPLASH_EFFECT,                0, NORMAL,       100, 40\n",
    "ACID_ARMOR,   DEFENSE_UP2_EFFECT,           0, POISON,       100, 40\n",
    "CRABHAMMER,   NO_ADDITIONAL_EFFECT,       100, WATER,         90, 10\n",
    "EXPLOSION,    EXPLODE_EFFECT,             250, NORMAL,       100,  5\n",
    "FURY_SWIPES,  TWO_TO_FIVE_ATTACKS_EFFECT,  18, NORMAL,        80, 15\n",
    "BONEMERANG,   ATTACK_TWICE_EFFECT,         50, GROUND,        90, 10\n",
    "REST,         HEAL_EFFECT,                  0, PSYCHIC_TYPE, 100, 10\n",
    "ROCK_SLIDE,   FLINCH_SIDE_EFFECT3,\t        75, ROCK,          90, 10\n",
    "HYPER_FANG,   FLINCH_SIDE_EFFECT1,         80, NORMAL,        90, 15\n",
    "CONVERSION,   CONVERSION_EFFECT,            0, NORMAL,       100, 30\n",
    "TRI_ATTACK,   TRIATTACK_EFFECT,\t        80, NORMAL,       100, 10\n",
    "SUPER_FANG,   SUPER_FANG_EFFECT,            1, NORMAL,        90, 10\n",
    "SLASH,        NO_ADDITIONAL_EFFECT,        70, NORMAL,       100, 20\n",
    "SUBSTITUTE,   SUBSTITUTE_EFFECT,            0, NORMAL,       100, 10\n",
    "MEGAHORN,\t   NO_ADDITIONAL_EFFECT,\t   120,\tBUG,\t\t   85, 10\n",
    "X_SCISSOR,\t   NO_ADDITIONAL_EFFECT,\t    80,\tBUG,\t      100, 15\n",
    "INFESTATION,  TRAPPING_EFFECT,\t            20,\tBUG,\t       80, 20\n",
    "FEINT_ATTACK, SWIFT_EFFECT,\t            60,\tDARK,\t      100, 20\n",
    "CRUNCH,\t   NO_ADDITIONAL_EFFECT,\t    80,\tDARK,\t      100, 15\n",
    "NIGHT_SLASH,  NO_ADDITIONAL_EFFECT,\t    70,\tDARK,\t      100, 15\n",
    "DARK_PULSE,   FLINCH_SIDE_EFFECT2,\t        80,\tDARK,\t      100, 15\n",
    "TWISTER,\t   FLINCH_SIDE_EFFECT2,\t        40,\tDRAGON,\t      100, 20\n",
    "DRAGONBREATH, PARALYZE_SIDE_EFFECT2,\t    60,\tDRAGON,\t      100, 20\n",
    "OUTRAGE,\t   THRASH_PETAL_DANCE_EFFECT,  120,\tDRAGON,\t      100, 10\n",
    "DRAGON_CLAW,  NO_ADDITIONAL_EFFECT,\t    80,\tDRAGON,\t      100, 15\n",
    "ZAP_CANNON,   PARALYZE_SIDE_EFFECT_CERT,  120,\tELECTRIC,\t   50, 5 \n",
    "SHOCK_WAVE,   SWIFT_EFFECT,\t            60,\tELECTRIC,\t  100, 20\n",
    "VOLT_TACKLE,  RECOIL_EFFECT,\t           120,\tELECTRIC,\t  100, 15\n",
    "CHARM,\t       ATTACK_DOWN2_EFFECT,\t         0,\tFAIRY,\t      100, 20\n",
    "DRAININGKISS, DRAIN_HP_EFFECT,\t            50,\tFAIRY,\t      100, 10\n",
    "PLAY_ROUGH,   NO_ADDITIONAL_EFFECT,\t    90,\tFAIRY,\t       90, 10\n",
    "MOONBLAST,\t   SPECIAL_DOWN_SIDE_EFFECT,\t95,\tFAIRY,\t      100, 15\n",
    "MACH_PUNCH,   NO_ADDITIONAL_EFFECT,\t    40,\tFIGHTING,\t  100, 30\n",
    "SUPERPOWER,   NO_ADDITIONAL_EFFECT,\t   120,\tFIGHTING,\t  100, 5 \n",
    "CLOSE_COMBAT, NO_ADDITIONAL_EFFECT,\t   120,\tFIGHTING,\t  100, 5 \n",
    "DRAIN_PUNCH,  DRAIN_HP_EFFECT,\t            75,\tFIGHTING,\t  100, 10\n",
    "WILL_O_WISP,  BURN_EFFECT,\t     \t\t\t 0,\tFIRE,\t       85, 15\n",
    "FLARE_BLITZ,  RECOIL_EFFECT,\t           120,\tFIRE,\t      100, 15\n",
    "BLAST_BURN,   HYPER_BEAM_EFFECT,\t       150,\tFIRE,\t       90, 5 \n",
    "HEAT_WAVE,    BURN_SIDE_EFFECT1,          100, FIRE,          90, 10\n",
    "ROOST,\t       HEAL_EFFECT,\t                 0,\tFLYING,\t      100, 5 \n",
    "AIR_CUTTER,   NO_ADDITIONAL_EFFECT,\t    60,\tFLYING,\t       95, 25\n",
    "AERIAL_ACE,   SWIFT_EFFECT,\t            60,\tFLYING,\t      100, 20\n",
    "AIR_SLASH,\t   FLINCH_SIDE_EFFECT3,\t        75,\tFLYING,\t       95, 15\n",
    "BRAVE_BIRD,   RECOIL_EFFECT,\t           120,\tFLYING,\t      100, 15\n",
    "HURRICANE,\t   CONFUSION_SIDE_EFFECT3,\t   110,\tFLYING,\t       70, 10\n",
    "SHADOW_BALL,  NO_ADDITIONAL_EFFECT,\t    80,\tGHOST,\t      100, 15\n",
    "SHADOW_PUNCH, SWIFT_EFFECT,\t            60,\tGHOST,\t      100, 20\n",
    "SHADOW_SNEAK, NO_ADDITIONAL_EFFECT,\t    40,\tGHOST,\t      100, 30\n",
    "SHADOW_CLAW,  NO_ADDITIONAL_EFFECT,\t    70,\tGHOST,\t      100, 15\n",
    "GIGA_DRAIN,   DRAIN_HP_EFFECT,\t            75,\tGRASS,        100, 10\n",
    "MAGICAL_LEAF, SWIFT_EFFECT,\t            60,\tGRASS,        100, 20\n",
    "BULLET_SEED,  TWO_TO_FIVE_ATTACKS_EFFECT,  25,\tGRASS,        100, 30\n",
    "LEAF_STORM,   NO_ADDITIONAL_EFFECT,\t   130,\tGRASS,         90, 5\n",
    "ENERGY_BALL,  SPECIAL_DOWN_SIDE_EFFECT10,  90,\tGRASS,        100, 10\n",
    "FRENZY_PLANT, HYPER_BEAM_EFFECT,\t       150,\tGRASS,         90, 5 \n",
    "MUD_SLAP,\t   ACCURACY_DOWN_SIDE_EFFECT10,\t20,\tGROUND,\t      100, 10\n",
    "MUD_SHOT,\t   SPEED_DOWN_SIDE_EFFECT10,\t55,\tGROUND,\t       95, 15\n",
    "ICICLE_SPEAR, TWO_TO_FIVE_ATTACKS_EFFECT,  25,\tICE,\t      100, 30\n",
    "ICICLE_CRASH, FLINCH_SIDE_EFFECT3,\t        85,\tICE,\t       90, 10\n",
    "EXTREMESPEED, NO_ADDITIONAL_EFFECT,\t\t80, NORMAL,\t\t  100, 5 \n",
    "GUNK_SHOT,\t   POISON_SIDE_EFFECT3,\t\t   120,\tPOISON,\t       80, 5 \n",
    "SLUDGE_WAVE,  POISON_SIDE_EFFECT1,\t\t    95,\tPOISON,\t      100, 10\n",
    "MIRROR_COAT,  NO_ADDITIONAL_EFFECT,\t     1,\tPSYCHIC_TYPE, 100, 20\n",
    "ZEN_HEADBUTT, FLINCH_SIDE_EFFECT2,\t        80,\tPSYCHIC_TYPE,  90, 15\n",
    "PSYCHO_CUT,   NO_ADDITIONAL_EFFECT,\t    70,\tPSYCHIC_TYPE, 100, 20\n",
    "ROCK_TOMB,\t   NO_ADDITIONAL_EFFECT,\t    60,\tROCK,\t       95, 15\n",
    "HEAD_SMASH,   RECOIL_EFFECT,\t           150,\tROCK,\t       80, 5 \n",
    "STONE_EDGE,   NO_ADDITIONAL_EFFECT,\t   100,\tROCK,\t       80, 5 \n",
    "ACCELEROCK,   NO_ADDITIONAL_EFFECT,\t    40,\tROCK,\t      100, 20\n",
    "IRON_TAIL,    DEFENSE_DOWN_SIDE_EFFECT,   100,\tSTEEL,\t       75, 15\n",
    "STEEL_WING,   NO_ADDITIONAL_EFFECT,\t    70,\tSTEEL,\t       90, 25\n",
    "METAL_CLAW,   NO_ADDITIONAL_EFFECT,\t    50,\tSTEEL,\t       95, 35\n",
    "METEOR_MASH,  NO_ADDITIONAL_EFFECT,\t   100,\tSTEEL,\t       85, 10\n",
    "BULLET_PUNCH, NO_ADDITIONAL_EFFECT,\t    40,\tSTEEL,\t      100, 30\n",
    "FLASH_CANNON, NO_ADDITIONAL_EFFECT,\t\t80, STEEL, \t\t  100, 10\n",
    "WATER_PULSE,  CONFUSION_SIDE_EFFECT2,\t    60,\tWATER,\t      100, 20\n",
    "AQUA_JET,     NO_ADDITIONAL_EFFECT,\t    40,\tWATER,\t      100, 20\n",
    "SCALD,        BURN_SIDE_EFFECT2,           80,\tWATER,\t      100, 15\n",
    "HYDRO_CANNON, HYPER_BEAM_EFFECT,          150,\tWATER,\t       90, 5 \n",
    "ANCESTOR_PWR, OHKO_EFFECT,\t\t             1,\tWATER,\t       95, 5 "
   ]
  }
 ],
 "metadata": {
  "kernelspec": {
   "display_name": "Python 3",
   "language": "python",
   "name": "python3"
  },
  "language_info": {
   "codemirror_mode": {
    "name": "ipython",
    "version": 3
   },
   "file_extension": ".py",
   "mimetype": "text/x-python",
   "name": "python",
   "nbconvert_exporter": "python",
   "pygments_lexer": "ipython3",
   "version": "3.10.10"
  }
 },
 "nbformat": 4,
 "nbformat_minor": 5
}
