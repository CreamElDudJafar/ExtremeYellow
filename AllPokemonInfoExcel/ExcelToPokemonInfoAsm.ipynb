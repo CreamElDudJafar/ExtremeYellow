{
 "cells": [
  {
   "cell_type": "code",
   "execution_count": null,
   "metadata": {},
   "outputs": [],
   "source": [
    "from IPython.display import display, HTML\n",
    "display(HTML(\"<style>.container { width:100% !important; }</style>\"))"
   ]
  },
  {
   "cell_type": "code",
   "execution_count": null,
   "metadata": {},
   "outputs": [],
   "source": [
    "import pandas as pd\n",
    "import os\n",
    "import numpy as np\n",
    "from hyphen import Hyphenator\n",
    "hyphe = Hyphenator('en_GB')\n",
    "import time\n",
    "\n",
    "pd.set_option('display.max_rows', 255)\n",
    "pd.set_option('display.max_columns', 100)"
   ]
  },
  {
   "cell_type": "code",
   "execution_count": null,
   "metadata": {},
   "outputs": [],
   "source": [
    "listFossilsGhost = ['FossilKabutops', 'FossilAerodactyl', 'MonGhost',]\n",
    "listFossilsGhost_Capital = ['FOSSIL_KABUTOPS', 'FOSSIL_AERODACTYL', 'MON_GHOST',]\n",
    "listFossilsGhost_Names = ['MissingNo.', 'MissingNo.', 'MissingNo.']\n",
    "listFossilsGhost_Names_Capital = ['MISSINGNO.', 'MISSINGNO.', 'MISSINGNO.']\n"
   ]
  },
  {
   "cell_type": "code",
   "execution_count": null,
   "metadata": {},
   "outputs": [],
   "source": [
    "def printNCharacters(N, paddingChar=' '):\n",
    "    stringHere = ''\n",
    "    for idx in range(N):\n",
    "        stringHere+=paddingChar\n",
    "    return stringHere"
   ]
  },
  {
   "cell_type": "code",
   "execution_count": null,
   "metadata": {},
   "outputs": [],
   "source": [
    "def printOneInfoForOneMon(columnOfInterest, PokemonOfInterest, capitalizationMon='Name_allsmall'):\n",
    "    return DfPkmnInfoFromExcel[columnOfInterest].tolist()[DfPkmnInfoFromExcel[capitalizationMon].tolist().index(PokemonOfInterest)]\n",
    "\n",
    "def getOneColumn(columnOfInterest):\n",
    "    return DfPkmnInfoFromExcel[columnOfInterest].tolist()"
   ]
  },
  {
   "cell_type": "code",
   "execution_count": null,
   "metadata": {},
   "outputs": [],
   "source": [
    "def readASMFileReturnLinesAndModifiedPath(asmPath, newSuffix='_fromExcel'):\n",
    "    asmPathNew = asmPath[:-len('.asm')]+newSuffix+'.asm'\n",
    "\n",
    "    try:\n",
    "        file_in = open(asmPath, 'r')\n",
    "    except:\n",
    "        linesFromFile = []\n",
    "    else:\n",
    "        file_in = open(asmPath, 'r')\n",
    "        linesFromFile = []\n",
    "        for y in file_in.readlines():\n",
    "            linesFromFile.append(y)\n",
    "        \n",
    "    return linesFromFile, asmPathNew"
   ]
  },
  {
   "cell_type": "code",
   "execution_count": null,
   "metadata": {},
   "outputs": [],
   "source": [
    "def lineifyDexEntries_OneLine(DexEntryWordByWord=['Hello', 'world'], lengthMax=18, debug=False):\n",
    "    stringTemp = ''\n",
    "    lengthTemp = len(stringTemp)\n",
    "    idxTemp = 0\n",
    "\n",
    "    keepAddingWords = True\n",
    "    while keepAddingWords:\n",
    "        if stringTemp=='':\n",
    "            stringTempNext = stringTemp + DexEntryWordByWord[idxTemp]\n",
    "        else:\n",
    "            stringTempNext = stringTemp + ' ' + DexEntryWordByWord[idxTemp]\n",
    "\n",
    "        # more than 18 chars\n",
    "        if len(stringTempNext)>lengthMax:\n",
    "            # check if just adding one space and two symbols is enough to go beyond limits:\n",
    "            # previous string must have ended on a word, so a space is needed,\n",
    "            # also if the word was one-letter long and fit, it would pass the test above,\n",
    "            # so the best-case scenario is that the new word can be split from the first letter\n",
    "            if len(stringTemp)+3>lengthMax:\n",
    "                keepAddingWords = False\n",
    "            else:\n",
    "                # check if the next word can be split into syllables\n",
    "                syllablesTemp = hyphe.syllables(DexEntryWordByWord[idxTemp])\n",
    "                while syllablesTemp.count('-')>0:\n",
    "                    syllablesTemp.remove('-')\n",
    "                print('syllablesTemp =', syllablesTemp) if debug else _\n",
    "                if len(syllablesTemp)>1:\n",
    "                    # try add one syllable + space + hyphene at the time\n",
    "                    for syllableIdx in range(len(syllablesTemp)):\n",
    "                        syllable = syllablesTemp[syllableIdx]\n",
    "                        # first syllable is different\n",
    "                        if syllableIdx==0:\n",
    "                            stringTempNext = stringTemp + ' ' + syllable + '-'\n",
    "                        else:\n",
    "                            stringTempNext = stringTemp[:-1] + syllable + '-'\n",
    "                        print('stringTempNext =', stringTempNext) if debug else _\n",
    "                        # check if we went beyond the max allowed length\n",
    "                        if len(stringTempNext)>lengthMax:\n",
    "                            keepAddingWords = False\n",
    "                            break\n",
    "                        else:\n",
    "                            # we succeded in adding a syllable to the line\n",
    "                            stringTemp = stringTempNext\n",
    "                            syllableIdx+=1\n",
    "                    #break\n",
    "                else:\n",
    "                    # it can't be broken into syllables, henceforth (BEEEH) no hope, end of this line\n",
    "                    break # keepAddingWords = False ???\n",
    "        else:\n",
    "            # all good, let's update the cycle\n",
    "            stringTemp = stringTempNext\n",
    "            idxTemp+=1\n",
    "            # let's check if we ran out of words\n",
    "            if idxTemp>=len(DexEntryWordByWord):\n",
    "                wordsLeft = [] # mega ugly but works, a la GF\n",
    "                break\n",
    "\n",
    "        try:\n",
    "            syllableIdx\n",
    "        except:\n",
    "            wordsLeft = DexEntryWordByWord[idxTemp:]\n",
    "        else:\n",
    "            if syllableIdx==0:\n",
    "                wordsLeft = DexEntryWordByWord[idxTemp:]\n",
    "            else:\n",
    "                syllablesTempToBeGlued = syllablesTemp[syllableIdx:]\n",
    "                leftoverWord = ''\n",
    "                for wordPiece in syllablesTempToBeGlued:\n",
    "                    leftoverWord += wordPiece\n",
    "                wordsLeft = [leftoverWord] + DexEntryWordByWord[idxTemp+1:]\n",
    "            print('wordsLeft =', wordsLeft) if debug else _\n",
    "                \n",
    "        print('stringTemp =', stringTemp) if debug else _\n",
    "\n",
    "    return stringTemp, wordsLeft\n",
    "\n",
    "def lineifyDexEntries(DexEntry='Hello world', lengthMax=18, numberOfLinesMax=6, replacePokemonShort=True, debug=False):\n",
    "    DexEntry=DexEntry.replace('#MON', 'PoKeMoN') if replacePokemonShort else _\n",
    "    \n",
    "    if len(DexEntry)>lengthMax*numberOfLinesMax:\n",
    "        print('You will not be able to fit your Pokedex entry!')\n",
    "        print(f'Your Dex entry is {len(DexEntry)} characters long, but with the current settings')\n",
    "        print(f'you can have max {numberOfLinesMax} lines, each {lengthMax} characters long, for a total of {lengthMax*numberOfLinesMax} characters.')\n",
    "        print('The constraints above can be changed my inputting different \"numberOfLinesMax\" and \"lengthMax\" parameters.')\n",
    "    else:\n",
    "        DexEntryWordByWord = DexEntry.rsplit()\n",
    "        DexEntry_Lineified = []\n",
    "        while len(DexEntryWordByWord)>0:\n",
    "            lineHere, DexEntryWordByWord = lineifyDexEntries_OneLine(DexEntryWordByWord, debug=debug)\n",
    "            print('lineHere =', lineHere) if debug else _\n",
    "            print('DexEntryWordByWord =', DexEntryWordByWord) if debug else _\n",
    "            print('-----') if debug else _\n",
    "            lineHere=lineHere.replace('PoKeMoN', '#MON') if replacePokemonShort else _\n",
    "            DexEntry_Lineified.append(lineHere)\n",
    "            \n",
    "        if len(DexEntry_Lineified)>numberOfLinesMax:\n",
    "            print('Sorry, I could not split the Dex entry into the required number of lines.')\n",
    "            print('It may be possible to do so by changing (even against grammar rules) the hyphenation.')\n",
    "            print('Here is the best I could do:')\n",
    "            \n",
    "        return DexEntry_Lineified\n"
   ]
  },
  {
   "cell_type": "code",
   "execution_count": null,
   "metadata": {},
   "outputs": [],
   "source": [
    "def getFileFolder(filein):\n",
    "    filePath = ''\n",
    "    for pathPiece in filein[:-len('.asm')].rsplit(r'/')[:-1]:\n",
    "        filePath += pathPiece+r'/'\n",
    "    return filePath"
   ]
  },
  {
   "cell_type": "code",
   "execution_count": null,
   "metadata": {},
   "outputs": [],
   "source": [
    "def tidyOldAndFromExcelFiles(fullNameOfFilesThatNeedsToBe, debug=False):\n",
    "    oldFileToMove = fullNameOfFilesThatNeedsToBe\n",
    "#    oldFileToMove = '/Users/Michael/Desktop/Core/Programmi_miei/Pokemon/pretStuff/outputPokemonInfoToExcel/Bands.asm'\n",
    "    oldFileToMove_newName = oldFileToMove.replace(\".asm\", \"_preExcel.asm\")\n",
    "    print('oldFileToMove =', oldFileToMove) if debug else _\n",
    "    print('oldFileToMove_newName =', oldFileToMove_newName) if debug else _\n",
    "    print('getFileFolder(oldFileToMove) =', getFileFolder(oldFileToMove)) if debug else _\n",
    "    \n",
    "    newFileToRename = oldFileToMove\n",
    "    newFileToRename = newFileToRename.replace(\".asm\", \"_fromExcel.asm\")\n",
    "    newFileToRename_newName = newFileToRename.replace(\"_fromExcel.asm\", \".asm\")\n",
    "    print('newFileToRename =', newFileToRename) if debug else _\n",
    "    print('newFileToRename_newName =', newFileToRename_newName) if debug else _\n",
    "\n",
    "    #os.system('pwd') if debug else _\n",
    "    # move in the right folder\n",
    "    os.chdir(getFileFolder(oldFileToMove))\n",
    "    os.system('pwd') if debug else _\n",
    "\n",
    "    # make the dir for the old stuff\n",
    "    command = 'mkdir preExcel'\n",
    "    print(command) if debug else _\n",
    "    os.system(command)\n",
    "    time.sleep(1) if debug else _\n",
    "\n",
    "    # rename the old files with a suffix (_preExcel)\n",
    "    command = f'mv {oldFileToMove} {oldFileToMove_newName}'\n",
    "    print(command) if debug else _\n",
    "    os.system(command)\n",
    "    time.sleep(1) if debug else _\n",
    "\n",
    "    # move said renamed old files to the dir for old stuff\n",
    "    command = f'mv {oldFileToMove_newName} ./preExcel'\n",
    "    print(command) if debug else _\n",
    "    os.system(command)\n",
    "    time.sleep(1) if debug else _\n",
    "\n",
    "    # rename the new files (_fromExcel, made from the script) by getting rid of their extension\n",
    "    command = f'mv {newFileToRename} {newFileToRename_newName}'\n",
    "    print(command) if debug else _\n",
    "    os.system(command)\n"
   ]
  },
  {
   "cell_type": "markdown",
   "metadata": {},
   "source": [
    "# Read mega file of destiny"
   ]
  },
  {
   "cell_type": "code",
   "execution_count": null,
   "metadata": {},
   "outputs": [],
   "source": [
    "#DfPkmnInfoFromExcel = pd.read_excel('/Users/Michael/Desktop/Core/Programmi_miei/Pokemon/pretStuff/outputPokemonInfoToExcel/testPokemonToExcel.ods', engine='odf')\n",
    "DfPkmnInfoFromExcel = pd.read_excel('/Users/Michael/Desktop/Core/Giochi/Pokémon/DisassemblyYellow/ExtremeYellow/AllPokemonInfoExcel/PokemonToExcel.ods', engine='odf')"
   ]
  },
  {
   "cell_type": "code",
   "execution_count": null,
   "metadata": {},
   "outputs": [],
   "source": [
    "DfPkmnInfoFromExcel.head()"
   ]
  },
  {
   "cell_type": "code",
   "execution_count": null,
   "metadata": {},
   "outputs": [],
   "source": [
    "allColumns_list = ['Name_Capital', 'Name_allsmall', 'Name_PartlyCapital', 'HPs', 'ATK', 'DEF', 'SPC', 'SPD', 'Type1', 'Type2', 'CatchRate', 'BaseExp', 'Lvl1Moves', 'GrowthRate', 'TMHMMoves', 'EvoInfo', 'LevelUpMoves', 'cries', 'menuIcons', 'palettes', 'species', 'height_dm', 'weight_hg', 'dexTexts', 'ExtraNotes']"
   ]
  },
  {
   "cell_type": "code",
   "execution_count": null,
   "metadata": {},
   "outputs": [],
   "source": [
    "for info in allColumns_list:\n",
    "    print(f'{info}{printNCharacters(20-len(info))}= {printOneInfoForOneMon(info, \"mcharzardx\")}')\n",
    "    "
   ]
  },
  {
   "cell_type": "code",
   "execution_count": null,
   "metadata": {},
   "outputs": [],
   "source": [
    "printOneInfoForOneMon('LevelUpMoves', 'cleffa').rsplit(' ; ')"
   ]
  },
  {
   "cell_type": "markdown",
   "metadata": {},
   "source": [
    "# preliminary check: are mons' names <= 10 chars? andare names consistent?"
   ]
  },
  {
   "cell_type": "code",
   "execution_count": null,
   "metadata": {},
   "outputs": [],
   "source": [
    "nameColumns_list = ['Name_Capital', 'Name_allsmall', 'Name_PartlyCapital', ]"
   ]
  },
  {
   "cell_type": "code",
   "execution_count": null,
   "metadata": {},
   "outputs": [],
   "source": [
    "DfPkmnInfoFromExcel_Name_Capital = DfPkmnInfoFromExcel['Name_Capital'].tolist()\n",
    "DfPkmnInfoFromExcel_Name_allsmall = DfPkmnInfoFromExcel['Name_allsmall'].tolist()\n",
    "DfPkmnInfoFromExcel_Name_PartlyCapital = DfPkmnInfoFromExcel['Name_PartlyCapital'].tolist()"
   ]
  },
  {
   "cell_type": "code",
   "execution_count": null,
   "metadata": {},
   "outputs": [],
   "source": [
    "for idx in range(len(DfPkmnInfoFromExcel)):\n",
    "    if not ((DfPkmnInfoFromExcel_Name_Capital[idx]==DfPkmnInfoFromExcel_Name_allsmall[idx].upper()) and (DfPkmnInfoFromExcel_Name_Capital[idx]==DfPkmnInfoFromExcel_Name_PartlyCapital[idx].upper())):\n",
    "        print('Names not equal!')\n",
    "        print(DfPkmnInfoFromExcel_Name_Capital[idx])\n",
    "        print(DfPkmnInfoFromExcel_Name_allsmall[idx])\n",
    "        print(DfPkmnInfoFromExcel_Name_PartlyCapital[idx])\n",
    "    if len(DfPkmnInfoFromExcel_Name_Capital[idx])>10:\n",
    "        print('Len > 10!')\n",
    "    "
   ]
  },
  {
   "cell_type": "code",
   "execution_count": null,
   "metadata": {},
   "outputs": [],
   "source": []
  },
  {
   "cell_type": "markdown",
   "metadata": {},
   "source": [
    "# pokemon_constants (1/13)"
   ]
  },
  {
   "cell_type": "code",
   "execution_count": null,
   "metadata": {},
   "outputs": [],
   "source": [
    "inputFile = '/Users/michael/Desktop/Core/Giochi/Pokémon/DisassemblyYellow/ExtremeYellow/constants/pokemon_constants.asm'\n",
    "linesFromFile, outputFile = readASMFileReturnLinesAndModifiedPath(inputFile)\n",
    "verbose = False"
   ]
  },
  {
   "cell_type": "code",
   "execution_count": null,
   "metadata": {},
   "outputs": [],
   "source": [
    "initialLines_firstIdx = 0\n",
    "initialLines_lastIdx = 8\n",
    "\n",
    "if verbose:\n",
    "    for idx in range(initialLines_firstIdx,initialLines_lastIdx+1):\n",
    "        print(repr(linesFromFile[idx]))"
   ]
  },
  {
   "cell_type": "code",
   "execution_count": null,
   "metadata": {},
   "outputs": [],
   "source": [
    "finalLines_lastIdx = len(linesFromFile)-1\n",
    "finalLines_firstIdx = finalLines_lastIdx-12\n",
    "\n",
    "if verbose:\n",
    "    for idx in range(finalLines_firstIdx,finalLines_lastIdx+1):\n",
    "        print(repr(linesFromFile[idx]))"
   ]
  },
  {
   "cell_type": "code",
   "execution_count": null,
   "metadata": {},
   "outputs": [],
   "source": [
    "txtToWrite = open(outputFile, \"w\")\n",
    "\n",
    "for idx in range(initialLines_firstIdx,initialLines_lastIdx+1):\n",
    "    txtToWrite.write(linesFromFile[idx])\n",
    "    \n",
    "listMonsHere = getOneColumn('Name_Capital')+listFossilsGhost_Capital\n",
    "for idx in range(len(listMonsHere)):\n",
    "    pkmn = listMonsHere[idx]\n",
    "    oneLine = f'\\tconst {pkmn}{printNCharacters(19-len(pkmn))}; {idx+1}\\n'\n",
    "    txtToWrite.write(oneLine)\n",
    "\n",
    "for idx in range(finalLines_firstIdx,finalLines_lastIdx+1):\n",
    "    txtToWrite.write(linesFromFile[idx])\n",
    "\n",
    "txtToWrite.close()"
   ]
  },
  {
   "cell_type": "code",
   "execution_count": null,
   "metadata": {},
   "outputs": [],
   "source": [
    "tidyOldAndFromExcelFiles(inputFile, debug=False)"
   ]
  },
  {
   "cell_type": "markdown",
   "metadata": {},
   "source": [
    "# pokedex_constants (2/13)"
   ]
  },
  {
   "cell_type": "code",
   "execution_count": null,
   "metadata": {},
   "outputs": [],
   "source": [
    "inputFile = '/Users/michael/Desktop/Core/Giochi/Pokémon/DisassemblyYellow/ExtremeYellow/constants/pokedex_constants.asm'\n",
    "linesFromFile, outputFile = readASMFileReturnLinesAndModifiedPath(inputFile)\n",
    "verbose = False"
   ]
  },
  {
   "cell_type": "code",
   "execution_count": null,
   "metadata": {},
   "outputs": [],
   "source": [
    "initialLines_firstIdx = 0\n",
    "initialLines_lastIdx = 5\n",
    "\n",
    "if verbose:\n",
    "    for idx in range(initialLines_firstIdx,initialLines_lastIdx+1):\n",
    "        print(repr(linesFromFile[idx]))"
   ]
  },
  {
   "cell_type": "code",
   "execution_count": null,
   "metadata": {},
   "outputs": [],
   "source": [
    "finalLines_lastIdx = len(linesFromFile)-1\n",
    "finalLines_firstIdx = finalLines_lastIdx-1\n",
    "\n",
    "if verbose:\n",
    "    for idx in range(finalLines_firstIdx,finalLines_lastIdx+1):\n",
    "        print(repr(linesFromFile[idx]))"
   ]
  },
  {
   "cell_type": "code",
   "execution_count": null,
   "metadata": {},
   "outputs": [],
   "source": [
    "txtToWrite = open(outputFile, \"w\")\n",
    "\n",
    "for idx in range(initialLines_firstIdx,initialLines_lastIdx+1):\n",
    "    txtToWrite.write(linesFromFile[idx])\n",
    "    \n",
    "listMonsHere = getOneColumn('Name_Capital')\n",
    "for idx in range(len(listMonsHere)):\n",
    "    pkmn = listMonsHere[idx]\n",
    "    oneLine = f'\\tconst DEX_{pkmn}{printNCharacters(11-len(pkmn))}; {idx+1}\\n'\n",
    "    txtToWrite.write(oneLine)\n",
    "\n",
    "for idx in range(finalLines_firstIdx,finalLines_lastIdx+1):\n",
    "    txtToWrite.write(linesFromFile[idx])\n",
    "\n",
    "txtToWrite.close()"
   ]
  },
  {
   "cell_type": "code",
   "execution_count": null,
   "metadata": {},
   "outputs": [],
   "source": [
    "tidyOldAndFromExcelFiles(inputFile, debug=False)"
   ]
  },
  {
   "cell_type": "markdown",
   "metadata": {},
   "source": [
    "# base_stats single files (3/13)"
   ]
  },
  {
   "cell_type": "code",
   "execution_count": null,
   "metadata": {
    "scrolled": true
   },
   "outputs": [],
   "source": [
    "listMonsHere_allsmall = getOneColumn('Name_allsmall')\n",
    "listMonsHere_Capital = getOneColumn('Name_Capital')\n",
    "listMonsHere_PartlyCapital = getOneColumn('Name_PartlyCapital')\n",
    "for pkmnidx in range(len(listMonsHere_allsmall)):\n",
    "    pkmnHere_allsmall = listMonsHere_allsmall[pkmnidx]\n",
    "    pkmnHere_Capital = listMonsHere_Capital[pkmnidx]\n",
    "    pkmnHere_PartlyCapital = listMonsHere_PartlyCapital[pkmnidx]\n",
    "    \n",
    "    inputFile = '/Users/michael/Desktop/Core/Giochi/Pokémon/DisassemblyYellow/ExtremeYellow/data/pokemon/base_stats/'+pkmnHere_allsmall+'.asm'\n",
    "    linesFromFile, outputFile = readASMFileReturnLinesAndModifiedPath(inputFile)\n",
    "    verbose = True\n",
    "\n",
    "    txtToWrite = open(outputFile, \"w\")\n",
    "\n",
    "    txtToWrite.write(f'\\tdb DEX_{pkmnHere_Capital} ; pokedex id\\n')\n",
    "    txtToWrite.write(f'\\n')\n",
    "\n",
    "    lineToWrite = '\\tdb'\n",
    "    for statistic in ['HPs', 'ATK', 'DEF', 'SPD', 'SPC']:\n",
    "        lineToWrite = lineToWrite + printNCharacters(4-len(str(printOneInfoForOneMon(statistic,pkmnHere_allsmall)))) + str(printOneInfoForOneMon(statistic,pkmnHere_allsmall)) + ','\n",
    "    lineToWrite = lineToWrite[:-1] + '\\n' \n",
    "    txtToWrite.write(lineToWrite)\n",
    "\n",
    "    txtToWrite.write(f'\\t;   hp  atk  def  spd  spc\\n')\n",
    "    txtToWrite.write(f'\\n')\n",
    "    txtToWrite.write(f'\\tdb {printOneInfoForOneMon(\"Type1\",pkmnHere_allsmall)}, {printOneInfoForOneMon(\"Type2\",pkmnHere_allsmall)} ; type\\n')\n",
    "    txtToWrite.write(f'\\tdb {printOneInfoForOneMon(\"CatchRate\",pkmnHere_allsmall)} ; catch rate\\n')\n",
    "    txtToWrite.write(f'\\tdb {printOneInfoForOneMon(\"BaseExp\",pkmnHere_allsmall)} ; base exp\\n')\n",
    "    txtToWrite.write(f'\\n')\n",
    "    txtToWrite.write('\\tINCBIN \"gfx/pokemon/front/'+pkmnHere_allsmall+'.pic\", 0, 1 ; sprite dimensions\\n')\n",
    "    txtToWrite.write(f'\\tdw {pkmnHere_PartlyCapital}PicFront, {pkmnHere_PartlyCapital}PicBack\\n')\n",
    "    txtToWrite.write(f'\\n')\n",
    "    txtToWrite.write(f'\\tdb {printOneInfoForOneMon(\"Lvl1Moves\",pkmnHere_allsmall)} ; level 1 learnset\\n')\n",
    "    txtToWrite.write(f'\\tdb {printOneInfoForOneMon(\"GrowthRate\",pkmnHere_allsmall)} ; growth rate\\n')\n",
    "    txtToWrite.write(f'\\n')\n",
    "    txtToWrite.write(f'\\t; tm/hm learnset\\n')\n",
    "\n",
    "    try:\n",
    "        len(printOneInfoForOneMon(\"TMHMMoves\",pkmnHere_allsmall))\n",
    "    except:\n",
    "        txtToWrite.write('\\ttmhm\\n')\n",
    "    else:\n",
    "        THMLeft = printOneInfoForOneMon(\"TMHMMoves\",pkmnHere_allsmall).rsplit()\n",
    "        while len(THMLeft)>0:\n",
    "            lineToWrite='\\ttmhm ' if len(THMLeft)==len(printOneInfoForOneMon(\"TMHMMoves\",pkmnHere_allsmall).rsplit()) else '\\t     '\n",
    "            lineEnd='\\\\\\n' if len(THMLeft)>5 else '\\n'\n",
    "            for idxTHM in range(min(len(THMLeft),5)):\n",
    "                lineToWrite = lineToWrite + THMLeft[0] + printNCharacters(14-len(THMLeft[0]))\n",
    "                THMLeft.pop(0)\n",
    "            lineToWrite += lineEnd\n",
    "            txtToWrite.write(lineToWrite)\n",
    "\n",
    "    txtToWrite.write(f'\\t; end\\n')\n",
    "    txtToWrite.write(f'\\n')\n",
    "    txtToWrite.write(f'\\tdb BANK({pkmnHere_PartlyCapital}PicFront)\\n')\n",
    "    txtToWrite.write(f'\\tassert BANK({pkmnHere_PartlyCapital}PicFront) == BANK({pkmnHere_PartlyCapital}PicBack)\\n')\n",
    "\n",
    "    txtToWrite.close()\n",
    "    \n",
    "    tidyOldAndFromExcelFiles(inputFile, debug=False)\n",
    "    "
   ]
  },
  {
   "cell_type": "markdown",
   "metadata": {},
   "source": [
    "# base_stats \"folder\" (4/13)"
   ]
  },
  {
   "cell_type": "code",
   "execution_count": null,
   "metadata": {},
   "outputs": [],
   "source": [
    "inputFile = '/Users/michael/Desktop/Core/Giochi/Pokémon/DisassemblyYellow/ExtremeYellow/data/pokemon/base_stats.asm'\n",
    "linesFromFile, outputFile = readASMFileReturnLinesAndModifiedPath(inputFile)\n",
    "verbose = False"
   ]
  },
  {
   "cell_type": "code",
   "execution_count": null,
   "metadata": {},
   "outputs": [],
   "source": [
    "initialLines_firstIdx = 0\n",
    "initialLines_lastIdx = 1\n",
    "\n",
    "if verbose:\n",
    "    for idx in range(initialLines_firstIdx,initialLines_lastIdx+1):\n",
    "        print(repr(linesFromFile[idx]))"
   ]
  },
  {
   "cell_type": "code",
   "execution_count": null,
   "metadata": {},
   "outputs": [],
   "source": [
    "finalLines_lastIdx = len(linesFromFile)-1\n",
    "finalLines_firstIdx = finalLines_lastIdx-0\n",
    "\n",
    "if verbose:\n",
    "    for idx in range(finalLines_firstIdx,finalLines_lastIdx+1):\n",
    "        print(repr(linesFromFile[idx]))"
   ]
  },
  {
   "cell_type": "code",
   "execution_count": null,
   "metadata": {},
   "outputs": [],
   "source": [
    "txtToWrite = open(outputFile, \"w\")\n",
    "\n",
    "for idx in range(initialLines_firstIdx,initialLines_lastIdx+1):\n",
    "    txtToWrite.write(linesFromFile[idx])\n",
    "    \n",
    "listMonsHere = getOneColumn('Name_allsmall')\n",
    "for idx in range(len(listMonsHere)):\n",
    "    pkmn = listMonsHere[idx]\n",
    "    oneLine = 'INCLUDE \"data/pokemon/base_stats/'+pkmn+'.asm\"\\n'\n",
    "    txtToWrite.write(oneLine)\n",
    "\n",
    "for idx in range(finalLines_firstIdx,finalLines_lastIdx+1):\n",
    "    txtToWrite.write(linesFromFile[idx])\n",
    "\n",
    "txtToWrite.close()"
   ]
  },
  {
   "cell_type": "code",
   "execution_count": null,
   "metadata": {},
   "outputs": [],
   "source": [
    "tidyOldAndFromExcelFiles(inputFile, debug=False)"
   ]
  },
  {
   "cell_type": "markdown",
   "metadata": {},
   "source": [
    "# evos_moves (5/13)"
   ]
  },
  {
   "cell_type": "code",
   "execution_count": null,
   "metadata": {},
   "outputs": [],
   "source": [
    "inputFile = '/Users/michael/Desktop/Core/Giochi/Pokémon/DisassemblyYellow/ExtremeYellow/data/pokemon/evos_moves.asm'\n",
    "linesFromFile, outputFile = readASMFileReturnLinesAndModifiedPath(inputFile)\n",
    "verbose = False"
   ]
  },
  {
   "cell_type": "code",
   "execution_count": null,
   "metadata": {},
   "outputs": [],
   "source": [
    "initialLines_firstIdx = 0\n",
    "initialLines_lastIdx = 4\n",
    "\n",
    "if verbose:\n",
    "    for idx in range(initialLines_firstIdx,initialLines_lastIdx+1):\n",
    "        print(repr(linesFromFile[idx]))"
   ]
  },
  {
   "cell_type": "code",
   "execution_count": null,
   "metadata": {},
   "outputs": [],
   "source": [
    "middleLines = ['\\tassert_table_length NUM_POKEMON_INDEXES\\n', '\\n']"
   ]
  },
  {
   "cell_type": "code",
   "execution_count": null,
   "metadata": {},
   "outputs": [],
   "source": [
    "txtToWrite = open(outputFile, \"w\")\n",
    "\n",
    "for idx in range(initialLines_firstIdx,initialLines_lastIdx+1):\n",
    "    txtToWrite.write(linesFromFile[idx])\n",
    "    \n",
    "listMonsHere = getOneColumn('Name_PartlyCapital')\n",
    "for idx in range(len(listMonsHere)):\n",
    "    pkmn = listMonsHere[idx]\n",
    "    oneLine = f'\\tdw {pkmn}EvosMoves\\n'\n",
    "    txtToWrite.write(oneLine)\n",
    "for crapMon in listFossilsGhost:\n",
    "    txtToWrite.write(f'\\tdw {crapMon}EvosMoves\\n')\n",
    "    \n",
    "for oneLine in middleLines:\n",
    "    txtToWrite.write(oneLine)\n",
    "\n",
    "for pkmn in listMonsHere:   \n",
    "    txtToWrite.write(f'{pkmn}EvosMoves:\\n')\n",
    "    txtToWrite.write(f'; Evolutions\\n')\n",
    "    \n",
    "    try:\n",
    "        len(printOneInfoForOneMon('EvoInfo', pkmn, 'Name_PartlyCapital'))\n",
    "    except:\n",
    "        _\n",
    "    else:\n",
    "#        if not ' - ' in printOneInfoForOneMon('EvoInfo', pkmn, 'Name_PartlyCapital'):\n",
    "#            txtToWrite.write(f'\\tdb {printOneInfoForOneMon(\"EvoInfo\", pkmn, \"Name_PartlyCapital\")}\\n')\n",
    "#        else:\n",
    "#            for evolutionOption in printOneInfoForOneMon('EvoInfo', pkmn, 'Name_PartlyCapital').rsplit(' - '):\n",
    "#                txtToWrite.write(f'\\tdb {evolutionOption}\\n')\n",
    "        for evolutionOption in printOneInfoForOneMon('EvoInfo', pkmn, 'Name_PartlyCapital').rsplit(' ; '):\n",
    "            txtToWrite.write(f'\\tdb {evolutionOption}\\n')\n",
    "    \n",
    "    txtToWrite.write(f'\\tdb 0\\n')\n",
    "    txtToWrite.write(f'; Learnset\\n')\n",
    "    \n",
    "    try:\n",
    "        len(printOneInfoForOneMon('LevelUpMoves', pkmn, 'Name_PartlyCapital'))\n",
    "    except:\n",
    "        _\n",
    "    else:\n",
    "        for lvlUpMove in printOneInfoForOneMon('LevelUpMoves', pkmn, 'Name_PartlyCapital').rsplit(' ; '):\n",
    "            txtToWrite.write(f'\\tdb {lvlUpMove.rsplit()[0]}, {lvlUpMove.rsplit()[1]}\\n')\n",
    "    \n",
    "    txtToWrite.write(f'\\tdb 0\\n')\n",
    "    txtToWrite.write(f'\\n')\n",
    "    \n",
    "for crapMon in listFossilsGhost:\n",
    "    txtToWrite.write(f'{crapMon}EvosMoves:\\n')\n",
    "    txtToWrite.write(f'; Evolutions\\n') \n",
    "    txtToWrite.write(f'\\tdb 0\\n')\n",
    "    txtToWrite.write(f'; Learnset\\n')\n",
    "    txtToWrite.write(f'\\tdb 0\\n')\n",
    "    txtToWrite.write(f'\\n')\n",
    "    \n",
    "txtToWrite.close()"
   ]
  },
  {
   "cell_type": "code",
   "execution_count": null,
   "metadata": {},
   "outputs": [],
   "source": [
    "tidyOldAndFromExcelFiles(inputFile, debug=False)"
   ]
  },
  {
   "cell_type": "markdown",
   "metadata": {},
   "source": [
    "# names (6/13)"
   ]
  },
  {
   "cell_type": "code",
   "execution_count": null,
   "metadata": {},
   "outputs": [],
   "source": [
    "names_Exceptions_Default = [\"NIDORAN_M\", \"NIDORAN_F\", \"MR_MIME\", \"FARFETCHD\"]\n",
    "names_Exceptions_Updated = [\"NIDORAN♂\", \"NIDORAN♀\", \"MR.MIME\", \"FARFETCH'D\"]"
   ]
  },
  {
   "cell_type": "code",
   "execution_count": null,
   "metadata": {},
   "outputs": [],
   "source": [
    "inputFile = '/Users/michael/Desktop/Core/Giochi/Pokémon/DisassemblyYellow/ExtremeYellow/data/pokemon/names.asm'\n",
    "linesFromFile, outputFile = readASMFileReturnLinesAndModifiedPath(inputFile)\n",
    "verbose = False"
   ]
  },
  {
   "cell_type": "code",
   "execution_count": null,
   "metadata": {},
   "outputs": [],
   "source": [
    "initialLines_firstIdx = 0\n",
    "initialLines_lastIdx = 1\n",
    "\n",
    "if verbose:\n",
    "    for idx in range(initialLines_firstIdx,initialLines_lastIdx+1):\n",
    "        print(repr(linesFromFile[idx]))"
   ]
  },
  {
   "cell_type": "code",
   "execution_count": null,
   "metadata": {},
   "outputs": [],
   "source": [
    "finalLines_lastIdx = len(linesFromFile)-1\n",
    "finalLines_firstIdx = finalLines_lastIdx-0\n",
    "\n",
    "if verbose:\n",
    "    for idx in range(finalLines_firstIdx,finalLines_lastIdx+1):\n",
    "        print(repr(linesFromFile[idx]))"
   ]
  },
  {
   "cell_type": "code",
   "execution_count": null,
   "metadata": {},
   "outputs": [],
   "source": [
    "txtToWrite = open(outputFile, \"w\")\n",
    "\n",
    "for idx in range(initialLines_firstIdx,initialLines_lastIdx+1):\n",
    "    txtToWrite.write(linesFromFile[idx])\n",
    "    \n",
    "listMonsHere = getOneColumn('Name_Capital')\n",
    "for idx in range(len(listMonsHere)):\n",
    "    pkmn = listMonsHere[idx]\n",
    "    if pkmn in names_Exceptions_Default:\n",
    "        pkmn = names_Exceptions_Updated[names_Exceptions_Default.index(pkmn)]\n",
    "    oneLine = '\\tdb \"'+pkmn+printNCharacters(10-len(pkmn), '@')+'\"\\n'\n",
    "    txtToWrite.write(oneLine)\n",
    "\n",
    "for crapMon in listFossilsGhost_Names_Capital:\n",
    "    oneLine = '\\tdb \"'+crapMon+printNCharacters(10-len(crapMon), '@')+'\"\\n'\n",
    "    txtToWrite.write(oneLine)\n",
    "    \n",
    "for idx in range(finalLines_firstIdx,finalLines_lastIdx+1):\n",
    "    txtToWrite.write(linesFromFile[idx])\n",
    "\n",
    "txtToWrite.close()"
   ]
  },
  {
   "cell_type": "code",
   "execution_count": null,
   "metadata": {},
   "outputs": [],
   "source": [
    "tidyOldAndFromExcelFiles(inputFile, debug=False)"
   ]
  },
  {
   "cell_type": "markdown",
   "metadata": {},
   "source": [
    "# cries (7/13)"
   ]
  },
  {
   "cell_type": "code",
   "execution_count": null,
   "metadata": {},
   "outputs": [],
   "source": [
    "inputFile = '/Users/michael/Desktop/Core/Giochi/Pokémon/DisassemblyYellow/ExtremeYellow/data/pokemon/cries.asm'\n",
    "linesFromFile, outputFile = readASMFileReturnLinesAndModifiedPath(inputFile)\n",
    "verbose = False"
   ]
  },
  {
   "cell_type": "code",
   "execution_count": null,
   "metadata": {},
   "outputs": [],
   "source": [
    "initialLines_firstIdx = 0\n",
    "initialLines_lastIdx = 7\n",
    "\n",
    "if verbose:\n",
    "    for idx in range(initialLines_firstIdx,initialLines_lastIdx+1):\n",
    "        print(repr(linesFromFile[idx]))"
   ]
  },
  {
   "cell_type": "code",
   "execution_count": null,
   "metadata": {},
   "outputs": [],
   "source": [
    "finalLines_lastIdx = len(linesFromFile)-1\n",
    "finalLines_firstIdx = finalLines_lastIdx-0\n",
    "\n",
    "if verbose:\n",
    "    for idx in range(finalLines_firstIdx,finalLines_lastIdx+1):\n",
    "        print(repr(linesFromFile[idx]))"
   ]
  },
  {
   "cell_type": "code",
   "execution_count": null,
   "metadata": {},
   "outputs": [],
   "source": [
    "txtToWrite = open(outputFile, \"w\")\n",
    "\n",
    "for idx in range(initialLines_firstIdx,initialLines_lastIdx+1):\n",
    "    txtToWrite.write(linesFromFile[idx])\n",
    "    \n",
    "listMonsHere = getOneColumn('Name_PartlyCapital')\n",
    "for idx in range(len(listMonsHere)):\n",
    "    pkmn = listMonsHere[idx]\n",
    "    oneLine = f'\\tmon_cry {printOneInfoForOneMon(\"cries\", pkmn, \"Name_PartlyCapital\")} ; {pkmn}\\n'\n",
    "    txtToWrite.write(oneLine)\n",
    "\n",
    "for crapMon in listFossilsGhost_Names:\n",
    "    oneLine = f'\\tmon_cry SFX_CRY_00, $00, $00 ; {crapMon}\\n'\n",
    "    txtToWrite.write(oneLine)\n",
    "    \n",
    "for idx in range(finalLines_firstIdx,finalLines_lastIdx+1):\n",
    "    txtToWrite.write(linesFromFile[idx])\n",
    "\n",
    "txtToWrite.close()"
   ]
  },
  {
   "cell_type": "code",
   "execution_count": null,
   "metadata": {},
   "outputs": [],
   "source": [
    "tidyOldAndFromExcelFiles(inputFile, debug=False)"
   ]
  },
  {
   "cell_type": "markdown",
   "metadata": {},
   "source": [
    "# menu_icons (8/13)"
   ]
  },
  {
   "cell_type": "code",
   "execution_count": null,
   "metadata": {},
   "outputs": [],
   "source": [
    "inputFile = '/Users/michael/Desktop/Core/Giochi/Pokémon/DisassemblyYellow/ExtremeYellow/data/pokemon/menu_icons.asm'\n",
    "linesFromFile, outputFile = readASMFileReturnLinesAndModifiedPath(inputFile)\n",
    "verbose = False"
   ]
  },
  {
   "cell_type": "code",
   "execution_count": null,
   "metadata": {},
   "outputs": [],
   "source": [
    "initialLines_firstIdx = 0\n",
    "initialLines_lastIdx = 1\n",
    "\n",
    "if verbose:\n",
    "    for idx in range(initialLines_firstIdx,initialLines_lastIdx+1):\n",
    "        print(repr(linesFromFile[idx]))"
   ]
  },
  {
   "cell_type": "code",
   "execution_count": null,
   "metadata": {},
   "outputs": [],
   "source": [
    "finalLines_lastIdx = len(linesFromFile)-1\n",
    "finalLines_firstIdx = finalLines_lastIdx-0\n",
    "\n",
    "if verbose:\n",
    "    for idx in range(finalLines_firstIdx,finalLines_lastIdx+1):\n",
    "        print(repr(linesFromFile[idx]))"
   ]
  },
  {
   "cell_type": "code",
   "execution_count": null,
   "metadata": {},
   "outputs": [],
   "source": [
    "txtToWrite = open(outputFile, \"w\")\n",
    "\n",
    "for idx in range(initialLines_firstIdx,initialLines_lastIdx+1):\n",
    "    txtToWrite.write(linesFromFile[idx])\n",
    "    \n",
    "listMonsHere = getOneColumn('Name_PartlyCapital')\n",
    "for idx in range(len(listMonsHere)):\n",
    "    pkmn = listMonsHere[idx]\n",
    "    oneLine = '\\tnybble '+printOneInfoForOneMon(\"menuIcons\", pkmn, \"Name_PartlyCapital\")+printNCharacters(15-len(printOneInfoForOneMon(\"menuIcons\", pkmn, \"Name_PartlyCapital\")))+'; '+pkmn+'\\n'\n",
    "    txtToWrite.write(oneLine)\n",
    "\n",
    "for idx in range(finalLines_firstIdx,finalLines_lastIdx+1):\n",
    "    txtToWrite.write(linesFromFile[idx])\n",
    "\n",
    "txtToWrite.close()"
   ]
  },
  {
   "cell_type": "code",
   "execution_count": null,
   "metadata": {},
   "outputs": [],
   "source": [
    "tidyOldAndFromExcelFiles(inputFile, debug=False)"
   ]
  },
  {
   "cell_type": "markdown",
   "metadata": {},
   "source": [
    "# palettes (9/13)"
   ]
  },
  {
   "cell_type": "code",
   "execution_count": null,
   "metadata": {},
   "outputs": [],
   "source": [
    "inputFile = '/Users/michael/Desktop/Core/Giochi/Pokémon/DisassemblyYellow/ExtremeYellow/data/pokemon/palettes.asm'\n",
    "linesFromFile, outputFile = readASMFileReturnLinesAndModifiedPath(inputFile)\n",
    "verbose = False"
   ]
  },
  {
   "cell_type": "code",
   "execution_count": null,
   "metadata": {},
   "outputs": [],
   "source": [
    "initialLines_firstIdx = 0\n",
    "initialLines_lastIdx = 2\n",
    "\n",
    "if verbose:\n",
    "    for idx in range(initialLines_firstIdx,initialLines_lastIdx+1):\n",
    "        print(repr(linesFromFile[idx]))"
   ]
  },
  {
   "cell_type": "code",
   "execution_count": null,
   "metadata": {},
   "outputs": [],
   "source": [
    "finalLines_lastIdx = len(linesFromFile)-1\n",
    "finalLines_firstIdx = finalLines_lastIdx-0\n",
    "\n",
    "if verbose:\n",
    "    for idx in range(finalLines_firstIdx,finalLines_lastIdx+1):\n",
    "        print(repr(linesFromFile[idx]))"
   ]
  },
  {
   "cell_type": "code",
   "execution_count": null,
   "metadata": {},
   "outputs": [],
   "source": [
    "txtToWrite = open(outputFile, \"w\")\n",
    "\n",
    "for idx in range(initialLines_firstIdx,initialLines_lastIdx+1):\n",
    "    txtToWrite.write(linesFromFile[idx])\n",
    "    \n",
    "listMonsHere = getOneColumn('Name_Capital')\n",
    "for idx in range(len(listMonsHere)):\n",
    "    pkmn = listMonsHere[idx]\n",
    "    oneLine = '\\tdb '+printOneInfoForOneMon(\"palettes\", pkmn, \"Name_Capital\")+printNCharacters(14-len(printOneInfoForOneMon(\"palettes\", pkmn, \"Name_Capital\")))+'; '+pkmn+'\\n'\n",
    "    txtToWrite.write(oneLine)\n",
    "\n",
    "for idx in range(finalLines_firstIdx,finalLines_lastIdx+1):\n",
    "    txtToWrite.write(linesFromFile[idx])\n",
    "\n",
    "txtToWrite.close()"
   ]
  },
  {
   "cell_type": "code",
   "execution_count": null,
   "metadata": {},
   "outputs": [],
   "source": [
    "tidyOldAndFromExcelFiles(inputFile, debug=False)"
   ]
  },
  {
   "cell_type": "markdown",
   "metadata": {},
   "source": [
    "# dex_order (10/13)"
   ]
  },
  {
   "cell_type": "code",
   "execution_count": null,
   "metadata": {},
   "outputs": [],
   "source": [
    "inputFile = '/Users/michael/Desktop/Core/Giochi/Pokémon/DisassemblyYellow/ExtremeYellow/data/pokemon/dex_order.asm'\n",
    "linesFromFile, outputFile = readASMFileReturnLinesAndModifiedPath(inputFile)\n",
    "verbose = False"
   ]
  },
  {
   "cell_type": "code",
   "execution_count": null,
   "metadata": {},
   "outputs": [],
   "source": [
    "initialLines_firstIdx = 0\n",
    "initialLines_lastIdx = 1\n",
    "\n",
    "if verbose:\n",
    "    for idx in range(initialLines_firstIdx,initialLines_lastIdx+1):\n",
    "        print(repr(linesFromFile[idx]))"
   ]
  },
  {
   "cell_type": "code",
   "execution_count": null,
   "metadata": {},
   "outputs": [],
   "source": [
    "finalLines_lastIdx = len(linesFromFile)-1\n",
    "finalLines_firstIdx = finalLines_lastIdx-0\n",
    "\n",
    "if verbose:\n",
    "    for idx in range(finalLines_firstIdx,finalLines_lastIdx+1):\n",
    "        print(repr(linesFromFile[idx]))"
   ]
  },
  {
   "cell_type": "code",
   "execution_count": null,
   "metadata": {},
   "outputs": [],
   "source": [
    "txtToWrite = open(outputFile, \"w\")\n",
    "\n",
    "for idx in range(initialLines_firstIdx,initialLines_lastIdx+1):\n",
    "    txtToWrite.write(linesFromFile[idx])\n",
    "    \n",
    "listMonsHere = getOneColumn('Name_Capital')\n",
    "for idx in range(len(listMonsHere)):\n",
    "    pkmn = listMonsHere[idx]\n",
    "    oneLine = f'\\tdb DEX_{pkmn}\\n'\n",
    "    txtToWrite.write(oneLine)\n",
    "\n",
    "for crapMon in listFossilsGhost_Names_Capital:\n",
    "    oneLine = f'\\tdb 0 ; {crapMon}\\n'\n",
    "    txtToWrite.write(oneLine)\n",
    "    \n",
    "for idx in range(finalLines_firstIdx,finalLines_lastIdx+1):\n",
    "    txtToWrite.write(linesFromFile[idx])\n",
    "\n",
    "txtToWrite.close()"
   ]
  },
  {
   "cell_type": "code",
   "execution_count": null,
   "metadata": {},
   "outputs": [],
   "source": [
    "tidyOldAndFromExcelFiles(inputFile, debug=False)"
   ]
  },
  {
   "cell_type": "markdown",
   "metadata": {},
   "source": [
    "# dex_entries (11/13)"
   ]
  },
  {
   "cell_type": "code",
   "execution_count": null,
   "metadata": {},
   "outputs": [],
   "source": [
    "inputFile = '/Users/michael/Desktop/Core/Giochi/Pokémon/DisassemblyYellow/ExtremeYellow/data/pokemon/dex_entries.asm'\n",
    "linesFromFile, outputFile = readASMFileReturnLinesAndModifiedPath(inputFile)\n",
    "verbose = False"
   ]
  },
  {
   "cell_type": "code",
   "execution_count": null,
   "metadata": {},
   "outputs": [],
   "source": [
    "initialLines_firstIdx = 0\n",
    "initialLines_lastIdx = 1\n",
    "\n",
    "if verbose:\n",
    "    for idx in range(initialLines_firstIdx,initialLines_lastIdx+1):\n",
    "        print(repr(linesFromFile[idx]))"
   ]
  },
  {
   "cell_type": "code",
   "execution_count": null,
   "metadata": {},
   "outputs": [],
   "source": [
    "middleLines = ['\\tassert_table_length NUM_POKEMON_INDEXES\\n', '\\n', '; string: species name\\n', '; height in decimeter\\n', '; weight in hectograms\\n', '; text entry\\n', '\\n', ]"
   ]
  },
  {
   "cell_type": "code",
   "execution_count": null,
   "metadata": {},
   "outputs": [],
   "source": [
    "txtToWrite = open(outputFile, \"w\")\n",
    "\n",
    "for idx in range(initialLines_firstIdx,initialLines_lastIdx+1):\n",
    "    txtToWrite.write(linesFromFile[idx])\n",
    "    \n",
    "listMonsHere = getOneColumn('Name_PartlyCapital')\n",
    "for idx in range(len(listMonsHere)):\n",
    "    pkmn = listMonsHere[idx]\n",
    "    oneLine = f'\\tdw {pkmn}DexEntry\\n'\n",
    "    txtToWrite.write(oneLine)\n",
    "for crapMon in listFossilsGhost_Names:\n",
    "    txtToWrite.write(f'\\tdw {crapMon[:-1]}DexEntry\\n')\n",
    "    \n",
    "for oneLine in middleLines:\n",
    "    txtToWrite.write(oneLine)\n",
    "\n",
    "for pkmn in listMonsHere:   \n",
    "    txtToWrite.write(f'{pkmn}DexEntry:\\n')\n",
    "    txtToWrite.write('\\tdb \"'+printOneInfoForOneMon('species', pkmn, 'Name_PartlyCapital')+'@\"\\n')\n",
    "    txtToWrite.write('\\tdb '+str(printOneInfoForOneMon('height_dm', pkmn, 'Name_PartlyCapital'))+'\\n')\n",
    "    txtToWrite.write('\\tdw '+str(printOneInfoForOneMon('weight_hg', pkmn, 'Name_PartlyCapital'))+'\\n')\n",
    "    txtToWrite.write(f'\\ttext_far _{pkmn}DexEntry\\n')\n",
    "    txtToWrite.write('\\ttext_end\\n')\n",
    "    txtToWrite.write('\\n')\n",
    "    \n",
    "txtToWrite.write('MissingNoDexEntry:\\n')\n",
    "txtToWrite.write('\\tdb \"???@\"\\n') \n",
    "txtToWrite.write('\\tdb 31\\n') \n",
    "txtToWrite.write('\\tdw 45\\n') \n",
    "txtToWrite.write('\\tdb \"コメント\\u3000さくせいちゅう@\" ; コメント作成中 (Comment to be written)\\n') \n",
    "\n",
    "txtToWrite.close()"
   ]
  },
  {
   "cell_type": "code",
   "execution_count": null,
   "metadata": {},
   "outputs": [],
   "source": [
    "tidyOldAndFromExcelFiles(inputFile, debug=False)"
   ]
  },
  {
   "cell_type": "markdown",
   "metadata": {},
   "source": [
    "# dex_text (12/13)"
   ]
  },
  {
   "cell_type": "code",
   "execution_count": null,
   "metadata": {},
   "outputs": [],
   "source": [
    "inputFile = '/Users/michael/Desktop/Core/Giochi/Pokémon/DisassemblyYellow/ExtremeYellow/data/pokemon/dex_text.asm'\n",
    "linesFromFile, outputFile = readASMFileReturnLinesAndModifiedPath(inputFile)\n",
    "verbose = False"
   ]
  },
  {
   "cell_type": "code",
   "execution_count": null,
   "metadata": {},
   "outputs": [],
   "source": [
    "# cross-checks\n",
    "# - are all entries theoretically fittable?\n",
    "for pkmn in getOneColumn('Name_PartlyCapital'):\n",
    "    if len(printOneInfoForOneMon('dexTexts', pkmn, 'Name_PartlyCapital'))>18*6:\n",
    "        print(f'{pkmn} has a too-long entry!')\n",
    "# - are all entries re-made in 6 lines?\n",
    "for pkmn in getOneColumn('Name_PartlyCapital'):\n",
    "    if len(lineifyDexEntries(printOneInfoForOneMon('dexTexts', pkmn, 'Name_PartlyCapital')))!=6:\n",
    "        print(f'{pkmn} has a '+str(len(lineifyDexEntries(printOneInfoForOneMon('dexTexts', pkmn, 'Name_PartlyCapital'))))+'-line entry!')"
   ]
  },
  {
   "cell_type": "code",
   "execution_count": null,
   "metadata": {},
   "outputs": [],
   "source": [
    "txtToWrite = open(outputFile, \"w\")\n",
    "\n",
    "listMonsHere = getOneColumn('Name_PartlyCapital')\n",
    "for idx in range(len(listMonsHere)):\n",
    "    pkmn = listMonsHere[idx]\n",
    "#    print(pkmn)\n",
    "#    print(printOneInfoForOneMon('dexTexts', pkmn, 'Name_PartlyCapital'))\n",
    "    dexLinesHere = lineifyDexEntries(printOneInfoForOneMon('dexTexts', pkmn, 'Name_PartlyCapital'))\n",
    "#    print(dexLinesHere)\n",
    "    txtToWrite.write(f'_{pkmn}DexEntry::\\n')\n",
    "    txtToWrite.write('\\ttext \"'+dexLinesHere[0]+'\"\\n')\n",
    "    txtToWrite.write('\\tnext \"'+dexLinesHere[1]+'\"\\n')\n",
    "    txtToWrite.write('\\tnext \"'+dexLinesHere[2]+'\"\\n')\n",
    "    txtToWrite.write('\\n')\n",
    "    txtToWrite.write('\\tpage \"'+dexLinesHere[3]+'\"\\n')\n",
    "    if len(dexLinesHere)>=5:\n",
    "        txtToWrite.write('\\tnext \"'+dexLinesHere[4]+'\"\\n')\n",
    "    if len(dexLinesHere)==6:\n",
    "        txtToWrite.write('\\tnext \"'+dexLinesHere[5]+'\"\\n')\n",
    "    txtToWrite.write('\\tdex\\n')\n",
    "    txtToWrite.write('\\n')\n",
    "#    print('---')\n",
    "    \n",
    "txtToWrite.close()"
   ]
  },
  {
   "cell_type": "code",
   "execution_count": null,
   "metadata": {},
   "outputs": [],
   "source": [
    "tidyOldAndFromExcelFiles(inputFile, debug=False)"
   ]
  },
  {
   "cell_type": "markdown",
   "metadata": {},
   "source": [
    "# pics D: (13/13)"
   ]
  },
  {
   "cell_type": "code",
   "execution_count": null,
   "metadata": {},
   "outputs": [],
   "source": [
    "inputFile = '/Users/michael/Desktop/Core/Giochi/Pokémon/DisassemblyYellow/ExtremeYellow/gfx/pics.asm'\n",
    "linesFromFile, outputFile = readASMFileReturnLinesAndModifiedPath(inputFile)\n",
    "verbose = False"
   ]
  },
  {
   "cell_type": "code",
   "execution_count": null,
   "metadata": {},
   "outputs": [],
   "source": [
    "initialLines_firstIdx = linesFromFile.index('SECTION \"Pics 6\", ROMX\\n')\n",
    "initialLines_lastIdx = linesFromFile.index('SECTION \"Pics 8\", ROMX\\n')+7\n",
    "\n",
    "if verbose:\n",
    "    for idx in range(initialLines_firstIdx,initialLines_lastIdx+1):\n",
    "        print(repr(linesFromFile[idx]))"
   ]
  },
  {
   "cell_type": "code",
   "execution_count": null,
   "metadata": {},
   "outputs": [],
   "source": [
    "txtToWrite = open(outputFile, \"w\")\n",
    "\n",
    "listMonsHere = getOneColumn('Name_PartlyCapital')\n",
    "listMonsHere_allsmall = getOneColumn('Name_allsmall')\n",
    "\n",
    "for idx in range(len(listMonsHere)):\n",
    "    \n",
    "    if int(idx/30)+1==6:\n",
    "        txtToWrite.write('\\n')\n",
    "        txtToWrite.write('\\n')\n",
    "#        txtToWrite.write('SECTION \"Pics '+str(int(idx/30)+2)+'\", ROMX\\n')\n",
    "        txtToWrite.write('SECTION \"Pics '+str(6)+'\", ROMX\\n')\n",
    "        txtToWrite.write('\\n')\n",
    "        txtToWrite.write('YoungsterPic::     INCBIN \"gfx/trainers/youngster.pic\"\\n')\n",
    "        txtToWrite.write('BugCatcherPic::    INCBIN \"gfx/trainers/bugcatcher.pic\"\\n')\n",
    "        txtToWrite.write('LassPic::          INCBIN \"gfx/trainers/lass.pic\"\\n')\n",
    "        txtToWrite.write('SailorPic::        INCBIN \"gfx/trainers/sailor.pic\"\\n')\n",
    "        txtToWrite.write('JrTrainerMPic::    INCBIN \"gfx/trainers/jr.trainerm.pic\"\\n')\n",
    "        txtToWrite.write('JrTrainerFPic::    INCBIN \"gfx/trainers/jr.trainerf.pic\"\\n')\n",
    "        txtToWrite.write('PokemaniacPic::    INCBIN \"gfx/trainers/pokemaniac.pic\"\\n')\n",
    "        txtToWrite.write('SuperNerdPic::     INCBIN \"gfx/trainers/supernerd.pic\"\\n')\n",
    "        txtToWrite.write('HikerPic::         INCBIN \"gfx/trainers/hiker.pic\"\\n')\n",
    "        txtToWrite.write('BikerPic::         INCBIN \"gfx/trainers/biker.pic\"\\n')\n",
    "        txtToWrite.write('BurglarPic::       INCBIN \"gfx/trainers/burglar.pic\"\\n')\n",
    "        txtToWrite.write('EngineerPic::      INCBIN \"gfx/trainers/engineer.pic\"\\n')\n",
    "        txtToWrite.write('FisherPic::        INCBIN \"gfx/trainers/fisher.pic\"\\n')\n",
    "        txtToWrite.write('SwimmerPic::       INCBIN \"gfx/trainers/swimmer.pic\"\\n')\n",
    "        txtToWrite.write('CueBallPic::       INCBIN \"gfx/trainers/cueball.pic\"\\n')\n",
    "        txtToWrite.write('GamblerPic::       INCBIN \"gfx/trainers/gambler.pic\"\\n')\n",
    "        txtToWrite.write('BeautyPic::        INCBIN \"gfx/trainers/beauty.pic\"\\n')\n",
    "        txtToWrite.write('PsychicPic::       INCBIN \"gfx/trainers/psychic.pic\"\\n')\n",
    "        txtToWrite.write('RockerPic::        INCBIN \"gfx/trainers/rocker.pic\"\\n')\n",
    "        txtToWrite.write('JugglerPic::       INCBIN \"gfx/trainers/juggler.pic\"\\n')\n",
    "        txtToWrite.write('TamerPic::         INCBIN \"gfx/trainers/tamer.pic\"\\n')\n",
    "        txtToWrite.write('BirdKeeperPic::    INCBIN \"gfx/trainers/birdkeeper.pic\"\\n')\n",
    "        txtToWrite.write('BlackbeltPic::     INCBIN \"gfx/trainers/blackbelt.pic\"\\n')\n",
    "        txtToWrite.write('Rival1Pic::        INCBIN \"gfx/trainers/rival1.pic\"\\n')\n",
    "        txtToWrite.write('ProfOakPic::       INCBIN \"gfx/trainers/prof.oak.pic\"\\n')\n",
    "        txtToWrite.write('ChiefPic::\\n')\n",
    "        txtToWrite.write('ScientistPic::     INCBIN \"gfx/trainers/scientist.pic\"\\n')\n",
    "        txtToWrite.write('GiovanniPic::      INCBIN \"gfx/trainers/giovanni.pic\"\\n')\n",
    "        txtToWrite.write('RocketPic::        INCBIN \"gfx/trainers/rocket.pic\"\\n')\n",
    "        txtToWrite.write('CooltrainerMPic::  INCBIN \"gfx/trainers/cooltrainerm.pic\"\\n')\n",
    "        txtToWrite.write('CooltrainerFPic::  INCBIN \"gfx/trainers/cooltrainerf.pic\"\\n')\n",
    "        txtToWrite.write('BrunoPic::         INCBIN \"gfx/trainers/bruno.pic\"\\n')\n",
    "        txtToWrite.write('BrockPic::         INCBIN \"gfx/trainers/brock.pic\"\\n')\n",
    "        txtToWrite.write('MistyPic::         INCBIN \"gfx/trainers/misty.pic\"\\n')\n",
    "        txtToWrite.write('LtSurgePic::       INCBIN \"gfx/trainers/lt.surge.pic\"\\n')\n",
    "        txtToWrite.write('ErikaPic::         INCBIN \"gfx/trainers/erika.pic\"\\n')\n",
    "        txtToWrite.write('KogaPic::          INCBIN \"gfx/trainers/koga.pic\"\\n')\n",
    "        txtToWrite.write('BlainePic::        INCBIN \"gfx/trainers/blaine.pic\"\\n')\n",
    "        txtToWrite.write('SabrinaPic::       INCBIN \"gfx/trainers/sabrina.pic\"\\n')\n",
    "        txtToWrite.write('GentlemanPic::     INCBIN \"gfx/trainers/gentleman.pic\"\\n')\n",
    "        txtToWrite.write('Rival2Pic::        INCBIN \"gfx/trainers/rival2.pic\"\\n')\n",
    "        txtToWrite.write('Rival3Pic::        INCBIN \"gfx/trainers/rival3.pic\"\\n')\n",
    "        txtToWrite.write('LoreleiPic::       INCBIN \"gfx/trainers/lorelei.pic\"\\n')\n",
    "        txtToWrite.write('ChannelerPic::     INCBIN \"gfx/trainers/channeler.pic\"\\n')\n",
    "        txtToWrite.write('AgathaPic::        INCBIN \"gfx/trainers/agatha.pic\"\\n')\n",
    "        txtToWrite.write('LancePic::         INCBIN \"gfx/trainers/lance.pic\"\\n')\n",
    "        txtToWrite.write('JessieJamesPic::   INCBIN \"gfx/trainers/jessiejames.pic\"\\n')\n",
    "        txtToWrite.write('\\n')\n",
    "        txtToWrite.write('\\n')\n",
    "#        txtToWrite.write('SECTION \"Pics '+str(int(idx/30)+3)+'\", ROMX\\n')\n",
    "        txtToWrite.write('SECTION \"Pics '+str(7)+'\", ROMX\\n')\n",
    "        txtToWrite.write('\\n')\n",
    "        txtToWrite.write('RedPicBack::       INCBIN \"gfx/player/redb.pic\"\\n')\n",
    "        txtToWrite.write('OldManPicBack::    INCBIN \"gfx/battle/oldmanb.pic\"\\n')\n",
    "        txtToWrite.write('ProfOakPicBack::   INCBIN \"gfx/battle/prof.oakb.pic\"\\n')\n",
    "        break\n",
    "        \n",
    "    if idx%30==0:\n",
    "        if idx!=0:\n",
    "            txtToWrite.write('\\n')\n",
    "            txtToWrite.write('\\n')\n",
    "        txtToWrite.write('SECTION \"Pics '+str(int(idx/30)+1)+'\", ROMX\\n')\n",
    "        txtToWrite.write('\\n')\n",
    "    pkmn = listMonsHere[idx]\n",
    "    txtToWrite.write(pkmn+'PicFront::'+printNCharacters(22-len(pkmn+'PicFront::'))+'INCBIN \"gfx/pokemon/front/'+listMonsHere_allsmall[idx]+'.pic\"\\n')\n",
    "    txtToWrite.write(pkmn+'PicBack::'+printNCharacters(22-len(pkmn+'PicBack::'))+'INCBIN \"gfx/pokemon/back/'+listMonsHere_allsmall[idx]+'b.pic\"\\n')\n",
    "    \n",
    "for idx2 in range(idx,len(listMonsHere)):\n",
    "    if idx2%30==0:\n",
    "        if idx2!=0:\n",
    "            txtToWrite.write('\\n')\n",
    "            txtToWrite.write('\\n')\n",
    "        txtToWrite.write('SECTION \"Pics '+str(int(idx2/30)+3)+'\", ROMX\\n')\n",
    "        txtToWrite.write('\\n')\n",
    "    pkmn = listMonsHere[idx2]\n",
    "    txtToWrite.write(pkmn+'PicFront::'+printNCharacters(22-len(pkmn+'PicFront::'))+'INCBIN \"gfx/pokemon/front/'+listMonsHere_allsmall[idx2]+'.pic\"\\n')\n",
    "    txtToWrite.write(pkmn+'PicBack::'+printNCharacters(22-len(pkmn+'PicBack::'))+'INCBIN \"gfx/pokemon/back/'+listMonsHere_allsmall[idx2]+'b.pic\"\\n')\n",
    "        \n",
    "txtToWrite.write('\\n')\n",
    "txtToWrite.write('FossilKabutopsPic::   INCBIN \"gfx/pokemon/front/fossilkabutops.pic\"\\n')\n",
    "txtToWrite.write('FossilAerodactylPic::  INCBIN \"gfx/pokemon/front/fossilaerodactyl.pic\"\\n')\n",
    "txtToWrite.write('GhostPic::             INCBIN \"gfx/battle/ghost.pic\"\\n')\n",
    "\n",
    "txtToWrite.close()    "
   ]
  },
  {
   "cell_type": "code",
   "execution_count": null,
   "metadata": {},
   "outputs": [],
   "source": [
    "if False:\n",
    "    txtToWrite = open(outputFile, \"w\")\n",
    "\n",
    "    listMonsHere = getOneColumn('Name_PartlyCapital')\n",
    "    listMonsHere_allsmall = getOneColumn('Name_allsmall')\n",
    "    for idx in range(len(listMonsHere)):\n",
    "        if idx%30==0:\n",
    "            if idx!=0:\n",
    "                txtToWrite.write('\\n')\n",
    "                txtToWrite.write('\\n')\n",
    "            txtToWrite.write('SECTION \"Pics '+str(int(idx/30)+1)+'\", ROMX\\n')\n",
    "            txtToWrite.write('\\n')\n",
    "        pkmn = listMonsHere[idx]\n",
    "        txtToWrite.write(pkmn+'PicFront::'+printNCharacters(22-len(pkmn+'PicFront::'))+'INCBIN \"gfx/pokemon/front/'+listMonsHere_allsmall[idx]+'.pic\"\\n')\n",
    "        txtToWrite.write(pkmn+'PicBack::'+printNCharacters(22-len(pkmn+'PicBack::'))+'INCBIN \"gfx/pokemon/back/'+listMonsHere_allsmall[idx]+'b.pic\"\\n')\n",
    "\n",
    "    txtToWrite.write('\\n')\n",
    "    txtToWrite.write('\\n')\n",
    "    txtToWrite.write('SECTION \"Pics '+str(int(idx/30)+2)+'\", ROMX\\n')\n",
    "    txtToWrite.write('\\n')\n",
    "    txtToWrite.write('YoungsterPic::     INCBIN \"gfx/trainers/youngster.pic\"\\n')\n",
    "    txtToWrite.write('BugCatcherPic::    INCBIN \"gfx/trainers/bugcatcher.pic\"\\n')\n",
    "    txtToWrite.write('LassPic::          INCBIN \"gfx/trainers/lass.pic\"\\n')\n",
    "    txtToWrite.write('SailorPic::        INCBIN \"gfx/trainers/sailor.pic\"\\n')\n",
    "    txtToWrite.write('JrTrainerMPic::    INCBIN \"gfx/trainers/jr.trainerm.pic\"\\n')\n",
    "    txtToWrite.write('JrTrainerFPic::    INCBIN \"gfx/trainers/jr.trainerf.pic\"\\n')\n",
    "    txtToWrite.write('PokemaniacPic::    INCBIN \"gfx/trainers/pokemaniac.pic\"\\n')\n",
    "    txtToWrite.write('SuperNerdPic::     INCBIN \"gfx/trainers/supernerd.pic\"\\n')\n",
    "    txtToWrite.write('HikerPic::         INCBIN \"gfx/trainers/hiker.pic\"\\n')\n",
    "    txtToWrite.write('BikerPic::         INCBIN \"gfx/trainers/biker.pic\"\\n')\n",
    "    txtToWrite.write('BurglarPic::       INCBIN \"gfx/trainers/burglar.pic\"\\n')\n",
    "    txtToWrite.write('EngineerPic::      INCBIN \"gfx/trainers/engineer.pic\"\\n')\n",
    "    txtToWrite.write('FisherPic::        INCBIN \"gfx/trainers/fisher.pic\"\\n')\n",
    "    txtToWrite.write('SwimmerPic::       INCBIN \"gfx/trainers/swimmer.pic\"\\n')\n",
    "    txtToWrite.write('CueBallPic::       INCBIN \"gfx/trainers/cueball.pic\"\\n')\n",
    "    txtToWrite.write('GamblerPic::       INCBIN \"gfx/trainers/gambler.pic\"\\n')\n",
    "    txtToWrite.write('BeautyPic::        INCBIN \"gfx/trainers/beauty.pic\"\\n')\n",
    "    txtToWrite.write('PsychicPic::       INCBIN \"gfx/trainers/psychic.pic\"\\n')\n",
    "    txtToWrite.write('RockerPic::        INCBIN \"gfx/trainers/rocker.pic\"\\n')\n",
    "    txtToWrite.write('JugglerPic::       INCBIN \"gfx/trainers/juggler.pic\"\\n')\n",
    "    txtToWrite.write('TamerPic::         INCBIN \"gfx/trainers/tamer.pic\"\\n')\n",
    "    txtToWrite.write('BirdKeeperPic::    INCBIN \"gfx/trainers/birdkeeper.pic\"\\n')\n",
    "    txtToWrite.write('BlackbeltPic::     INCBIN \"gfx/trainers/blackbelt.pic\"\\n')\n",
    "    txtToWrite.write('Rival1Pic::        INCBIN \"gfx/trainers/rival1.pic\"\\n')\n",
    "    txtToWrite.write('ProfOakPic::       INCBIN \"gfx/trainers/prof.oak.pic\"\\n')\n",
    "    txtToWrite.write('ChiefPic::\\n')\n",
    "    txtToWrite.write('ScientistPic::     INCBIN \"gfx/trainers/scientist.pic\"\\n')\n",
    "    txtToWrite.write('GiovanniPic::      INCBIN \"gfx/trainers/giovanni.pic\"\\n')\n",
    "    txtToWrite.write('RocketPic::        INCBIN \"gfx/trainers/rocket.pic\"\\n')\n",
    "    txtToWrite.write('CooltrainerMPic::  INCBIN \"gfx/trainers/cooltrainerm.pic\"\\n')\n",
    "    txtToWrite.write('CooltrainerFPic::  INCBIN \"gfx/trainers/cooltrainerf.pic\"\\n')\n",
    "    txtToWrite.write('BrunoPic::         INCBIN \"gfx/trainers/bruno.pic\"\\n')\n",
    "    txtToWrite.write('BrockPic::         INCBIN \"gfx/trainers/brock.pic\"\\n')\n",
    "    txtToWrite.write('MistyPic::         INCBIN \"gfx/trainers/misty.pic\"\\n')\n",
    "    txtToWrite.write('LtSurgePic::       INCBIN \"gfx/trainers/lt.surge.pic\"\\n')\n",
    "    txtToWrite.write('ErikaPic::         INCBIN \"gfx/trainers/erika.pic\"\\n')\n",
    "    txtToWrite.write('KogaPic::          INCBIN \"gfx/trainers/koga.pic\"\\n')\n",
    "    txtToWrite.write('BlainePic::        INCBIN \"gfx/trainers/blaine.pic\"\\n')\n",
    "    txtToWrite.write('SabrinaPic::       INCBIN \"gfx/trainers/sabrina.pic\"\\n')\n",
    "    txtToWrite.write('GentlemanPic::     INCBIN \"gfx/trainers/gentleman.pic\"\\n')\n",
    "    txtToWrite.write('Rival2Pic::        INCBIN \"gfx/trainers/rival2.pic\"\\n')\n",
    "    txtToWrite.write('Rival3Pic::        INCBIN \"gfx/trainers/rival3.pic\"\\n')\n",
    "    txtToWrite.write('LoreleiPic::       INCBIN \"gfx/trainers/lorelei.pic\"\\n')\n",
    "    txtToWrite.write('ChannelerPic::     INCBIN \"gfx/trainers/channeler.pic\"\\n')\n",
    "    txtToWrite.write('AgathaPic::        INCBIN \"gfx/trainers/agatha.pic\"\\n')\n",
    "    txtToWrite.write('LancePic::         INCBIN \"gfx/trainers/lance.pic\"\\n')\n",
    "    txtToWrite.write('JessieJamesPic::   INCBIN \"gfx/trainers/jessiejames.pic\"\\n')\n",
    "    txtToWrite.write('\\n')\n",
    "    txtToWrite.write('\\n')\n",
    "    txtToWrite.write('SECTION \"Pics '+str(int(idx/30)+3)+'\", ROMX\\n')\n",
    "    txtToWrite.write('\\n')\n",
    "    txtToWrite.write('RedPicBack::       INCBIN \"gfx/player/redb.pic\"\\n')\n",
    "    txtToWrite.write('OldManPicBack::    INCBIN \"gfx/battle/oldmanb.pic\"\\n')\n",
    "    txtToWrite.write('ProfOakPicBack::   INCBIN \"gfx/battle/prof.oakb.pic\"\\n')\n",
    "    txtToWrite.write('\\n')\n",
    "    txtToWrite.write('\\n')\n",
    "    txtToWrite.write('SECTION \"Pics '+str(int(idx/30)+4)+'\", ROMX\\n')\n",
    "    txtToWrite.write('\\n')\n",
    "    txtToWrite.write('FossilKabutopsPic::   INCBIN \"gfx/pokemon/front/fossilkabutops.pic\"\\n')\n",
    "    txtToWrite.write('FossilAerodactylPic::  INCBIN \"gfx/pokemon/front/fossilaerodactyl.pic\"\\n')\n",
    "    txtToWrite.write('GhostPic::             INCBIN \"gfx/battle/ghost.pic\"\\n')\n",
    "\n",
    "    txtToWrite.close()    "
   ]
  },
  {
   "cell_type": "code",
   "execution_count": null,
   "metadata": {
    "scrolled": true
   },
   "outputs": [],
   "source": [
    "tidyOldAndFromExcelFiles(inputFile, debug=False)"
   ]
  },
  {
   "cell_type": "code",
   "execution_count": null,
   "metadata": {},
   "outputs": [],
   "source": []
  },
  {
   "cell_type": "code",
   "execution_count": null,
   "metadata": {},
   "outputs": [],
   "source": []
  },
  {
   "cell_type": "code",
   "execution_count": null,
   "metadata": {},
   "outputs": [],
   "source": []
  },
  {
   "cell_type": "markdown",
   "metadata": {},
   "source": [
    "# Proxy images just to test"
   ]
  },
  {
   "cell_type": "code",
   "execution_count": null,
   "metadata": {},
   "outputs": [],
   "source": [
    "pkmnWithProxyPics_list = ['mvenusaur', 'mcharzardx', 'mcharzardy', 'mblastoise', 'mbeedrill', 'mpidgeot', 'pichu', 'cleffa' \\\n",
    "                          'igglybuff', ]"
   ]
  },
  {
   "cell_type": "code",
   "execution_count": null,
   "metadata": {
    "scrolled": true
   },
   "outputs": [],
   "source": [
    "for pkmnToProxy in pkmnWithProxyPics_list:\n",
    "    print(pkmnToProxy)\n",
    "    command = f'cp /Users/Michael/Desktop/Core/Giochi/Pokémon/DisassemblyYellow/pokeyellow_Venustoise/gfx/pokemon/back/venustoiseb.png /Users/Michael/Desktop/Core/Giochi/Pokémon/DisassemblyYellow/ExtremeYellow/gfx/pokemon/back/{pkmnToProxy}b.png'\n",
    "    print(command)\n",
    "    os.system(command)\n",
    "    command = f'cp /Users/Michael/Desktop/Core/Giochi/Pokémon/DisassemblyYellow/pokeyellow_Venustoise/gfx/pokemon/front/venustoise.png /Users/Michael/Desktop/Core/Giochi/Pokémon/DisassemblyYellow/ExtremeYellow/gfx/pokemon/front/{pkmnToProxy}.png'\n",
    "    print(command)\n",
    "    os.system(command)\n",
    "    print('---')"
   ]
  },
  {
   "cell_type": "code",
   "execution_count": null,
   "metadata": {},
   "outputs": [],
   "source": []
  },
  {
   "cell_type": "code",
   "execution_count": null,
   "metadata": {},
   "outputs": [],
   "source": []
  },
  {
   "cell_type": "code",
   "execution_count": null,
   "metadata": {},
   "outputs": [],
   "source": []
  },
  {
   "cell_type": "markdown",
   "metadata": {},
   "source": [
    "# Sorted THMs"
   ]
  },
  {
   "cell_type": "code",
   "execution_count": null,
   "metadata": {},
   "outputs": [],
   "source": [
    "THMs_sorted = ['MEGA_PUNCH', 'MEGAHORN', 'SWORDS_DANCE', 'COUNTER', 'DRAGON_CLAW', 'TOXIC', 'DARK_PULSE', 'BODY_SLAM', 'METEOR_MASH', 'DOUBLE_EDGE', 'BUBBLEBEAM', 'METRONOME', 'ICE_BEAM', 'BLIZZARD', 'HYPER_BEAM', 'MIRROR_COAT', 'DRAININGKISS', 'FLASH_CANNON', 'SEISMIC_TOSS', 'FEINT_ATTACK', 'GIGA_DRAIN', 'STONE_EDGE', 'WILL_O_WISP', 'THUNDERBOLT', 'THUNDER', 'EARTHQUAKE', 'FISSURE', 'DIG', 'PSYCHIC_M', 'MOONBLAST', 'MIMIC', 'DOUBLE_TEAM', 'REFLECT', 'BIDE', 'HYDRO_PUMP', 'SELFDESTRUCT', 'CLOSE_COMBAT', 'FIRE_BLAST', 'SHADOW_SNEAK', 'OUTRAGE', 'BRAVE_BIRD', 'REST', 'GUNK_SHOT', 'X_SCISSOR', 'THUNDER_WAVE', 'PSYWAVE', 'EXPLOSION', 'ROCK_SLIDE', 'SHADOW_BALL', 'SUBSTITUTE', ]"
   ]
  },
  {
   "cell_type": "code",
   "execution_count": null,
   "metadata": {},
   "outputs": [],
   "source": [
    "len(THMs_sorted)"
   ]
  },
  {
   "cell_type": "code",
   "execution_count": null,
   "metadata": {},
   "outputs": [],
   "source": []
  },
  {
   "cell_type": "code",
   "execution_count": null,
   "metadata": {},
   "outputs": [],
   "source": []
  },
  {
   "cell_type": "code",
   "execution_count": null,
   "metadata": {},
   "outputs": [],
   "source": []
  },
  {
   "cell_type": "markdown",
   "metadata": {},
   "source": [
    "# Test length of dex entry"
   ]
  },
  {
   "cell_type": "code",
   "execution_count": null,
   "metadata": {},
   "outputs": [],
   "source": [
    "dexEntry_here = \"When its anger rose beyond threshold, gained power unfettered by the limits of its physical body\"\n",
    "\n",
    "lineifyDexEntries(dexEntry_here)"
   ]
  },
  {
   "cell_type": "code",
   "execution_count": null,
   "metadata": {},
   "outputs": [],
   "source": []
  },
  {
   "cell_type": "code",
   "execution_count": null,
   "metadata": {},
   "outputs": [],
   "source": []
  },
  {
   "cell_type": "code",
   "execution_count": null,
   "metadata": {},
   "outputs": [],
   "source": []
  },
  {
   "cell_type": "code",
   "execution_count": null,
   "metadata": {},
   "outputs": [],
   "source": []
  },
  {
   "cell_type": "code",
   "execution_count": null,
   "metadata": {},
   "outputs": [],
   "source": []
  },
  {
   "cell_type": "code",
   "execution_count": null,
   "metadata": {},
   "outputs": [],
   "source": []
  },
  {
   "cell_type": "code",
   "execution_count": null,
   "metadata": {},
   "outputs": [],
   "source": []
  }
 ],
 "metadata": {
  "kernelspec": {
   "display_name": "Python 3",
   "language": "python",
   "name": "python3"
  },
  "language_info": {
   "codemirror_mode": {
    "name": "ipython",
    "version": 3
   },
   "file_extension": ".py",
   "mimetype": "text/x-python",
   "name": "python",
   "nbconvert_exporter": "python",
   "pygments_lexer": "ipython3",
   "version": "3.10.10"
  }
 },
 "nbformat": 4,
 "nbformat_minor": 4
}
