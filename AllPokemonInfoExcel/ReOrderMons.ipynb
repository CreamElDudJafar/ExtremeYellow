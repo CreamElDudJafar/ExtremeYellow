{
 "cells": [
  {
   "cell_type": "code",
   "execution_count": 1,
   "metadata": {},
   "outputs": [
    {
     "data": {
      "text/html": [
       "<style>.container { width:100% !important; }</style>"
      ],
      "text/plain": [
       "<IPython.core.display.HTML object>"
      ]
     },
     "metadata": {},
     "output_type": "display_data"
    }
   ],
   "source": [
    "from IPython.display import display, HTML\n",
    "display(HTML(\"<style>.container { width:100% !important; }</style>\"))"
   ]
  },
  {
   "cell_type": "code",
   "execution_count": 2,
   "metadata": {},
   "outputs": [],
   "source": [
    "import pandas as pd\n",
    "import os"
   ]
  },
  {
   "cell_type": "code",
   "execution_count": 3,
   "metadata": {},
   "outputs": [],
   "source": [
    "listAllOriginalMons = ['Bulbasaur', 'Ivysaur', 'Venusaur', 'Charmander', 'Charmeleon', 'Charizard', 'Squirtle', 'Wartortle', 'Blastoise', 'Caterpie', 'Metapod', 'Butterfree', 'Weedle', 'Kakuna', 'Beedrill', 'Pidgey', 'Pidgeotto', 'Pidgeot', 'Rattata', 'Raticate', 'Spearow', 'Fearow', 'Ekans', 'Arbok', 'Pikachu', 'Raichu', 'Sandshrew', 'Sandslash', 'NidoranF', 'Nidorina', 'Nidoqueen', 'NidoranM', 'Nidorino', 'Nidoking', 'Clefairy', 'Clefable', 'Vulpix', 'Ninetales', 'Jigglypuff', 'Wigglytuff', 'Zubat', 'Golbat', 'Oddish', 'Gloom', 'Vileplume', 'Paras', 'Parasect', 'Venonat', 'Venomoth', 'Diglett', 'Dugtrio', 'Meowth', 'Persian', 'Psyduck', 'Golduck', 'Mankey', 'Primeape', 'Growlithe', 'Arcanine', 'Poliwag', 'Poliwhirl', 'Poliwrath', 'Abra', 'Kadabra', 'Alakazam', 'Machop', 'Machoke', 'Machamp', 'Bellsprout', 'Weepinbell', 'Victreebel', 'Tentacool', 'Tentacruel', 'Geodude', 'Graveler', 'Golem', 'Ponyta', 'Rapidash', 'Slowpoke', 'Slowbro', 'Magnemite', 'Magneton', 'Farfetchd', 'Doduo', 'Dodrio', 'Seel', 'Dewgong', 'Grimer', 'Muk', 'Shellder', 'Cloyster', 'Gastly', 'Haunter', 'Gengar', 'Onix', 'Drowzee', 'Hypno', 'Krabby', 'Kingler', 'Voltorb', 'Electrode', 'Exeggcute', 'Exeggutor', 'Cubone', 'Marowak', 'Hitmonlee', 'Hitmonchan', 'Lickitung', 'Koffing', 'Weezing', 'Rhyhorn', 'Rhydon', 'Chansey', 'Tangela', 'Kangaskhan', 'Horsea', 'Seadra', 'Goldeen', 'Seaking', 'Staryu', 'Starmie', 'MrMime', 'Scyther', 'Jynx', 'Electabuzz', 'Magmar', 'Pinsir', 'Tauros', 'Magikarp', 'Gyarados', 'Lapras', 'Ditto', 'Eevee', 'Vaporeon', 'Jolteon', 'Flareon', 'Porygon', 'Omanyte', 'Omastar', 'Kabuto', 'Kabutops', 'Aerodactyl', 'Snorlax', 'Articuno', 'Zapdos', 'Moltres', 'Dratini', 'Dragonair', 'Dragonite', 'Mewtwo', 'Mew', ]\n",
    "listExtraMons = ['Arceus', ]\n",
    "listExtraMons_Capital = ['ARCEUS', ]"
   ]
  },
  {
   "cell_type": "code",
   "execution_count": 4,
   "metadata": {},
   "outputs": [],
   "source": [
    "listFossilsGhost = ['FossilKabutops', 'FossilAerodactyl', 'MonGhost',]\n",
    "listFossilsGhost_Capital = ['FOSSIL_KABUTOPS', 'FOSSIL_AERODACTYL', 'MON_GHOST',]\n",
    "listFossilsGhost_Names = ['MissingNo.', 'MissingNo.', 'MissingNo.']\n",
    "listFossilsGhost_Names_Capital = ['MISSINGNO.', 'MISSINGNO.', 'MISSINGNO.']\n"
   ]
  },
  {
   "cell_type": "code",
   "execution_count": 5,
   "metadata": {},
   "outputs": [],
   "source": [
    "listAllOriginalMons_Capital = [x.upper() for x in listAllOriginalMons]\n",
    "for i in range(len(listAllOriginalMons_Capital)):\n",
    "    if listAllOriginalMons_Capital[i] == \"FARFETCH'D\":\n",
    "        listAllOriginalMons_Capital[i] = 'FARFETCHD'\n",
    "    if listAllOriginalMons_Capital[i] == \"NIDORANM\":\n",
    "        listAllOriginalMons_Capital[i] = 'NIDORAN_M'\n",
    "    if listAllOriginalMons_Capital[i] == \"NIDORANF\":\n",
    "        listAllOriginalMons_Capital[i] = 'NIDORAN_F'\n",
    "    if listAllOriginalMons_Capital[i] == \"MRMIME\":\n",
    "        listAllOriginalMons_Capital[i] = 'MR_MIME'\n",
    "    "
   ]
  },
  {
   "cell_type": "code",
   "execution_count": 6,
   "metadata": {},
   "outputs": [
    {
     "name": "stdout",
     "output_type": "stream",
     "text": [
      "['BULBASAUR', 'IVYSAUR', 'VENUSAUR', 'CHARMANDER', 'CHARMELEON', 'CHARIZARD', 'SQUIRTLE', 'WARTORTLE', 'BLASTOISE', 'CATERPIE', 'METAPOD', 'BUTTERFREE', 'WEEDLE', 'KAKUNA', 'BEEDRILL', 'PIDGEY', 'PIDGEOTTO', 'PIDGEOT', 'RATTATA', 'RATICATE', 'SPEAROW', 'FEAROW', 'EKANS', 'ARBOK', 'PIKACHU', 'RAICHU', 'SANDSHREW', 'SANDSLASH', 'NIDORAN_F', 'NIDORINA', 'NIDOQUEEN', 'NIDORAN_M', 'NIDORINO', 'NIDOKING', 'CLEFAIRY', 'CLEFABLE', 'VULPIX', 'NINETALES', 'JIGGLYPUFF', 'WIGGLYTUFF', 'ZUBAT', 'GOLBAT', 'ODDISH', 'GLOOM', 'VILEPLUME', 'PARAS', 'PARASECT', 'VENONAT', 'VENOMOTH', 'DIGLETT', 'DUGTRIO', 'MEOWTH', 'PERSIAN', 'PSYDUCK', 'GOLDUCK', 'MANKEY', 'PRIMEAPE', 'GROWLITHE', 'ARCANINE', 'POLIWAG', 'POLIWHIRL', 'POLIWRATH', 'ABRA', 'KADABRA', 'ALAKAZAM', 'MACHOP', 'MACHOKE', 'MACHAMP', 'BELLSPROUT', 'WEEPINBELL', 'VICTREEBEL', 'TENTACOOL', 'TENTACRUEL', 'GEODUDE', 'GRAVELER', 'GOLEM', 'PONYTA', 'RAPIDASH', 'SLOWPOKE', 'SLOWBRO', 'MAGNEMITE', 'MAGNETON', 'FARFETCHD', 'DODUO', 'DODRIO', 'SEEL', 'DEWGONG', 'GRIMER', 'MUK', 'SHELLDER', 'CLOYSTER', 'GASTLY', 'HAUNTER', 'GENGAR', 'ONIX', 'DROWZEE', 'HYPNO', 'KRABBY', 'KINGLER', 'VOLTORB', 'ELECTRODE', 'EXEGGCUTE', 'EXEGGUTOR', 'CUBONE', 'MAROWAK', 'HITMONLEE', 'HITMONCHAN', 'LICKITUNG', 'KOFFING', 'WEEZING', 'RHYHORN', 'RHYDON', 'CHANSEY', 'TANGELA', 'KANGASKHAN', 'HORSEA', 'SEADRA', 'GOLDEEN', 'SEAKING', 'STARYU', 'STARMIE', 'MR_MIME', 'SCYTHER', 'JYNX', 'ELECTABUZZ', 'MAGMAR', 'PINSIR', 'TAUROS', 'MAGIKARP', 'GYARADOS', 'LAPRAS', 'DITTO', 'EEVEE', 'VAPOREON', 'JOLTEON', 'FLAREON', 'PORYGON', 'OMANYTE', 'OMASTAR', 'KABUTO', 'KABUTOPS', 'AERODACTYL', 'SNORLAX', 'ARTICUNO', 'ZAPDOS', 'MOLTRES', 'DRATINI', 'DRAGONAIR', 'DRAGONITE', 'MEWTWO', 'MEW']\n"
     ]
    }
   ],
   "source": [
    "print(listAllOriginalMons_Capital)"
   ]
  },
  {
   "cell_type": "code",
   "execution_count": 7,
   "metadata": {},
   "outputs": [],
   "source": [
    "def printNCharacters(N, paddingChar=' '):\n",
    "    stringHere = ''\n",
    "    for idx in range(N):\n",
    "        stringHere+=paddingChar\n",
    "    return stringHere"
   ]
  },
  {
   "cell_type": "markdown",
   "metadata": {},
   "source": [
    "# pokemon_constants"
   ]
  },
  {
   "cell_type": "code",
   "execution_count": 309,
   "metadata": {},
   "outputs": [],
   "source": [
    "#inputFile = '/Users/michael/Desktop/Core/Giochi/Pokémon/DisassemblyYellow/pokeyellow_ExtremeYellow/constants/pokemon_constants.asm'\n",
    "#outputFile = inputFile[:-4]+'_reordered.asm'"
   ]
  },
  {
   "cell_type": "code",
   "execution_count": 310,
   "metadata": {},
   "outputs": [],
   "source": [
    "inputFile = '/Users/michael/Desktop/Core/Giochi/Pokémon/DisassemblyYellow/pokeyellow_ExtremeYellow/constants/pokemon_constants_unordered.asm'\n",
    "outputFile = inputFile[:-len('_unordered.asm')]+'.asm'"
   ]
  },
  {
   "cell_type": "code",
   "execution_count": 311,
   "metadata": {},
   "outputs": [],
   "source": [
    "if False:\n",
    "    file_in = open(fileInPath, 'r')\n",
    "    linesFromFile = []\n",
    "    for y in file_in.readlines():\n",
    "    #    if y!='\\n':\n",
    "    #        print(y)\n",
    "        linesFromFile.append(y)"
   ]
  },
  {
   "cell_type": "code",
   "execution_count": 312,
   "metadata": {},
   "outputs": [],
   "source": [
    "initialLines = ['; pokemon ids','; indexes for:','; - MonsterNames (see data/pokemon/names.asm)','; - EvosMovesPointerTable (see data/pokemon/evos_moves.asm)','; - CryData (see data/pokemon/cries.asm)','; - PokedexOrder (see data/pokemon/dex_order.asm)','; - PokedexEntryPointers (see data/pokemon/dex_entries.asm)','\\tconst_def','\\tconst NO_MON             ; $00',]\n",
    "finalLines = ['\\n', 'DEF NUM_POKEMON_INDEXES EQU const_value - 1', '\\n', '; player starter', 'DEF STARTER_PIKACHU EQU PIKACHU', '\\n', '; rival starters', 'DEF RIVAL_STARTER_JOLTEON  EQU 1', 'DEF RIVAL_STARTER_FLAREON  EQU 2', 'DEF RIVAL_STARTER_VAPOREON EQU 3', '\\n', '; ghost Marowak in Pokémon Tower', 'DEF RESTLESS_SOUL EQU MAROWAK', '\\n', ]\n",
    "finalLines = ['', 'DEF NUM_POKEMON_INDEXES EQU const_value - 1', '', '; player starter', 'DEF STARTER_PIKACHU EQU PIKACHU', '', '; rival starters', 'DEF RIVAL_STARTER_JOLTEON  EQU 1', 'DEF RIVAL_STARTER_FLAREON  EQU 2', 'DEF RIVAL_STARTER_VAPOREON EQU 3', '', '; ghost Marowak in Pokémon Tower', 'DEF RESTLESS_SOUL EQU MAROWAK', '', ]\n"
   ]
  },
  {
   "cell_type": "code",
   "execution_count": 313,
   "metadata": {},
   "outputs": [],
   "source": [
    "txtToWrite = open(outputFile, \"w\")\n",
    "\n",
    "for oneLine in initialLines:\n",
    "    txtToWrite.write(oneLine+'\\n')\n",
    "    \n",
    "listMonsExtended = listAllOriginalMons_Capital+listFossilsGhost_Capital+listExtraMons_Capital\n",
    "for idx in range(len(listMonsExtended)):\n",
    "    pkmn = listMonsExtended[idx]\n",
    "    oneLine = f'\\tconst {pkmn}{printNCharacters(19-len(pkmn))}; {idx+1}\\n'\n",
    "    txtToWrite.write(oneLine)\n",
    "\n",
    "for oneLine in finalLines:\n",
    "    txtToWrite.write(oneLine+'\\n')\n",
    "\n",
    "txtToWrite.close()"
   ]
  },
  {
   "cell_type": "markdown",
   "metadata": {},
   "source": [
    "# evos_moves"
   ]
  },
  {
   "cell_type": "code",
   "execution_count": 31,
   "metadata": {},
   "outputs": [],
   "source": [
    "#inputFile = '/Users/michael/Desktop/Core/Giochi/Pokémon/DisassemblyYellow/pokeyellow_ExtremeYellow/data/pokemon/evos_moves.asm'\n",
    "#outputFile = inputFile[:-4]+'_reordered.asm'"
   ]
  },
  {
   "cell_type": "code",
   "execution_count": 32,
   "metadata": {},
   "outputs": [],
   "source": [
    "inputFile = '/Users/michael/Desktop/Core/Giochi/Pokémon/DisassemblyYellow/pokeyellow_ExtremeYellow/data/pokemon/evos_moves_unordered.asm'\n",
    "outputFile = inputFile[:-len('_unordered.asm')]+'.asm'"
   ]
  },
  {
   "cell_type": "code",
   "execution_count": 33,
   "metadata": {},
   "outputs": [],
   "source": [
    "file_in = open(inputFile, 'r')\n",
    "linesFromFile = []\n",
    "for y in file_in.readlines():\n",
    "#    if y!='\\n':\n",
    "#        print(y)\n",
    "    linesFromFile.append(y)"
   ]
  },
  {
   "cell_type": "code",
   "execution_count": 34,
   "metadata": {},
   "outputs": [],
   "source": [
    "#def grabEvosMovesMon(pkmn):\n",
    "def grabEvosMovesMon(pkmn, inputListOfLines): # edited\n",
    "    index_start = inputListOfLines.index(f'{pkmn}EvosMoves:\\n')\n",
    "    index_temp = index_start\n",
    "    subBlockToPrint = []\n",
    "    while not ((inputListOfLines[index_temp]=='\\tdb 0\\n') and (inputListOfLines[index_temp+1]=='\\n')):\n",
    "        subBlockToPrint.append(inputListOfLines[index_temp])\n",
    "        index_temp+=1\n",
    "        if (index_temp)==len(inputListOfLines)-1:\n",
    "            break\n",
    "    subBlockToPrint.append('\\tdb 0\\n')\n",
    "    subBlockToPrint.append('\\n')\n",
    "    #if (index_temp)==len(inputListOfLines)-1: # AAA this was bugged, now fixed, how did it even work before without the db 0 at the end of (all but the last) learnsets?!\n",
    "    #    subBlockToPrint.append('\\tdb 0\\n')\n",
    "    #    subBlockToPrint.append('\\n')\n",
    "    #else:\n",
    "    #    subBlockToPrint.append(inputListOfLines[index_temp+1])\n",
    "    return subBlockToPrint"
   ]
  },
  {
   "cell_type": "code",
   "execution_count": 35,
   "metadata": {},
   "outputs": [],
   "source": [
    "initialLines = ['; See constants/pokemon_data_constants.asm\\n', '; The max number of evolutions per monster is MAX_EVOLUTIONS\\n', '\\n', 'EvosMovesPointerTable:\\n', '\\ttable_width 2, EvosMovesPointerTable\\n', ]\n",
    "middleLines = ['\\tassert_table_length NUM_POKEMON_INDEXES\\n', '\\n']"
   ]
  },
  {
   "cell_type": "code",
   "execution_count": 36,
   "metadata": {
    "scrolled": true
   },
   "outputs": [],
   "source": [
    "txtToWrite = open(outputFile, \"w\")\n",
    "\n",
    "for oneLine in initialLines:\n",
    "    txtToWrite.write(oneLine)\n",
    "    \n",
    "listMonsExtended = listAllOriginalMons+listFossilsGhost+listExtraMons\n",
    "for idx in range(len(listMonsExtended)):\n",
    "    pkmn = listMonsExtended[idx]\n",
    "    oneLine = f'\\tdw {pkmn}EvosMoves\\n'\n",
    "    txtToWrite.write(oneLine)\n",
    "\n",
    "for oneLine in middleLines:\n",
    "    txtToWrite.write(oneLine)\n",
    "\n",
    "for pkmn in listMonsExtended:\n",
    "    infoPkmnhere = grabEvosMovesMon(pkmn, linesFromFile) # edited\n",
    "    for linehere in infoPkmnhere:\n",
    "        txtToWrite.write(linehere)\n",
    "        \n",
    "txtToWrite.close()"
   ]
  },
  {
   "cell_type": "markdown",
   "metadata": {},
   "source": [
    "# names"
   ]
  },
  {
   "cell_type": "code",
   "execution_count": 320,
   "metadata": {},
   "outputs": [],
   "source": [
    "#inputFile = '/Users/michael/Desktop/Core/Giochi/Pokémon/DisassemblyYellow/pokeyellow_ExtremeYellow/data/pokemon/names.asm'\n",
    "#outputFile = inputFile[:-4]+'_reordered.asm'"
   ]
  },
  {
   "cell_type": "code",
   "execution_count": 321,
   "metadata": {},
   "outputs": [],
   "source": [
    "inputFile = '/Users/michael/Desktop/Core/Giochi/Pokémon/DisassemblyYellow/pokeyellow_ExtremeYellow/data/pokemon/names_unordered.asm'\n",
    "outputFile = inputFile[:-len('_unordered.asm')]+'.asm'"
   ]
  },
  {
   "cell_type": "code",
   "execution_count": 322,
   "metadata": {},
   "outputs": [],
   "source": [
    "initialLines = ['MonsterNames::\\n', '\\ttable_width NAME_LENGTH - 1, MonsterNames\\n', ]\n",
    "finalLines = ['\\tassert_table_length NUM_POKEMON_INDEXES']"
   ]
  },
  {
   "cell_type": "code",
   "execution_count": 323,
   "metadata": {},
   "outputs": [],
   "source": [
    "txtToWrite = open(outputFile, \"w\")\n",
    "\n",
    "for oneLine in initialLines:\n",
    "    txtToWrite.write(oneLine)\n",
    "    \n",
    "listMonsExtended = listAllOriginalMons_Capital+listFossilsGhost_Names_Capital+listExtraMons_Capital\n",
    "for idx in range(len(listMonsExtended)):\n",
    "    pkmn = listMonsExtended[idx]\n",
    "    padding = printNCharacters(10-len(pkmn),f'@')\n",
    "    oneLine = f'\\tdb \"{pkmn}{padding}\"\\n'\n",
    "    txtToWrite.write(oneLine)\n",
    "\n",
    "for oneLine in finalLines:\n",
    "    txtToWrite.write(oneLine+'\\n')\n",
    "\n",
    "txtToWrite.close()"
   ]
  },
  {
   "cell_type": "markdown",
   "metadata": {},
   "source": [
    "# cries"
   ]
  },
  {
   "cell_type": "code",
   "execution_count": 324,
   "metadata": {},
   "outputs": [],
   "source": [
    "#inputFile = '/Users/michael/Desktop/Core/Giochi/Pokémon/DisassemblyYellow/pokeyellow_ExtremeYellow/data/pokemon/cries.asm'\n",
    "#outputFile = inputFile[:-4]+'_reordered.asm'"
   ]
  },
  {
   "cell_type": "code",
   "execution_count": 8,
   "metadata": {},
   "outputs": [],
   "source": [
    "inputFile = '/Users/michael/Desktop/Core/Giochi/Pokémon/DisassemblyYellow/pokeyellow_ExtremeYellow/data/pokemon/cries_unordered.asm'\n",
    "outputFile = inputFile[:-len('_unordered.asm')]+'.asm'"
   ]
  },
  {
   "cell_type": "code",
   "execution_count": 9,
   "metadata": {},
   "outputs": [],
   "source": [
    "file_in = open(inputFile, 'r')\n",
    "linesFromFile = []\n",
    "for y in file_in.readlines():\n",
    "#    if y!='\\n':\n",
    "#        print(y)\n",
    "    linesFromFile.append(y)"
   ]
  },
  {
   "cell_type": "code",
   "execution_count": 14,
   "metadata": {},
   "outputs": [],
   "source": [
    "def grabCryMon(pkmn):\n",
    "    if pkmn in listFossilsGhost_Names:\n",
    "        return f'\\tmon_cry SFX_CRY_00, $00, $00 ; {pkmn}\\n'\n",
    "    \n",
    "    if pkmn=='Pidgeot':\n",
    "        for linehere in linesFromFile:\n",
    "            if (pkmn in linehere) and not ('Pidgeotto' in linehere):\n",
    "                return linehere     \n",
    "    else:\n",
    "        for linehere in linesFromFile:\n",
    "            if pkmn in linehere:\n",
    "                return linehere"
   ]
  },
  {
   "cell_type": "code",
   "execution_count": 15,
   "metadata": {},
   "outputs": [],
   "source": [
    "initialLines = ['MACRO mon_cry\\n', '\\tdb (\\\\1 - CRY_SFX_START) / 3\\n', '\\tdb \\\\2, \\\\3\\n', 'ENDM\\n', '\\n', 'CryData::\\n', '\\ttable_width 3, CryData\\n', '\\t; base cry, pitch, length\\n', ]\n",
    "finalLines = ['\\tassert_table_length NUM_POKEMON_INDEXES\\n']"
   ]
  },
  {
   "cell_type": "code",
   "execution_count": 16,
   "metadata": {},
   "outputs": [
    {
     "name": "stdout",
     "output_type": "stream",
     "text": [
      "pkmn = Bulbasaur\n",
      "grabCryMon(pkmn) = \tmon_cry SFX_CRY_0F, $80, $01 ; Bulbasaur\n",
      "\n",
      "pkmn = Ivysaur\n",
      "grabCryMon(pkmn) = \tmon_cry SFX_CRY_0F, $20, $80 ; Ivysaur\n",
      "\n",
      "pkmn = Venusaur\n",
      "grabCryMon(pkmn) = \tmon_cry SFX_CRY_0F, $00, $C0 ; Venusaur\n",
      "\n",
      "pkmn = Charmander\n",
      "grabCryMon(pkmn) = \tmon_cry SFX_CRY_04, $60, $40 ; Charmander\n",
      "\n",
      "pkmn = Charmeleon\n",
      "grabCryMon(pkmn) = \tmon_cry SFX_CRY_04, $20, $40 ; Charmeleon\n",
      "\n",
      "pkmn = Charizard\n",
      "grabCryMon(pkmn) = \tmon_cry SFX_CRY_04, $00, $80 ; Charizard\n",
      "\n",
      "pkmn = Squirtle\n",
      "grabCryMon(pkmn) = \tmon_cry SFX_CRY_1D, $60, $40 ; Squirtle\n",
      "\n",
      "pkmn = Wartortle\n",
      "grabCryMon(pkmn) = \tmon_cry SFX_CRY_1D, $20, $40 ; Wartortle\n",
      "\n",
      "pkmn = Blastoise\n",
      "grabCryMon(pkmn) = \tmon_cry SFX_CRY_13, $00, $80 ; Blastoise\n",
      "\n",
      "pkmn = Caterpie\n",
      "grabCryMon(pkmn) = \tmon_cry SFX_CRY_16, $80, $20 ; Caterpie\n",
      "\n",
      "pkmn = Metapod\n",
      "grabCryMon(pkmn) = \tmon_cry SFX_CRY_1C, $CC, $01 ; Metapod\n",
      "\n",
      "pkmn = Butterfree\n",
      "grabCryMon(pkmn) = \tmon_cry SFX_CRY_16, $77, $40 ; Butterfree\n",
      "\n",
      "pkmn = Weedle\n",
      "grabCryMon(pkmn) = \tmon_cry SFX_CRY_15, $EE, $01 ; Weedle\n",
      "\n",
      "pkmn = Kakuna\n",
      "grabCryMon(pkmn) = \tmon_cry SFX_CRY_13, $FF, $01 ; Kakuna\n",
      "\n",
      "pkmn = Beedrill\n",
      "grabCryMon(pkmn) = \tmon_cry SFX_CRY_13, $60, $80 ; Beedrill\n",
      "\n",
      "pkmn = Pidgey\n",
      "grabCryMon(pkmn) = \tmon_cry SFX_CRY_0E, $DF, $04 ; Pidgey\n",
      "\n",
      "pkmn = Pidgeotto\n",
      "grabCryMon(pkmn) = \tmon_cry SFX_CRY_14, $28, $C0 ; Pidgeotto\n",
      "\n",
      "pkmn = Pidgeot\n",
      "grabCryMon(pkmn) = \tmon_cry SFX_CRY_14, $11, $FF ; Pidgeot\n",
      "\n",
      "pkmn = Rattata\n",
      "grabCryMon(pkmn) = \tmon_cry SFX_CRY_22, $00, $80 ; Rattata\n",
      "\n",
      "pkmn = Raticate\n",
      "grabCryMon(pkmn) = \tmon_cry SFX_CRY_22, $20, $FF ; Raticate\n",
      "\n",
      "pkmn = Spearow\n",
      "grabCryMon(pkmn) = \tmon_cry SFX_CRY_10, $00, $80 ; Spearow\n",
      "\n",
      "pkmn = Fearow\n",
      "grabCryMon(pkmn) = \tmon_cry SFX_CRY_18, $40, $A0 ; Fearow\n",
      "\n",
      "pkmn = Ekans\n",
      "grabCryMon(pkmn) = \tmon_cry SFX_CRY_17, $12, $40 ; Ekans\n",
      "\n",
      "pkmn = Arbok\n",
      "grabCryMon(pkmn) = \tmon_cry SFX_CRY_17, $E0, $10 ; Arbok\n",
      "\n",
      "pkmn = Pikachu\n",
      "grabCryMon(pkmn) = \tmon_cry SFX_CRY_0F, $EE, $01 ; Pikachu\n",
      "\n",
      "pkmn = Raichu\n",
      "grabCryMon(pkmn) = \tmon_cry SFX_CRY_09, $EE, $08 ; Raichu\n",
      "\n",
      "pkmn = Sandshrew\n",
      "grabCryMon(pkmn) = \tmon_cry SFX_CRY_00, $20, $40 ; Sandshrew\n",
      "\n",
      "pkmn = Sandslash\n",
      "grabCryMon(pkmn) = \tmon_cry SFX_CRY_00, $FF, $FF ; Sandslash\n",
      "\n",
      "pkmn = NidoranF\n",
      "grabCryMon(pkmn) = \tmon_cry SFX_CRY_01, $00, $80 ; NidoranF\n",
      "\n",
      "pkmn = Nidorina\n",
      "grabCryMon(pkmn) = \tmon_cry SFX_CRY_01, $2C, $E0 ; Nidorina\n",
      "\n",
      "pkmn = Nidoqueen\n",
      "grabCryMon(pkmn) = \tmon_cry SFX_CRY_0A, $00, $80 ; Nidoqueen\n",
      "\n",
      "pkmn = NidoranM\n",
      "grabCryMon(pkmn) = \tmon_cry SFX_CRY_00, $00, $80 ; NidoranM\n",
      "\n",
      "pkmn = Nidorino\n",
      "grabCryMon(pkmn) = \tmon_cry SFX_CRY_00, $2C, $C0 ; Nidorino\n",
      "\n",
      "pkmn = Nidoking\n",
      "grabCryMon(pkmn) = \tmon_cry SFX_CRY_09, $00, $80 ; Nidoking\n",
      "\n",
      "pkmn = Clefairy\n",
      "grabCryMon(pkmn) = \tmon_cry SFX_CRY_19, $CC, $01 ; Clefairy\n",
      "\n",
      "pkmn = Clefable\n",
      "grabCryMon(pkmn) = \tmon_cry SFX_CRY_19, $AA, $20 ; Clefable\n",
      "\n",
      "pkmn = Vulpix\n",
      "grabCryMon(pkmn) = \tmon_cry SFX_CRY_24, $4F, $10 ; Vulpix\n",
      "\n",
      "pkmn = Ninetales\n",
      "grabCryMon(pkmn) = \tmon_cry SFX_CRY_24, $88, $60 ; Ninetales\n",
      "\n",
      "pkmn = Jigglypuff\n",
      "grabCryMon(pkmn) = \tmon_cry SFX_CRY_0E, $FF, $35 ; Jigglypuff\n",
      "\n",
      "pkmn = Wigglytuff\n",
      "grabCryMon(pkmn) = \tmon_cry SFX_CRY_0E, $68, $60 ; Wigglytuff\n",
      "\n",
      "pkmn = Zubat\n",
      "grabCryMon(pkmn) = \tmon_cry SFX_CRY_1D, $E0, $80 ; Zubat\n",
      "\n",
      "pkmn = Golbat\n",
      "grabCryMon(pkmn) = \tmon_cry SFX_CRY_1D, $FA, $80 ; Golbat\n",
      "\n",
      "pkmn = Oddish\n",
      "grabCryMon(pkmn) = \tmon_cry SFX_CRY_08, $DD, $01 ; Oddish\n",
      "\n",
      "pkmn = Gloom\n",
      "grabCryMon(pkmn) = \tmon_cry SFX_CRY_08, $AA, $40 ; Gloom\n",
      "\n",
      "pkmn = Vileplume\n",
      "grabCryMon(pkmn) = \tmon_cry SFX_CRY_23, $22, $FF ; Vileplume\n",
      "\n",
      "pkmn = Paras\n",
      "grabCryMon(pkmn) = \tmon_cry SFX_CRY_1E, $42, $FF ; Parasect\n",
      "\n",
      "pkmn = Parasect\n",
      "grabCryMon(pkmn) = \tmon_cry SFX_CRY_1E, $42, $FF ; Parasect\n",
      "\n",
      "pkmn = Venonat\n",
      "grabCryMon(pkmn) = \tmon_cry SFX_CRY_1A, $44, $40 ; Venonat\n",
      "\n",
      "pkmn = Venomoth\n",
      "grabCryMon(pkmn) = \tmon_cry SFX_CRY_1A, $29, $80 ; Venomoth\n",
      "\n",
      "pkmn = Diglett\n",
      "grabCryMon(pkmn) = \tmon_cry SFX_CRY_0B, $AA, $01 ; Diglett\n",
      "\n",
      "pkmn = Dugtrio\n",
      "grabCryMon(pkmn) = \tmon_cry SFX_CRY_0B, $2A, $10 ; Dugtrio\n",
      "\n",
      "pkmn = Meowth\n",
      "grabCryMon(pkmn) = \tmon_cry SFX_CRY_19, $77, $10 ; Meowth\n",
      "\n",
      "pkmn = Persian\n",
      "grabCryMon(pkmn) = \tmon_cry SFX_CRY_19, $99, $FF ; Persian\n",
      "\n",
      "pkmn = Psyduck\n",
      "grabCryMon(pkmn) = \tmon_cry SFX_CRY_21, $20, $60 ; Psyduck\n",
      "\n",
      "pkmn = Golduck\n",
      "grabCryMon(pkmn) = \tmon_cry SFX_CRY_21, $FF, $40 ; Golduck\n",
      "\n",
      "pkmn = Mankey\n",
      "grabCryMon(pkmn) = \tmon_cry SFX_CRY_0A, $DD, $60 ; Mankey\n",
      "\n",
      "pkmn = Primeape\n",
      "grabCryMon(pkmn) = \tmon_cry SFX_CRY_0A, $AF, $40 ; Primeape\n",
      "\n",
      "pkmn = Growlithe\n",
      "grabCryMon(pkmn) = \tmon_cry SFX_CRY_1F, $20, $40 ; Growlithe\n",
      "\n",
      "pkmn = Arcanine\n",
      "grabCryMon(pkmn) = \tmon_cry SFX_CRY_15, $00, $80 ; Arcanine\n",
      "\n",
      "pkmn = Poliwag\n",
      "grabCryMon(pkmn) = \tmon_cry SFX_CRY_0E, $FF, $FF ; Poliwag\n",
      "\n",
      "pkmn = Poliwhirl\n",
      "grabCryMon(pkmn) = \tmon_cry SFX_CRY_0E, $77, $60 ; Poliwhirl\n",
      "\n",
      "pkmn = Poliwrath\n",
      "grabCryMon(pkmn) = \tmon_cry SFX_CRY_0E, $00, $FF ; Poliwrath\n",
      "\n",
      "pkmn = Abra\n",
      "grabCryMon(pkmn) = \tmon_cry SFX_CRY_1C, $C0, $01 ; Abra\n",
      "\n",
      "pkmn = Kadabra\n",
      "grabCryMon(pkmn) = \tmon_cry SFX_CRY_1C, $A8, $C0 ; Kadabra\n",
      "\n",
      "pkmn = Alakazam\n",
      "grabCryMon(pkmn) = \tmon_cry SFX_CRY_1C, $98, $FF ; Alakazam\n",
      "\n",
      "pkmn = Machop\n",
      "grabCryMon(pkmn) = \tmon_cry SFX_CRY_1F, $EE, $01 ; Machop\n",
      "\n",
      "pkmn = Machoke\n",
      "grabCryMon(pkmn) = \tmon_cry SFX_CRY_1F, $48, $60 ; Machoke\n",
      "\n",
      "pkmn = Machamp\n",
      "grabCryMon(pkmn) = \tmon_cry SFX_CRY_1F, $08, $C0 ; Machamp\n",
      "\n",
      "pkmn = Bellsprout\n",
      "grabCryMon(pkmn) = \tmon_cry SFX_CRY_21, $55, $01 ; Bellsprout\n",
      "\n",
      "pkmn = Weepinbell\n",
      "grabCryMon(pkmn) = \tmon_cry SFX_CRY_25, $44, $20 ; Weepinbell\n",
      "\n",
      "pkmn = Victreebel\n",
      "grabCryMon(pkmn) = \tmon_cry SFX_CRY_25, $66, $CC ; Victreebel\n",
      "\n",
      "pkmn = Tentacool\n",
      "grabCryMon(pkmn) = \tmon_cry SFX_CRY_1A, $00, $80 ; Tentacool\n",
      "\n",
      "pkmn = Tentacruel\n",
      "grabCryMon(pkmn) = \tmon_cry SFX_CRY_1A, $EE, $FF ; Tentacruel\n",
      "\n",
      "pkmn = Geodude\n",
      "grabCryMon(pkmn) = \tmon_cry SFX_CRY_24, $F0, $10 ; Geodude\n",
      "\n",
      "pkmn = Graveler\n",
      "grabCryMon(pkmn) = \tmon_cry SFX_CRY_24, $00, $80 ; Graveler\n",
      "\n",
      "pkmn = Golem\n",
      "grabCryMon(pkmn) = \tmon_cry SFX_CRY_12, $E0, $40 ; Golem\n",
      "\n",
      "pkmn = Ponyta\n",
      "grabCryMon(pkmn) = \tmon_cry SFX_CRY_25, $00, $80 ; Ponyta\n",
      "\n",
      "pkmn = Rapidash\n",
      "grabCryMon(pkmn) = \tmon_cry SFX_CRY_25, $20, $C0 ; Rapidash\n",
      "\n",
      "pkmn = Slowpoke\n",
      "grabCryMon(pkmn) = \tmon_cry SFX_CRY_02, $00, $80 ; Slowpoke\n",
      "\n",
      "pkmn = Slowbro\n",
      "grabCryMon(pkmn) = \tmon_cry SFX_CRY_1F, $00, $80 ; Slowbro\n",
      "\n",
      "pkmn = Magnemite\n",
      "grabCryMon(pkmn) = \tmon_cry SFX_CRY_1C, $80, $60 ; Magnemite\n",
      "\n",
      "pkmn = Magneton\n",
      "grabCryMon(pkmn) = \tmon_cry SFX_CRY_1C, $20, $C0 ; Magneton\n",
      "\n",
      "pkmn = Farfetchd\n",
      "grabCryMon(pkmn) = \tmon_cry SFX_CRY_10, $DD, $01 ; Farfetchd\n",
      "\n",
      "pkmn = Doduo\n",
      "grabCryMon(pkmn) = \tmon_cry SFX_CRY_0B, $BB, $01 ; Doduo\n",
      "\n",
      "pkmn = Dodrio\n",
      "grabCryMon(pkmn) = \tmon_cry SFX_CRY_0B, $99, $20 ; Dodrio\n",
      "\n",
      "pkmn = Seel\n",
      "grabCryMon(pkmn) = \tmon_cry SFX_CRY_0C, $88, $C0 ; Seel\n",
      "\n",
      "pkmn = Dewgong\n",
      "grabCryMon(pkmn) = \tmon_cry SFX_CRY_0C, $23, $FF ; Dewgong\n",
      "\n",
      "pkmn = Grimer\n",
      "grabCryMon(pkmn) = \tmon_cry SFX_CRY_05, $00, $80 ; Grimer\n",
      "\n",
      "pkmn = Muk\n",
      "grabCryMon(pkmn) = \tmon_cry SFX_CRY_07, $EF, $FF ; Muk\n",
      "\n",
      "pkmn = Shellder\n",
      "grabCryMon(pkmn) = \tmon_cry SFX_CRY_18, $00, $80 ; Shellder\n",
      "\n",
      "pkmn = Cloyster\n",
      "grabCryMon(pkmn) = \tmon_cry SFX_CRY_18, $6F, $E0 ; Cloyster\n",
      "\n",
      "pkmn = Gastly\n",
      "grabCryMon(pkmn) = \tmon_cry SFX_CRY_1C, $00, $80 ; Gastly\n",
      "\n",
      "pkmn = Haunter\n",
      "grabCryMon(pkmn) = \tmon_cry SFX_CRY_1C, $30, $40 ; Haunter\n",
      "\n",
      "pkmn = Gengar\n",
      "grabCryMon(pkmn) = \tmon_cry SFX_CRY_07, $00, $FF ; Gengar\n",
      "\n",
      "pkmn = Onix\n",
      "grabCryMon(pkmn) = \tmon_cry SFX_CRY_17, $FF, $C0 ; Onix\n",
      "\n",
      "pkmn = Drowzee\n",
      "grabCryMon(pkmn) = \tmon_cry SFX_CRY_0D, $88, $20 ; Drowzee\n",
      "\n",
      "pkmn = Hypno\n",
      "grabCryMon(pkmn) = \tmon_cry SFX_CRY_0D, $EE, $40 ; Hypno\n",
      "\n",
      "pkmn = Krabby\n",
      "grabCryMon(pkmn) = \tmon_cry SFX_CRY_20, $20, $E0 ; Krabby\n",
      "\n",
      "pkmn = Kingler\n",
      "grabCryMon(pkmn) = \tmon_cry SFX_CRY_20, $EE, $E0 ; Kingler\n",
      "\n",
      "pkmn = Voltorb\n",
      "grabCryMon(pkmn) = \tmon_cry SFX_CRY_06, $ED, $80 ; Voltorb\n",
      "\n",
      "pkmn = Electrode\n",
      "grabCryMon(pkmn) = \tmon_cry SFX_CRY_06, $A8, $90 ; Electrode\n",
      "\n",
      "pkmn = Exeggcute\n",
      "grabCryMon(pkmn) = \tmon_cry SFX_CRY_0B, $00, $80 ; Exeggcute\n",
      "\n",
      "pkmn = Exeggutor\n",
      "grabCryMon(pkmn) = \tmon_cry SFX_CRY_0D, $00, $80 ; Exeggutor\n",
      "\n",
      "pkmn = Cubone\n",
      "grabCryMon(pkmn) = \tmon_cry SFX_CRY_19, $00, $80 ; Cubone\n",
      "\n",
      "pkmn = Marowak\n",
      "grabCryMon(pkmn) = \tmon_cry SFX_CRY_08, $4F, $60 ; Marowak\n",
      "\n",
      "pkmn = Hitmonlee\n",
      "grabCryMon(pkmn) = \tmon_cry SFX_CRY_12, $80, $C0 ; Hitmonlee\n",
      "\n",
      "pkmn = Hitmonchan\n",
      "grabCryMon(pkmn) = \tmon_cry SFX_CRY_0C, $EE, $C0 ; Hitmonchan\n",
      "\n",
      "pkmn = Lickitung\n",
      "grabCryMon(pkmn) = \tmon_cry SFX_CRY_0C, $00, $80 ; Lickitung\n",
      "\n",
      "pkmn = Koffing\n",
      "grabCryMon(pkmn) = \tmon_cry SFX_CRY_12, $E6, $DD ; Koffing\n",
      "\n",
      "pkmn = Weezing\n",
      "grabCryMon(pkmn) = \tmon_cry SFX_CRY_12, $FF, $FF ; Weezing\n",
      "\n",
      "pkmn = Rhyhorn\n",
      "grabCryMon(pkmn) = \tmon_cry SFX_CRY_04, $00, $80 ; Rhyhorn\n",
      "\n",
      "pkmn = Rhydon\n",
      "grabCryMon(pkmn) = \tmon_cry SFX_CRY_11, $00, $80 ; Rhydon\n",
      "\n",
      "pkmn = Chansey\n",
      "grabCryMon(pkmn) = \tmon_cry SFX_CRY_14, $0A, $C0 ; Chansey\n",
      "\n",
      "pkmn = Tangela\n",
      "grabCryMon(pkmn) = \tmon_cry SFX_CRY_12, $00, $80 ; Tangela\n",
      "\n",
      "pkmn = Kangaskhan\n",
      "grabCryMon(pkmn) = \tmon_cry SFX_CRY_03, $00, $80 ; Kangaskhan\n",
      "\n",
      "pkmn = Horsea\n",
      "grabCryMon(pkmn) = \tmon_cry SFX_CRY_19, $99, $10 ; Horsea\n",
      "\n",
      "pkmn = Seadra\n",
      "grabCryMon(pkmn) = \tmon_cry SFX_CRY_19, $3C, $01 ; Seadra\n",
      "\n",
      "pkmn = Goldeen\n",
      "grabCryMon(pkmn) = \tmon_cry SFX_CRY_16, $80, $40 ; Goldeen\n",
      "\n",
      "pkmn = Seaking\n",
      "grabCryMon(pkmn) = \tmon_cry SFX_CRY_16, $10, $FF ; Seaking\n",
      "\n",
      "pkmn = Staryu\n",
      "grabCryMon(pkmn) = \tmon_cry SFX_CRY_1E, $02, $20 ; Staryu\n",
      "\n",
      "pkmn = Starmie\n",
      "grabCryMon(pkmn) = \tmon_cry SFX_CRY_1E, $00, $80 ; Starmie\n",
      "\n",
      "pkmn = MrMime\n",
      "grabCryMon(pkmn) = \tmon_cry SFX_CRY_20, $08, $40 ; MrMime\n",
      "\n",
      "pkmn = Scyther\n",
      "grabCryMon(pkmn) = \tmon_cry SFX_CRY_16, $00, $80 ; Scyther\n",
      "\n",
      "pkmn = Jynx\n",
      "grabCryMon(pkmn) = \tmon_cry SFX_CRY_0D, $FF, $FF ; Jynx\n",
      "\n",
      "pkmn = Electabuzz\n",
      "grabCryMon(pkmn) = \tmon_cry SFX_CRY_06, $8F, $FF ; Electabuzz\n",
      "\n",
      "pkmn = Magmar\n",
      "grabCryMon(pkmn) = \tmon_cry SFX_CRY_04, $FF, $30 ; Magmar\n",
      "\n",
      "pkmn = Pinsir\n",
      "grabCryMon(pkmn) = \tmon_cry SFX_CRY_14, $00, $80 ; Pinsir\n",
      "\n",
      "pkmn = Tauros\n",
      "grabCryMon(pkmn) = \tmon_cry SFX_CRY_1D, $11, $40 ; Tauros\n",
      "\n",
      "pkmn = Magikarp\n",
      "grabCryMon(pkmn) = \tmon_cry SFX_CRY_17, $80, $00 ; Magikarp\n",
      "\n",
      "pkmn = Gyarados\n",
      "grabCryMon(pkmn) = \tmon_cry SFX_CRY_17, $00, $80 ; Gyarados\n",
      "\n",
      "pkmn = Lapras\n",
      "grabCryMon(pkmn) = \tmon_cry SFX_CRY_1B, $00, $80 ; Lapras\n",
      "\n",
      "pkmn = Ditto\n",
      "grabCryMon(pkmn) = \tmon_cry SFX_CRY_0E, $FF, $FF ; Ditto\n",
      "\n",
      "pkmn = Eevee\n",
      "grabCryMon(pkmn) = \tmon_cry SFX_CRY_1A, $88, $60 ; Eevee\n",
      "\n",
      "pkmn = Vaporeon\n",
      "grabCryMon(pkmn) = \tmon_cry SFX_CRY_1A, $AA, $FF ; Vaporeon\n",
      "\n",
      "pkmn = Jolteon\n",
      "grabCryMon(pkmn) = \tmon_cry SFX_CRY_1A, $3D, $80 ; Jolteon\n",
      "\n",
      "pkmn = Flareon\n",
      "grabCryMon(pkmn) = \tmon_cry SFX_CRY_1A, $10, $20 ; Flareon\n",
      "\n",
      "pkmn = Porygon\n",
      "grabCryMon(pkmn) = \tmon_cry SFX_CRY_25, $AA, $FF ; Porygon\n",
      "\n",
      "pkmn = Omanyte\n",
      "grabCryMon(pkmn) = \tmon_cry SFX_CRY_1F, $F0, $01 ; Omanyte\n",
      "\n",
      "pkmn = Omastar\n",
      "grabCryMon(pkmn) = \tmon_cry SFX_CRY_1F, $FF, $40 ; Omastar\n",
      "\n",
      "pkmn = Kabuto\n",
      "grabCryMon(pkmn) = \tmon_cry SFX_CRY_16, $BB, $40 ; Kabuto\n",
      "\n",
      "pkmn = Kabutops\n",
      "grabCryMon(pkmn) = \tmon_cry SFX_CRY_18, $EE, $01 ; Kabutops\n",
      "\n",
      "pkmn = Aerodactyl\n",
      "grabCryMon(pkmn) = \tmon_cry SFX_CRY_23, $20, $F0 ; Aerodactyl\n",
      "\n",
      "pkmn = Snorlax\n",
      "grabCryMon(pkmn) = \tmon_cry SFX_CRY_05, $55, $01 ; Snorlax\n",
      "\n",
      "pkmn = Articuno\n",
      "grabCryMon(pkmn) = \tmon_cry SFX_CRY_09, $80, $40 ; Articuno\n",
      "\n",
      "pkmn = Zapdos\n",
      "grabCryMon(pkmn) = \tmon_cry SFX_CRY_18, $FF, $80 ; Zapdos\n",
      "\n",
      "pkmn = Moltres\n",
      "grabCryMon(pkmn) = \tmon_cry SFX_CRY_09, $F8, $40 ; Moltres\n",
      "\n",
      "pkmn = Dratini\n",
      "grabCryMon(pkmn) = \tmon_cry SFX_CRY_0F, $60, $40 ; Dratini\n",
      "\n",
      "pkmn = Dragonair\n",
      "grabCryMon(pkmn) = \tmon_cry SFX_CRY_0F, $40, $80 ; Dragonair\n",
      "\n",
      "pkmn = Dragonite\n",
      "grabCryMon(pkmn) = \tmon_cry SFX_CRY_0F, $3C, $C0 ; Dragonite\n",
      "\n",
      "pkmn = Mewtwo\n",
      "grabCryMon(pkmn) = \tmon_cry SFX_CRY_1E, $99, $FF ; Mewtwo\n",
      "\n",
      "pkmn = Mew\n",
      "grabCryMon(pkmn) = \tmon_cry SFX_CRY_1E, $EE, $FF ; Mew\n",
      "\n",
      "pkmn = MissingNo.\n",
      "grabCryMon(pkmn) = \tmon_cry SFX_CRY_00, $00, $00 ; MissingNo.\n",
      "\n",
      "pkmn = MissingNo.\n",
      "grabCryMon(pkmn) = \tmon_cry SFX_CRY_00, $00, $00 ; MissingNo.\n",
      "\n",
      "pkmn = MissingNo.\n",
      "grabCryMon(pkmn) = \tmon_cry SFX_CRY_00, $00, $00 ; MissingNo.\n",
      "\n",
      "pkmn = Arceus\n",
      "grabCryMon(pkmn) = \tmon_cry SFX_CRY_1C, $0D, $FF ; Arceus\n",
      "\n"
     ]
    }
   ],
   "source": [
    "txtToWrite = open(outputFile, \"w\")\n",
    "\n",
    "for oneLine in initialLines:\n",
    "    txtToWrite.write(oneLine)\n",
    "\n",
    "listMonsExtended = listAllOriginalMons+listFossilsGhost_Names+listExtraMons\n",
    "for pkmn in listMonsExtended:\n",
    "    print('pkmn =', pkmn)\n",
    "    print('grabCryMon(pkmn) =', grabCryMon(pkmn))\n",
    "    txtToWrite.write(grabCryMon(pkmn))\n",
    "\n",
    "for oneLine in finalLines:\n",
    "    txtToWrite.write(oneLine)\n",
    "\n",
    "txtToWrite.close()"
   ]
  },
  {
   "cell_type": "markdown",
   "metadata": {},
   "source": [
    "# dex_order"
   ]
  },
  {
   "cell_type": "code",
   "execution_count": 330,
   "metadata": {},
   "outputs": [],
   "source": [
    "#inputFile = '/Users/michael/Desktop/Core/Giochi/Pokémon/DisassemblyYellow/pokeyellow_ExtremeYellow/data/pokemon/dex_order.asm'\n",
    "#outputFile = inputFile[:-4]+'_reordered.asm'"
   ]
  },
  {
   "cell_type": "code",
   "execution_count": 331,
   "metadata": {},
   "outputs": [],
   "source": [
    "inputFile = '/Users/michael/Desktop/Core/Giochi/Pokémon/DisassemblyYellow/pokeyellow_ExtremeYellow/data/pokemon/dex_order_unordered.asm'\n",
    "outputFile = inputFile[:-len('_unordered.asm')]+'.asm'"
   ]
  },
  {
   "cell_type": "code",
   "execution_count": 332,
   "metadata": {},
   "outputs": [],
   "source": [
    "initialLines = ['PokedexOrder:\\n', '\\ttable_width 1, PokedexOrder\\n']\n",
    "finalLines = ['\\tassert_table_length NUM_POKEMON_INDEXES\\n']"
   ]
  },
  {
   "cell_type": "code",
   "execution_count": 333,
   "metadata": {},
   "outputs": [],
   "source": [
    "txtToWrite = open(outputFile, \"w\")\n",
    "\n",
    "for oneLine in initialLines:\n",
    "    txtToWrite.write(oneLine)\n",
    "    \n",
    "listMonsExtended = listAllOriginalMons_Capital+listFossilsGhost_Names_Capital+listExtraMons_Capital\n",
    "for pkmn in listMonsExtended:\n",
    "    if pkmn in listFossilsGhost_Names_Capital:\n",
    "        oneLine = f'\\tdb 0 ; {pkmn}\\n'\n",
    "    else:\n",
    "        oneLine = f'\\tdb DEX_{pkmn}\\n'\n",
    "    txtToWrite.write(oneLine)\n",
    "\n",
    "for oneLine in finalLines:\n",
    "    txtToWrite.write(oneLine)\n",
    "\n",
    "txtToWrite.close()"
   ]
  },
  {
   "cell_type": "markdown",
   "metadata": {},
   "source": [
    "# dex_entries"
   ]
  },
  {
   "cell_type": "code",
   "execution_count": 334,
   "metadata": {},
   "outputs": [],
   "source": [
    "#inputFile = '/Users/michael/Desktop/Core/Giochi/Pokémon/DisassemblyYellow/pokeyellow_ExtremeYellow/data/pokemon/dex_entries.asm'\n",
    "#outputFile = inputFile[:-4]+'_reordered.asm'"
   ]
  },
  {
   "cell_type": "code",
   "execution_count": 335,
   "metadata": {},
   "outputs": [],
   "source": [
    "inputFile = '/Users/michael/Desktop/Core/Giochi/Pokémon/DisassemblyYellow/pokeyellow_ExtremeYellow/data/pokemon/dex_entries_unordered.asm'\n",
    "outputFile = inputFile[:-len('_unordered.asm')]+'.asm'"
   ]
  },
  {
   "cell_type": "code",
   "execution_count": 336,
   "metadata": {},
   "outputs": [],
   "source": [
    "file_in = open(inputFile, 'r')\n",
    "linesFromFile = []\n",
    "for y in file_in.readlines():\n",
    "#    if y!='\\n':\n",
    "#        print(y)\n",
    "    linesFromFile.append(y)"
   ]
  },
  {
   "cell_type": "code",
   "execution_count": 337,
   "metadata": {},
   "outputs": [],
   "source": [
    "initialLines = ['PokedexEntryPointers:\\n', '\\ttable_width 2, PokedexEntryPointers\\n']\n",
    "breakline = '\\tassert_table_length NUM_POKEMON_INDEXES\\n'\n",
    "breakindex = linesFromFile.index(breakline)"
   ]
  },
  {
   "cell_type": "code",
   "execution_count": 338,
   "metadata": {},
   "outputs": [],
   "source": [
    "txtToWrite = open(outputFile, \"w\")\n",
    "\n",
    "for oneLine in initialLines:\n",
    "    txtToWrite.write(oneLine)\n",
    "    \n",
    "listMonsExtended = listAllOriginalMons+listFossilsGhost_Names+listExtraMons\n",
    "for pkmn in listMonsExtended:\n",
    "    if pkmn=='MissingNo.':\n",
    "        pkmn='MissingNo'\n",
    "    oneLine = f'\\tdw {pkmn}DexEntry\\n'\n",
    "    txtToWrite.write(oneLine)\n",
    "\n",
    "for idx in range(breakindex,len(linesFromFile)):\n",
    "    txtToWrite.write(linesFromFile[idx])\n",
    "\n",
    "txtToWrite.close()"
   ]
  },
  {
   "cell_type": "code",
   "execution_count": null,
   "metadata": {},
   "outputs": [],
   "source": []
  },
  {
   "cell_type": "code",
   "execution_count": null,
   "metadata": {},
   "outputs": [],
   "source": []
  },
  {
   "cell_type": "code",
   "execution_count": null,
   "metadata": {},
   "outputs": [],
   "source": []
  },
  {
   "cell_type": "code",
   "execution_count": null,
   "metadata": {},
   "outputs": [],
   "source": []
  },
  {
   "cell_type": "code",
   "execution_count": null,
   "metadata": {},
   "outputs": [],
   "source": []
  },
  {
   "cell_type": "code",
   "execution_count": null,
   "metadata": {},
   "outputs": [],
   "source": []
  },
  {
   "cell_type": "code",
   "execution_count": null,
   "metadata": {},
   "outputs": [],
   "source": []
  },
  {
   "cell_type": "code",
   "execution_count": null,
   "metadata": {},
   "outputs": [],
   "source": []
  },
  {
   "cell_type": "code",
   "execution_count": 61,
   "metadata": {},
   "outputs": [
    {
     "name": "stdout",
     "output_type": "stream",
     "text": [
      "['IvysaurEvosMoves:\\n', '; Evolutions\\n', '\\tdb EV_LEVEL, 32, VENUSAUR\\n', '\\tdb 0\\n', '; Learnset\\n', '\\tdb 7, LEECH_SEED\\n', '\\tdb 13, VINE_WHIP\\n', '\\tdb 22, POISONPOWDER\\n', '\\tdb 30, RAZOR_LEAF\\n', '\\tdb 38, GROWTH\\n', '\\tdb 46, SLEEP_POWDER\\n', '\\tdb 54, SOLARBEAM\\n', '\\n']\n"
     ]
    }
   ],
   "source": [
    "#for pkmn in listMonsExtended:\n",
    "for pkmn in ['Ivysaur', ]:\n",
    "    index_start = linesFromFile.index(f'{pkmn}EvosMoves:\\n')\n",
    "    index_temp = index_start\n",
    "    subBlockToPrint = []\n",
    "    while not ((linesFromFile[index_temp]=='\\tdb 0\\n') and (linesFromFile[index_temp+1]=='\\n')):\n",
    "        subBlockToPrint.append(linesFromFile[index_temp])\n",
    "        index_temp+=1\n",
    "    subBlockToPrint.append(linesFromFile[index_temp+1])\n",
    "    \n",
    "print(subBlockToPrint)"
   ]
  },
  {
   "cell_type": "code",
   "execution_count": 65,
   "metadata": {},
   "outputs": [
    {
     "name": "stdout",
     "output_type": "stream",
     "text": [
      "['IvysaurEvosMoves:\\n', '; Evolutions\\n', '\\tdb EV_LEVEL, 32, VENUSAUR\\n', '\\tdb 0\\n', '; Learnset\\n', '\\tdb 7, LEECH_SEED\\n', '\\tdb 13, VINE_WHIP\\n', '\\tdb 22, POISONPOWDER\\n', '\\tdb 30, RAZOR_LEAF\\n', '\\tdb 38, GROWTH\\n', '\\tdb 46, SLEEP_POWDER\\n', '\\tdb 54, SOLARBEAM\\n', '\\n']\n",
      "['FossilKabutopsEvosMoves:\\n', '; Evolutions\\n', '\\tdb 0\\n', '; Learnset\\n', '\\n']\n"
     ]
    }
   ],
   "source": [
    "for pkmn in ['Ivysaur', 'FossilKabutops']:\n",
    "    infoPkmnhere = grabInfosMon(pkmn)\n",
    "    print(infoPkmnhere)"
   ]
  },
  {
   "cell_type": "code",
   "execution_count": null,
   "metadata": {},
   "outputs": [],
   "source": []
  },
  {
   "cell_type": "code",
   "execution_count": null,
   "metadata": {},
   "outputs": [],
   "source": []
  },
  {
   "cell_type": "code",
   "execution_count": null,
   "metadata": {},
   "outputs": [],
   "source": []
  },
  {
   "cell_type": "code",
   "execution_count": null,
   "metadata": {},
   "outputs": [],
   "source": []
  },
  {
   "cell_type": "code",
   "execution_count": null,
   "metadata": {},
   "outputs": [],
   "source": []
  },
  {
   "cell_type": "code",
   "execution_count": null,
   "metadata": {},
   "outputs": [],
   "source": []
  },
  {
   "cell_type": "code",
   "execution_count": null,
   "metadata": {},
   "outputs": [],
   "source": []
  },
  {
   "cell_type": "code",
   "execution_count": null,
   "metadata": {},
   "outputs": [],
   "source": []
  },
  {
   "cell_type": "code",
   "execution_count": null,
   "metadata": {},
   "outputs": [],
   "source": []
  },
  {
   "cell_type": "code",
   "execution_count": null,
   "metadata": {},
   "outputs": [],
   "source": []
  },
  {
   "cell_type": "code",
   "execution_count": null,
   "metadata": {},
   "outputs": [],
   "source": []
  },
  {
   "cell_type": "code",
   "execution_count": null,
   "metadata": {},
   "outputs": [],
   "source": []
  },
  {
   "cell_type": "code",
   "execution_count": null,
   "metadata": {},
   "outputs": [],
   "source": []
  },
  {
   "cell_type": "code",
   "execution_count": null,
   "metadata": {},
   "outputs": [],
   "source": []
  },
  {
   "cell_type": "code",
   "execution_count": null,
   "metadata": {},
   "outputs": [],
   "source": []
  },
  {
   "cell_type": "code",
   "execution_count": null,
   "metadata": {},
   "outputs": [],
   "source": []
  },
  {
   "cell_type": "code",
   "execution_count": null,
   "metadata": {},
   "outputs": [],
   "source": []
  },
  {
   "cell_type": "code",
   "execution_count": null,
   "metadata": {},
   "outputs": [],
   "source": []
  }
 ],
 "metadata": {
  "kernelspec": {
   "display_name": "Python 3",
   "language": "python",
   "name": "python3"
  },
  "language_info": {
   "codemirror_mode": {
    "name": "ipython",
    "version": 3
   },
   "file_extension": ".py",
   "mimetype": "text/x-python",
   "name": "python",
   "nbconvert_exporter": "python",
   "pygments_lexer": "ipython3",
   "version": "3.10.10"
  }
 },
 "nbformat": 4,
 "nbformat_minor": 4
}
